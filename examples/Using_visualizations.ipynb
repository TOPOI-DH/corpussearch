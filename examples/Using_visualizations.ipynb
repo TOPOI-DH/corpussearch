{
 "cells": [
  {
   "cell_type": "markdown",
   "metadata": {},
   "source": [
    "# Visualizing the search results\n",
    "\n",
    "**Attention**: *Work in progress, will change*\n",
    "\n",
    "To get an overview over search results, one can use the visualization module. "
   ]
  },
  {
   "cell_type": "code",
   "execution_count": 1,
   "metadata": {},
   "outputs": [],
   "source": [
    "from corpussearch import visualize"
   ]
  },
  {
   "cell_type": "code",
   "execution_count": 2,
   "metadata": {},
   "outputs": [],
   "source": [
    "vis1 = visualize(\n",
    "        '../corpussearch/tests/data/dfTest.csv',\n",
    "        dataType='csv',\n",
    "        dataIndex='single'\n",
    "        )"
   ]
  },
  {
   "cell_type": "code",
   "execution_count": 3,
   "metadata": {
    "scrolled": false
   },
   "outputs": [
    {
     "data": {
      "application/vnd.jupyter.widget-view+json": {
       "model_id": "2a67bbaa5d164b5390871c0acbeb0df8",
       "version_major": 2,
       "version_minor": 0
      },
      "text/html": [
       "<p>Failed to display Jupyter Widget of type <code>VBox</code>.</p>\n",
       "<p>\n",
       "  If you're reading this message in the Jupyter Notebook or JupyterLab Notebook, it may mean\n",
       "  that the widgets JavaScript is still loading. If this message persists, it\n",
       "  likely means that the widgets JavaScript library is either not installed or\n",
       "  not enabled. See the <a href=\"https://ipywidgets.readthedocs.io/en/stable/user_install.html\">Jupyter\n",
       "  Widgets Documentation</a> for setup instructions.\n",
       "</p>\n",
       "<p>\n",
       "  If you're reading this message in another frontend (for example, a static\n",
       "  rendering on GitHub or <a href=\"https://nbviewer.jupyter.org/\">NBViewer</a>),\n",
       "  it may mean that your frontend doesn't currently support widgets.\n",
       "</p>\n"
      ],
      "text/plain": [
       "VBox(children=(Accordion(children=(SearchWordGUI(children=(Text(value='', description='Search for:', layout=Layout(margin='0 0 0 20px'), placeholder='term'), Dropdown(description='Search in:', index=2, options=('volume', 'part', 'text'), value='text'))),), _titles={'0': 'Enter search term'}), HBox(children=(ToggleButtons(options=('more', 'less'), value='more'), Button(button_style='danger', description='Search', style=ButtonStyle()), Output())), HBox(children=(IntSlider(value=0, max=0),)), HBox(children=(Textarea(value='', layout=Layout(flex='0 1 auto', height='200px', min_height='40px', width='30%'), placeholder='Result'), Textarea(value='', layout=Layout(flex='0 1 auto', height='200px', min_height='40px', width='70%'), placeholder='Sentence'))), HBox(children=(Button(description='Plot on', style=ButtonStyle()), Dropdown(options=('volume', 'part', 'text'), value='volume'), Button(description='Reset plot', style=ButtonStyle()))), Output()))"
      ]
     },
     "metadata": {},
     "output_type": "display_data"
    }
   ],
   "source": [
    "vis1.displayGUI()"
   ]
  }
 ],
 "metadata": {
  "kernelspec": {
   "display_name": "Python 3",
   "language": "python",
   "name": "python3"
  },
  "language_info": {
   "codemirror_mode": {
    "name": "ipython",
    "version": 3
   },
   "file_extension": ".py",
   "mimetype": "text/x-python",
   "name": "python",
   "nbconvert_exporter": "python",
   "pygments_lexer": "ipython3",
   "version": "3.6.3"
  },
  "nav_menu": {},
  "toc": {
   "navigate_menu": true,
   "number_sections": true,
   "sideBar": true,
   "threshold": 6,
   "toc_cell": false,
   "toc_section_display": "block",
   "toc_window_display": false
  },
  "widgets": {
   "application/vnd.jupyter.widget-state+json": {
    "state": {
     "009605167f1149539217d35afd497a56": {
      "model_module": "@jupyter-widgets/controls",
      "model_module_version": "1.1.0",
      "model_name": "HBoxModel",
      "state": {
       "children": [
        "IPY_MODEL_ee9bef825b9b4763aca355bfcaf24556",
        "IPY_MODEL_b932241f9bd04da6865601ef4c022adb",
        "IPY_MODEL_f8e7b04dd7a74d04bd96cb10f6a8b085"
       ],
       "layout": "IPY_MODEL_02e19135c0214af1b60973ad196135d6"
      }
     },
     "00a6c4b0a894434ebb6d6a8728187406": {
      "model_module": "@jupyter-widgets/base",
      "model_module_version": "1.0.0",
      "model_name": "LayoutModel",
      "state": {}
     },
     "00ad8d96b2e04a2fa640a0863423f5e2": {
      "model_module": "@jupyter-widgets/controls",
      "model_module_version": "1.1.0",
      "model_name": "HBoxModel",
      "state": {
       "children": [
        "IPY_MODEL_0d725c5122314c87b6e251c747170f0d",
        "IPY_MODEL_8f0601f5b63a4852beeaffd98948b655"
       ],
       "layout": "IPY_MODEL_c3188a4bfc3a4f7caa3c54e6f4c0c0ec"
      }
     },
     "00b1dc618e5e4651b8f4a4c150a2f90b": {
      "model_module": "@jupyter-widgets/controls",
      "model_module_version": "1.1.0",
      "model_name": "ButtonModel",
      "state": {
       "description": "Plot on",
       "layout": "IPY_MODEL_b62d2d1b98184da79f2d7e3c08b0a9c2",
       "style": "IPY_MODEL_807b61f71a14471ba3dbc72198a8b0ec"
      }
     },
     "00d37fa0b6aa4cbba410276f4b811d81": {
      "model_module": "@jupyter-widgets/base",
      "model_module_version": "1.0.0",
      "model_name": "LayoutModel",
      "state": {}
     },
     "00e057e31176472e9dea30d3427c3927": {
      "model_module": "@jupyter-widgets/base",
      "model_module_version": "1.0.0",
      "model_name": "LayoutModel",
      "state": {}
     },
     "015521fdf56943a6a3d3f476960c448a": {
      "model_module": "@jupyter-widgets/controls",
      "model_module_version": "1.1.0",
      "model_name": "ButtonModel",
      "state": {
       "description": "Plot on",
       "layout": "IPY_MODEL_e58ef218e76a4b6e9e0e2261e927bef3",
       "style": "IPY_MODEL_a785853d58ad4aa18c1a794a457fbe55"
      }
     },
     "01571ac43c8d4655a734c843abf28cce": {
      "model_module": "@jupyter-widgets/controls",
      "model_module_version": "1.1.0",
      "model_name": "HBoxModel",
      "state": {
       "children": [
        "IPY_MODEL_ba14dc1f5c8b45d189be527e8565fdd7",
        "IPY_MODEL_4d0cbfe1901548459e086f99510a4952"
       ],
       "layout": "IPY_MODEL_d4a13a86fb3f480eb2aae60ef646e487"
      }
     },
     "01a0f8ae8875423fac4c52697fa37d35": {
      "model_module": "@jupyter-widgets/base",
      "model_module_version": "1.0.0",
      "model_name": "LayoutModel",
      "state": {}
     },
     "0218c0958e8b49a9921a9c9f510bbaf6": {
      "model_module": "@jupyter-widgets/controls",
      "model_module_version": "1.1.0",
      "model_name": "ButtonStyleModel",
      "state": {}
     },
     "027f78459a244825a73044c4e1d96b18": {
      "model_module": "@jupyter-widgets/controls",
      "model_module_version": "1.1.0",
      "model_name": "SliderStyleModel",
      "state": {
       "description_width": ""
      }
     },
     "029ca6c09259481e817becc7584bcd20": {
      "model_module": "@jupyter-widgets/controls",
      "model_module_version": "1.1.0",
      "model_name": "HBoxModel",
      "state": {
       "children": [
        "IPY_MODEL_e608c145833f4d019ab26a6c6dca04b7",
        "IPY_MODEL_2a61ea9b77354d5187cca01cd8950794",
        "IPY_MODEL_b701d68afc22418ba5bfca13b84898a6"
       ],
       "layout": "IPY_MODEL_0fe9dc9338f14ceb9ef5a1c5dbdd2aa5"
      }
     },
     "02e19135c0214af1b60973ad196135d6": {
      "model_module": "@jupyter-widgets/base",
      "model_module_version": "1.0.0",
      "model_name": "LayoutModel",
      "state": {}
     },
     "02eb0e1fce1447b0b748b8e9f1254ee8": {
      "model_module": "@jupyter-widgets/controls",
      "model_module_version": "1.1.0",
      "model_name": "ButtonStyleModel",
      "state": {}
     },
     "0313686495704cef80eec6b72cbbf0ae": {
      "model_module": "@jupyter-widgets/controls",
      "model_module_version": "1.1.0",
      "model_name": "DropdownModel",
      "state": {
       "_options_labels": [
        "volume",
        "part",
        "text"
       ],
       "index": 0,
       "layout": "IPY_MODEL_13f440ba6c2244829dc1375f008c0857",
       "style": "IPY_MODEL_f52f046a26334c1b8f1a6efc19320d10"
      }
     },
     "03620ca24a4c460da0a219117b60c888": {
      "model_module": "@jupyter-widgets/controls",
      "model_module_version": "1.1.0",
      "model_name": "ButtonModel",
      "state": {
       "button_style": "danger",
       "description": "Search",
       "layout": "IPY_MODEL_5ec90fa668354ccc826457a854a5dda9",
       "style": "IPY_MODEL_ec0af966b4574d9e9769a5e978e991b2"
      }
     },
     "039cb0c1b6cf403c8c9d5c58abb01064": {
      "model_module": "@jupyter-widgets/output",
      "model_module_version": "1.0.0",
      "model_name": "OutputModel",
      "state": {
       "layout": "IPY_MODEL_788fbd3989044f8095ec124bd03693d3",
       "outputs": [
        {
         "name": "stdout",
         "output_type": "stream",
         "text": "Found 15 entries.\n"
        }
       ]
      }
     },
     "03b38cf7787a4bf994e5b73e4f732ac1": {
      "model_module": "@jupyter-widgets/base",
      "model_module_version": "1.0.0",
      "model_name": "LayoutModel",
      "state": {}
     },
     "03eae30bd2254785be8c638355a00817": {
      "model_module": "@jupyter-widgets/base",
      "model_module_version": "1.0.0",
      "model_name": "LayoutModel",
      "state": {}
     },
     "03f4ecd395154b47bccb8a66b65f1e74": {
      "model_module": "@jupyter-widgets/controls",
      "model_module_version": "1.1.0",
      "model_name": "ButtonModel",
      "state": {
       "description": "Plot on",
       "layout": "IPY_MODEL_68a06038bb334e809415d7667c08f176",
       "style": "IPY_MODEL_0794c41ff04940ee9155f7e436d04d38"
      }
     },
     "040088f6fea44c239b3ae450b345c4d1": {
      "model_module": "@jupyter-widgets/controls",
      "model_module_version": "1.1.0",
      "model_name": "DescriptionStyleModel",
      "state": {
       "description_width": ""
      }
     },
     "040323fd0cb3491f857f8a26914e33c7": {
      "model_module": "@jupyter-widgets/base",
      "model_module_version": "1.0.0",
      "model_name": "LayoutModel",
      "state": {}
     },
     "0451ea6e474c421aaf08270c38ba8666": {
      "model_module": "@jupyter-widgets/output",
      "model_module_version": "1.0.0",
      "model_name": "OutputModel",
      "state": {
       "layout": "IPY_MODEL_562725d523b444258841b86543f67a7b",
       "outputs": [
        {
         "ename": "NameError",
         "evalue": "name 'key' is not defined",
         "output_type": "error",
         "traceback": [
          "\u001b[0;31m---------------------------------------------------------------------------\u001b[0m",
          "\u001b[0;31mNameError\u001b[0m                                 Traceback (most recent call last)",
          "\u001b[0;32m~/Dokumente/packages/corpussearch/env/local/lib/python3.6/site-packages/corpussearch/vis.py\u001b[0m in \u001b[0;36m_plotFunction\u001b[0;34m(self, widget, content, buffers)\u001b[0m\n\u001b[1;32m    124\u001b[0m             \u001b[0;31m#for key, value in self.plotDict.items():\u001b[0m\u001b[0;34m\u001b[0m\u001b[0;34m\u001b[0m\u001b[0m\n\u001b[1;32m    125\u001b[0m             \u001b[0;31m#radii = [xo for xo in [x/maxVal for x in value[0]]]\u001b[0m\u001b[0;34m\u001b[0m\u001b[0;34m\u001b[0m\u001b[0m\n\u001b[0;32m--> 126\u001b[0;31m             \u001b[0max\u001b[0m\u001b[0;34m.\u001b[0m\u001b[0mbar\u001b[0m\u001b[0;34m(\u001b[0m\u001b[0mx\u001b[0m\u001b[0;34m,\u001b[0m \u001b[0my\u001b[0m\u001b[0;34m,\u001b[0m \u001b[0mwidth\u001b[0m\u001b[0;34m=\u001b[0m\u001b[0;36m0.3\u001b[0m\u001b[0;34m,\u001b[0m \u001b[0malpha\u001b[0m\u001b[0;34m=\u001b[0m\u001b[0;36m0.3\u001b[0m\u001b[0;34m,\u001b[0m \u001b[0mlabel\u001b[0m\u001b[0;34m=\u001b[0m\u001b[0mkey\u001b[0m\u001b[0;34m)\u001b[0m\u001b[0;34m\u001b[0m\u001b[0m\n\u001b[0m\u001b[1;32m    127\u001b[0m \u001b[0;34m\u001b[0m\u001b[0m\n\u001b[1;32m    128\u001b[0m             \u001b[0max\u001b[0m\u001b[0;34m.\u001b[0m\u001b[0mlegend\u001b[0m\u001b[0;34m(\u001b[0m\u001b[0;34m)\u001b[0m\u001b[0;34m\u001b[0m\u001b[0m\n",
          "\u001b[0;31mNameError\u001b[0m: name 'key' is not defined"
         ]
        }
       ]
      }
     },
     "04740be4ecf24c51b024e71c335a0d24": {
      "model_module": "@jupyter-widgets/controls",
      "model_module_version": "1.1.0",
      "model_name": "IntSliderModel",
      "state": {
       "layout": "IPY_MODEL_ccd47507d7ca4559a850ff9ad6631fe2",
       "max": 0,
       "style": "IPY_MODEL_42f4b3507a884e9ba21bcff7b00c66e8"
      }
     },
     "047affc855b64e96a7b2854ae3b266f8": {
      "model_module": "@jupyter-widgets/controls",
      "model_module_version": "1.1.0",
      "model_name": "ButtonStyleModel",
      "state": {}
     },
     "04e1845b7c3f4e218b543bbfaad80efa": {
      "model_module": "@jupyter-widgets/output",
      "model_module_version": "1.0.0",
      "model_name": "OutputModel",
      "state": {
       "layout": "IPY_MODEL_c29e8c787f394acda56305be9d73c0e3",
       "outputs": [
        {
         "ename": "ValueError",
         "evalue": "shape mismatch: objects cannot be broadcast to a single shape",
         "output_type": "error",
         "traceback": [
          "\u001b[0;31m---------------------------------------------------------------------------\u001b[0m",
          "\u001b[0;31mValueError\u001b[0m                                Traceback (most recent call last)",
          "\u001b[0;32m~/Dokumente/packages/corpussearch/env/local/lib/python3.6/site-packages/corpussearch/vis.py\u001b[0m in \u001b[0;36m_plotFunction\u001b[0;34m(self, widget, content, buffers)\u001b[0m\n\u001b[1;32m    123\u001b[0m             \u001b[0;32mfor\u001b[0m \u001b[0mkey\u001b[0m\u001b[0;34m,\u001b[0m \u001b[0mvalue\u001b[0m \u001b[0;32min\u001b[0m \u001b[0mself\u001b[0m\u001b[0;34m.\u001b[0m\u001b[0mplotDict\u001b[0m\u001b[0;34m.\u001b[0m\u001b[0mitems\u001b[0m\u001b[0;34m(\u001b[0m\u001b[0;34m)\u001b[0m\u001b[0;34m:\u001b[0m\u001b[0;34m\u001b[0m\u001b[0m\n\u001b[1;32m    124\u001b[0m                 \u001b[0mradii\u001b[0m \u001b[0;34m=\u001b[0m \u001b[0;34m[\u001b[0m\u001b[0mxo\u001b[0m \u001b[0;32mfor\u001b[0m \u001b[0mxo\u001b[0m \u001b[0;32min\u001b[0m \u001b[0;34m[\u001b[0m\u001b[0mx\u001b[0m\u001b[0;34m/\u001b[0m\u001b[0mmaxVal\u001b[0m \u001b[0;32mfor\u001b[0m \u001b[0mx\u001b[0m \u001b[0;32min\u001b[0m \u001b[0mvalue\u001b[0m\u001b[0;34m[\u001b[0m\u001b[0;36m0\u001b[0m\u001b[0;34m]\u001b[0m\u001b[0;34m]\u001b[0m\u001b[0;34m]\u001b[0m\u001b[0;34m\u001b[0m\u001b[0m\n\u001b[0;32m--> 125\u001b[0;31m                 \u001b[0max\u001b[0m\u001b[0;34m.\u001b[0m\u001b[0mbar\u001b[0m\u001b[0;34m(\u001b[0m\u001b[0mx\u001b[0m\u001b[0;34m,\u001b[0m \u001b[0mradii\u001b[0m\u001b[0;34m,\u001b[0m \u001b[0mwidth\u001b[0m\u001b[0;34m=\u001b[0m\u001b[0;36m0.3\u001b[0m\u001b[0;34m,\u001b[0m \u001b[0malpha\u001b[0m\u001b[0;34m=\u001b[0m\u001b[0;36m0.3\u001b[0m\u001b[0;34m,\u001b[0m \u001b[0mcolor\u001b[0m\u001b[0;34m=\u001b[0m\u001b[0mcolors\u001b[0m\u001b[0;34m[\u001b[0m\u001b[0mi\u001b[0m\u001b[0;34m]\u001b[0m\u001b[0;34m,\u001b[0m \u001b[0mlabel\u001b[0m\u001b[0;34m=\u001b[0m\u001b[0mkey\u001b[0m\u001b[0;34m)\u001b[0m\u001b[0;34m\u001b[0m\u001b[0m\n\u001b[0m\u001b[1;32m    126\u001b[0m                 \u001b[0mi\u001b[0m \u001b[0;34m+=\u001b[0m \u001b[0;36m1\u001b[0m\u001b[0;34m\u001b[0m\u001b[0m\n\u001b[1;32m    127\u001b[0m \u001b[0;34m\u001b[0m\u001b[0m\n",
          "\u001b[0;32m~/Dokumente/packages/corpussearch/env/local/lib/python3.6/site-packages/matplotlib/__init__.py\u001b[0m in \u001b[0;36minner\u001b[0;34m(ax, *args, **kwargs)\u001b[0m\n\u001b[1;32m   1853\u001b[0m                         \u001b[0;34m\"the Matplotlib list!)\"\u001b[0m \u001b[0;34m%\u001b[0m \u001b[0;34m(\u001b[0m\u001b[0mlabel_namer\u001b[0m\u001b[0;34m,\u001b[0m \u001b[0mfunc\u001b[0m\u001b[0;34m.\u001b[0m\u001b[0m__name__\u001b[0m\u001b[0;34m)\u001b[0m\u001b[0;34m,\u001b[0m\u001b[0;34m\u001b[0m\u001b[0m\n\u001b[1;32m   1854\u001b[0m                         RuntimeWarning, stacklevel=2)\n\u001b[0;32m-> 1855\u001b[0;31m             \u001b[0;32mreturn\u001b[0m \u001b[0mfunc\u001b[0m\u001b[0;34m(\u001b[0m\u001b[0max\u001b[0m\u001b[0;34m,\u001b[0m \u001b[0;34m*\u001b[0m\u001b[0margs\u001b[0m\u001b[0;34m,\u001b[0m \u001b[0;34m**\u001b[0m\u001b[0mkwargs\u001b[0m\u001b[0;34m)\u001b[0m\u001b[0;34m\u001b[0m\u001b[0m\n\u001b[0m\u001b[1;32m   1856\u001b[0m \u001b[0;34m\u001b[0m\u001b[0m\n\u001b[1;32m   1857\u001b[0m         inner.__doc__ = _add_data_doc(inner.__doc__,\n",
          "\u001b[0;32m~/Dokumente/packages/corpussearch/env/local/lib/python3.6/site-packages/matplotlib/axes/_axes.py\u001b[0m in \u001b[0;36mbar\u001b[0;34m(self, *args, **kwargs)\u001b[0m\n\u001b[1;32m   2231\u001b[0m         x, height, width, y, linewidth = np.broadcast_arrays(\n\u001b[1;32m   2232\u001b[0m             \u001b[0;31m# Make args iterable too.\u001b[0m\u001b[0;34m\u001b[0m\u001b[0;34m\u001b[0m\u001b[0m\n\u001b[0;32m-> 2233\u001b[0;31m             np.atleast_1d(x), height, width, y, linewidth)\n\u001b[0m\u001b[1;32m   2234\u001b[0m \u001b[0;34m\u001b[0m\u001b[0m\n\u001b[1;32m   2235\u001b[0m         \u001b[0;31m# Now that units have been converted, set the tick locations.\u001b[0m\u001b[0;34m\u001b[0m\u001b[0;34m\u001b[0m\u001b[0m\n",
          "\u001b[0;32m~/Dokumente/packages/corpussearch/env/local/lib/python3.6/site-packages/numpy/lib/stride_tricks.py\u001b[0m in \u001b[0;36mbroadcast_arrays\u001b[0;34m(*args, **kwargs)\u001b[0m\n\u001b[1;32m    247\u001b[0m     \u001b[0margs\u001b[0m \u001b[0;34m=\u001b[0m \u001b[0;34m[\u001b[0m\u001b[0mnp\u001b[0m\u001b[0;34m.\u001b[0m\u001b[0marray\u001b[0m\u001b[0;34m(\u001b[0m\u001b[0m_m\u001b[0m\u001b[0;34m,\u001b[0m \u001b[0mcopy\u001b[0m\u001b[0;34m=\u001b[0m\u001b[0;32mFalse\u001b[0m\u001b[0;34m,\u001b[0m \u001b[0msubok\u001b[0m\u001b[0;34m=\u001b[0m\u001b[0msubok\u001b[0m\u001b[0;34m)\u001b[0m \u001b[0;32mfor\u001b[0m \u001b[0m_m\u001b[0m \u001b[0;32min\u001b[0m \u001b[0margs\u001b[0m\u001b[0;34m]\u001b[0m\u001b[0;34m\u001b[0m\u001b[0m\n\u001b[1;32m    248\u001b[0m \u001b[0;34m\u001b[0m\u001b[0m\n\u001b[0;32m--> 249\u001b[0;31m     \u001b[0mshape\u001b[0m \u001b[0;34m=\u001b[0m \u001b[0m_broadcast_shape\u001b[0m\u001b[0;34m(\u001b[0m\u001b[0;34m*\u001b[0m\u001b[0margs\u001b[0m\u001b[0;34m)\u001b[0m\u001b[0;34m\u001b[0m\u001b[0m\n\u001b[0m\u001b[1;32m    250\u001b[0m \u001b[0;34m\u001b[0m\u001b[0m\n\u001b[1;32m    251\u001b[0m     \u001b[0;32mif\u001b[0m \u001b[0mall\u001b[0m\u001b[0;34m(\u001b[0m\u001b[0marray\u001b[0m\u001b[0;34m.\u001b[0m\u001b[0mshape\u001b[0m \u001b[0;34m==\u001b[0m \u001b[0mshape\u001b[0m \u001b[0;32mfor\u001b[0m \u001b[0marray\u001b[0m \u001b[0;32min\u001b[0m \u001b[0margs\u001b[0m\u001b[0;34m)\u001b[0m\u001b[0;34m:\u001b[0m\u001b[0;34m\u001b[0m\u001b[0m\n",
          "\u001b[0;32m~/Dokumente/packages/corpussearch/env/local/lib/python3.6/site-packages/numpy/lib/stride_tricks.py\u001b[0m in \u001b[0;36m_broadcast_shape\u001b[0;34m(*args)\u001b[0m\n\u001b[1;32m    182\u001b[0m     \u001b[0;31m# use the old-iterator because np.nditer does not handle size 0 arrays\u001b[0m\u001b[0;34m\u001b[0m\u001b[0;34m\u001b[0m\u001b[0m\n\u001b[1;32m    183\u001b[0m     \u001b[0;31m# consistently\u001b[0m\u001b[0;34m\u001b[0m\u001b[0;34m\u001b[0m\u001b[0m\n\u001b[0;32m--> 184\u001b[0;31m     \u001b[0mb\u001b[0m \u001b[0;34m=\u001b[0m \u001b[0mnp\u001b[0m\u001b[0;34m.\u001b[0m\u001b[0mbroadcast\u001b[0m\u001b[0;34m(\u001b[0m\u001b[0;34m*\u001b[0m\u001b[0margs\u001b[0m\u001b[0;34m[\u001b[0m\u001b[0;34m:\u001b[0m\u001b[0;36m32\u001b[0m\u001b[0;34m]\u001b[0m\u001b[0;34m)\u001b[0m\u001b[0;34m\u001b[0m\u001b[0m\n\u001b[0m\u001b[1;32m    185\u001b[0m     \u001b[0;31m# unfortunately, it cannot handle 32 or more arguments directly\u001b[0m\u001b[0;34m\u001b[0m\u001b[0;34m\u001b[0m\u001b[0m\n\u001b[1;32m    186\u001b[0m     \u001b[0;32mfor\u001b[0m \u001b[0mpos\u001b[0m \u001b[0;32min\u001b[0m \u001b[0mrange\u001b[0m\u001b[0;34m(\u001b[0m\u001b[0;36m32\u001b[0m\u001b[0;34m,\u001b[0m \u001b[0mlen\u001b[0m\u001b[0;34m(\u001b[0m\u001b[0margs\u001b[0m\u001b[0;34m)\u001b[0m\u001b[0;34m,\u001b[0m \u001b[0;36m31\u001b[0m\u001b[0;34m)\u001b[0m\u001b[0;34m:\u001b[0m\u001b[0;34m\u001b[0m\u001b[0m\n",
          "\u001b[0;31mValueError\u001b[0m: shape mismatch: objects cannot be broadcast to a single shape"
         ]
        }
       ]
      }
     },
     "0549e74f144741e1b1fb6a1e1a0f9f49": {
      "model_module": "@jupyter-widgets/base",
      "model_module_version": "1.0.0",
      "model_name": "LayoutModel",
      "state": {}
     },
     "055a4a6376234f2bb14c2fe53dded312": {
      "model_module": "@jupyter-widgets/base",
      "model_module_version": "1.0.0",
      "model_name": "LayoutModel",
      "state": {}
     },
     "05c9d13639b24cec940894a667c3ab0a": {
      "model_module": "@jupyter-widgets/output",
      "model_module_version": "1.0.0",
      "model_name": "OutputModel",
      "state": {
       "layout": "IPY_MODEL_eac40c27f17d41528ffc7902c9b50c63",
       "outputs": [
        {
         "name": "stdout",
         "output_type": "stream",
         "text": "Found 7 entries.\n"
        }
       ]
      }
     },
     "06ae53b03d284f3fa9a1688b381bbeda": {
      "model_module": "@jupyter-widgets/controls",
      "model_module_version": "1.1.0",
      "model_name": "AccordionModel",
      "state": {
       "_titles": {
        "0": "Enter search term"
       },
       "children": [
        "IPY_MODEL_789329cdd8e24957a4f1698a2d162cb4"
       ],
       "layout": "IPY_MODEL_61906227cc334dea90110035ed6a71dc"
      }
     },
     "06c0a41ce4554514812098c5d5319ff4": {
      "model_module": "@jupyter-widgets/output",
      "model_module_version": "1.0.0",
      "model_name": "OutputModel",
      "state": {
       "layout": "IPY_MODEL_60383bfbe19d407cb5eaea2c37e65951",
       "outputs": [
        {
         "name": "stdout",
         "output_type": "stream",
         "text": "Found 432 entries.\n"
        }
       ]
      }
     },
     "06c31f8addc7490d8add2d266e404efc": {
      "model_module": "@jupyter-widgets/base",
      "model_module_version": "1.0.0",
      "model_name": "LayoutModel",
      "state": {}
     },
     "070acf1c281e419ca1d1d40248257b3c": {
      "model_module": "@jupyter-widgets/controls",
      "model_module_version": "1.1.0",
      "model_name": "DropdownModel",
      "state": {
       "_options_labels": [
        "city",
        "library",
        "Lokalisierung",
        "Datierung",
        "text"
       ],
       "index": 0,
       "layout": "IPY_MODEL_907b13257daf4e2890eb4e3cbf6cacd3",
       "style": "IPY_MODEL_d27c7e7667b44cfc99b344735e5c282f"
      }
     },
     "073bfec9445d4b2b8880a4aecf4c8c14": {
      "model_module": "@jupyter-widgets/controls",
      "model_module_version": "1.1.0",
      "model_name": "IntSliderModel",
      "state": {
       "layout": "IPY_MODEL_20f05ec089fe451a96444215a40c3299",
       "max": 0,
       "style": "IPY_MODEL_3724197356654ff0ab98787dfd9de61d"
      }
     },
     "077e7b6dc8fd4b639119f5be0192371d": {
      "model_module": "@jupyter-widgets/controls",
      "model_module_version": "1.1.0",
      "model_name": "IntSliderModel",
      "state": {
       "layout": "IPY_MODEL_c22a979f5e6a44aa8f233e735c1400fc",
       "max": 15,
       "style": "IPY_MODEL_27b49f91abbf478a808b448c7fa10763"
      }
     },
     "077ed4eec1914f2bb924550f9cd0b3b3": {
      "model_module": "@jupyter-widgets/base",
      "model_module_version": "1.0.0",
      "model_name": "LayoutModel",
      "state": {}
     },
     "0794c41ff04940ee9155f7e436d04d38": {
      "model_module": "@jupyter-widgets/controls",
      "model_module_version": "1.1.0",
      "model_name": "ButtonStyleModel",
      "state": {}
     },
     "079d2398925b4cda8835e1fd43b2b6bf": {
      "model_module": "@jupyter-widgets/controls",
      "model_module_version": "1.1.0",
      "model_name": "HBoxModel",
      "state": {
       "children": [
        "IPY_MODEL_142e78c47c7f4b079dbb3ec1370d38df",
        "IPY_MODEL_8c0e6c57d7c5478f900d225e43940e1e",
        "IPY_MODEL_06c0a41ce4554514812098c5d5319ff4"
       ],
       "layout": "IPY_MODEL_8864eb90a7764dc984e84c8ad96477f5"
      }
     },
     "07b3895b983a4c35be4848f2571b8ce2": {
      "model_module": "@jupyter-widgets/controls",
      "model_module_version": "1.1.0",
      "model_name": "DescriptionStyleModel",
      "state": {
       "description_width": ""
      }
     },
     "07c34d58aa64482da64eaf315852977e": {
      "model_module": "@jupyter-widgets/controls",
      "model_module_version": "1.1.0",
      "model_name": "ButtonStyleModel",
      "state": {}
     },
     "07e8acdbb75740bfa68673a19f31204a": {
      "model_module": "@jupyter-widgets/controls",
      "model_module_version": "1.1.0",
      "model_name": "TextModel",
      "state": {
       "description": "Search for:",
       "layout": "IPY_MODEL_e063932cbaec4606999fdb1f235329ff",
       "placeholder": "term",
       "style": "IPY_MODEL_1639ab9c48154db3b4068627f69e290d",
       "value": "Evangelia"
      }
     },
     "082083c5bc174693bfc33b3bb1bd5f3e": {
      "model_module": "@jupyter-widgets/base",
      "model_module_version": "1.0.0",
      "model_name": "LayoutModel",
      "state": {}
     },
     "08dbf23461714442910613152151f28c": {
      "model_module": "@jupyter-widgets/base",
      "model_module_version": "1.0.0",
      "model_name": "LayoutModel",
      "state": {}
     },
     "08e40a583f7a4c93a272ded2eccb869c": {
      "model_module": "@jupyter-widgets/controls",
      "model_module_version": "1.1.0",
      "model_name": "VBoxModel",
      "state": {
       "children": [
        "IPY_MODEL_9bca1a7d06a94bfbb807b06fe2573ed4",
        "IPY_MODEL_dcff60314628402691ad286c68909bc2",
        "IPY_MODEL_eb7bf874654c4b699d306786a0b4f178",
        "IPY_MODEL_71805410282a4a359e53b44de985758c",
        "IPY_MODEL_e8be15d5cfbb4e22930cc1d0998d2274",
        "IPY_MODEL_7b05efa6e48e44e195866d9a991ef369"
       ],
       "layout": "IPY_MODEL_819934dc7eec4104b60fe323a319c65e"
      }
     },
     "08f5f579247f44ae8a476dde2ace50ed": {
      "model_module": "@jupyter-widgets/controls",
      "model_module_version": "1.1.0",
      "model_name": "VBoxModel",
      "state": {
       "children": [
        "IPY_MODEL_e523e97060e543bfb0ec205ac8a70036",
        "IPY_MODEL_079d2398925b4cda8835e1fd43b2b6bf",
        "IPY_MODEL_5df2cac64c054fbabf797ef0672705da",
        "IPY_MODEL_dae59f70baf44d869bcea5fd55dda635",
        "IPY_MODEL_f84ccf01522049658b47871167519ec1",
        "IPY_MODEL_17619b42b95b49379ad12b94cccead6d"
       ],
       "layout": "IPY_MODEL_5a7b8de84d224a2cb7421dc8b03eb6e8"
      }
     },
     "090a16e97d8545fa8a74a95e948fecc9": {
      "model_module": "@jupyter-widgets/controls",
      "model_module_version": "1.1.0",
      "model_name": "HBoxModel",
      "state": {
       "children": [
        "IPY_MODEL_69151396d6014ff290652fa2fc3283aa",
        "IPY_MODEL_8fced268dc3646318574212bf5f2c984"
       ],
       "layout": "IPY_MODEL_128bfd98ccc04bc5becae940d4b27ff6"
      }
     },
     "09cd86b83df943deba5f0edcc869f60d": {
      "model_module": "@jupyter-widgets/base",
      "model_module_version": "1.0.0",
      "model_name": "LayoutModel",
      "state": {}
     },
     "0a05ba5100b143ed82046aa58f890895": {
      "model_module": "@jupyter-widgets/base",
      "model_module_version": "1.0.0",
      "model_name": "LayoutModel",
      "state": {}
     },
     "0a907c98d5964523afd1a86a8ec32422": {
      "model_module": "@jupyter-widgets/base",
      "model_module_version": "1.0.0",
      "model_name": "LayoutModel",
      "state": {}
     },
     "0b5edb7b8043409da736ab4970bae2b2": {
      "model_module": "@jupyter-widgets/controls",
      "model_module_version": "1.1.0",
      "model_name": "ToggleButtonsStyleModel",
      "state": {
       "button_width": "",
       "description_width": ""
      }
     },
     "0b7051c6bde54cd894d833de93849778": {
      "model_module": "@jupyter-widgets/controls",
      "model_module_version": "1.1.0",
      "model_name": "TextareaModel",
      "state": {
       "layout": "IPY_MODEL_2dbcfc3d75b7428896fa4632b0b42797",
       "placeholder": "Sentence",
       "style": "IPY_MODEL_fd2dd8b5917948ab888b9417b99bf2d5",
       "value": "IV Evangelia. 280 BI.; 30,5 χ 24 cm (18,5 χ 11,7 cm); 20, 23, 24 Z. Schlichte Min., verwandt mit BRESCIA, Bibi. Civica Queriniana, Ms. E.II.9; Lig.: rcc. Schmale natürliche Rust. Mon.cap. Schmuck: Kanontafeln (8v-14r); die vier Evangelisten (14v); Zierrahmen (19v). Lit.: Koehler 3, S. 53 („spätestens 814 o. sogar 810“), 72-80, Taf. 28-36; Aussi. Karl d. Gr., Nr. 421; Ma. Studien 3, S. 179; Nordenfalk, Kanontafeln, S. 195ff, 274f., Taf. 162, 163. - Karolingisches Hofatelier, Zeit Ludwigs des Frommen (spätestens 830)- "
      }
     },
     "0bb38bc3bfcd47af9a51e21512a8f751": {
      "model_module": "@jupyter-widgets/controls",
      "model_module_version": "1.1.0",
      "model_name": "SliderStyleModel",
      "state": {
       "description_width": ""
      }
     },
     "0bd0bbb21ce34dc0acb689eb24467403": {
      "model_module": "@jupyter-widgets/controls",
      "model_module_version": "1.1.0",
      "model_name": "DescriptionStyleModel",
      "state": {
       "description_width": ""
      }
     },
     "0bd12b521cdd436285276008dd9687f2": {
      "model_module": "@jupyter-widgets/base",
      "model_module_version": "1.0.0",
      "model_name": "LayoutModel",
      "state": {
       "flex": "0 1 auto",
       "height": "200px",
       "min_height": "40px",
       "width": "30%"
      }
     },
     "0be206ea132e4998b01af49f39b9ef2d": {
      "model_module": "@jupyter-widgets/controls",
      "model_module_version": "1.1.0",
      "model_name": "DescriptionStyleModel",
      "state": {
       "description_width": ""
      }
     },
     "0c083e4f276c4b878c6408d811ae3c0f": {
      "model_module": "@jupyter-widgets/controls",
      "model_module_version": "1.1.0",
      "model_name": "ButtonModel",
      "state": {
       "button_style": "danger",
       "description": "Search",
       "layout": "IPY_MODEL_356077e7b5de4395a4033d351478f48a",
       "style": "IPY_MODEL_a1e69bb3a38148b689f6055464af0595"
      }
     },
     "0c1c17d463a34ef3bed4bd31c5a2e961": {
      "model_module": "@jupyter-widgets/output",
      "model_module_version": "1.0.0",
      "model_name": "OutputModel",
      "state": {
       "layout": "IPY_MODEL_2b9c99eba1ed4a3a832ddfa944468c93",
       "outputs": [
        {
         "name": "stdout",
         "output_type": "stream",
         "text": "Found 7 entries.\n"
        }
       ]
      }
     },
     "0c216d3adac245d88dcb67ecbe52f17e": {
      "model_module": "@jupyter-widgets/base",
      "model_module_version": "1.0.0",
      "model_name": "LayoutModel",
      "state": {}
     },
     "0c50247d86b14674a6bbf8cf09bbdcc2": {
      "model_module": "@jupyter-widgets/controls",
      "model_module_version": "1.1.0",
      "model_name": "ToggleButtonsModel",
      "state": {
       "_options_labels": [
        "more",
        "less"
       ],
       "button_style": "",
       "icons": [],
       "index": 0,
       "layout": "IPY_MODEL_c0e0d78b031545529d4d4f1ad2915087",
       "style": "IPY_MODEL_b343b2baa7844818a35a0c51c7c244a2",
       "tooltips": []
      }
     },
     "0c60abef16b942dda50c6c9721a6ec1a": {
      "model_module": "@jupyter-widgets/base",
      "model_module_version": "1.0.0",
      "model_name": "LayoutModel",
      "state": {}
     },
     "0cc6d50f2f2f4433bc25509a57f732d4": {
      "model_module": "@jupyter-widgets/base",
      "model_module_version": "1.0.0",
      "model_name": "LayoutModel",
      "state": {}
     },
     "0d2a99bbd93549d0b1269682ff3b2a7f": {
      "model_module": "@jupyter-widgets/controls",
      "model_module_version": "1.1.0",
      "model_name": "ButtonModel",
      "state": {
       "description": "Reset plot",
       "layout": "IPY_MODEL_cc006280c44e41d789da35cdb9c5dbec",
       "style": "IPY_MODEL_953a9c010d28421191dab9dc26857f5d"
      }
     },
     "0d522d3f822c42f394b9b7049d89d8d1": {
      "model_module": "@jupyter-widgets/controls",
      "model_module_version": "1.1.0",
      "model_name": "DescriptionStyleModel",
      "state": {
       "description_width": ""
      }
     },
     "0d725c5122314c87b6e251c747170f0d": {
      "model_module": "@jupyter-widgets/controls",
      "model_module_version": "1.1.0",
      "model_name": "TextModel",
      "state": {
       "description": "Search for:",
       "layout": "IPY_MODEL_43e56dbb14924f4391402886f5854c21",
       "placeholder": "term",
       "style": "IPY_MODEL_a35f561b472f41e6b39a692943a1f35b",
       "value": "Aachen"
      }
     },
     "0d98f52d60394bf885fad941fb1d9b9c": {
      "model_module": "@jupyter-widgets/controls",
      "model_module_version": "1.1.0",
      "model_name": "HBoxModel",
      "state": {
       "children": [
        "IPY_MODEL_7d19edd6942946759af812658d083c01",
        "IPY_MODEL_941eb8d332af4e32945aad949136ac8c",
        "IPY_MODEL_32af2154b4b847b7803eb89602283d75"
       ],
       "layout": "IPY_MODEL_0e03a6b9c68c4426aba3eb3de77a754d"
      }
     },
     "0ddeb86b726a4afc884dbd1b47eb78a0": {
      "model_module": "@jupyter-widgets/base",
      "model_module_version": "1.0.0",
      "model_name": "LayoutModel",
      "state": {}
     },
     "0dee9dad7c4c4d289926e194ab64c4ac": {
      "model_module": "@jupyter-widgets/controls",
      "model_module_version": "1.1.0",
      "model_name": "ToggleButtonsModel",
      "state": {
       "_options_labels": [
        "more",
        "less"
       ],
       "button_style": "",
       "icons": [],
       "index": 0,
       "layout": "IPY_MODEL_d71abdaf09784d37ab8c0c4f7254ad6c",
       "style": "IPY_MODEL_41c5b02952ba4fe49adebfd9a61cc6fb",
       "tooltips": []
      }
     },
     "0df75200eb9d40c196df8443e2dd9c51": {
      "model_module": "@jupyter-widgets/controls",
      "model_module_version": "1.1.0",
      "model_name": "DescriptionStyleModel",
      "state": {
       "description_width": ""
      }
     },
     "0e03a6b9c68c4426aba3eb3de77a754d": {
      "model_module": "@jupyter-widgets/base",
      "model_module_version": "1.0.0",
      "model_name": "LayoutModel",
      "state": {}
     },
     "0e38918dcac9481eb38c66b6e4089cbb": {
      "model_module": "@jupyter-widgets/controls",
      "model_module_version": "1.1.0",
      "model_name": "AccordionModel",
      "state": {
       "_titles": {
        "0": "Enter search term"
       },
       "children": [
        "IPY_MODEL_53420d2f2fa447bf98afaf2576ad7f16"
       ],
       "layout": "IPY_MODEL_5ecef15170e549dcbda0156c0fc98972"
      }
     },
     "0e5d7c813a084dc0bd3f7f69ca7a39db": {
      "model_module": "@jupyter-widgets/controls",
      "model_module_version": "1.1.0",
      "model_name": "DescriptionStyleModel",
      "state": {
       "description_width": ""
      }
     },
     "0edd82a0afe54efd8c038a41ab8f2384": {
      "model_module": "@jupyter-widgets/controls",
      "model_module_version": "1.1.0",
      "model_name": "VBoxModel",
      "state": {
       "children": [
        "IPY_MODEL_cc08355da7c34a9995584ef834869913",
        "IPY_MODEL_bf80839671954ee6878bcc05e6cdfd50",
        "IPY_MODEL_c6138019fac54bf69c772f760522d6ba",
        "IPY_MODEL_3f3da525a3e742aba66513ef2c5d33d8",
        "IPY_MODEL_a3161ae362e04e1997ae087c7a35d8a9",
        "IPY_MODEL_cf7e3ddf975f43dcb25352ecd10f1e1d"
       ],
       "layout": "IPY_MODEL_28b42731c55045f0846bd05bf7ac01e8"
      }
     },
     "0f5409d58c2e46d293f9208bd681acf2": {
      "model_module": "@jupyter-widgets/base",
      "model_module_version": "1.0.0",
      "model_name": "LayoutModel",
      "state": {}
     },
     "0f926e63410c43a0a64ef0fcf0e43694": {
      "model_module": "@jupyter-widgets/base",
      "model_module_version": "1.0.0",
      "model_name": "LayoutModel",
      "state": {}
     },
     "0f9641b22413405cb216acadb9ccc5f2": {
      "model_module": "@jupyter-widgets/controls",
      "model_module_version": "1.1.0",
      "model_name": "TextModel",
      "state": {
       "description": "Search for:",
       "layout": "IPY_MODEL_8f99b2ed5e064c0f8eeaa5c3c71a1c5e",
       "placeholder": "term",
       "style": "IPY_MODEL_b8bb7a0d1d804b749efe25d14aff13b3",
       "value": "Aachen"
      }
     },
     "0fade6b480d84393bd6a4f96c491d9ad": {
      "model_module": "@jupyter-widgets/controls",
      "model_module_version": "1.1.0",
      "model_name": "ButtonModel",
      "state": {
       "description": "Reset plot",
       "layout": "IPY_MODEL_fa0a13e77b664660b9a32bc1cf6a2ee4",
       "style": "IPY_MODEL_047affc855b64e96a7b2854ae3b266f8"
      }
     },
     "0fb3cc1f1c9e4515af15b466e739816b": {
      "model_module": "@jupyter-widgets/controls",
      "model_module_version": "1.1.0",
      "model_name": "HBoxModel",
      "state": {
       "children": [
        "IPY_MODEL_ac303b78062440808bc2619706d4f473",
        "IPY_MODEL_3a42f0bb4e9e4e5293fe8dd8122eb7e6",
        "IPY_MODEL_7de8c366cbcc45eeb0526fac192d86dd"
       ],
       "layout": "IPY_MODEL_46cb0e30835a497e86560aad3e23276f"
      }
     },
     "0fc5619bc6344473b37b6f8ef84a801c": {
      "model_module": "@jupyter-widgets/base",
      "model_module_version": "1.0.0",
      "model_name": "LayoutModel",
      "state": {}
     },
     "0fe9dc9338f14ceb9ef5a1c5dbdd2aa5": {
      "model_module": "@jupyter-widgets/base",
      "model_module_version": "1.0.0",
      "model_name": "LayoutModel",
      "state": {}
     },
     "104bf6554b2d4331986ad3cf91fdc4b2": {
      "model_module": "@jupyter-widgets/base",
      "model_module_version": "1.0.0",
      "model_name": "LayoutModel",
      "state": {}
     },
     "1077f3837d234391aa523dc657a4e9b2": {
      "model_module": "@jupyter-widgets/controls",
      "model_module_version": "1.1.0",
      "model_name": "DescriptionStyleModel",
      "state": {
       "description_width": ""
      }
     },
     "108996868ca1426086e9af3793e2170b": {
      "model_module": "@jupyter-widgets/controls",
      "model_module_version": "1.1.0",
      "model_name": "ButtonStyleModel",
      "state": {}
     },
     "108db2a413cc41baa6603e29574d73c8": {
      "model_module": "@jupyter-widgets/controls",
      "model_module_version": "1.1.0",
      "model_name": "DescriptionStyleModel",
      "state": {
       "description_width": ""
      }
     },
     "110645a6c30e495a872f4deb8a332d13": {
      "model_module": "@jupyter-widgets/base",
      "model_module_version": "1.0.0",
      "model_name": "LayoutModel",
      "state": {}
     },
     "11490ef97305463ab323d9ba0462b0b5": {
      "model_module": "@jupyter-widgets/base",
      "model_module_version": "1.0.0",
      "model_name": "LayoutModel",
      "state": {}
     },
     "1158bd3ab2c84a4eb3fd06baa3894388": {
      "model_module": "@jupyter-widgets/base",
      "model_module_version": "1.0.0",
      "model_name": "LayoutModel",
      "state": {}
     },
     "116d23319f074168a79de3978813330f": {
      "model_module": "@jupyter-widgets/base",
      "model_module_version": "1.0.0",
      "model_name": "LayoutModel",
      "state": {}
     },
     "11922cc5858c4d53a4b9efb0bfd43e29": {
      "model_module": "@jupyter-widgets/controls",
      "model_module_version": "1.1.0",
      "model_name": "DropdownModel",
      "state": {
       "_options_labels": [
        "and",
        "or",
        "not"
       ],
       "description": "Select logic to connect words",
       "index": 0,
       "layout": "IPY_MODEL_78bc8b4d84a947149ce795fe9923a035",
       "style": "IPY_MODEL_58938f012e9142aab0c1b5510231e0e0"
      }
     },
     "11ba3668746243ef9f7404403434f67e": {
      "model_module": "@jupyter-widgets/controls",
      "model_module_version": "1.1.0",
      "model_name": "HBoxModel",
      "state": {
       "children": [
        "IPY_MODEL_589f9183bbdd4a4ebaf4c7a79685ec3a",
        "IPY_MODEL_c4b37655451e4aabb6d80bded402a40d"
       ],
       "layout": "IPY_MODEL_4ae346edb2f146c286649832fc8c405b"
      }
     },
     "11d8b940aca2407fa799890eb2368827": {
      "model_module": "@jupyter-widgets/controls",
      "model_module_version": "1.1.0",
      "model_name": "HBoxModel",
      "state": {
       "children": [
        "IPY_MODEL_953abf14e4a64871a5e49deafc8efb2e",
        "IPY_MODEL_b68922d65504404592972d962745abfd"
       ],
       "layout": "IPY_MODEL_5f9d772b9ba845b69949bd528a8d3634"
      }
     },
     "12065355dfb840cbbb389b46fc1ea59b": {
      "model_module": "@jupyter-widgets/base",
      "model_module_version": "1.0.0",
      "model_name": "LayoutModel",
      "state": {
       "flex": "0 1 auto",
       "height": "200px",
       "min_height": "40px",
       "width": "70%"
      }
     },
     "1253fc466a694779b2907d87351774be": {
      "model_module": "@jupyter-widgets/controls",
      "model_module_version": "1.1.0",
      "model_name": "ToggleButtonsStyleModel",
      "state": {
       "button_width": "",
       "description_width": ""
      }
     },
     "128aa3a6a412473f81dafb25e706bef3": {
      "model_module": "@jupyter-widgets/controls",
      "model_module_version": "1.1.0",
      "model_name": "AccordionModel",
      "state": {
       "_titles": {
        "0": "Enter search term",
        "1": "and/or/not",
        "2": "add term"
       },
       "children": [
        "IPY_MODEL_69dee414f42b4547a12d11048d9cd35f"
       ],
       "layout": "IPY_MODEL_a6701e52ad5c4152887a99e223b518e6"
      }
     },
     "128bfd98ccc04bc5becae940d4b27ff6": {
      "model_module": "@jupyter-widgets/base",
      "model_module_version": "1.0.0",
      "model_name": "LayoutModel",
      "state": {}
     },
     "12f46ecbaced4556a7d35009f55ec3e2": {
      "model_module": "@jupyter-widgets/controls",
      "model_module_version": "1.1.0",
      "model_name": "ButtonStyleModel",
      "state": {}
     },
     "134f4099fd9746c2b72de8e798ffaad1": {
      "model_module": "@jupyter-widgets/controls",
      "model_module_version": "1.1.0",
      "model_name": "ToggleButtonsModel",
      "state": {
       "_options_labels": [
        "more",
        "less"
       ],
       "button_style": "",
       "icons": [],
       "index": 0,
       "layout": "IPY_MODEL_03eae30bd2254785be8c638355a00817",
       "style": "IPY_MODEL_25175c84ec9d42beae3f2d079cb228f5",
       "tooltips": []
      }
     },
     "13a5ba55f225491ca8a4f5564f97b211": {
      "model_module": "@jupyter-widgets/controls",
      "model_module_version": "1.1.0",
      "model_name": "DescriptionStyleModel",
      "state": {
       "description_width": ""
      }
     },
     "13c88c71aefa4e308fe3654bc5ba2605": {
      "model_module": "@jupyter-widgets/controls",
      "model_module_version": "1.1.0",
      "model_name": "HBoxModel",
      "state": {
       "children": [
        "IPY_MODEL_a2918f8d34be46cc9d00595c02d8d10a",
        "IPY_MODEL_d689205b3b3045af9226fed44c9afcf6",
        "IPY_MODEL_16c58701c1984f72a9a1aaa61fa29b98"
       ],
       "layout": "IPY_MODEL_e8309b0218d645d1970bc7b0d8eb4395"
      }
     },
     "13d3e1b6896a44899d2604722a2ef7df": {
      "model_module": "@jupyter-widgets/base",
      "model_module_version": "1.0.0",
      "model_name": "LayoutModel",
      "state": {}
     },
     "13f440ba6c2244829dc1375f008c0857": {
      "model_module": "@jupyter-widgets/base",
      "model_module_version": "1.0.0",
      "model_name": "LayoutModel",
      "state": {}
     },
     "141c13d870f845b4890532055f06e57d": {
      "model_module": "@jupyter-widgets/controls",
      "model_module_version": "1.1.0",
      "model_name": "ButtonModel",
      "state": {
       "description": "Plot on",
       "layout": "IPY_MODEL_9565aafb8c4c41bb99ce7d3273002163",
       "style": "IPY_MODEL_a0682ce90a6f4a7581e239cf83097ab9"
      }
     },
     "142e78c47c7f4b079dbb3ec1370d38df": {
      "model_module": "@jupyter-widgets/controls",
      "model_module_version": "1.1.0",
      "model_name": "ToggleButtonsModel",
      "state": {
       "_options_labels": [
        "more",
        "less"
       ],
       "button_style": "",
       "icons": [],
       "index": 0,
       "layout": "IPY_MODEL_aafbfe80467147bfb12664e9d08c73f6",
       "style": "IPY_MODEL_666d87aaedf44459b4217cfdeab6fb21",
       "tooltips": []
      }
     },
     "143d3937b0814955bca5f8e5a29ff164": {
      "model_module": "@jupyter-widgets/controls",
      "model_module_version": "1.1.0",
      "model_name": "HBoxModel",
      "state": {
       "children": [
        "IPY_MODEL_d36d9bba9ca2438d98f4c0275823917b",
        "IPY_MODEL_9e3b05889c924e64ad72cd37f8dc86da",
        "IPY_MODEL_63fe7e3db6774a8d877be38dd920176e"
       ],
       "layout": "IPY_MODEL_506134622d21489586802a8e9e18e18e"
      }
     },
     "14a054a2cce44dd58b1f3b91e38316b3": {
      "model_module": "@jupyter-widgets/base",
      "model_module_version": "1.0.0",
      "model_name": "LayoutModel",
      "state": {}
     },
     "14d70b041ea84ec2b8c1ac8a30dd119b": {
      "model_module": "@jupyter-widgets/controls",
      "model_module_version": "1.1.0",
      "model_name": "AccordionModel",
      "state": {
       "_titles": {
        "0": "Enter search term"
       },
       "children": [
        "IPY_MODEL_d9673bf89c594f9bbeda3f4dce01c3de"
       ],
       "layout": "IPY_MODEL_9b09a06c072d453c8086a59b4a13d0e9"
      }
     },
     "14dbad09e14c453db752abc7ef1e2138": {
      "model_module": "@jupyter-widgets/base",
      "model_module_version": "1.0.0",
      "model_name": "LayoutModel",
      "state": {}
     },
     "151519c5339d4b35a0d41ed286cf0ebe": {
      "model_module": "@jupyter-widgets/controls",
      "model_module_version": "1.1.0",
      "model_name": "TextareaModel",
      "state": {
       "layout": "IPY_MODEL_f4fd98019dda4aa6bc47f08fd2544139",
       "placeholder": "Sentence",
       "style": "IPY_MODEL_5456c9c9973c4ad2aa9addca54360352"
      }
     },
     "1545cba429094cfdb496dcd5c2adbfd1": {
      "model_module": "@jupyter-widgets/base",
      "model_module_version": "1.0.0",
      "model_name": "LayoutModel",
      "state": {}
     },
     "15ada9ef270643f483489677e322c1ff": {
      "model_module": "@jupyter-widgets/controls",
      "model_module_version": "1.1.0",
      "model_name": "SliderStyleModel",
      "state": {
       "description_width": ""
      }
     },
     "15f0907a31ac4162875ee99e3da58996": {
      "model_module": "@jupyter-widgets/base",
      "model_module_version": "1.0.0",
      "model_name": "LayoutModel",
      "state": {}
     },
     "15f81c48143c437ba7cae0ae32c7660c": {
      "model_module": "@jupyter-widgets/base",
      "model_module_version": "1.0.0",
      "model_name": "LayoutModel",
      "state": {}
     },
     "15fccbee3f7b4fc49b5121a398a37fc8": {
      "model_module": "@jupyter-widgets/output",
      "model_module_version": "1.0.0",
      "model_name": "OutputModel",
      "state": {
       "layout": "IPY_MODEL_d0c6e95097ce436e9c7b3d474d215242",
       "outputs": [
        {
         "name": "stdout",
         "output_type": "stream",
         "text": "Found 7 entries.\n"
        }
       ]
      }
     },
     "1639ab9c48154db3b4068627f69e290d": {
      "model_module": "@jupyter-widgets/controls",
      "model_module_version": "1.1.0",
      "model_name": "DescriptionStyleModel",
      "state": {
       "description_width": ""
      }
     },
     "166822f09ae54092aed52f06a394d6c9": {
      "model_module": "@jupyter-widgets/controls",
      "model_module_version": "1.1.0",
      "model_name": "DescriptionStyleModel",
      "state": {
       "description_width": ""
      }
     },
     "16707e286baa4b2da4f57000e576c9fe": {
      "model_module": "@jupyter-widgets/controls",
      "model_module_version": "1.1.0",
      "model_name": "ButtonStyleModel",
      "state": {}
     },
     "16878da22ee04d7bb07ecd18b10cd541": {
      "model_module": "@jupyter-widgets/controls",
      "model_module_version": "1.1.0",
      "model_name": "HBoxModel",
      "state": {
       "children": [
        "IPY_MODEL_d2d198ac784f4f9db53f2eab5ed9a54c",
        "IPY_MODEL_da265475433043bea53c0ced92431df2"
       ],
       "layout": "IPY_MODEL_b3794ff3a9a34a9697dd3964208ab51c"
      }
     },
     "16896c4b17834aeba5de30d419ce3f1a": {
      "model_module": "@jupyter-widgets/base",
      "model_module_version": "1.0.0",
      "model_name": "LayoutModel",
      "state": {
       "flex": "0 1 auto",
       "height": "200px",
       "min_height": "40px",
       "width": "70%"
      }
     },
     "16b4c1232bf542e9978f61458a863614": {
      "model_module": "@jupyter-widgets/controls",
      "model_module_version": "1.1.0",
      "model_name": "DescriptionStyleModel",
      "state": {
       "description_width": ""
      }
     },
     "16b548a383b64beea1e70ae03a1b1b36": {
      "model_module": "@jupyter-widgets/controls",
      "model_module_version": "1.1.0",
      "model_name": "ToggleButtonsModel",
      "state": {
       "_options_labels": [
        "more",
        "less"
       ],
       "button_style": "",
       "icons": [],
       "index": 1,
       "layout": "IPY_MODEL_56ec9a7cf9454d78b4b2eb6c56908c5a",
       "style": "IPY_MODEL_1253fc466a694779b2907d87351774be",
       "tooltips": []
      }
     },
     "16c58701c1984f72a9a1aaa61fa29b98": {
      "model_module": "@jupyter-widgets/controls",
      "model_module_version": "1.1.0",
      "model_name": "ButtonModel",
      "state": {
       "description": "Reset plot",
       "layout": "IPY_MODEL_4d5d68bf55e948c59a01b12f0bfa4972",
       "style": "IPY_MODEL_97de562b2e6345c984b7a661e5cff767"
      }
     },
     "16c6fcbb27304f8e8aceabde47b97abe": {
      "model_module": "@jupyter-widgets/controls",
      "model_module_version": "1.1.0",
      "model_name": "SliderStyleModel",
      "state": {
       "description_width": ""
      }
     },
     "16ecae86bb8443018ff54ed0aa6cd37d": {
      "model_module": "@jupyter-widgets/controls",
      "model_module_version": "1.1.0",
      "model_name": "ButtonModel",
      "state": {
       "description": "Reset plot",
       "layout": "IPY_MODEL_7d522ff108d24f3d84f43d8aa7e3f272",
       "style": "IPY_MODEL_e0dda5b64080455582932fd2fe564dee"
      }
     },
     "16f0f7f7257340659b6c66989dad8af5": {
      "model_module": "@jupyter-widgets/base",
      "model_module_version": "1.0.0",
      "model_name": "LayoutModel",
      "state": {
       "flex": "0 1 auto",
       "height": "200px",
       "min_height": "40px",
       "width": "70%"
      }
     },
     "16f3bba61c9d4f02bc04859caefcc9d2": {
      "model_module": "@jupyter-widgets/controls",
      "model_module_version": "1.1.0",
      "model_name": "IntSliderModel",
      "state": {
       "layout": "IPY_MODEL_6383bf38d7f04136990c2326d206a1e0",
       "max": 0,
       "style": "IPY_MODEL_35bf6feff64445d9a61db24f68160566"
      }
     },
     "16f3f577af03420691858b06b071a894": {
      "model_module": "@jupyter-widgets/base",
      "model_module_version": "1.0.0",
      "model_name": "LayoutModel",
      "state": {}
     },
     "172495c1db9b49d18fb8303ac92f79c3": {
      "model_module": "@jupyter-widgets/controls",
      "model_module_version": "1.1.0",
      "model_name": "ButtonModel",
      "state": {
       "description": "Reset plot",
       "layout": "IPY_MODEL_31946c2765294eb69cd4fc60c319c010",
       "style": "IPY_MODEL_d43a99bf20a442a4ab6ecdf628d165be"
      }
     },
     "17619b42b95b49379ad12b94cccead6d": {
      "model_module": "@jupyter-widgets/output",
      "model_module_version": "1.0.0",
      "model_name": "OutputModel",
      "state": {
       "layout": "IPY_MODEL_4e12af0226664e2aa0dd4548f545119b",
       "outputs": [
        {
         "data": {
          "image/png": "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\n",
          "text/plain": "<Figure size 576x576 with 1 Axes>"
         },
         "metadata": {},
         "output_type": "display_data"
        }
       ]
      }
     },
     "17967c129713472caeb6467dcfcabee6": {
      "model_module": "@jupyter-widgets/controls",
      "model_module_version": "1.1.0",
      "model_name": "DescriptionStyleModel",
      "state": {
       "description_width": ""
      }
     },
     "17d6bb347ce447078d475bcb1e8ccd9f": {
      "model_module": "@jupyter-widgets/controls",
      "model_module_version": "1.1.0",
      "model_name": "DescriptionStyleModel",
      "state": {
       "description_width": ""
      }
     },
     "1873a3b3f600430f90bb2c987b44bd38": {
      "model_module": "@jupyter-widgets/base",
      "model_module_version": "1.0.0",
      "model_name": "LayoutModel",
      "state": {}
     },
     "189e709395ef49ec85adc3d41f8609f8": {
      "model_module": "@jupyter-widgets/base",
      "model_module_version": "1.0.0",
      "model_name": "LayoutModel",
      "state": {}
     },
     "18d51000ab844792891e3820c0614da8": {
      "model_module": "@jupyter-widgets/base",
      "model_module_version": "1.0.0",
      "model_name": "LayoutModel",
      "state": {}
     },
     "1922755a50104e6fb3d146063d79ba9b": {
      "model_module": "@jupyter-widgets/base",
      "model_module_version": "1.0.0",
      "model_name": "LayoutModel",
      "state": {}
     },
     "1949037ff5b344bdb4a3bf0c70f2fba7": {
      "model_module": "@jupyter-widgets/controls",
      "model_module_version": "1.1.0",
      "model_name": "DescriptionStyleModel",
      "state": {
       "description_width": ""
      }
     },
     "194eb9de20ac453e995748c128a69e8a": {
      "model_module": "@jupyter-widgets/base",
      "model_module_version": "1.0.0",
      "model_name": "LayoutModel",
      "state": {
       "flex": "0 1 auto",
       "height": "200px",
       "min_height": "40px",
       "width": "70%"
      }
     },
     "1960efd1bd3a427d978a5904def28c10": {
      "model_module": "@jupyter-widgets/base",
      "model_module_version": "1.0.0",
      "model_name": "LayoutModel",
      "state": {}
     },
     "198c4e27303442e9a912984acacc04e7": {
      "model_module": "@jupyter-widgets/base",
      "model_module_version": "1.0.0",
      "model_name": "LayoutModel",
      "state": {}
     },
     "19e8ddd74e1a4341a183cde49aceee59": {
      "model_module": "@jupyter-widgets/base",
      "model_module_version": "1.0.0",
      "model_name": "LayoutModel",
      "state": {}
     },
     "1a08199ad17940e8b8206529df5587e8": {
      "model_module": "@jupyter-widgets/controls",
      "model_module_version": "1.1.0",
      "model_name": "HBoxModel",
      "state": {
       "children": [
        "IPY_MODEL_b0a75a34452f47a7b2146ddced88a032",
        "IPY_MODEL_9885025d9135432bbdb835fb58d3d5e4",
        "IPY_MODEL_7a81110c4f8e4d5ba4e63a20862e8131"
       ],
       "layout": "IPY_MODEL_d9c0f43e474c49ffa785dbf3b5a46e8a"
      }
     },
     "1a421d57dff04f969444facc65357a59": {
      "model_module": "@jupyter-widgets/base",
      "model_module_version": "1.0.0",
      "model_name": "LayoutModel",
      "state": {
       "flex": "0 1 auto",
       "height": "200px",
       "min_height": "40px",
       "width": "70%"
      }
     },
     "1b046b317eb244ab83ab934247a2f823": {
      "model_module": "@jupyter-widgets/controls",
      "model_module_version": "1.1.0",
      "model_name": "ButtonStyleModel",
      "state": {}
     },
     "1b80776750d14de085678def6ab537de": {
      "model_module": "@jupyter-widgets/base",
      "model_module_version": "1.0.0",
      "model_name": "LayoutModel",
      "state": {}
     },
     "1c01f2d3dd9747469658864313cbf139": {
      "model_module": "@jupyter-widgets/controls",
      "model_module_version": "1.1.0",
      "model_name": "IntSliderModel",
      "state": {
       "layout": "IPY_MODEL_73bfe4b6f58347b1b777e2d198721903",
       "max": 15,
       "style": "IPY_MODEL_e3bb57201144442db63494d9c8dd52c1"
      }
     },
     "1c2303718e024b95b31024dce11a2720": {
      "model_module": "@jupyter-widgets/base",
      "model_module_version": "1.0.0",
      "model_name": "LayoutModel",
      "state": {
       "flex": "0 1 auto",
       "height": "200px",
       "min_height": "40px",
       "width": "30%"
      }
     },
     "1c303e5380eb4bb19bb339ad219855f8": {
      "model_module": "@jupyter-widgets/controls",
      "model_module_version": "1.1.0",
      "model_name": "DescriptionStyleModel",
      "state": {
       "description_width": ""
      }
     },
     "1c4454dd4c4e41cb9d0351eac6d0f33d": {
      "model_module": "@jupyter-widgets/controls",
      "model_module_version": "1.1.0",
      "model_name": "HBoxModel",
      "state": {
       "children": [
        "IPY_MODEL_0c50247d86b14674a6bbf8cf09bbdcc2",
        "IPY_MODEL_45749d47f5de4eedaa09edac5514806d",
        "IPY_MODEL_05c9d13639b24cec940894a667c3ab0a"
       ],
       "layout": "IPY_MODEL_9ca11d4846314511ba6f1366d6d3835f"
      }
     },
     "1c9b6cedaf964eef9cff8f45b8f27a1a": {
      "model_module": "@jupyter-widgets/base",
      "model_module_version": "1.0.0",
      "model_name": "LayoutModel",
      "state": {}
     },
     "1c9c71e9cfa44799a3b77952dcd94b44": {
      "model_module": "@jupyter-widgets/base",
      "model_module_version": "1.0.0",
      "model_name": "LayoutModel",
      "state": {}
     },
     "1c9f6694015e4081b4b9797084357317": {
      "model_module": "@jupyter-widgets/controls",
      "model_module_version": "1.1.0",
      "model_name": "IntSliderModel",
      "state": {
       "layout": "IPY_MODEL_42f4e4fc8e4647a38e26a0df8bbef477",
       "max": 0,
       "style": "IPY_MODEL_ce9ed859e3d241939f2f5906fb6ca778"
      }
     },
     "1ce750755302488d83847ce514e8bc31": {
      "model_module": "@jupyter-widgets/controls",
      "model_module_version": "1.1.0",
      "model_name": "TextModel",
      "state": {
       "description": "Search for:",
       "layout": "IPY_MODEL_460f8633cebe4de19692101541d4dbd3",
       "placeholder": "term",
       "style": "IPY_MODEL_0e5d7c813a084dc0bd3f7f69ca7a39db",
       "value": "Aachen"
      }
     },
     "1d1e806f02564ce0b45fa01d9ef88a91": {
      "model_module": "@jupyter-widgets/base",
      "model_module_version": "1.0.0",
      "model_name": "LayoutModel",
      "state": {
       "flex": "0 1 auto",
       "height": "200px",
       "min_height": "40px",
       "width": "30%"
      }
     },
     "1d415b18099a4b2cac8501275a39ada4": {
      "model_module": "@jupyter-widgets/controls",
      "model_module_version": "1.1.0",
      "model_name": "DescriptionStyleModel",
      "state": {
       "description_width": ""
      }
     },
     "1d5fd12402d6418eb90ce1c45ddd4009": {
      "model_module": "@jupyter-widgets/controls",
      "model_module_version": "1.1.0",
      "model_name": "ToggleButtonsStyleModel",
      "state": {
       "button_width": "",
       "description_width": ""
      }
     },
     "1d8cc595506e4d6e9d04866d94e8d3b7": {
      "model_module": "@jupyter-widgets/base",
      "model_module_version": "1.0.0",
      "model_name": "LayoutModel",
      "state": {
       "margin": "0 0 0 20px"
      }
     },
     "1de2eab4ccbe4a6b8c00fc6982f52eb7": {
      "model_module": "@jupyter-widgets/output",
      "model_module_version": "1.0.0",
      "model_name": "OutputModel",
      "state": {
       "layout": "IPY_MODEL_4f6f4a1f0bcc4489b4c4d2fdb4c50dc2",
       "outputs": [
        {
         "name": "stdout",
         "output_type": "stream",
         "text": "Found 15 entries.\n"
        }
       ]
      }
     },
     "1df3342fa78440ffb62ec7b8f625285f": {
      "model_module": "@jupyter-widgets/controls",
      "model_module_version": "1.1.0",
      "model_name": "HBoxModel",
      "state": {
       "children": [
        "IPY_MODEL_8878dcf32dac45a49d98c568b95c2c91",
        "IPY_MODEL_0313686495704cef80eec6b72cbbf0ae",
        "IPY_MODEL_172495c1db9b49d18fb8303ac92f79c3"
       ],
       "layout": "IPY_MODEL_ed1ab508db3f474799a96399d7323246"
      }
     },
     "1e2a62d8a1c04c7e95270bfaf1c21373": {
      "model_module": "@jupyter-widgets/controls",
      "model_module_version": "1.1.0",
      "model_name": "DescriptionStyleModel",
      "state": {
       "description_width": ""
      }
     },
     "1ebcf0246ae04a9780da7a6c7f42247d": {
      "model_module": "@jupyter-widgets/controls",
      "model_module_version": "1.1.0",
      "model_name": "DescriptionStyleModel",
      "state": {
       "description_width": ""
      }
     },
     "1ed706f4362e4e998f82e53175a8a117": {
      "model_module": "@jupyter-widgets/controls",
      "model_module_version": "1.1.0",
      "model_name": "IntSliderModel",
      "state": {
       "layout": "IPY_MODEL_5b31518b445d41ef8070c0279170319c",
       "max": 432,
       "style": "IPY_MODEL_b0a7bba87003444caf9055367b3332d6"
      }
     },
     "1ef95d55e94243449b1dff81856803dc": {
      "model_module": "@jupyter-widgets/controls",
      "model_module_version": "1.1.0",
      "model_name": "DescriptionStyleModel",
      "state": {
       "description_width": ""
      }
     },
     "1f1b241b478f4b4f96a1af6bd95e6bed": {
      "model_module": "@jupyter-widgets/base",
      "model_module_version": "1.0.0",
      "model_name": "LayoutModel",
      "state": {
       "flex": "0 1 auto",
       "height": "200px",
       "min_height": "40px",
       "width": "30%"
      }
     },
     "1f3ad9f4808541cab45a02219d4ac3a6": {
      "model_module": "@jupyter-widgets/base",
      "model_module_version": "1.0.0",
      "model_name": "LayoutModel",
      "state": {}
     },
     "1f83ea6bd9694ce48e98dd1dacbbba32": {
      "model_module": "@jupyter-widgets/controls",
      "model_module_version": "1.1.0",
      "model_name": "ButtonStyleModel",
      "state": {}
     },
     "1fd729b4fd594ed080e4619bb1cccf3f": {
      "model_module": "@jupyter-widgets/base",
      "model_module_version": "1.0.0",
      "model_name": "LayoutModel",
      "state": {}
     },
     "2029502afc0b41ddb6a58fb1315af2e9": {
      "model_module": "@jupyter-widgets/base",
      "model_module_version": "1.0.0",
      "model_name": "LayoutModel",
      "state": {
       "flex": "0 1 auto",
       "height": "200px",
       "min_height": "40px",
       "width": "30%"
      }
     },
     "2050bfc7c3304b98bd5fe26849cea168": {
      "model_module": "@jupyter-widgets/controls",
      "model_module_version": "1.1.0",
      "model_name": "HBoxModel",
      "state": {
       "children": [
        "IPY_MODEL_840f467aa93446b79c81a0c7cc401852",
        "IPY_MODEL_f761542069754c8c846bee2f37a9c905"
       ],
       "layout": "IPY_MODEL_2777510993d249898f5ee305fe8033dc"
      }
     },
     "205a7e3f4a7e469280687bacb316f943": {
      "model_module": "@jupyter-widgets/controls",
      "model_module_version": "1.1.0",
      "model_name": "SliderStyleModel",
      "state": {
       "description_width": ""
      }
     },
     "20a1b0a3ea814df9b2eb05b94a8caea2": {
      "model_module": "@jupyter-widgets/base",
      "model_module_version": "1.0.0",
      "model_name": "LayoutModel",
      "state": {}
     },
     "20d9eedacc654bf9b2aac472ee6fb428": {
      "model_module": "@jupyter-widgets/base",
      "model_module_version": "1.0.0",
      "model_name": "LayoutModel",
      "state": {
       "flex": "0 1 auto",
       "height": "200px",
       "min_height": "40px",
       "width": "70%"
      }
     },
     "20db1935193b4a0e8f7bf9cbe799af7f": {
      "model_module": "@jupyter-widgets/base",
      "model_module_version": "1.0.0",
      "model_name": "LayoutModel",
      "state": {}
     },
     "20f05ec089fe451a96444215a40c3299": {
      "model_module": "@jupyter-widgets/base",
      "model_module_version": "1.0.0",
      "model_name": "LayoutModel",
      "state": {}
     },
     "211c1530dfbf47f3aa9a6a638d2d37f3": {
      "model_module": "@jupyter-widgets/base",
      "model_module_version": "1.0.0",
      "model_name": "LayoutModel",
      "state": {}
     },
     "213fb5a9da2748d2af8e91b976c81f01": {
      "model_module": "@jupyter-widgets/controls",
      "model_module_version": "1.1.0",
      "model_name": "DescriptionStyleModel",
      "state": {
       "description_width": ""
      }
     },
     "215a3e7023d94f848314f519c342ae4a": {
      "model_module": "@jupyter-widgets/controls",
      "model_module_version": "1.1.0",
      "model_name": "ToggleButtonsModel",
      "state": {
       "_options_labels": [
        "more",
        "less"
       ],
       "button_style": "",
       "icons": [],
       "index": 0,
       "layout": "IPY_MODEL_79680dec50a048f8b2902b33e1aac1dd",
       "style": "IPY_MODEL_1d5fd12402d6418eb90ce1c45ddd4009",
       "tooltips": []
      }
     },
     "21afa1caf7b04597815c0c73618cc3c4": {
      "model_module": "@jupyter-widgets/controls",
      "model_module_version": "1.1.0",
      "model_name": "HBoxModel",
      "state": {
       "children": [
        "IPY_MODEL_6c0d182f7af349c88264c5a84603f1ea",
        "IPY_MODEL_0b7051c6bde54cd894d833de93849778"
       ],
       "layout": "IPY_MODEL_969fafb9eee44cb0a843ca7edbbbb357"
      }
     },
     "21b5ebfaeaae468aab81a389f7b7680c": {
      "model_module": "@jupyter-widgets/controls",
      "model_module_version": "1.1.0",
      "model_name": "TextModel",
      "state": {
       "description": "Search for:",
       "layout": "IPY_MODEL_5f90afc084f743aea932e31c953a1b85",
       "placeholder": "term",
       "style": "IPY_MODEL_dcc6c267f0ab492d96d3e6fdb956102a",
       "value": "Evangelia"
      }
     },
     "21c1b542c69947cba9a0d6b77d722ada": {
      "model_module": "@jupyter-widgets/base",
      "model_module_version": "1.0.0",
      "model_name": "LayoutModel",
      "state": {}
     },
     "21d1ae7a7b43460bbcce14008f4be87a": {
      "model_module": "@jupyter-widgets/base",
      "model_module_version": "1.0.0",
      "model_name": "LayoutModel",
      "state": {}
     },
     "21f2e23b1d0d4bcab95338380a461203": {
      "model_module": "@jupyter-widgets/base",
      "model_module_version": "1.0.0",
      "model_name": "LayoutModel",
      "state": {
       "flex": "0 1 auto",
       "height": "200px",
       "min_height": "40px",
       "width": "70%"
      }
     },
     "21f666f132224612b44b0173184b6d1a": {
      "model_module": "@jupyter-widgets/controls",
      "model_module_version": "1.1.0",
      "model_name": "HBoxModel",
      "state": {
       "children": [
        "IPY_MODEL_7b8b36f092a04030a444344e2176a7c6",
        "IPY_MODEL_ed8c3b0c1c4b479bb5ef3c7774007b12",
        "IPY_MODEL_29ff7f74bbf84f949fccd6613d918b86"
       ],
       "layout": "IPY_MODEL_97b1f6b6140d40849a3b7b77e0c368e6"
      }
     },
     "21fb1dd12f954328bd5d397ba0fb4f03": {
      "model_module": "@jupyter-widgets/controls",
      "model_module_version": "1.1.0",
      "model_name": "DescriptionStyleModel",
      "state": {
       "description_width": ""
      }
     },
     "223bf0cf4e554fc7ba91647a930ce234": {
      "model_module": "@jupyter-widgets/output",
      "model_module_version": "1.0.0",
      "model_name": "OutputModel",
      "state": {
       "layout": "IPY_MODEL_6d32bd4d65824d67a200b0adf41c0145",
       "outputs": [
        {
         "name": "stdout",
         "output_type": "stream",
         "text": "Found 432 entries.\n"
        }
       ]
      }
     },
     "2260b21a85d942468cc32d3a13d25733": {
      "model_module": "@jupyter-widgets/base",
      "model_module_version": "1.0.0",
      "model_name": "LayoutModel",
      "state": {}
     },
     "22aae9b696bb48b1b6545f644d3f4ab6": {
      "model_module": "@jupyter-widgets/base",
      "model_module_version": "1.0.0",
      "model_name": "LayoutModel",
      "state": {}
     },
     "23385ae68fe746e89886f238b0000195": {
      "model_module": "@jupyter-widgets/base",
      "model_module_version": "1.0.0",
      "model_name": "LayoutModel",
      "state": {}
     },
     "237d107b90e24046a7f6473a6faf6ac6": {
      "model_module": "@jupyter-widgets/controls",
      "model_module_version": "1.1.0",
      "model_name": "HBoxModel",
      "state": {
       "children": [
        "IPY_MODEL_4546bddfa6c347b292f698582eb9d989",
        "IPY_MODEL_60664a16849e418088d51f6c8fc41edc"
       ],
       "layout": "IPY_MODEL_00d37fa0b6aa4cbba410276f4b811d81"
      }
     },
     "23d3c934ad1f44418d3bd7bbb532e299": {
      "model_module": "@jupyter-widgets/base",
      "model_module_version": "1.0.0",
      "model_name": "LayoutModel",
      "state": {}
     },
     "23de660251194b71a1a4edef79d97e87": {
      "model_module": "@jupyter-widgets/controls",
      "model_module_version": "1.1.0",
      "model_name": "DescriptionStyleModel",
      "state": {
       "description_width": ""
      }
     },
     "23f31dfdced940a580e1da05fb35d5be": {
      "model_module": "@jupyter-widgets/controls",
      "model_module_version": "1.1.0",
      "model_name": "IntSliderModel",
      "state": {
       "layout": "IPY_MODEL_0ddeb86b726a4afc884dbd1b47eb78a0",
       "max": 0,
       "style": "IPY_MODEL_25c01fde30d74e50a1fde4893daf2199"
      }
     },
     "23f85ccde055471ba88b4232f5236c2f": {
      "model_module": "@jupyter-widgets/base",
      "model_module_version": "1.0.0",
      "model_name": "LayoutModel",
      "state": {}
     },
     "23ffcd2c536e436188c97d2d08d69189": {
      "model_module": "@jupyter-widgets/base",
      "model_module_version": "1.0.0",
      "model_name": "LayoutModel",
      "state": {}
     },
     "244e2469f6234e0e98983449a0723c73": {
      "model_module": "@jupyter-widgets/controls",
      "model_module_version": "1.1.0",
      "model_name": "ButtonStyleModel",
      "state": {}
     },
     "249d39271e79478fbf4ba06001e50049": {
      "model_module": "@jupyter-widgets/base",
      "model_module_version": "1.0.0",
      "model_name": "LayoutModel",
      "state": {}
     },
     "25175c84ec9d42beae3f2d079cb228f5": {
      "model_module": "@jupyter-widgets/controls",
      "model_module_version": "1.1.0",
      "model_name": "ToggleButtonsStyleModel",
      "state": {
       "button_width": "",
       "description_width": ""
      }
     },
     "252e8b28a03d48e9823ab7f1764319db": {
      "model_module": "@jupyter-widgets/controls",
      "model_module_version": "1.1.0",
      "model_name": "TextModel",
      "state": {
       "description": "Search for:",
       "layout": "IPY_MODEL_989de68db46145569d278679a14362fe",
       "placeholder": "term",
       "style": "IPY_MODEL_166822f09ae54092aed52f06a394d6c9",
       "value": "[uU]"
      }
     },
     "253724cdfa4c4383ad1906d1e313fdce": {
      "model_module": "@jupyter-widgets/controls",
      "model_module_version": "1.1.0",
      "model_name": "HBoxModel",
      "state": {
       "children": [
        "IPY_MODEL_2de3b087adbd4a85b6c09ad106c5ab64",
        "IPY_MODEL_753f8496b6614ae7aa05ffdb79e9d7b6"
       ],
       "layout": "IPY_MODEL_bdca2e4f6602464896f73beb4087e3d3"
      }
     },
     "253ada00a93a499abf23ff2454dbfa0a": {
      "model_module": "@jupyter-widgets/output",
      "model_module_version": "1.0.0",
      "model_name": "OutputModel",
      "state": {
       "layout": "IPY_MODEL_ccb9356af0154994883437e1c22af605",
       "outputs": [
        {
         "data": {
          "image/png": "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\n",
          "text/plain": "<Figure size 576x576 with 1 Axes>"
         },
         "metadata": {},
         "output_type": "display_data"
        }
       ]
      }
     },
     "256b90b1282a432390eeb7ae6e8967d4": {
      "model_module": "@jupyter-widgets/controls",
      "model_module_version": "1.1.0",
      "model_name": "DropdownModel",
      "state": {
       "_options_labels": [
        "volume",
        "part",
        "text"
       ],
       "index": 0,
       "layout": "IPY_MODEL_bc55be6a908546d1991418abb72d97c8",
       "style": "IPY_MODEL_ff29330ec51249da99a5725908ff455f"
      }
     },
     "25ab8c88c84a4c67b342209e7118f060": {
      "model_module": "@jupyter-widgets/controls",
      "model_module_version": "1.1.0",
      "model_name": "HBoxModel",
      "state": {
       "children": [
        "IPY_MODEL_70998ebb62e34fbba5da3743140be8ec",
        "IPY_MODEL_a9474b22217241cc947d4763b7133cb7"
       ],
       "layout": "IPY_MODEL_b26baed746664c73acd38e2de6b2e94c"
      }
     },
     "25ac81bc0e0244629a971358eef7ade1": {
      "model_module": "@jupyter-widgets/base",
      "model_module_version": "1.0.0",
      "model_name": "LayoutModel",
      "state": {}
     },
     "25c01fde30d74e50a1fde4893daf2199": {
      "model_module": "@jupyter-widgets/controls",
      "model_module_version": "1.1.0",
      "model_name": "SliderStyleModel",
      "state": {
       "description_width": ""
      }
     },
     "26256270708d421a997e440dd9e31b3f": {
      "model_module": "@jupyter-widgets/base",
      "model_module_version": "1.0.0",
      "model_name": "LayoutModel",
      "state": {}
     },
     "2625a27771744a6296bd38c69bd86da1": {
      "model_module": "@jupyter-widgets/output",
      "model_module_version": "1.0.0",
      "model_name": "OutputModel",
      "state": {
       "layout": "IPY_MODEL_4736749dee844ea5af15233351fdd197",
       "outputs": [
        {
         "ename": "ValueError",
         "evalue": "shape mismatch: objects cannot be broadcast to a single shape",
         "output_type": "error",
         "traceback": [
          "\u001b[0;31m---------------------------------------------------------------------------\u001b[0m",
          "\u001b[0;31mValueError\u001b[0m                                Traceback (most recent call last)",
          "\u001b[0;32m~/Dokumente/packages/corpussearch/env/local/lib/python3.6/site-packages/corpussearch/vis.py\u001b[0m in \u001b[0;36m_plotFunction\u001b[0;34m(self, widget, content, buffers)\u001b[0m\n\u001b[1;32m    123\u001b[0m             \u001b[0;32mfor\u001b[0m \u001b[0mkey\u001b[0m\u001b[0;34m,\u001b[0m \u001b[0mvalue\u001b[0m \u001b[0;32min\u001b[0m \u001b[0mself\u001b[0m\u001b[0;34m.\u001b[0m\u001b[0mplotDict\u001b[0m\u001b[0;34m.\u001b[0m\u001b[0mitems\u001b[0m\u001b[0;34m(\u001b[0m\u001b[0;34m)\u001b[0m\u001b[0;34m:\u001b[0m\u001b[0;34m\u001b[0m\u001b[0m\n\u001b[1;32m    124\u001b[0m                 \u001b[0mradii\u001b[0m \u001b[0;34m=\u001b[0m \u001b[0;34m[\u001b[0m\u001b[0mxo\u001b[0m \u001b[0;32mfor\u001b[0m \u001b[0mxo\u001b[0m \u001b[0;32min\u001b[0m \u001b[0;34m[\u001b[0m\u001b[0mx\u001b[0m\u001b[0;34m/\u001b[0m\u001b[0mmaxVal\u001b[0m \u001b[0;32mfor\u001b[0m \u001b[0mx\u001b[0m \u001b[0;32min\u001b[0m \u001b[0mvalue\u001b[0m\u001b[0;34m[\u001b[0m\u001b[0;36m0\u001b[0m\u001b[0;34m]\u001b[0m\u001b[0;34m]\u001b[0m\u001b[0;34m]\u001b[0m\u001b[0;34m\u001b[0m\u001b[0m\n\u001b[0;32m--> 125\u001b[0;31m                 \u001b[0max\u001b[0m\u001b[0;34m.\u001b[0m\u001b[0mbar\u001b[0m\u001b[0;34m(\u001b[0m\u001b[0mx\u001b[0m\u001b[0;34m,\u001b[0m \u001b[0mradii\u001b[0m\u001b[0;34m,\u001b[0m \u001b[0mwidth\u001b[0m\u001b[0;34m=\u001b[0m\u001b[0;36m0.3\u001b[0m\u001b[0;34m,\u001b[0m \u001b[0malpha\u001b[0m\u001b[0;34m=\u001b[0m\u001b[0;36m0.3\u001b[0m\u001b[0;34m,\u001b[0m \u001b[0mcolor\u001b[0m\u001b[0;34m=\u001b[0m\u001b[0mcolors\u001b[0m\u001b[0;34m[\u001b[0m\u001b[0mi\u001b[0m\u001b[0;34m]\u001b[0m\u001b[0;34m,\u001b[0m \u001b[0mlabel\u001b[0m\u001b[0;34m=\u001b[0m\u001b[0mkey\u001b[0m\u001b[0;34m)\u001b[0m\u001b[0;34m\u001b[0m\u001b[0m\n\u001b[0m\u001b[1;32m    126\u001b[0m                 \u001b[0mi\u001b[0m \u001b[0;34m+=\u001b[0m \u001b[0;36m1\u001b[0m\u001b[0;34m\u001b[0m\u001b[0m\n\u001b[1;32m    127\u001b[0m \u001b[0;34m\u001b[0m\u001b[0m\n",
          "\u001b[0;32m~/Dokumente/packages/corpussearch/env/local/lib/python3.6/site-packages/matplotlib/__init__.py\u001b[0m in \u001b[0;36minner\u001b[0;34m(ax, *args, **kwargs)\u001b[0m\n\u001b[1;32m   1853\u001b[0m                         \u001b[0;34m\"the Matplotlib list!)\"\u001b[0m \u001b[0;34m%\u001b[0m \u001b[0;34m(\u001b[0m\u001b[0mlabel_namer\u001b[0m\u001b[0;34m,\u001b[0m \u001b[0mfunc\u001b[0m\u001b[0;34m.\u001b[0m\u001b[0m__name__\u001b[0m\u001b[0;34m)\u001b[0m\u001b[0;34m,\u001b[0m\u001b[0;34m\u001b[0m\u001b[0m\n\u001b[1;32m   1854\u001b[0m                         RuntimeWarning, stacklevel=2)\n\u001b[0;32m-> 1855\u001b[0;31m             \u001b[0;32mreturn\u001b[0m \u001b[0mfunc\u001b[0m\u001b[0;34m(\u001b[0m\u001b[0max\u001b[0m\u001b[0;34m,\u001b[0m \u001b[0;34m*\u001b[0m\u001b[0margs\u001b[0m\u001b[0;34m,\u001b[0m \u001b[0;34m**\u001b[0m\u001b[0mkwargs\u001b[0m\u001b[0;34m)\u001b[0m\u001b[0;34m\u001b[0m\u001b[0m\n\u001b[0m\u001b[1;32m   1856\u001b[0m \u001b[0;34m\u001b[0m\u001b[0m\n\u001b[1;32m   1857\u001b[0m         inner.__doc__ = _add_data_doc(inner.__doc__,\n",
          "\u001b[0;32m~/Dokumente/packages/corpussearch/env/local/lib/python3.6/site-packages/matplotlib/axes/_axes.py\u001b[0m in \u001b[0;36mbar\u001b[0;34m(self, *args, **kwargs)\u001b[0m\n\u001b[1;32m   2231\u001b[0m         x, height, width, y, linewidth = np.broadcast_arrays(\n\u001b[1;32m   2232\u001b[0m             \u001b[0;31m# Make args iterable too.\u001b[0m\u001b[0;34m\u001b[0m\u001b[0;34m\u001b[0m\u001b[0m\n\u001b[0;32m-> 2233\u001b[0;31m             np.atleast_1d(x), height, width, y, linewidth)\n\u001b[0m\u001b[1;32m   2234\u001b[0m \u001b[0;34m\u001b[0m\u001b[0m\n\u001b[1;32m   2235\u001b[0m         \u001b[0;31m# Now that units have been converted, set the tick locations.\u001b[0m\u001b[0;34m\u001b[0m\u001b[0;34m\u001b[0m\u001b[0m\n",
          "\u001b[0;32m~/Dokumente/packages/corpussearch/env/local/lib/python3.6/site-packages/numpy/lib/stride_tricks.py\u001b[0m in \u001b[0;36mbroadcast_arrays\u001b[0;34m(*args, **kwargs)\u001b[0m\n\u001b[1;32m    247\u001b[0m     \u001b[0margs\u001b[0m \u001b[0;34m=\u001b[0m \u001b[0;34m[\u001b[0m\u001b[0mnp\u001b[0m\u001b[0;34m.\u001b[0m\u001b[0marray\u001b[0m\u001b[0;34m(\u001b[0m\u001b[0m_m\u001b[0m\u001b[0;34m,\u001b[0m \u001b[0mcopy\u001b[0m\u001b[0;34m=\u001b[0m\u001b[0;32mFalse\u001b[0m\u001b[0;34m,\u001b[0m \u001b[0msubok\u001b[0m\u001b[0;34m=\u001b[0m\u001b[0msubok\u001b[0m\u001b[0;34m)\u001b[0m \u001b[0;32mfor\u001b[0m \u001b[0m_m\u001b[0m \u001b[0;32min\u001b[0m \u001b[0margs\u001b[0m\u001b[0;34m]\u001b[0m\u001b[0;34m\u001b[0m\u001b[0m\n\u001b[1;32m    248\u001b[0m \u001b[0;34m\u001b[0m\u001b[0m\n\u001b[0;32m--> 249\u001b[0;31m     \u001b[0mshape\u001b[0m \u001b[0;34m=\u001b[0m \u001b[0m_broadcast_shape\u001b[0m\u001b[0;34m(\u001b[0m\u001b[0;34m*\u001b[0m\u001b[0margs\u001b[0m\u001b[0;34m)\u001b[0m\u001b[0;34m\u001b[0m\u001b[0m\n\u001b[0m\u001b[1;32m    250\u001b[0m \u001b[0;34m\u001b[0m\u001b[0m\n\u001b[1;32m    251\u001b[0m     \u001b[0;32mif\u001b[0m \u001b[0mall\u001b[0m\u001b[0;34m(\u001b[0m\u001b[0marray\u001b[0m\u001b[0;34m.\u001b[0m\u001b[0mshape\u001b[0m \u001b[0;34m==\u001b[0m \u001b[0mshape\u001b[0m \u001b[0;32mfor\u001b[0m \u001b[0marray\u001b[0m \u001b[0;32min\u001b[0m \u001b[0margs\u001b[0m\u001b[0;34m)\u001b[0m\u001b[0;34m:\u001b[0m\u001b[0;34m\u001b[0m\u001b[0m\n",
          "\u001b[0;32m~/Dokumente/packages/corpussearch/env/local/lib/python3.6/site-packages/numpy/lib/stride_tricks.py\u001b[0m in \u001b[0;36m_broadcast_shape\u001b[0;34m(*args)\u001b[0m\n\u001b[1;32m    182\u001b[0m     \u001b[0;31m# use the old-iterator because np.nditer does not handle size 0 arrays\u001b[0m\u001b[0;34m\u001b[0m\u001b[0;34m\u001b[0m\u001b[0m\n\u001b[1;32m    183\u001b[0m     \u001b[0;31m# consistently\u001b[0m\u001b[0;34m\u001b[0m\u001b[0;34m\u001b[0m\u001b[0m\n\u001b[0;32m--> 184\u001b[0;31m     \u001b[0mb\u001b[0m \u001b[0;34m=\u001b[0m \u001b[0mnp\u001b[0m\u001b[0;34m.\u001b[0m\u001b[0mbroadcast\u001b[0m\u001b[0;34m(\u001b[0m\u001b[0;34m*\u001b[0m\u001b[0margs\u001b[0m\u001b[0;34m[\u001b[0m\u001b[0;34m:\u001b[0m\u001b[0;36m32\u001b[0m\u001b[0;34m]\u001b[0m\u001b[0;34m)\u001b[0m\u001b[0;34m\u001b[0m\u001b[0m\n\u001b[0m\u001b[1;32m    185\u001b[0m     \u001b[0;31m# unfortunately, it cannot handle 32 or more arguments directly\u001b[0m\u001b[0;34m\u001b[0m\u001b[0;34m\u001b[0m\u001b[0m\n\u001b[1;32m    186\u001b[0m     \u001b[0;32mfor\u001b[0m \u001b[0mpos\u001b[0m \u001b[0;32min\u001b[0m \u001b[0mrange\u001b[0m\u001b[0;34m(\u001b[0m\u001b[0;36m32\u001b[0m\u001b[0;34m,\u001b[0m \u001b[0mlen\u001b[0m\u001b[0;34m(\u001b[0m\u001b[0margs\u001b[0m\u001b[0;34m)\u001b[0m\u001b[0;34m,\u001b[0m \u001b[0;36m31\u001b[0m\u001b[0;34m)\u001b[0m\u001b[0;34m:\u001b[0m\u001b[0;34m\u001b[0m\u001b[0m\n",
          "\u001b[0;31mValueError\u001b[0m: shape mismatch: objects cannot be broadcast to a single shape"
         ]
        }
       ]
      }
     },
     "26ab7eee47514474abb0d889dc0b1fda": {
      "model_module": "@jupyter-widgets/base",
      "model_module_version": "1.0.0",
      "model_name": "LayoutModel",
      "state": {
       "margin": "0 0 0 20px"
      }
     },
     "2708227ca66c418d833e5e00d8bbd695": {
      "model_module": "@jupyter-widgets/base",
      "model_module_version": "1.0.0",
      "model_name": "LayoutModel",
      "state": {}
     },
     "275cbd114b014805a5240ff1c7143da8": {
      "model_module": "@jupyter-widgets/controls",
      "model_module_version": "1.1.0",
      "model_name": "HBoxModel",
      "state": {
       "children": [
        "IPY_MODEL_7c4eb984030c4b1d952c59911b9825af",
        "IPY_MODEL_613a4410d24e4e7f94947a38f98c9c20"
       ],
       "layout": "IPY_MODEL_7fae323cf17a43e698f3cf71f0843416"
      }
     },
     "2777510993d249898f5ee305fe8033dc": {
      "model_module": "@jupyter-widgets/base",
      "model_module_version": "1.0.0",
      "model_name": "LayoutModel",
      "state": {}
     },
     "27b49f91abbf478a808b448c7fa10763": {
      "model_module": "@jupyter-widgets/controls",
      "model_module_version": "1.1.0",
      "model_name": "SliderStyleModel",
      "state": {
       "description_width": ""
      }
     },
     "27c01dca16674dae80057e5d6939b538": {
      "model_module": "@jupyter-widgets/base",
      "model_module_version": "1.0.0",
      "model_name": "LayoutModel",
      "state": {}
     },
     "27d71d5a7ffd4771aa25f6b4642e191b": {
      "model_module": "@jupyter-widgets/controls",
      "model_module_version": "1.1.0",
      "model_name": "TextModel",
      "state": {
       "description": "Search for:",
       "layout": "IPY_MODEL_2f3b989ab86c4797a3885a86262dfb37",
       "placeholder": "term",
       "style": "IPY_MODEL_0d522d3f822c42f394b9b7049d89d8d1",
       "value": "[uU]"
      }
     },
     "27ee424e4ad843b99d2a90caabc7ffc2": {
      "model_module": "@jupyter-widgets/controls",
      "model_module_version": "1.1.0",
      "model_name": "HBoxModel",
      "state": {
       "children": [
        "IPY_MODEL_48b4f01d677d4d17ae20f75a25a44e07",
        "IPY_MODEL_2e47195e2fb941d2ae116f2276add7bf"
       ],
       "layout": "IPY_MODEL_e746704cec1a40caa7b2f34361302972"
      }
     },
     "281d555194f94c19b6c230e7f6ca82e1": {
      "model_module": "@jupyter-widgets/controls",
      "model_module_version": "1.1.0",
      "model_name": "DescriptionStyleModel",
      "state": {
       "description_width": ""
      }
     },
     "28b42731c55045f0846bd05bf7ac01e8": {
      "model_module": "@jupyter-widgets/base",
      "model_module_version": "1.0.0",
      "model_name": "LayoutModel",
      "state": {}
     },
     "28b6ab30d2004eaaa83743ae057dcf50": {
      "model_module": "@jupyter-widgets/controls",
      "model_module_version": "1.1.0",
      "model_name": "DropdownModel",
      "state": {
       "_options_labels": [
        "volume",
        "part",
        "text"
       ],
       "description": "Search in:",
       "index": 2,
       "layout": "IPY_MODEL_d6f531c906d34016b434c4bde741f809",
       "style": "IPY_MODEL_2dbbc53afa424d2599e2bd1b111e32a9"
      }
     },
     "28fe1d7bcb32448d898d05720295f256": {
      "model_module": "@jupyter-widgets/base",
      "model_module_version": "1.0.0",
      "model_name": "LayoutModel",
      "state": {}
     },
     "2963eff910e64edeb116859ddc32568f": {
      "model_module": "@jupyter-widgets/base",
      "model_module_version": "1.0.0",
      "model_name": "LayoutModel",
      "state": {}
     },
     "2968c3324cbd411fbad49876ec2cd360": {
      "model_module": "@jupyter-widgets/base",
      "model_module_version": "1.0.0",
      "model_name": "LayoutModel",
      "state": {}
     },
     "298655bb149449afa0f96887af65cf99": {
      "model_module": "@jupyter-widgets/controls",
      "model_module_version": "1.1.0",
      "model_name": "DescriptionStyleModel",
      "state": {
       "description_width": ""
      }
     },
     "298c1d81d7fb4fde979f2e67f72ec986": {
      "model_module": "@jupyter-widgets/controls",
      "model_module_version": "1.1.0",
      "model_name": "ButtonStyleModel",
      "state": {}
     },
     "29b2bf27d02e480aa9303a4dc9b9193b": {
      "model_module": "@jupyter-widgets/base",
      "model_module_version": "1.0.0",
      "model_name": "LayoutModel",
      "state": {}
     },
     "29e4bc61b78740acb615d393400788db": {
      "model_module": "@jupyter-widgets/controls",
      "model_module_version": "1.1.0",
      "model_name": "ButtonModel",
      "state": {
       "button_style": "danger",
       "description": "Search",
       "layout": "IPY_MODEL_c1d18968b96a4fd4b202c6f45c8298a2",
       "style": "IPY_MODEL_d5dab1ba2d864f80b7557934f7efa80f"
      }
     },
     "29ff7f74bbf84f949fccd6613d918b86": {
      "model_module": "@jupyter-widgets/output",
      "model_module_version": "1.0.0",
      "model_name": "OutputModel",
      "state": {
       "layout": "IPY_MODEL_77d4c798e8644e6abb40d0437c89c073",
       "outputs": [
        {
         "name": "stdout",
         "output_type": "stream",
         "text": "Found 432 entries.\n"
        }
       ]
      }
     },
     "2a04d48eb8114bc7a9c72223485fed45": {
      "model_module": "@jupyter-widgets/base",
      "model_module_version": "1.0.0",
      "model_name": "LayoutModel",
      "state": {
       "margin": "0 0 0 20px"
      }
     },
     "2a226e3a13e0431cb1b15517dec08f1f": {
      "model_module": "@jupyter-widgets/controls",
      "model_module_version": "1.1.0",
      "model_name": "TextareaModel",
      "state": {
       "layout": "IPY_MODEL_cfe61d69bb6e427b9ad009fe995e825b",
       "placeholder": "Sentence",
       "style": "IPY_MODEL_5df44d13f46e484aafaf049ddd54bb42",
       "value": " HERAUSGEGEBEN 1M AUFTRAG"
      }
     },
     "2a61ea9b77354d5187cca01cd8950794": {
      "model_module": "@jupyter-widgets/controls",
      "model_module_version": "1.1.0",
      "model_name": "DropdownModel",
      "state": {
       "_options_labels": [
        "volume",
        "part",
        "text"
       ],
       "index": 1,
       "layout": "IPY_MODEL_d236350fc8b04c84ad8254fddea3054f",
       "style": "IPY_MODEL_83676336fc8745ce96c2c6d643760b36"
      }
     },
     "2a67bbaa5d164b5390871c0acbeb0df8": {
      "model_module": "@jupyter-widgets/controls",
      "model_module_version": "1.1.0",
      "model_name": "VBoxModel",
      "state": {
       "children": [
        "IPY_MODEL_fff69e6f144b4aa18bb90d92cd001da0",
        "IPY_MODEL_6f39ab741e6048c8911c08211ff365ae",
        "IPY_MODEL_d2ddee52c41d400d947e643f952a1b11",
        "IPY_MODEL_11ba3668746243ef9f7404403434f67e",
        "IPY_MODEL_029ca6c09259481e817becc7584bcd20",
        "IPY_MODEL_341165bd25924aa8a7262a3dac21cef4"
       ],
       "layout": "IPY_MODEL_d880d37aa43b4c65896bfcec93b337f4"
      }
     },
     "2a94642e8f7b49c2b38a6a931aa0b6b0": {
      "model_module": "@jupyter-widgets/controls",
      "model_module_version": "1.1.0",
      "model_name": "DescriptionStyleModel",
      "state": {
       "description_width": ""
      }
     },
     "2af3f9ee7bfc4369ab6ab26083621897": {
      "model_module": "@jupyter-widgets/controls",
      "model_module_version": "1.1.0",
      "model_name": "VBoxModel",
      "state": {
       "children": [
        "IPY_MODEL_5fa8a64b4e064b3e9ec2d3b41b3e8c1b",
        "IPY_MODEL_21f666f132224612b44b0173184b6d1a",
        "IPY_MODEL_619a739a692a4d6a970496a9e8b7c71f",
        "IPY_MODEL_7b3b04366519484d8d3f52fb581d73d2",
        "IPY_MODEL_0d98f52d60394bf885fad941fb1d9b9c",
        "IPY_MODEL_2625a27771744a6296bd38c69bd86da1"
       ],
       "layout": "IPY_MODEL_9c23f58219b84a64ad4c3313704ac19f"
      }
     },
     "2af53a928b3944d3be7acb29a486f76e": {
      "model_module": "@jupyter-widgets/base",
      "model_module_version": "1.0.0",
      "model_name": "LayoutModel",
      "state": {}
     },
     "2b2ce1e5031d4e469eb8a73f04d866cb": {
      "model_module": "@jupyter-widgets/controls",
      "model_module_version": "1.1.0",
      "model_name": "HBoxModel",
      "state": {
       "children": [
        "IPY_MODEL_9d7d2f7dfb7a46be8caec566531566dd",
        "IPY_MODEL_8ea8e3727909490283a13e3324d0a6d4"
       ],
       "layout": "IPY_MODEL_8ac36d8f68f44b3fa751cd51635d364c"
      }
     },
     "2b81259b071d45fa946e722408a181b5": {
      "model_module": "@jupyter-widgets/controls",
      "model_module_version": "1.1.0",
      "model_name": "HBoxModel",
      "state": {
       "children": [
        "IPY_MODEL_4a8936b469c5459082a046c711ce842c",
        "IPY_MODEL_c3a3e9fa3a364d028a91846e1b919b1c"
       ],
       "layout": "IPY_MODEL_f9a3cfd32fee4375a1cb6405151f9587"
      }
     },
     "2b9c99eba1ed4a3a832ddfa944468c93": {
      "model_module": "@jupyter-widgets/base",
      "model_module_version": "1.0.0",
      "model_name": "LayoutModel",
      "state": {}
     },
     "2c45e8e2f5a042a2a874f92628b7b494": {
      "model_module": "@jupyter-widgets/controls",
      "model_module_version": "1.1.0",
      "model_name": "DropdownModel",
      "state": {
       "_options_labels": [
        "volume",
        "part",
        "text"
       ],
       "index": 1,
       "layout": "IPY_MODEL_afd2117a9b7f492cbc5949d157752dc5",
       "style": "IPY_MODEL_17d6bb347ce447078d475bcb1e8ccd9f"
      }
     },
     "2cf00cb699144528a519af93565a8756": {
      "model_module": "@jupyter-widgets/controls",
      "model_module_version": "1.1.0",
      "model_name": "TextModel",
      "state": {
       "description": "Search for:",
       "layout": "IPY_MODEL_26ab7eee47514474abb0d889dc0b1fda",
       "placeholder": "term",
       "style": "IPY_MODEL_3ea18022bba54b3cb37ee24652aeeb0e",
       "value": "[uU]"
      }
     },
     "2d76e605204f4e62b95eb5e58abcab85": {
      "model_module": "@jupyter-widgets/controls",
      "model_module_version": "1.1.0",
      "model_name": "DescriptionStyleModel",
      "state": {
       "description_width": ""
      }
     },
     "2d8bcf55f20444eebfd6ff75e3c2c76e": {
      "model_module": "@jupyter-widgets/output",
      "model_module_version": "1.0.0",
      "model_name": "OutputModel",
      "state": {
       "layout": "IPY_MODEL_1c9b6cedaf964eef9cff8f45b8f27a1a",
       "outputs": [
        {
         "ename": "TypeError",
         "evalue": "unsupported operand type(s) for *: 'odict_values' and 'float'",
         "output_type": "error",
         "traceback": [
          "\u001b[0;31m---------------------------------------------------------------------------\u001b[0m",
          "\u001b[0;31mTypeError\u001b[0m                                 Traceback (most recent call last)",
          "\u001b[0;32m~/Dokumente/packages/corpussearch/env/local/lib/python3.6/site-packages/corpussearch/vis.py\u001b[0m in \u001b[0;36m_plotFunction\u001b[0;34m(self, widget, content, buffers)\u001b[0m\n\u001b[1;32m    112\u001b[0m             \u001b[0max\u001b[0m\u001b[0;34m.\u001b[0m\u001b[0mset_xticklabels\u001b[0m\u001b[0;34m(\u001b[0m\u001b[0mxtickslabels\u001b[0m\u001b[0;34m,\u001b[0m \u001b[0mrotation\u001b[0m\u001b[0;34m=\u001b[0m\u001b[0;36m45\u001b[0m\u001b[0;34m)\u001b[0m\u001b[0;34m\u001b[0m\u001b[0m\n\u001b[1;32m    113\u001b[0m             \u001b[0myMax\u001b[0m \u001b[0;34m=\u001b[0m \u001b[0mresDict\u001b[0m\u001b[0;34m.\u001b[0m\u001b[0mvalues\u001b[0m\u001b[0;34m(\u001b[0m\u001b[0;34m)\u001b[0m\u001b[0;34m\u001b[0m\u001b[0m\n\u001b[0;32m--> 114\u001b[0;31m             \u001b[0max\u001b[0m\u001b[0;34m.\u001b[0m\u001b[0mset_yticks\u001b[0m\u001b[0;34m(\u001b[0m\u001b[0mnp\u001b[0m\u001b[0;34m.\u001b[0m\u001b[0mlinspace\u001b[0m\u001b[0;34m(\u001b[0m\u001b[0;36m0\u001b[0m\u001b[0;34m,\u001b[0m \u001b[0myMax\u001b[0m\u001b[0;34m,\u001b[0m \u001b[0;36m10\u001b[0m\u001b[0;34m)\u001b[0m\u001b[0;34m)\u001b[0m\u001b[0;34m\u001b[0m\u001b[0m\n\u001b[0m\u001b[1;32m    115\u001b[0m             \u001b[0max\u001b[0m\u001b[0;34m.\u001b[0m\u001b[0mset_yticklabels\u001b[0m\u001b[0;34m(\u001b[0m\u001b[0;34m[\u001b[0m\u001b[0;34m'0'\u001b[0m\u001b[0;34m,\u001b[0m \u001b[0;34m''\u001b[0m\u001b[0;34m,\u001b[0m \u001b[0mstr\u001b[0m\u001b[0;34m(\u001b[0m\u001b[0myMax\u001b[0m\u001b[0;34m/\u001b[0m\u001b[0;36m2\u001b[0m\u001b[0;34m)\u001b[0m\u001b[0;34m,\u001b[0m \u001b[0;34m''\u001b[0m\u001b[0;34m,\u001b[0m \u001b[0mstr\u001b[0m\u001b[0;34m(\u001b[0m\u001b[0myMax\u001b[0m\u001b[0;34m)\u001b[0m\u001b[0;34m]\u001b[0m\u001b[0;34m)\u001b[0m\u001b[0;34m\u001b[0m\u001b[0m\n\u001b[1;32m    116\u001b[0m             \u001b[0;31m# self._initFigure()\u001b[0m\u001b[0;34m\u001b[0m\u001b[0;34m\u001b[0m\u001b[0m\n",
          "\u001b[0;32m~/Dokumente/packages/corpussearch/env/local/lib/python3.6/site-packages/numpy/core/function_base.py\u001b[0m in \u001b[0;36mlinspace\u001b[0;34m(start, stop, num, endpoint, retstep, dtype)\u001b[0m\n\u001b[1;32m    107\u001b[0m     \u001b[0;31m# and make sure one can use variables that have an __array_interface__, gh-6634\u001b[0m\u001b[0;34m\u001b[0m\u001b[0;34m\u001b[0m\u001b[0m\n\u001b[1;32m    108\u001b[0m     \u001b[0mstart\u001b[0m \u001b[0;34m=\u001b[0m \u001b[0masanyarray\u001b[0m\u001b[0;34m(\u001b[0m\u001b[0mstart\u001b[0m\u001b[0;34m)\u001b[0m \u001b[0;34m*\u001b[0m \u001b[0;36m1.0\u001b[0m\u001b[0;34m\u001b[0m\u001b[0m\n\u001b[0;32m--> 109\u001b[0;31m     \u001b[0mstop\u001b[0m  \u001b[0;34m=\u001b[0m \u001b[0masanyarray\u001b[0m\u001b[0;34m(\u001b[0m\u001b[0mstop\u001b[0m\u001b[0;34m)\u001b[0m  \u001b[0;34m*\u001b[0m \u001b[0;36m1.0\u001b[0m\u001b[0;34m\u001b[0m\u001b[0m\n\u001b[0m\u001b[1;32m    110\u001b[0m \u001b[0;34m\u001b[0m\u001b[0m\n\u001b[1;32m    111\u001b[0m     \u001b[0mdt\u001b[0m \u001b[0;34m=\u001b[0m \u001b[0mresult_type\u001b[0m\u001b[0;34m(\u001b[0m\u001b[0mstart\u001b[0m\u001b[0;34m,\u001b[0m \u001b[0mstop\u001b[0m\u001b[0;34m,\u001b[0m \u001b[0mfloat\u001b[0m\u001b[0;34m(\u001b[0m\u001b[0mnum\u001b[0m\u001b[0;34m)\u001b[0m\u001b[0;34m)\u001b[0m\u001b[0;34m\u001b[0m\u001b[0m\n",
          "\u001b[0;31mTypeError\u001b[0m: unsupported operand type(s) for *: 'odict_values' and 'float'"
         ]
        }
       ]
      }
     },
     "2d950140d37141cb9b1df7a2a67a67e0": {
      "model_module": "@jupyter-widgets/controls",
      "model_module_version": "1.1.0",
      "model_name": "SliderStyleModel",
      "state": {
       "description_width": ""
      }
     },
     "2dbbc53afa424d2599e2bd1b111e32a9": {
      "model_module": "@jupyter-widgets/controls",
      "model_module_version": "1.1.0",
      "model_name": "DescriptionStyleModel",
      "state": {
       "description_width": ""
      }
     },
     "2dbcfc3d75b7428896fa4632b0b42797": {
      "model_module": "@jupyter-widgets/base",
      "model_module_version": "1.0.0",
      "model_name": "LayoutModel",
      "state": {
       "flex": "0 1 auto",
       "height": "200px",
       "min_height": "40px",
       "width": "70%"
      }
     },
     "2de3b087adbd4a85b6c09ad106c5ab64": {
      "model_module": "@jupyter-widgets/controls",
      "model_module_version": "1.1.0",
      "model_name": "TextModel",
      "state": {
       "description": "Search for:",
       "layout": "IPY_MODEL_2a04d48eb8114bc7a9c72223485fed45",
       "placeholder": "term",
       "style": "IPY_MODEL_1077f3837d234391aa523dc657a4e9b2",
       "value": "Aachen"
      }
     },
     "2de4ef311aaf4a3087e30191a3d303aa": {
      "model_module": "@jupyter-widgets/controls",
      "model_module_version": "1.1.0",
      "model_name": "DropdownModel",
      "state": {
       "_options_labels": [
        "volume",
        "part",
        "text"
       ],
       "description": "Search in:",
       "index": 2,
       "layout": "IPY_MODEL_a5410dd5b9ad465a9ff27b3418d60f02",
       "style": "IPY_MODEL_3bb6d6af86464c81b996c6611036ea91"
      }
     },
     "2e227e82d0f142cfa60e0dcb8e7ffc36": {
      "model_module": "@jupyter-widgets/base",
      "model_module_version": "1.0.0",
      "model_name": "LayoutModel",
      "state": {}
     },
     "2e2ce8fbe674462c8bbce53dcd9860f7": {
      "model_module": "@jupyter-widgets/controls",
      "model_module_version": "1.1.0",
      "model_name": "DescriptionStyleModel",
      "state": {
       "description_width": ""
      }
     },
     "2e3abc56467f4b08b7d92de54b18027b": {
      "model_module": "@jupyter-widgets/controls",
      "model_module_version": "1.1.0",
      "model_name": "DescriptionStyleModel",
      "state": {
       "description_width": ""
      }
     },
     "2e47195e2fb941d2ae116f2276add7bf": {
      "model_module": "@jupyter-widgets/controls",
      "model_module_version": "1.1.0",
      "model_name": "TextareaModel",
      "state": {
       "layout": "IPY_MODEL_59b9045a55814b7ba73de69992c5d3cb",
       "placeholder": "Sentence",
       "style": "IPY_MODEL_4d564aad83834d83aae2cd7393dda4dc",
       "value": "Cod. Wings 1. IV Evangelia. I + 333 + I Bl. (Ordnung z.T. verwirrt); 23,5x16,8 cm (14,3x9,7 cm); 17 Z. 2r-319r: St. Galler Kalligr. mehrerer Hde. 7r-12r Kanontafeln. Init. z.T. mit Gold- u. Silber-füllung; 14v Purpurband. 319v-333r Capit, ev. (s. X2). Lit.: Merton2, S. 49; Landsberger, Abb. 9c, 10a; Ausst. Suevia Sacra, Nr. 156, Abb. 145; Aachener Kunstblätter 45 (1974), S. 350f. m. Abb. - St. Gallen, IX. Jh., 3. Drittel- "
      }
     },
     "2e4ae1d1c3bb4e3cae833a99ec746fa7": {
      "model_module": "@jupyter-widgets/base",
      "model_module_version": "1.0.0",
      "model_name": "LayoutModel",
      "state": {}
     },
     "2ebb9cbc477b4d78877baaee7241c5cd": {
      "model_module": "@jupyter-widgets/controls",
      "model_module_version": "1.1.0",
      "model_name": "HBoxModel",
      "state": {
       "children": [
        "IPY_MODEL_83a7535d4ba14c99bc2a37dbbaf4352e",
        "IPY_MODEL_43b2659423d44ec0880f9e9646f136b4",
        "IPY_MODEL_5da2c5e0739a41d29d41c94dea9fbe11"
       ],
       "layout": "IPY_MODEL_9d83aab1d044497fa5b4b50babcfea42"
      }
     },
     "2ebe5e0bda7c43fc855798b6e6b47766": {
      "model_module": "@jupyter-widgets/controls",
      "model_module_version": "1.1.0",
      "model_name": "ToggleButtonsModel",
      "state": {
       "_options_labels": [
        "more",
        "less"
       ],
       "button_style": "",
       "icons": [],
       "index": 0,
       "layout": "IPY_MODEL_d012cef929cc495b85ca23e276ef4b2e",
       "style": "IPY_MODEL_b4077ced0a994f62a892758a0cb18809",
       "tooltips": []
      }
     },
     "2f3b989ab86c4797a3885a86262dfb37": {
      "model_module": "@jupyter-widgets/base",
      "model_module_version": "1.0.0",
      "model_name": "LayoutModel",
      "state": {
       "margin": "0 0 0 20px"
      }
     },
     "2fc64ac270ae4d9381467cfef33ac633": {
      "model_module": "@jupyter-widgets/controls",
      "model_module_version": "1.1.0",
      "model_name": "DescriptionStyleModel",
      "state": {
       "description_width": ""
      }
     },
     "300200fbd74f430eaee11d2d9e497df9": {
      "model_module": "@jupyter-widgets/controls",
      "model_module_version": "1.1.0",
      "model_name": "HBoxModel",
      "state": {
       "children": [
        "IPY_MODEL_7e1218a58b37458faa42717ad337d7ec",
        "IPY_MODEL_78092edb07b747078531c11cb767706e"
       ],
       "layout": "IPY_MODEL_21c1b542c69947cba9a0d6b77d722ada"
      }
     },
     "30334ed385f84787a90515f4efde5582": {
      "model_module": "@jupyter-widgets/controls",
      "model_module_version": "1.1.0",
      "model_name": "SliderStyleModel",
      "state": {
       "description_width": ""
      }
     },
     "30501ae264714d72aeef3452511fe37e": {
      "model_module": "@jupyter-widgets/base",
      "model_module_version": "1.0.0",
      "model_name": "LayoutModel",
      "state": {
       "flex": "0 1 auto",
       "height": "200px",
       "min_height": "40px",
       "width": "30%"
      }
     },
     "3098ea901a444faf9636b48b0123d195": {
      "model_module": "@jupyter-widgets/base",
      "model_module_version": "1.0.0",
      "model_name": "LayoutModel",
      "state": {}
     },
     "30d69356de0f4af295297a9dc8053e0b": {
      "model_module": "@jupyter-widgets/base",
      "model_module_version": "1.0.0",
      "model_name": "LayoutModel",
      "state": {
       "margin": "0 0 0 20px"
      }
     },
     "313fd84eadf44a0fa61892a8c028f00c": {
      "model_module": "@jupyter-widgets/base",
      "model_module_version": "1.0.0",
      "model_name": "LayoutModel",
      "state": {}
     },
     "31946c2765294eb69cd4fc60c319c010": {
      "model_module": "@jupyter-widgets/base",
      "model_module_version": "1.0.0",
      "model_name": "LayoutModel",
      "state": {}
     },
     "31dcc2d1db7a44aea85d3c219d521eb8": {
      "model_module": "@jupyter-widgets/controls",
      "model_module_version": "1.1.0",
      "model_name": "ButtonStyleModel",
      "state": {}
     },
     "32af2154b4b847b7803eb89602283d75": {
      "model_module": "@jupyter-widgets/controls",
      "model_module_version": "1.1.0",
      "model_name": "ButtonModel",
      "state": {
       "description": "Reset plot",
       "layout": "IPY_MODEL_21d1ae7a7b43460bbcce14008f4be87a",
       "style": "IPY_MODEL_0218c0958e8b49a9921a9c9f510bbaf6"
      }
     },
     "3308a94d5ece413d8e47a04569400b38": {
      "model_module": "@jupyter-widgets/base",
      "model_module_version": "1.0.0",
      "model_name": "LayoutModel",
      "state": {}
     },
     "332ca996d7884574877299ba7712251e": {
      "model_module": "@jupyter-widgets/base",
      "model_module_version": "1.0.0",
      "model_name": "LayoutModel",
      "state": {}
     },
     "33ef26e1c7cd4fc1849bba234549dc62": {
      "model_module": "@jupyter-widgets/output",
      "model_module_version": "1.0.0",
      "model_name": "OutputModel",
      "state": {
       "layout": "IPY_MODEL_cd8ee5f9e3574be8b9da1483583e1b2c",
       "outputs": [
        {
         "data": {
          "image/png": "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\n",
          "text/plain": "<Figure size 576x576 with 1 Axes>"
         },
         "metadata": {},
         "output_type": "display_data"
        },
        {
         "ename": "TypeError",
         "evalue": "_initFigure() missing 1 required positional argument: 'level'",
         "output_type": "error",
         "traceback": [
          "\u001b[0;31m---------------------------------------------------------------------------\u001b[0m",
          "\u001b[0;31mTypeError\u001b[0m                                 Traceback (most recent call last)",
          "\u001b[0;32m~/Dokumente/packages/corpussearch/env/local/lib/python3.6/site-packages/corpussearch/vis.py\u001b[0m in \u001b[0;36m_plotFunction\u001b[0;34m(self, widget, content, buffers)\u001b[0m\n\u001b[1;32m     94\u001b[0m         \u001b[0mresDict\u001b[0m \u001b[0;34m=\u001b[0m \u001b[0mOrderedDict\u001b[0m\u001b[0;34m(\u001b[0m\u001b[0mCounter\u001b[0m\u001b[0;34m(\u001b[0m\u001b[0melem\u001b[0m \u001b[0;32mfor\u001b[0m \u001b[0melem\u001b[0m \u001b[0;32min\u001b[0m \u001b[0miterate\u001b[0m\u001b[0;34m)\u001b[0m\u001b[0;34m)\u001b[0m\u001b[0;34m\u001b[0m\u001b[0m\n\u001b[1;32m     95\u001b[0m         \u001b[0;32mwith\u001b[0m \u001b[0mself\u001b[0m\u001b[0;34m.\u001b[0m\u001b[0mplotout\u001b[0m\u001b[0;34m:\u001b[0m\u001b[0;34m\u001b[0m\u001b[0m\n\u001b[0;32m---> 96\u001b[0;31m             \u001b[0mself\u001b[0m\u001b[0;34m.\u001b[0m\u001b[0m_initFigure\u001b[0m\u001b[0;34m(\u001b[0m\u001b[0mself\u001b[0m\u001b[0;34m.\u001b[0m\u001b[0mplotLevel\u001b[0m\u001b[0;34m.\u001b[0m\u001b[0mvalue\u001b[0m\u001b[0;34m)\u001b[0m\u001b[0;34m\u001b[0m\u001b[0m\n\u001b[0m\u001b[1;32m     97\u001b[0m             \u001b[0mlabelStr\u001b[0m \u001b[0;34m=\u001b[0m \u001b[0;34m' '\u001b[0m\u001b[0;34m.\u001b[0m\u001b[0mjoin\u001b[0m\u001b[0;34m(\u001b[0m\u001b[0;34m[\u001b[0m\u001b[0mch\u001b[0m\u001b[0;34m.\u001b[0m\u001b[0mvalue\u001b[0m \u001b[0;32mfor\u001b[0m \u001b[0mch\u001b[0m \u001b[0;32min\u001b[0m \u001b[0mself\u001b[0m\u001b[0;34m.\u001b[0m\u001b[0maccordion\u001b[0m\u001b[0;34m.\u001b[0m\u001b[0mchildren\u001b[0m\u001b[0;34m]\u001b[0m\u001b[0;34m)\u001b[0m\u001b[0;34m\u001b[0m\u001b[0m\n\u001b[1;32m     98\u001b[0m             \u001b[0mx\u001b[0m \u001b[0;34m=\u001b[0m \u001b[0;34m[\u001b[0m\u001b[0mx\u001b[0m \u001b[0;32mfor\u001b[0m \u001b[0mx\u001b[0m \u001b[0;32min\u001b[0m \u001b[0mrange\u001b[0m\u001b[0;34m(\u001b[0m\u001b[0;36m1\u001b[0m\u001b[0;34m,\u001b[0m \u001b[0mlen\u001b[0m\u001b[0;34m(\u001b[0m\u001b[0mresDict\u001b[0m\u001b[0;34m.\u001b[0m\u001b[0mkeys\u001b[0m\u001b[0;34m(\u001b[0m\u001b[0;34m)\u001b[0m\u001b[0;34m)\u001b[0m\u001b[0;34m+\u001b[0m\u001b[0;36m1\u001b[0m\u001b[0;34m)\u001b[0m\u001b[0;34m]\u001b[0m\u001b[0;34m\u001b[0m\u001b[0m\n",
          "\u001b[0;31mTypeError\u001b[0m: _initFigure() missing 1 required positional argument: 'level'"
         ]
        }
       ]
      }
     },
     "33fe06fda3a3486a8a914977d90c35c9": {
      "model_module": "@jupyter-widgets/controls",
      "model_module_version": "1.1.0",
      "model_name": "DropdownModel",
      "state": {
       "_options_labels": [
        "city",
        "library",
        "Lokalisierung",
        "Datierung",
        "text"
       ],
       "index": 0,
       "layout": "IPY_MODEL_b8266f2ef1ac46e69ee0ab7c3326c063",
       "style": "IPY_MODEL_040088f6fea44c239b3ae450b345c4d1"
      }
     },
     "341165bd25924aa8a7262a3dac21cef4": {
      "model_module": "@jupyter-widgets/output",
      "model_module_version": "1.0.0",
      "model_name": "OutputModel",
      "state": {
       "layout": "IPY_MODEL_eb04ab5acb58457a89c96f141197ab41",
       "outputs": [
        {
         "data": {
          "image/png": "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\n",
          "text/plain": "<Figure size 576x576 with 1 Axes>"
         },
         "metadata": {},
         "output_type": "display_data"
        }
       ]
      }
     },
     "3428425e8c4e42beb1799517ffbd1eee": {
      "model_module": "@jupyter-widgets/controls",
      "model_module_version": "1.1.0",
      "model_name": "HBoxModel",
      "state": {
       "children": [
        "IPY_MODEL_544ff38d1adc40a7a3c0099781debf1a",
        "IPY_MODEL_e08db507866b4127903255cc0bbe5349"
       ],
       "layout": "IPY_MODEL_077ed4eec1914f2bb924550f9cd0b3b3"
      }
     },
     "3432ee2767ef4bc9a21c9cb1dddf4f51": {
      "model_module": "@jupyter-widgets/base",
      "model_module_version": "1.0.0",
      "model_name": "LayoutModel",
      "state": {}
     },
     "351a5a4bca5a4a9db08d0b16d4290388": {
      "model_module": "@jupyter-widgets/base",
      "model_module_version": "1.0.0",
      "model_name": "LayoutModel",
      "state": {}
     },
     "356077e7b5de4395a4033d351478f48a": {
      "model_module": "@jupyter-widgets/base",
      "model_module_version": "1.0.0",
      "model_name": "LayoutModel",
      "state": {}
     },
     "359fa0971cd44825b2b0340268c509cf": {
      "model_module": "@jupyter-widgets/controls",
      "model_module_version": "1.1.0",
      "model_name": "HBoxModel",
      "state": {
       "children": [
        "IPY_MODEL_d8a63a4843244973aaf0293c3ba5dbee",
        "IPY_MODEL_ad6c8658b4674d868ca4ddc524e0104c"
       ],
       "layout": "IPY_MODEL_198c4e27303442e9a912984acacc04e7"
      }
     },
     "35bb9e98235448f28fd3968a8fb3ed8a": {
      "model_module": "@jupyter-widgets/base",
      "model_module_version": "1.0.0",
      "model_name": "LayoutModel",
      "state": {}
     },
     "35bf6feff64445d9a61db24f68160566": {
      "model_module": "@jupyter-widgets/controls",
      "model_module_version": "1.1.0",
      "model_name": "SliderStyleModel",
      "state": {
       "description_width": ""
      }
     },
     "35e54121f5e342838d087395e35a2bdc": {
      "model_module": "@jupyter-widgets/base",
      "model_module_version": "1.0.0",
      "model_name": "LayoutModel",
      "state": {}
     },
     "35ff5173548545eb9e41a0b62fc7036a": {
      "model_module": "@jupyter-widgets/base",
      "model_module_version": "1.0.0",
      "model_name": "LayoutModel",
      "state": {
       "margin": "0 0 0 20px"
      }
     },
     "36242644992140b2bf37fa62ded6636e": {
      "model_module": "@jupyter-widgets/base",
      "model_module_version": "1.0.0",
      "model_name": "LayoutModel",
      "state": {}
     },
     "368d84634c2d431aa26d83ba18f171cb": {
      "model_module": "@jupyter-widgets/base",
      "model_module_version": "1.0.0",
      "model_name": "LayoutModel",
      "state": {
       "flex": "0 1 auto",
       "height": "200px",
       "min_height": "40px",
       "width": "70%"
      }
     },
     "370dacafad6643a2b089952abe0db188": {
      "model_module": "@jupyter-widgets/controls",
      "model_module_version": "1.1.0",
      "model_name": "IntSliderModel",
      "state": {
       "layout": "IPY_MODEL_676b6b82fe9d4784ba9ff930e32dc5e2",
       "max": 0,
       "style": "IPY_MODEL_80f7f5c88bb3410dad4545a7096446de"
      }
     },
     "3724197356654ff0ab98787dfd9de61d": {
      "model_module": "@jupyter-widgets/controls",
      "model_module_version": "1.1.0",
      "model_name": "SliderStyleModel",
      "state": {
       "description_width": ""
      }
     },
     "37330a86c9454fe79fa5495509296834": {
      "model_module": "@jupyter-widgets/controls",
      "model_module_version": "1.1.0",
      "model_name": "DescriptionStyleModel",
      "state": {
       "description_width": ""
      }
     },
     "377e0d950f3246339ac45c664c87809f": {
      "model_module": "@jupyter-widgets/controls",
      "model_module_version": "1.1.0",
      "model_name": "ButtonStyleModel",
      "state": {}
     },
     "37d0393581364facb90fce8acd31be99": {
      "model_module": "@jupyter-widgets/base",
      "model_module_version": "1.0.0",
      "model_name": "LayoutModel",
      "state": {}
     },
     "37da66bc6d054e369cd1b55931fa9b15": {
      "model_module": "@jupyter-widgets/base",
      "model_module_version": "1.0.0",
      "model_name": "LayoutModel",
      "state": {}
     },
     "37f8074176014d1e829935726d0192ff": {
      "model_module": "@jupyter-widgets/controls",
      "model_module_version": "1.1.0",
      "model_name": "ButtonStyleModel",
      "state": {}
     },
     "38b43d3a51754123add54db97d6abd9f": {
      "model_module": "@jupyter-widgets/base",
      "model_module_version": "1.0.0",
      "model_name": "LayoutModel",
      "state": {}
     },
     "38e206c6174346d78da0f5bf18080d6b": {
      "model_module": "@jupyter-widgets/base",
      "model_module_version": "1.0.0",
      "model_name": "LayoutModel",
      "state": {}
     },
     "3913f25ddf544004a89a950a5258996e": {
      "model_module": "@jupyter-widgets/controls",
      "model_module_version": "1.1.0",
      "model_name": "ButtonStyleModel",
      "state": {}
     },
     "397a8ce6b96f4241a25a750c10807571": {
      "model_module": "@jupyter-widgets/controls",
      "model_module_version": "1.1.0",
      "model_name": "AccordionModel",
      "state": {
       "_titles": {
        "0": "Enter search term"
       },
       "children": [
        "IPY_MODEL_01571ac43c8d4655a734c843abf28cce"
       ],
       "layout": "IPY_MODEL_f7ad019e56184fe4a63b590954f144bd"
      }
     },
     "3984b3fbfea143178121beb15cbe2ae2": {
      "model_module": "@jupyter-widgets/controls",
      "model_module_version": "1.1.0",
      "model_name": "SliderStyleModel",
      "state": {
       "description_width": ""
      }
     },
     "3a14fdc70e76445b865be93aba1374ad": {
      "model_module": "@jupyter-widgets/base",
      "model_module_version": "1.0.0",
      "model_name": "LayoutModel",
      "state": {}
     },
     "3a42f0bb4e9e4e5293fe8dd8122eb7e6": {
      "model_module": "@jupyter-widgets/controls",
      "model_module_version": "1.1.0",
      "model_name": "ButtonModel",
      "state": {
       "button_style": "danger",
       "description": "Search",
       "layout": "IPY_MODEL_de26dcc519e04d849f43970dbe046ee4",
       "style": "IPY_MODEL_bd3879d1d1e341efa9218243a51c0d81"
      }
     },
     "3a73a24303d043649600471642b1dc1e": {
      "model_module": "@jupyter-widgets/controls",
      "model_module_version": "1.1.0",
      "model_name": "ButtonStyleModel",
      "state": {}
     },
     "3a936d5d5cae40b78a0dce2592bfea2b": {
      "model_module": "@jupyter-widgets/controls",
      "model_module_version": "1.1.0",
      "model_name": "TextareaModel",
      "state": {
       "layout": "IPY_MODEL_ee9104c5303846ae98beb40899ea7c02",
       "placeholder": "Sentence",
       "style": "IPY_MODEL_0df75200eb9d40c196df8443e2dd9c51",
       "value": "Cod. Wings 1. IV Evangelia. I + 333 + I Bl. (Ordnung z.T. verwirrt); 23,5x16,8 cm (14,3x9,7 cm); 17 Z. 2r-319r: St. Galler Kalligr. mehrerer Hde. 7r-12r Kanontafeln. Init. z.T. mit Gold- u. Silber-füllung; 14v Purpurband. 319v-333r Capit, ev. (s. X2). Lit.: Merton2, S. 49; Landsberger, Abb. 9c, 10a; Ausst. Suevia Sacra, Nr. 156, Abb. 145; Aachener Kunstblätter 45 (1974), S. 350f. m. Abb. - St. Gallen, IX. Jh., 3. Drittel- "
      }
     },
     "3acb25cfbb4a4f7f894c9223a406f4e4": {
      "model_module": "@jupyter-widgets/controls",
      "model_module_version": "1.1.0",
      "model_name": "HBoxModel",
      "state": {
       "children": [
        "IPY_MODEL_abecb32394d54bd7b8a7aeffb851ecfd",
        "IPY_MODEL_ded455ff520f4a58af79140700f684b3",
        "IPY_MODEL_eff0c426849d408aa9e5da953cc5c7c5"
       ],
       "layout": "IPY_MODEL_28fe1d7bcb32448d898d05720295f256"
      }
     },
     "3afc53d85af642b4aab744487eb7ab81": {
      "model_module": "@jupyter-widgets/controls",
      "model_module_version": "1.1.0",
      "model_name": "DescriptionStyleModel",
      "state": {
       "description_width": ""
      }
     },
     "3b3b8632ce894b37a5b173b8a552f2d2": {
      "model_module": "@jupyter-widgets/base",
      "model_module_version": "1.0.0",
      "model_name": "LayoutModel",
      "state": {}
     },
     "3b5bb83a8f134326a046275b1238b0d6": {
      "model_module": "@jupyter-widgets/controls",
      "model_module_version": "1.1.0",
      "model_name": "ToggleButtonsModel",
      "state": {
       "_options_labels": [
        "more",
        "less"
       ],
       "button_style": "",
       "icons": [],
       "index": 0,
       "layout": "IPY_MODEL_75badd55758c4cc6bddaa75bfb937e98",
       "style": "IPY_MODEL_85d4cff49dd845a09c86c8e7fcf31a1b",
       "tooltips": []
      }
     },
     "3ba506873afb422fa7844c2a48ff7bd3": {
      "model_module": "@jupyter-widgets/base",
      "model_module_version": "1.0.0",
      "model_name": "LayoutModel",
      "state": {}
     },
     "3bb6d6af86464c81b996c6611036ea91": {
      "model_module": "@jupyter-widgets/controls",
      "model_module_version": "1.1.0",
      "model_name": "DescriptionStyleModel",
      "state": {
       "description_width": ""
      }
     },
     "3bc551ddb5a4422c987d61e0663c3747": {
      "model_module": "@jupyter-widgets/controls",
      "model_module_version": "1.1.0",
      "model_name": "ButtonModel",
      "state": {
       "description": "Plot on",
       "layout": "IPY_MODEL_20a1b0a3ea814df9b2eb05b94a8caea2",
       "style": "IPY_MODEL_e5373e8689b046f08b9d321ed1466244"
      }
     },
     "3bf4ef5531b1473b876e7c9caa5e5130": {
      "model_module": "@jupyter-widgets/base",
      "model_module_version": "1.0.0",
      "model_name": "LayoutModel",
      "state": {}
     },
     "3c170851b8544025a3cffbb46f9f2911": {
      "model_module": "@jupyter-widgets/base",
      "model_module_version": "1.0.0",
      "model_name": "LayoutModel",
      "state": {
       "flex": "0 1 auto",
       "height": "200px",
       "min_height": "40px",
       "width": "70%"
      }
     },
     "3ca09ea53bac4ec99626f6f10459be81": {
      "model_module": "@jupyter-widgets/controls",
      "model_module_version": "1.1.0",
      "model_name": "ButtonModel",
      "state": {
       "button_style": "danger",
       "description": "Search",
       "layout": "IPY_MODEL_3308a94d5ece413d8e47a04569400b38",
       "style": "IPY_MODEL_83502157fad540df889d877a00c38c94"
      }
     },
     "3cf5bcc9e8c043e8b948c000f899dbb1": {
      "model_module": "@jupyter-widgets/controls",
      "model_module_version": "1.1.0",
      "model_name": "ToggleButtonsModel",
      "state": {
       "_options_labels": [
        "more",
        "less"
       ],
       "button_style": "",
       "icons": [],
       "index": 0,
       "layout": "IPY_MODEL_d193eae5a44242aeb58be3366a06b82e",
       "style": "IPY_MODEL_c84190a0457c4114be76fdaa6d30ae08",
       "tooltips": []
      }
     },
     "3cfa5dd814db48ff95eaff06c82ffff1": {
      "model_module": "@jupyter-widgets/base",
      "model_module_version": "1.0.0",
      "model_name": "LayoutModel",
      "state": {
       "flex": "0 1 auto",
       "height": "200px",
       "min_height": "40px",
       "width": "30%"
      }
     },
     "3d631351800e4945bb4f0d1bf2869f93": {
      "model_module": "@jupyter-widgets/controls",
      "model_module_version": "1.1.0",
      "model_name": "SliderStyleModel",
      "state": {
       "description_width": ""
      }
     },
     "3ea18022bba54b3cb37ee24652aeeb0e": {
      "model_module": "@jupyter-widgets/controls",
      "model_module_version": "1.1.0",
      "model_name": "DescriptionStyleModel",
      "state": {
       "description_width": ""
      }
     },
     "3eca935fca124cb48ca7abf40ca1aaf0": {
      "model_module": "@jupyter-widgets/base",
      "model_module_version": "1.0.0",
      "model_name": "LayoutModel",
      "state": {}
     },
     "3f3da525a3e742aba66513ef2c5d33d8": {
      "model_module": "@jupyter-widgets/controls",
      "model_module_version": "1.1.0",
      "model_name": "HBoxModel",
      "state": {
       "children": [
        "IPY_MODEL_cc430cc24cd24e448340642567e1dc2f",
        "IPY_MODEL_ae8b59cbf0cb4d28abe25929e25373d1"
       ],
       "layout": "IPY_MODEL_d1db4ba0ea1c480a9c2b34d33e3e4a03"
      }
     },
     "3f3f0d42e53d4a2cb332d7a1daa7fdb5": {
      "model_module": "@jupyter-widgets/controls",
      "model_module_version": "1.1.0",
      "model_name": "TextareaModel",
      "state": {
       "layout": "IPY_MODEL_4ee3162c9f6a443fab013ab4aeac3820",
       "placeholder": "Result",
       "style": "IPY_MODEL_5d87cd0ef4694df1a5307eb2ca4b2fb3",
       "value": "Result 0\ncity: AACHEN\nlibrary: Domschatzkammer\nmanuID: 1\nLiteratur: Lit. Koehler 3, S. 53 („spätestens 814 o. sogar 810“), 72-80, Taf. 28-36; Aussi. Karl d. Gr., Nr. 421; Ma. Studien 3, S. 179; Nordenfalk, Kanontafeln, S. 195ff, 274f., Taf. 162, 163.\nLokalisierung: Karolingisches Hofatelier\nDatierung: Zeit Ludwigs des Frommen (spätestens 830)\nlatitude: nan\nlongitude: nan"
      }
     },
     "3f749c9b34a34721ae33904081046fa1": {
      "model_module": "@jupyter-widgets/controls",
      "model_module_version": "1.1.0",
      "model_name": "ButtonModel",
      "state": {
       "button_style": "danger",
       "description": "Search",
       "layout": "IPY_MODEL_16f3f577af03420691858b06b071a894",
       "style": "IPY_MODEL_fc5abdbe894243e59643f1eb1c0968d0"
      }
     },
     "3f8fb962f74343af89de4ba5534ddf1e": {
      "model_module": "@jupyter-widgets/controls",
      "model_module_version": "1.1.0",
      "model_name": "ButtonModel",
      "state": {
       "button_style": "danger",
       "description": "Search",
       "layout": "IPY_MODEL_13d3e1b6896a44899d2604722a2ef7df",
       "style": "IPY_MODEL_3913f25ddf544004a89a950a5258996e"
      }
     },
     "3fb4ce0b7b8a40eaacc02e1bb76b4c46": {
      "model_module": "@jupyter-widgets/controls",
      "model_module_version": "1.1.0",
      "model_name": "TextareaModel",
      "state": {
       "layout": "IPY_MODEL_0bd12b521cdd436285276008dd9687f2",
       "placeholder": "Result",
       "style": "IPY_MODEL_2e2ce8fbe674462c8bbce53dcd9860f7",
       "value": "Result 0\nvolume: Band_1\npart: Einleitung\npage: 1\nparagraph: 3\nsentence: 1"
      }
     },
     "3fde3b0addb44f599391a027fec326f9": {
      "model_module": "@jupyter-widgets/controls",
      "model_module_version": "1.1.0",
      "model_name": "AccordionModel",
      "state": {
       "_titles": {
        "0": "Enter search term"
       },
       "children": [
        "IPY_MODEL_4a85cd3c379e4e0e9ebc8b197cb6d76e"
       ],
       "layout": "IPY_MODEL_e64f1d7445374e479c7b21aafe7818a1"
      }
     },
     "404053fb52db47c0aaf1f2e52a74dffb": {
      "model_module": "@jupyter-widgets/controls",
      "model_module_version": "1.1.0",
      "model_name": "HBoxModel",
      "state": {
       "children": [
        "IPY_MODEL_6250810ad1ad4449a0fb12313c22134f"
       ],
       "layout": "IPY_MODEL_42db8bee3e46460cafe6f814078e0ce9"
      }
     },
     "40dcc715460b4afb954f05e8d9ad60be": {
      "model_module": "@jupyter-widgets/controls",
      "model_module_version": "1.1.0",
      "model_name": "TextareaModel",
      "state": {
       "layout": "IPY_MODEL_7885ad1930ad42249ccc3cdcf5889b1d",
       "placeholder": "Result",
       "style": "IPY_MODEL_3afc53d85af642b4aab744487eb7ab81",
       "value": "Result 0\ncity: AACHEN\nlibrary: Öffentliche Bibliothek\nmanuID: 2\nLiteratur: Lit. Merton2, S. 49; Landsberger, Abb. 9c, 10a; Ausst. Suevia Sacra, Nr. 156, Abb. 145; Aachener Kunstblätter 45 (1974), S. 350f. m. Abb.\nLokalisierung: St. Gallen\nDatierung: IX. Jh., 3. Drittel\nlatitude: 47.42391\nlongitude: 9.37477"
      }
     },
     "4114bc2fdd8040c2a21358aed7d229c4": {
      "model_module": "@jupyter-widgets/base",
      "model_module_version": "1.0.0",
      "model_name": "LayoutModel",
      "state": {}
     },
     "411b86a8323141f9892371a6b9b3a4c9": {
      "model_module": "@jupyter-widgets/base",
      "model_module_version": "1.0.0",
      "model_name": "LayoutModel",
      "state": {}
     },
     "4125a5694c1a4c0db8f5738eaaebe53a": {
      "model_module": "@jupyter-widgets/base",
      "model_module_version": "1.0.0",
      "model_name": "LayoutModel",
      "state": {}
     },
     "4167c642b9654df5bac256ba98aa51dc": {
      "model_module": "@jupyter-widgets/base",
      "model_module_version": "1.0.0",
      "model_name": "LayoutModel",
      "state": {}
     },
     "41701bed82b144a2b094675106f06190": {
      "model_module": "@jupyter-widgets/output",
      "model_module_version": "1.0.0",
      "model_name": "OutputModel",
      "state": {
       "layout": "IPY_MODEL_cd3c259a6c0c4150ac81c3498b4e4837",
       "outputs": [
        {
         "ename": "NameError",
         "evalue": "name 'key' is not defined",
         "output_type": "error",
         "traceback": [
          "\u001b[0;31m---------------------------------------------------------------------------\u001b[0m",
          "\u001b[0;31mNameError\u001b[0m                                 Traceback (most recent call last)",
          "\u001b[0;32m~/Dokumente/packages/corpussearch/env/local/lib/python3.6/site-packages/corpussearch/vis.py\u001b[0m in \u001b[0;36m_plotFunction\u001b[0;34m(self, widget, content, buffers)\u001b[0m\n\u001b[1;32m    124\u001b[0m             \u001b[0;31m#for key, value in self.plotDict.items():\u001b[0m\u001b[0;34m\u001b[0m\u001b[0;34m\u001b[0m\u001b[0m\n\u001b[1;32m    125\u001b[0m             \u001b[0;31m#radii = [xo for xo in [x/maxVal for x in value[0]]]\u001b[0m\u001b[0;34m\u001b[0m\u001b[0;34m\u001b[0m\u001b[0m\n\u001b[0;32m--> 126\u001b[0;31m             \u001b[0max\u001b[0m\u001b[0;34m.\u001b[0m\u001b[0mbar\u001b[0m\u001b[0;34m(\u001b[0m\u001b[0mx\u001b[0m\u001b[0;34m,\u001b[0m \u001b[0my\u001b[0m\u001b[0;34m,\u001b[0m \u001b[0mwidth\u001b[0m\u001b[0;34m=\u001b[0m\u001b[0;36m0.3\u001b[0m\u001b[0;34m,\u001b[0m \u001b[0malpha\u001b[0m\u001b[0;34m=\u001b[0m\u001b[0;36m0.3\u001b[0m\u001b[0;34m,\u001b[0m \u001b[0mlabel\u001b[0m\u001b[0;34m=\u001b[0m\u001b[0mkey\u001b[0m\u001b[0;34m)\u001b[0m\u001b[0;34m\u001b[0m\u001b[0m\n\u001b[0m\u001b[1;32m    127\u001b[0m \u001b[0;34m\u001b[0m\u001b[0m\n\u001b[1;32m    128\u001b[0m             \u001b[0max\u001b[0m\u001b[0;34m.\u001b[0m\u001b[0mlegend\u001b[0m\u001b[0;34m(\u001b[0m\u001b[0;34m)\u001b[0m\u001b[0;34m\u001b[0m\u001b[0m\n",
          "\u001b[0;31mNameError\u001b[0m: name 'key' is not defined"
         ]
        }
       ]
      }
     },
     "419552f2ef4443e5b809bff34786b04d": {
      "model_module": "@jupyter-widgets/controls",
      "model_module_version": "1.1.0",
      "model_name": "ButtonStyleModel",
      "state": {}
     },
     "41ab8335441e4714b2651f9d178d9d63": {
      "model_module": "@jupyter-widgets/base",
      "model_module_version": "1.0.0",
      "model_name": "LayoutModel",
      "state": {}
     },
     "41c5b02952ba4fe49adebfd9a61cc6fb": {
      "model_module": "@jupyter-widgets/controls",
      "model_module_version": "1.1.0",
      "model_name": "ToggleButtonsStyleModel",
      "state": {
       "button_width": "",
       "description_width": ""
      }
     },
     "42cb1ce769594d4583aeb4521b9b3a44": {
      "model_module": "@jupyter-widgets/base",
      "model_module_version": "1.0.0",
      "model_name": "LayoutModel",
      "state": {}
     },
     "42d100ab2adc4898aa862c4b30d7fdf5": {
      "model_module": "@jupyter-widgets/controls",
      "model_module_version": "1.1.0",
      "model_name": "ToggleButtonsStyleModel",
      "state": {
       "button_width": "",
       "description_width": ""
      }
     },
     "42db8bee3e46460cafe6f814078e0ce9": {
      "model_module": "@jupyter-widgets/base",
      "model_module_version": "1.0.0",
      "model_name": "LayoutModel",
      "state": {}
     },
     "42f4b3507a884e9ba21bcff7b00c66e8": {
      "model_module": "@jupyter-widgets/controls",
      "model_module_version": "1.1.0",
      "model_name": "SliderStyleModel",
      "state": {
       "description_width": ""
      }
     },
     "42f4e4fc8e4647a38e26a0df8bbef477": {
      "model_module": "@jupyter-widgets/base",
      "model_module_version": "1.0.0",
      "model_name": "LayoutModel",
      "state": {}
     },
     "4330a26df77e405faa4993f590372546": {
      "model_module": "@jupyter-widgets/base",
      "model_module_version": "1.0.0",
      "model_name": "LayoutModel",
      "state": {}
     },
     "433506e4db02480ba42808f06d01c887": {
      "model_module": "@jupyter-widgets/base",
      "model_module_version": "1.0.0",
      "model_name": "LayoutModel",
      "state": {}
     },
     "438d524c31464d22b38c29fa8f498f1f": {
      "model_module": "@jupyter-widgets/controls",
      "model_module_version": "1.1.0",
      "model_name": "ButtonModel",
      "state": {
       "description": "Plot on",
       "layout": "IPY_MODEL_dc5b973175344886be5875762aa7ecf7",
       "style": "IPY_MODEL_1b046b317eb244ab83ab934247a2f823"
      }
     },
     "439cd569ef7c47ca9800a4f109353f89": {
      "model_module": "@jupyter-widgets/controls",
      "model_module_version": "1.1.0",
      "model_name": "IntSliderModel",
      "state": {
       "layout": "IPY_MODEL_466aff9595ab446a98e2e191a62ddc95",
       "max": 0,
       "style": "IPY_MODEL_d3d8a39bfcdf4fe1b915116c344cd228"
      }
     },
     "43b2659423d44ec0880f9e9646f136b4": {
      "model_module": "@jupyter-widgets/controls",
      "model_module_version": "1.1.0",
      "model_name": "DropdownModel",
      "state": {
       "_options_labels": [
        "city",
        "library",
        "Lokalisierung",
        "Datierung",
        "text"
       ],
       "index": 0,
       "layout": "IPY_MODEL_d95bccc7b12640cb962cabf5333b2e08",
       "style": "IPY_MODEL_e6903a267ed64d0bbff991210f0ccb00"
      }
     },
     "43e56dbb14924f4391402886f5854c21": {
      "model_module": "@jupyter-widgets/base",
      "model_module_version": "1.0.0",
      "model_name": "LayoutModel",
      "state": {
       "margin": "0 0 0 20px"
      }
     },
     "441bdb8c976447b49899b164a209da80": {
      "model_module": "@jupyter-widgets/controls",
      "model_module_version": "1.1.0",
      "model_name": "HBoxModel",
      "state": {
       "children": [
        "IPY_MODEL_83e08707b07d44aba944727a08da7c6e"
       ],
       "layout": "IPY_MODEL_9a5245d475ee495f8a813ce2eeb0a797"
      }
     },
     "4450d6a07137490fb27724a25036f149": {
      "model_module": "@jupyter-widgets/base",
      "model_module_version": "1.0.0",
      "model_name": "LayoutModel",
      "state": {}
     },
     "44e7b643a09b4f09a1bcc1f7f0566439": {
      "model_module": "@jupyter-widgets/controls",
      "model_module_version": "1.1.0",
      "model_name": "IntSliderModel",
      "state": {
       "layout": "IPY_MODEL_a6999938e04f42409df63b3ad2f9fb94",
       "max": 0,
       "style": "IPY_MODEL_16c6fcbb27304f8e8aceabde47b97abe"
      }
     },
     "44fec84391fc4a52a8be8cb8c993932c": {
      "model_module": "@jupyter-widgets/controls",
      "model_module_version": "1.1.0",
      "model_name": "DescriptionStyleModel",
      "state": {
       "description_width": ""
      }
     },
     "4546bddfa6c347b292f698582eb9d989": {
      "model_module": "@jupyter-widgets/controls",
      "model_module_version": "1.1.0",
      "model_name": "TextareaModel",
      "state": {
       "layout": "IPY_MODEL_1d1e806f02564ce0b45fa01d9ef88a91",
       "placeholder": "Result",
       "style": "IPY_MODEL_fe257e3200304293a5e16c857dc30e37",
       "value": "Result 0\ncity: AACHEN\nlibrary: Öffentliche Bibliothek\nmanuID: 2\nLiteratur: Lit. Merton2, S. 49; Landsberger, Abb. 9c, 10a; Ausst. Suevia Sacra, Nr. 156, Abb. 145; Aachener Kunstblätter 45 (1974), S. 350f. m. Abb.\nLokalisierung: St. Gallen\nDatierung: IX. Jh., 3. Drittel\nlatitude: 47.42391\nlongitude: 9.37477"
      }
     },
     "45749d47f5de4eedaa09edac5514806d": {
      "model_module": "@jupyter-widgets/controls",
      "model_module_version": "1.1.0",
      "model_name": "ButtonModel",
      "state": {
       "button_style": "danger",
       "description": "Search",
       "layout": "IPY_MODEL_211c1530dfbf47f3aa9a6a638d2d37f3",
       "style": "IPY_MODEL_72caa19cdd5a496b8d73f94dc8c94bac"
      }
     },
     "4595530d01e14e30bf11dce5b65fc849": {
      "model_module": "@jupyter-widgets/base",
      "model_module_version": "1.0.0",
      "model_name": "LayoutModel",
      "state": {}
     },
     "460f8633cebe4de19692101541d4dbd3": {
      "model_module": "@jupyter-widgets/base",
      "model_module_version": "1.0.0",
      "model_name": "LayoutModel",
      "state": {
       "margin": "0 0 0 20px"
      }
     },
     "4636b415a7624faf8bed4e138b27528a": {
      "model_module": "@jupyter-widgets/base",
      "model_module_version": "1.0.0",
      "model_name": "LayoutModel",
      "state": {}
     },
     "466aff9595ab446a98e2e191a62ddc95": {
      "model_module": "@jupyter-widgets/base",
      "model_module_version": "1.0.0",
      "model_name": "LayoutModel",
      "state": {}
     },
     "469a99deb1df461aabbb18e72a9df195": {
      "model_module": "@jupyter-widgets/controls",
      "model_module_version": "1.1.0",
      "model_name": "ButtonStyleModel",
      "state": {}
     },
     "46c88ebb41e2477d84559799f1baa38b": {
      "model_module": "@jupyter-widgets/controls",
      "model_module_version": "1.1.0",
      "model_name": "DescriptionStyleModel",
      "state": {
       "description_width": ""
      }
     },
     "46cb0e30835a497e86560aad3e23276f": {
      "model_module": "@jupyter-widgets/base",
      "model_module_version": "1.0.0",
      "model_name": "LayoutModel",
      "state": {}
     },
     "46eaed9418bd4fc397a9aca02b0d35ed": {
      "model_module": "@jupyter-widgets/base",
      "model_module_version": "1.0.0",
      "model_name": "LayoutModel",
      "state": {}
     },
     "4736749dee844ea5af15233351fdd197": {
      "model_module": "@jupyter-widgets/base",
      "model_module_version": "1.0.0",
      "model_name": "LayoutModel",
      "state": {}
     },
     "47916bc36e994e62a47c179f7d4828f6": {
      "model_module": "@jupyter-widgets/output",
      "model_module_version": "1.0.0",
      "model_name": "OutputModel",
      "state": {
       "layout": "IPY_MODEL_5fe2dca79ae04194b7c922d4a77bfdc3",
       "outputs": [
        {
         "name": "stdout",
         "output_type": "stream",
         "text": "Found 15 entries.\n"
        }
       ]
      }
     },
     "47b74668700d49009746b0ac6e34f598": {
      "model_module": "@jupyter-widgets/controls",
      "model_module_version": "1.1.0",
      "model_name": "SliderStyleModel",
      "state": {
       "description_width": ""
      }
     },
     "47d3943d2fd4461683742203ebfc2659": {
      "model_module": "@jupyter-widgets/base",
      "model_module_version": "1.0.0",
      "model_name": "LayoutModel",
      "state": {}
     },
     "48a2ad69410742ca995e30ad00c121c7": {
      "model_module": "@jupyter-widgets/controls",
      "model_module_version": "1.1.0",
      "model_name": "VBoxModel",
      "state": {
       "children": [
        "IPY_MODEL_14d70b041ea84ec2b8c1ac8a30dd119b",
        "IPY_MODEL_76821cf85e3145458b65a82a4fbfbad8",
        "IPY_MODEL_66f58f77fecf4436a19f5dc817b70d34",
        "IPY_MODEL_237d107b90e24046a7f6473a6faf6ac6",
        "IPY_MODEL_aa98e820acda48df8b5834fd04efc055",
        "IPY_MODEL_799c3bf852484abda10959be36cf358d"
       ],
       "layout": "IPY_MODEL_c31595e5ba804a14a6109e4160592c79"
      }
     },
     "48a4a49a83884fa7bde2f9b8e07d0c5d": {
      "model_module": "@jupyter-widgets/controls",
      "model_module_version": "1.1.0",
      "model_name": "HBoxModel",
      "state": {
       "children": [
        "IPY_MODEL_21b5ebfaeaae468aab81a389f7b7680c",
        "IPY_MODEL_8f9fe33a79f94207bfd3733c0c93a67a"
       ],
       "layout": "IPY_MODEL_caedc5c9e1f540d89a5e38a23fd5047c"
      }
     },
     "48b4f01d677d4d17ae20f75a25a44e07": {
      "model_module": "@jupyter-widgets/controls",
      "model_module_version": "1.1.0",
      "model_name": "TextareaModel",
      "state": {
       "layout": "IPY_MODEL_cc3238ac57fd4334945fbb31a3db3eaf",
       "placeholder": "Result",
       "style": "IPY_MODEL_c950e845dc4b4e5faf1f3ba76d7cda36",
       "value": "Result 0\ncity: AACHEN\nlibrary: Öffentliche Bibliothek\nmanuID: 2\nLiteratur: Lit. Merton2, S. 49; Landsberger, Abb. 9c, 10a; Ausst. Suevia Sacra, Nr. 156, Abb. 145; Aachener Kunstblätter 45 (1974), S. 350f. m. Abb.\nLokalisierung: St. Gallen\nDatierung: IX. Jh., 3. Drittel\nlatitude: 47.42391\nlongitude: 9.37477"
      }
     },
     "48ce9b603be04aaba4677ab82337d00a": {
      "model_module": "@jupyter-widgets/base",
      "model_module_version": "1.0.0",
      "model_name": "LayoutModel",
      "state": {}
     },
     "48df893c3eaa478fbbccd5684933a1a3": {
      "model_module": "@jupyter-widgets/controls",
      "model_module_version": "1.1.0",
      "model_name": "ToggleButtonsModel",
      "state": {
       "_options_labels": [
        "more",
        "less"
       ],
       "button_style": "",
       "icons": [],
       "index": 0,
       "layout": "IPY_MODEL_c8624e2b3fc64a16bb92f7571b2ee9d7",
       "style": "IPY_MODEL_9fde476d7b534dbf9f6149c53cec81a5",
       "tooltips": []
      }
     },
     "4918b7c24fd34d0782115dfb9764940c": {
      "model_module": "@jupyter-widgets/controls",
      "model_module_version": "1.1.0",
      "model_name": "IntSliderModel",
      "state": {
       "layout": "IPY_MODEL_d54d8bdda407407db8f53439aef8c4fb",
       "max": 0,
       "style": "IPY_MODEL_4cb3a2d06b08410d8f8884584c959bb0"
      }
     },
     "49e74bf4165d41888bc119bc3b58864b": {
      "model_module": "@jupyter-widgets/controls",
      "model_module_version": "1.1.0",
      "model_name": "IntSliderModel",
      "state": {
       "layout": "IPY_MODEL_ce69f16c7d7843d0adc54dc9c6aed69e",
       "max": 0,
       "style": "IPY_MODEL_ee8686b82733466992cefa3191cb3db0"
      }
     },
     "4a1ccac3073c4ec0b0dc0151958e4a66": {
      "model_module": "@jupyter-widgets/controls",
      "model_module_version": "1.1.0",
      "model_name": "DescriptionStyleModel",
      "state": {
       "description_width": ""
      }
     },
     "4a35c318420e4c36a7b6191919108762": {
      "model_module": "@jupyter-widgets/base",
      "model_module_version": "1.0.0",
      "model_name": "LayoutModel",
      "state": {}
     },
     "4a49505b9ac5496e8316061e73ed40f4": {
      "model_module": "@jupyter-widgets/base",
      "model_module_version": "1.0.0",
      "model_name": "LayoutModel",
      "state": {}
     },
     "4a6867c0ff6f4687b5bf3dbb2600555e": {
      "model_module": "@jupyter-widgets/controls",
      "model_module_version": "1.1.0",
      "model_name": "ToggleButtonsStyleModel",
      "state": {
       "button_width": "",
       "description_width": ""
      }
     },
     "4a85cd3c379e4e0e9ebc8b197cb6d76e": {
      "model_module": "@jupyter-widgets/controls",
      "model_module_version": "1.1.0",
      "model_name": "HBoxModel",
      "state": {
       "children": [
        "IPY_MODEL_bec8db14aa7d44a0822497723019c552",
        "IPY_MODEL_4be2668f63924f32b5a12a2db4e202b0"
       ],
       "layout": "IPY_MODEL_e199705ab54249ffac97ef41d5ed04b2"
      }
     },
     "4a8936b469c5459082a046c711ce842c": {
      "model_module": "@jupyter-widgets/controls",
      "model_module_version": "1.1.0",
      "model_name": "TextModel",
      "state": {
       "description": "Search for:",
       "layout": "IPY_MODEL_da2e0d0e80234973bd59872799f69634",
       "placeholder": "term",
       "style": "IPY_MODEL_cb936df3ffe2475186e30d4df65f9a83",
       "value": "Aachen"
      }
     },
     "4a96524c2c9848e085571d93b3844e96": {
      "model_module": "@jupyter-widgets/controls",
      "model_module_version": "1.1.0",
      "model_name": "SliderStyleModel",
      "state": {
       "description_width": ""
      }
     },
     "4ab0f0fb2d3140dcbad67d2e018b2f8e": {
      "model_module": "@jupyter-widgets/controls",
      "model_module_version": "1.1.0",
      "model_name": "DescriptionStyleModel",
      "state": {
       "description_width": ""
      }
     },
     "4ac3c307528a42828f845168f32ff993": {
      "model_module": "@jupyter-widgets/controls",
      "model_module_version": "1.1.0",
      "model_name": "SliderStyleModel",
      "state": {
       "description_width": ""
      }
     },
     "4adf46b6d1c84b909daca6d405cdafbe": {
      "model_module": "@jupyter-widgets/controls",
      "model_module_version": "1.1.0",
      "model_name": "ToggleButtonsStyleModel",
      "state": {
       "button_width": "",
       "description_width": ""
      }
     },
     "4ae346edb2f146c286649832fc8c405b": {
      "model_module": "@jupyter-widgets/base",
      "model_module_version": "1.0.0",
      "model_name": "LayoutModel",
      "state": {}
     },
     "4b398d54235b4d91bf7e7e30511f6652": {
      "model_module": "@jupyter-widgets/base",
      "model_module_version": "1.0.0",
      "model_name": "LayoutModel",
      "state": {}
     },
     "4b52dd8e4e864ee1a17b08fad17ac763": {
      "model_module": "@jupyter-widgets/controls",
      "model_module_version": "1.1.0",
      "model_name": "HBoxModel",
      "state": {
       "children": [
        "IPY_MODEL_571e3055768f4eda8ca77743e9e4c7fc",
        "IPY_MODEL_5ec6afafc3164fcb8f145ec6b6f686e5",
        "IPY_MODEL_c00202b1faeb46fbbe493fd8c04e1edc"
       ],
       "layout": "IPY_MODEL_c257d52ebb6b45a1b9c06eac9d1df1b4"
      }
     },
     "4b66d6a01e4640e3a2a60a37ccbb031e": {
      "model_module": "@jupyter-widgets/controls",
      "model_module_version": "1.1.0",
      "model_name": "HBoxModel",
      "state": {
       "children": [
        "IPY_MODEL_b68859a2a5664a8b96c9a1ba931e520f",
        "IPY_MODEL_2de4ef311aaf4a3087e30191a3d303aa"
       ],
       "layout": "IPY_MODEL_690c0e0d9bce43ae8f79218f44bd98fc"
      }
     },
     "4be2668f63924f32b5a12a2db4e202b0": {
      "model_module": "@jupyter-widgets/controls",
      "model_module_version": "1.1.0",
      "model_name": "DropdownModel",
      "state": {
       "_options_labels": [
        "city",
        "library",
        "Lokalisierung",
        "Datierung",
        "text"
       ],
       "description": "Search in:",
       "index": 4,
       "layout": "IPY_MODEL_332ca996d7884574877299ba7712251e",
       "style": "IPY_MODEL_281d555194f94c19b6c230e7f6ca82e1"
      }
     },
     "4c62d223d95f47fc8d260228e2db9f05": {
      "model_module": "@jupyter-widgets/controls",
      "model_module_version": "1.1.0",
      "model_name": "ButtonModel",
      "state": {
       "description": "Reset plot",
       "layout": "IPY_MODEL_966f949e4437487382c5808eee005712",
       "style": "IPY_MODEL_377e0d950f3246339ac45c664c87809f"
      }
     },
     "4cb3a2d06b08410d8f8884584c959bb0": {
      "model_module": "@jupyter-widgets/controls",
      "model_module_version": "1.1.0",
      "model_name": "SliderStyleModel",
      "state": {
       "description_width": ""
      }
     },
     "4cce41384ddc40b5b6cb8544e05ce441": {
      "model_module": "@jupyter-widgets/controls",
      "model_module_version": "1.1.0",
      "model_name": "DropdownModel",
      "state": {
       "_options_labels": [
        "volume",
        "part",
        "text"
       ],
       "description": "Search in:",
       "index": 2,
       "layout": "IPY_MODEL_23385ae68fe746e89886f238b0000195",
       "style": "IPY_MODEL_bb8e8c05e3f0496781fec392804d2ed3"
      }
     },
     "4d0cbfe1901548459e086f99510a4952": {
      "model_module": "@jupyter-widgets/controls",
      "model_module_version": "1.1.0",
      "model_name": "DropdownModel",
      "state": {
       "_options_labels": [
        "city",
        "library",
        "Lokalisierung",
        "Datierung",
        "text"
       ],
       "description": "Search in:",
       "index": 4,
       "layout": "IPY_MODEL_90e5f181fcf744efa3760d535c6a6537",
       "style": "IPY_MODEL_79a2f7548fc7414e990ad5580907d393"
      }
     },
     "4d564aad83834d83aae2cd7393dda4dc": {
      "model_module": "@jupyter-widgets/controls",
      "model_module_version": "1.1.0",
      "model_name": "DescriptionStyleModel",
      "state": {
       "description_width": ""
      }
     },
     "4d5d68bf55e948c59a01b12f0bfa4972": {
      "model_module": "@jupyter-widgets/base",
      "model_module_version": "1.0.0",
      "model_name": "LayoutModel",
      "state": {}
     },
     "4d8a7ea6ab2f4b1eac49cafb79fc06b1": {
      "model_module": "@jupyter-widgets/controls",
      "model_module_version": "1.1.0",
      "model_name": "DescriptionStyleModel",
      "state": {
       "description_width": ""
      }
     },
     "4dce68a473b246d78313633b8cfc52f6": {
      "model_module": "@jupyter-widgets/base",
      "model_module_version": "1.0.0",
      "model_name": "LayoutModel",
      "state": {}
     },
     "4dd3dc0058cb4b99afb2d3f3aeab9105": {
      "model_module": "@jupyter-widgets/controls",
      "model_module_version": "1.1.0",
      "model_name": "SliderStyleModel",
      "state": {
       "description_width": ""
      }
     },
     "4ddfb9945dca4dfaae5a2d5b46a225a9": {
      "model_module": "@jupyter-widgets/controls",
      "model_module_version": "1.1.0",
      "model_name": "DescriptionStyleModel",
      "state": {
       "description_width": ""
      }
     },
     "4dfbf08effaf4f22a5068c451e42070a": {
      "model_module": "@jupyter-widgets/controls",
      "model_module_version": "1.1.0",
      "model_name": "ButtonStyleModel",
      "state": {}
     },
     "4e12af0226664e2aa0dd4548f545119b": {
      "model_module": "@jupyter-widgets/base",
      "model_module_version": "1.0.0",
      "model_name": "LayoutModel",
      "state": {}
     },
     "4e2f96afa4944e349a6352c09d6ece97": {
      "model_module": "@jupyter-widgets/controls",
      "model_module_version": "1.1.0",
      "model_name": "VBoxModel",
      "state": {
       "children": [
        "IPY_MODEL_b398f916b7ee4e5db4b75f138db3afc3",
        "IPY_MODEL_84fa2d7b33ae484ba22edec23111beb3",
        "IPY_MODEL_9ad02cbd8fa04df2aaac20b2b11df11e",
        "IPY_MODEL_ba962b267aa140d394b078c4adcc6a0b",
        "IPY_MODEL_b9dac34cd3a54d11a819bf5e523f2099",
        "IPY_MODEL_253ada00a93a499abf23ff2454dbfa0a"
       ],
       "layout": "IPY_MODEL_60a96b054e4e4575b84ef25d49970cf9"
      }
     },
     "4ea85293e125494488a27d6051f5eb7b": {
      "model_module": "@jupyter-widgets/output",
      "model_module_version": "1.0.0",
      "model_name": "OutputModel",
      "state": {
       "layout": "IPY_MODEL_8cbc13bfa757415ea132addb41963c2e"
      }
     },
     "4ed9f8a5ce9f4e148ad1f30552d31fd9": {
      "model_module": "@jupyter-widgets/controls",
      "model_module_version": "1.1.0",
      "model_name": "DropdownModel",
      "state": {
       "_options_labels": [
        "city",
        "library",
        "Lokalisierung",
        "Datierung",
        "text"
       ],
       "description": "Search in:",
       "index": 4,
       "layout": "IPY_MODEL_d09bc6755fb04a6fa4d02f9ae98a79ec",
       "style": "IPY_MODEL_57ece4d8f7cd4420a0e46b35def7363f"
      }
     },
     "4ee3162c9f6a443fab013ab4aeac3820": {
      "model_module": "@jupyter-widgets/base",
      "model_module_version": "1.0.0",
      "model_name": "LayoutModel",
      "state": {
       "flex": "0 1 auto",
       "height": "200px",
       "min_height": "40px",
       "width": "30%"
      }
     },
     "4f2a234e4b9f4a20ad23abb605ea598d": {
      "model_module": "@jupyter-widgets/controls",
      "model_module_version": "1.1.0",
      "model_name": "ButtonStyleModel",
      "state": {}
     },
     "4f6f4a1f0bcc4489b4c4d2fdb4c50dc2": {
      "model_module": "@jupyter-widgets/base",
      "model_module_version": "1.0.0",
      "model_name": "LayoutModel",
      "state": {}
     },
     "4f6f7818d1524e71820b1c73bc2b8575": {
      "model_module": "@jupyter-widgets/controls",
      "model_module_version": "1.1.0",
      "model_name": "DropdownModel",
      "state": {
       "_options_labels": [
        "city",
        "library",
        "Lokalisierung",
        "Datierung",
        "text"
       ],
       "description": "Search in:",
       "index": 4,
       "layout": "IPY_MODEL_4330a26df77e405faa4993f590372546",
       "style": "IPY_MODEL_2a94642e8f7b49c2b38a6a931aa0b6b0"
      }
     },
     "4f777215aed1460a850850f69f7b7ee5": {
      "model_module": "@jupyter-widgets/controls",
      "model_module_version": "1.1.0",
      "model_name": "TextareaModel",
      "state": {
       "layout": "IPY_MODEL_d649ba0803eb46d683a7e0d79affcc8a",
       "placeholder": "Sentence",
       "style": "IPY_MODEL_8b45dcac996043ca9b9d38814fa09c27",
       "value": " HERAUSGEGEBEN 1M AUFTRAG"
      }
     },
     "4fa0f6f48cd14ba3883a04bbfd5d49b9": {
      "model_module": "@jupyter-widgets/base",
      "model_module_version": "1.0.0",
      "model_name": "LayoutModel",
      "state": {}
     },
     "4fbfafae3f7b46118b9ff196d346e373": {
      "model_module": "@jupyter-widgets/controls",
      "model_module_version": "1.1.0",
      "model_name": "AccordionModel",
      "state": {
       "_titles": {
        "0": "Enter search term"
       },
       "children": [
        "IPY_MODEL_cf6a824c80704a3b87a181babd6f9643"
       ],
       "layout": "IPY_MODEL_4b398d54235b4d91bf7e7e30511f6652"
      }
     },
     "4fe507d668984d6b9c5061ae840e728a": {
      "model_module": "@jupyter-widgets/controls",
      "model_module_version": "1.1.0",
      "model_name": "HBoxModel",
      "state": {
       "children": [
        "IPY_MODEL_07e8acdbb75740bfa68673a19f31204a",
        "IPY_MODEL_81779e1269134cdfa5c848772e9604cf"
       ],
       "layout": "IPY_MODEL_42cb1ce769594d4583aeb4521b9b3a44"
      }
     },
     "4fe7031d6bd9405b88c1e070d0b63760": {
      "model_module": "@jupyter-widgets/controls",
      "model_module_version": "1.1.0",
      "model_name": "TextareaModel",
      "state": {
       "layout": "IPY_MODEL_fe760fa92723478a8b0bbbdfd09fef30",
       "placeholder": "Result",
       "style": "IPY_MODEL_74f37edcf0be4111bddee04757f097e2",
       "value": "Result 0\ncity: AACHEN\nlibrary: Öffentliche Bibliothek\nmanuID: 2\nLiteratur: Lit. Merton2, S. 49; Landsberger, Abb. 9c, 10a; Ausst. Suevia Sacra, Nr. 156, Abb. 145; Aachener Kunstblätter 45 (1974), S. 350f. m. Abb.\nLokalisierung: St. Gallen\nDatierung: IX. Jh., 3. Drittel\nlatitude: 47.42391\nlongitude: 9.37477"
      }
     },
     "50135e254de140da90d4bc2811ec965e": {
      "model_module": "@jupyter-widgets/controls",
      "model_module_version": "1.1.0",
      "model_name": "TextModel",
      "state": {
       "description": "Search for:",
       "layout": "IPY_MODEL_1d8cc595506e4d6e9d04866d94e8d3b7",
       "placeholder": "term",
       "style": "IPY_MODEL_21fb1dd12f954328bd5d397ba0fb4f03",
       "value": "Aachen"
      }
     },
     "506134622d21489586802a8e9e18e18e": {
      "model_module": "@jupyter-widgets/base",
      "model_module_version": "1.0.0",
      "model_name": "LayoutModel",
      "state": {}
     },
     "50ccd82161f5421d852fef5de267e2f1": {
      "model_module": "@jupyter-widgets/base",
      "model_module_version": "1.0.0",
      "model_name": "LayoutModel",
      "state": {}
     },
     "50ede29f73ca4400ae7e787b7a5cfcf7": {
      "model_module": "@jupyter-widgets/base",
      "model_module_version": "1.0.0",
      "model_name": "LayoutModel",
      "state": {}
     },
     "5114a20ac35b4c8597b67bf4e79e9e13": {
      "model_module": "@jupyter-widgets/base",
      "model_module_version": "1.0.0",
      "model_name": "LayoutModel",
      "state": {}
     },
     "5124cc17593140039509570d4d450e8c": {
      "model_module": "@jupyter-widgets/controls",
      "model_module_version": "1.1.0",
      "model_name": "HBoxModel",
      "state": {
       "children": [
        "IPY_MODEL_f14860eb88ca49d6abc97b94e004e1b4"
       ],
       "layout": "IPY_MODEL_48ce9b603be04aaba4677ab82337d00a"
      }
     },
     "514f988c577948e28ff2357d6cac02cd": {
      "model_module": "@jupyter-widgets/controls",
      "model_module_version": "1.1.0",
      "model_name": "ButtonStyleModel",
      "state": {}
     },
     "5159a4600eaa4aac9a0399f20f17593a": {
      "model_module": "@jupyter-widgets/controls",
      "model_module_version": "1.1.0",
      "model_name": "DropdownModel",
      "state": {
       "_options_labels": [
        "city",
        "library",
        "Lokalisierung",
        "Datierung",
        "text"
       ],
       "description": "Search in:",
       "index": 4,
       "layout": "IPY_MODEL_06c31f8addc7490d8add2d266e404efc",
       "style": "IPY_MODEL_9006113f2a954f6099c5c80d1052c479"
      }
     },
     "519788d6a2c04725a087682d5cb157b6": {
      "model_module": "@jupyter-widgets/controls",
      "model_module_version": "1.1.0",
      "model_name": "DescriptionStyleModel",
      "state": {
       "description_width": ""
      }
     },
     "51dd7aa94a584130a2dea5b04fb86fea": {
      "model_module": "@jupyter-widgets/controls",
      "model_module_version": "1.1.0",
      "model_name": "DescriptionStyleModel",
      "state": {
       "description_width": ""
      }
     },
     "520aa5e4083149bcad890855790dbc99": {
      "model_module": "@jupyter-widgets/base",
      "model_module_version": "1.0.0",
      "model_name": "LayoutModel",
      "state": {}
     },
     "5243fa29d3e24f5faab629d415a159cd": {
      "model_module": "@jupyter-widgets/controls",
      "model_module_version": "1.1.0",
      "model_name": "DescriptionStyleModel",
      "state": {
       "description_width": ""
      }
     },
     "5274c2382cb344cfafced3271ed977b3": {
      "model_module": "@jupyter-widgets/base",
      "model_module_version": "1.0.0",
      "model_name": "LayoutModel",
      "state": {
       "flex": "0 1 auto",
       "height": "200px",
       "min_height": "40px",
       "width": "70%"
      }
     },
     "52e8b0d889314dad957c9a8c900a3b43": {
      "model_module": "@jupyter-widgets/controls",
      "model_module_version": "1.1.0",
      "model_name": "DropdownModel",
      "state": {
       "_options_labels": [
        "city",
        "library",
        "Lokalisierung",
        "Datierung",
        "text"
       ],
       "index": 0,
       "layout": "IPY_MODEL_89f36d3a60494642a8d2d53f53dfa448",
       "style": "IPY_MODEL_0bd0bbb21ce34dc0acb689eb24467403"
      }
     },
     "52ec2738c74c41c19bb13cc7c95b7678": {
      "model_module": "@jupyter-widgets/controls",
      "model_module_version": "1.1.0",
      "model_name": "ToggleButtonsStyleModel",
      "state": {
       "button_width": "",
       "description_width": ""
      }
     },
     "530a00755d964da6bb8ea3298f289595": {
      "model_module": "@jupyter-widgets/controls",
      "model_module_version": "1.1.0",
      "model_name": "VBoxModel",
      "state": {
       "children": [
        "IPY_MODEL_8967b329cdf745b89bbefd2f1c9945e8",
        "IPY_MODEL_6390238b4b914e9fa9a776f5ca5e7f55",
        "IPY_MODEL_587b1a85206b4c4382c55d66066dbae4",
        "IPY_MODEL_925fec43ecc3479e8a2b82ec17533486",
        "IPY_MODEL_13c88c71aefa4e308fe3654bc5ba2605",
        "IPY_MODEL_955e7c9268fa4f18914a800c8a5ed226"
       ],
       "layout": "IPY_MODEL_4450d6a07137490fb27724a25036f149"
      }
     },
     "532ad1a77e6f4e5fa22575a9258f4abb": {
      "model_module": "@jupyter-widgets/base",
      "model_module_version": "1.0.0",
      "model_name": "LayoutModel",
      "state": {}
     },
     "53420d2f2fa447bf98afaf2576ad7f16": {
      "model_module": "@jupyter-widgets/controls",
      "model_module_version": "1.1.0",
      "model_name": "HBoxModel",
      "state": {
       "children": [
        "IPY_MODEL_2cf00cb699144528a519af93565a8756",
        "IPY_MODEL_74fdcf88f3474b868150d1ed93e12052"
       ],
       "layout": "IPY_MODEL_9ff72ee5f43447da9a921e1da8639cb8"
      }
     },
     "537d3e83bfcd407691da56f944dd464a": {
      "model_module": "@jupyter-widgets/base",
      "model_module_version": "1.0.0",
      "model_name": "LayoutModel",
      "state": {}
     },
     "544ff38d1adc40a7a3c0099781debf1a": {
      "model_module": "@jupyter-widgets/controls",
      "model_module_version": "1.1.0",
      "model_name": "TextModel",
      "state": {
       "description": "Search for:",
       "layout": "IPY_MODEL_c59e923b0a8f4253a5aecc4735a08540",
       "placeholder": "term",
       "style": "IPY_MODEL_4ab0f0fb2d3140dcbad67d2e018b2f8e",
       "value": "Evangelia"
      }
     },
     "5456c9c9973c4ad2aa9addca54360352": {
      "model_module": "@jupyter-widgets/controls",
      "model_module_version": "1.1.0",
      "model_name": "DescriptionStyleModel",
      "state": {
       "description_width": ""
      }
     },
     "54720f20de1f4dbc9199047932f7d197": {
      "model_module": "@jupyter-widgets/output",
      "model_module_version": "1.0.0",
      "model_name": "OutputModel",
      "state": {
       "layout": "IPY_MODEL_9fd169d5c6aa4a519a013b54e288f969",
       "outputs": [
        {
         "name": "stdout",
         "output_type": "stream",
         "text": "Found 7 entries.\n"
        }
       ]
      }
     },
     "54aed633222c48939ce368148557d806": {
      "model_module": "@jupyter-widgets/base",
      "model_module_version": "1.0.0",
      "model_name": "LayoutModel",
      "state": {}
     },
     "54dcd7e7547d4cfa91706b6aca2ecb7e": {
      "model_module": "@jupyter-widgets/base",
      "model_module_version": "1.0.0",
      "model_name": "LayoutModel",
      "state": {}
     },
     "557da6bd95064d4f834012e5477bfcfd": {
      "model_module": "@jupyter-widgets/controls",
      "model_module_version": "1.1.0",
      "model_name": "DescriptionStyleModel",
      "state": {
       "description_width": ""
      }
     },
     "55fefdb785074321a12cd423a99168a9": {
      "model_module": "@jupyter-widgets/base",
      "model_module_version": "1.0.0",
      "model_name": "LayoutModel",
      "state": {}
     },
     "562725d523b444258841b86543f67a7b": {
      "model_module": "@jupyter-widgets/base",
      "model_module_version": "1.0.0",
      "model_name": "LayoutModel",
      "state": {}
     },
     "568269a520664fe28ebe4e243eeccb5f": {
      "model_module": "@jupyter-widgets/base",
      "model_module_version": "1.0.0",
      "model_name": "LayoutModel",
      "state": {}
     },
     "5693946c7b8e4cfabb1f4ef84b0dc457": {
      "model_module": "@jupyter-widgets/controls",
      "model_module_version": "1.1.0",
      "model_name": "DescriptionStyleModel",
      "state": {
       "description_width": ""
      }
     },
     "56ec9a7cf9454d78b4b2eb6c56908c5a": {
      "model_module": "@jupyter-widgets/base",
      "model_module_version": "1.0.0",
      "model_name": "LayoutModel",
      "state": {}
     },
     "571e3055768f4eda8ca77743e9e4c7fc": {
      "model_module": "@jupyter-widgets/controls",
      "model_module_version": "1.1.0",
      "model_name": "ToggleButtonsModel",
      "state": {
       "_options_labels": [
        "more",
        "less"
       ],
       "button_style": "",
       "icons": [],
       "index": 0,
       "layout": "IPY_MODEL_caac98eaeb16499294c2d6d600ef7a71",
       "style": "IPY_MODEL_e79f7cd2c9564a7791f91539dece9e7a",
       "tooltips": []
      }
     },
     "5747abbb95254580a673ac9d5e826c28": {
      "model_module": "@jupyter-widgets/controls",
      "model_module_version": "1.1.0",
      "model_name": "HBoxModel",
      "state": {
       "children": [
        "IPY_MODEL_015521fdf56943a6a3d3f476960c448a",
        "IPY_MODEL_e630c14fe2524fc59a42216c180c6d79",
        "IPY_MODEL_4c62d223d95f47fc8d260228e2db9f05"
       ],
       "layout": "IPY_MODEL_91fdea6c5164481e871dcf615177d80c"
      }
     },
     "57523f9a91ea4dcbae4912bdb7832020": {
      "model_module": "@jupyter-widgets/base",
      "model_module_version": "1.0.0",
      "model_name": "LayoutModel",
      "state": {}
     },
     "5754db79590c4bac9a0b6b6413c654f9": {
      "model_module": "@jupyter-widgets/controls",
      "model_module_version": "1.1.0",
      "model_name": "ButtonStyleModel",
      "state": {}
     },
     "5765823679074752ba8ca0ef8a6a5f81": {
      "model_module": "@jupyter-widgets/controls",
      "model_module_version": "1.1.0",
      "model_name": "IntSliderModel",
      "state": {
       "layout": "IPY_MODEL_fd38faaf2e684d1f8465bfb4ef926095",
       "max": 0,
       "style": "IPY_MODEL_9636d2720e5149b799498fa05afb984d"
      }
     },
     "57ece4d8f7cd4420a0e46b35def7363f": {
      "model_module": "@jupyter-widgets/controls",
      "model_module_version": "1.1.0",
      "model_name": "DescriptionStyleModel",
      "state": {
       "description_width": ""
      }
     },
     "58099b7d73394eefb81262d2cca33a3a": {
      "model_module": "@jupyter-widgets/base",
      "model_module_version": "1.0.0",
      "model_name": "LayoutModel",
      "state": {}
     },
     "58352146a3124e44b71844c11639395f": {
      "model_module": "@jupyter-widgets/controls",
      "model_module_version": "1.1.0",
      "model_name": "DescriptionStyleModel",
      "state": {
       "description_width": ""
      }
     },
     "584699f423474901b0be6d676c9a7684": {
      "model_module": "@jupyter-widgets/controls",
      "model_module_version": "1.1.0",
      "model_name": "IntSliderModel",
      "state": {
       "layout": "IPY_MODEL_15f0907a31ac4162875ee99e3da58996",
       "max": 0,
       "style": "IPY_MODEL_f7d7e56ec431457ba854f6964e5a253a"
      }
     },
     "585a45cbfe424905aabff23752384471": {
      "model_module": "@jupyter-widgets/controls",
      "model_module_version": "1.1.0",
      "model_name": "DropdownModel",
      "state": {
       "_options_labels": [
        "city",
        "library",
        "Lokalisierung",
        "Datierung",
        "text"
       ],
       "description": "Search in:",
       "index": 4,
       "layout": "IPY_MODEL_7bfca7ef936e41648d5eb7eafba5f270",
       "style": "IPY_MODEL_298655bb149449afa0f96887af65cf99"
      }
     },
     "58761e97ac764623b14e8fcff9c8f01c": {
      "model_module": "@jupyter-widgets/controls",
      "model_module_version": "1.1.0",
      "model_name": "HBoxModel",
      "state": {
       "children": [
        "IPY_MODEL_bd4324d28a76487e995bc358b3806c2e"
       ],
       "layout": "IPY_MODEL_5addd7188dac40cdb870c6917553dfe2"
      }
     },
     "587b1a85206b4c4382c55d66066dbae4": {
      "model_module": "@jupyter-widgets/controls",
      "model_module_version": "1.1.0",
      "model_name": "HBoxModel",
      "state": {
       "children": [
        "IPY_MODEL_a82ef8db4c394bf4b97d85244bff020c"
       ],
       "layout": "IPY_MODEL_249d39271e79478fbf4ba06001e50049"
      }
     },
     "58938f012e9142aab0c1b5510231e0e0": {
      "model_module": "@jupyter-widgets/controls",
      "model_module_version": "1.1.0",
      "model_name": "DescriptionStyleModel",
      "state": {
       "description_width": ""
      }
     },
     "589f9183bbdd4a4ebaf4c7a79685ec3a": {
      "model_module": "@jupyter-widgets/controls",
      "model_module_version": "1.1.0",
      "model_name": "TextareaModel",
      "state": {
       "layout": "IPY_MODEL_f5f0b6ba6a274d29856f947a479fac8a",
       "placeholder": "Result",
       "style": "IPY_MODEL_64235ef431de471987c70d89e6bb75a0",
       "value": "Result 0\nvolume: Band_1\npart: Einleitung\npage: 1\nparagraph: 3\nsentence: 1"
      }
     },
     "58c057ef2492465b8cbe56394a638700": {
      "model_module": "@jupyter-widgets/controls",
      "model_module_version": "1.1.0",
      "model_name": "TextareaModel",
      "state": {
       "layout": "IPY_MODEL_c45611b243f04572ab70bdfe02e2ac11",
       "placeholder": "Result",
       "style": "IPY_MODEL_fc556e2e97b3421c92e9654ca3c1491d",
       "value": "Result 0\ncity:\n AACHEN\nlibrary:\n Öffentliche Bibliothek\nmanuID:\n 2\nLiteratur:\n Lit. Merton2, S. 49; Landsberger, Abb. 9c, 10a; Ausst. Suevia Sacra, Nr. 156, Abb. 145; Aachener Kunstblätter 45 (1974), S. 350f. m. Abb.\nLokalisierung:\n St. Gallen\nDatierung:\n IX. Jh., 3. Drittel\nlatitude:\n 47.42391\nlongitude:\n 9.37477"
      }
     },
     "58d650d817054f42be662dce2d16649f": {
      "model_module": "@jupyter-widgets/controls",
      "model_module_version": "1.1.0",
      "model_name": "ToggleButtonsStyleModel",
      "state": {
       "button_width": "",
       "description_width": ""
      }
     },
     "5936531df14f4f2ea806711a685dae67": {
      "model_module": "@jupyter-widgets/controls",
      "model_module_version": "1.1.0",
      "model_name": "SliderStyleModel",
      "state": {
       "description_width": ""
      }
     },
     "59a94222246546649d72bef584de63d5": {
      "model_module": "@jupyter-widgets/controls",
      "model_module_version": "1.1.0",
      "model_name": "HBoxModel",
      "state": {
       "children": [
        "IPY_MODEL_0f9641b22413405cb216acadb9ccc5f2",
        "IPY_MODEL_9cd77f423b56475db92335aa9b0f9bec"
       ],
       "layout": "IPY_MODEL_a1b630b4b5f44e7e852063c69e0e0708"
      }
     },
     "59b9045a55814b7ba73de69992c5d3cb": {
      "model_module": "@jupyter-widgets/base",
      "model_module_version": "1.0.0",
      "model_name": "LayoutModel",
      "state": {
       "flex": "0 1 auto",
       "height": "200px",
       "min_height": "40px",
       "width": "70%"
      }
     },
     "5a7b8de84d224a2cb7421dc8b03eb6e8": {
      "model_module": "@jupyter-widgets/base",
      "model_module_version": "1.0.0",
      "model_name": "LayoutModel",
      "state": {}
     },
     "5ab4129a3d234356b855e151fc19a2da": {
      "model_module": "@jupyter-widgets/controls",
      "model_module_version": "1.1.0",
      "model_name": "SliderStyleModel",
      "state": {
       "description_width": ""
      }
     },
     "5addd7188dac40cdb870c6917553dfe2": {
      "model_module": "@jupyter-widgets/base",
      "model_module_version": "1.0.0",
      "model_name": "LayoutModel",
      "state": {}
     },
     "5b31518b445d41ef8070c0279170319c": {
      "model_module": "@jupyter-widgets/base",
      "model_module_version": "1.0.0",
      "model_name": "LayoutModel",
      "state": {}
     },
     "5b3879d2a5d24a708f6fe2281ce0675c": {
      "model_module": "@jupyter-widgets/base",
      "model_module_version": "1.0.0",
      "model_name": "LayoutModel",
      "state": {}
     },
     "5beb397ea76e4b278f6dcdb5eec7dee6": {
      "model_module": "@jupyter-widgets/controls",
      "model_module_version": "1.1.0",
      "model_name": "IntSliderModel",
      "state": {
       "layout": "IPY_MODEL_4595530d01e14e30bf11dce5b65fc849",
       "max": 15,
       "style": "IPY_MODEL_d8f0e5d3e7a1436f9299d84a8575af6a"
      }
     },
     "5c263340186b4ba6a0b48374eb4fed4f": {
      "model_module": "@jupyter-widgets/controls",
      "model_module_version": "1.1.0",
      "model_name": "ButtonStyleModel",
      "state": {}
     },
     "5cc8f764f3714c3cb9ce95c13d574317": {
      "model_module": "@jupyter-widgets/output",
      "model_module_version": "1.0.0",
      "model_name": "OutputModel",
      "state": {
       "layout": "IPY_MODEL_f4951ec3fee547e89bb22bdf8283f6b3"
      }
     },
     "5d0749859bae4743b786087752df4829": {
      "model_module": "@jupyter-widgets/base",
      "model_module_version": "1.0.0",
      "model_name": "LayoutModel",
      "state": {}
     },
     "5d87cd0ef4694df1a5307eb2ca4b2fb3": {
      "model_module": "@jupyter-widgets/controls",
      "model_module_version": "1.1.0",
      "model_name": "DescriptionStyleModel",
      "state": {
       "description_width": ""
      }
     },
     "5da2c5e0739a41d29d41c94dea9fbe11": {
      "model_module": "@jupyter-widgets/controls",
      "model_module_version": "1.1.0",
      "model_name": "ButtonModel",
      "state": {
       "description": "Reset plot",
       "layout": "IPY_MODEL_1fd729b4fd594ed080e4619bb1cccf3f",
       "style": "IPY_MODEL_6f4a73eb16e145dabc37091d54a18b5a"
      }
     },
     "5db99617235747f899b047ee1167f39a": {
      "model_module": "@jupyter-widgets/controls",
      "model_module_version": "1.1.0",
      "model_name": "HBoxModel",
      "state": {
       "children": [
        "IPY_MODEL_03f4ecd395154b47bccb8a66b65f1e74",
        "IPY_MODEL_b5820d8a7f564989b98cc9d61773f77e",
        "IPY_MODEL_d5deb49a2b784667a1b680c5602ccb4a"
       ],
       "layout": "IPY_MODEL_7b16e7b0fa45432eb84ac575a466665b"
      }
     },
     "5df2cac64c054fbabf797ef0672705da": {
      "model_module": "@jupyter-widgets/controls",
      "model_module_version": "1.1.0",
      "model_name": "HBoxModel",
      "state": {
       "children": [
        "IPY_MODEL_c53ce343556b4d77b4f8c1706300dbd9"
       ],
       "layout": "IPY_MODEL_80e58e530a3b44c7964a411ecf525ffb"
      }
     },
     "5df44d13f46e484aafaf049ddd54bb42": {
      "model_module": "@jupyter-widgets/controls",
      "model_module_version": "1.1.0",
      "model_name": "DescriptionStyleModel",
      "state": {
       "description_width": ""
      }
     },
     "5ebdabcfdffd4de2b67c49bf2ebac150": {
      "model_module": "@jupyter-widgets/controls",
      "model_module_version": "1.1.0",
      "model_name": "DescriptionStyleModel",
      "state": {
       "description_width": ""
      }
     },
     "5ec6afafc3164fcb8f145ec6b6f686e5": {
      "model_module": "@jupyter-widgets/controls",
      "model_module_version": "1.1.0",
      "model_name": "ButtonModel",
      "state": {
       "button_style": "danger",
       "description": "Search",
       "layout": "IPY_MODEL_46eaed9418bd4fc397a9aca02b0d35ed",
       "style": "IPY_MODEL_91713fa451d349dfb36b8ea25e6b328f"
      }
     },
     "5ec90fa668354ccc826457a854a5dda9": {
      "model_module": "@jupyter-widgets/base",
      "model_module_version": "1.0.0",
      "model_name": "LayoutModel",
      "state": {}
     },
     "5ec9d2aa637840cda54c350b1c95653d": {
      "model_module": "@jupyter-widgets/controls",
      "model_module_version": "1.1.0",
      "model_name": "ToggleButtonsStyleModel",
      "state": {
       "button_width": "",
       "description_width": ""
      }
     },
     "5ecef15170e549dcbda0156c0fc98972": {
      "model_module": "@jupyter-widgets/base",
      "model_module_version": "1.0.0",
      "model_name": "LayoutModel",
      "state": {}
     },
     "5f20e9f75ec8452dab2fb4f4002a8c81": {
      "model_module": "@jupyter-widgets/base",
      "model_module_version": "1.0.0",
      "model_name": "LayoutModel",
      "state": {}
     },
     "5f90afc084f743aea932e31c953a1b85": {
      "model_module": "@jupyter-widgets/base",
      "model_module_version": "1.0.0",
      "model_name": "LayoutModel",
      "state": {
       "margin": "0 0 0 20px"
      }
     },
     "5f9d772b9ba845b69949bd528a8d3634": {
      "model_module": "@jupyter-widgets/base",
      "model_module_version": "1.0.0",
      "model_name": "LayoutModel",
      "state": {}
     },
     "5fa8a64b4e064b3e9ec2d3b41b3e8c1b": {
      "model_module": "@jupyter-widgets/controls",
      "model_module_version": "1.1.0",
      "model_name": "AccordionModel",
      "state": {
       "_titles": {
        "0": "Enter search term"
       },
       "children": [
        "IPY_MODEL_11d8b940aca2407fa799890eb2368827"
       ],
       "layout": "IPY_MODEL_dc790c5a9ff5426a8fbc0c66868f4f0b"
      }
     },
     "5fe2dca79ae04194b7c922d4a77bfdc3": {
      "model_module": "@jupyter-widgets/base",
      "model_module_version": "1.0.0",
      "model_name": "LayoutModel",
      "state": {}
     },
     "5fedc538d13e4feda9a6b1fcb59ede6f": {
      "model_module": "@jupyter-widgets/base",
      "model_module_version": "1.0.0",
      "model_name": "LayoutModel",
      "state": {}
     },
     "600476873ce843ec94a71807693b7446": {
      "model_module": "@jupyter-widgets/controls",
      "model_module_version": "1.1.0",
      "model_name": "ButtonModel",
      "state": {
       "button_style": "danger",
       "description": "Search",
       "layout": "IPY_MODEL_4636b415a7624faf8bed4e138b27528a",
       "style": "IPY_MODEL_5754db79590c4bac9a0b6b6413c654f9"
      }
     },
     "60383bfbe19d407cb5eaea2c37e65951": {
      "model_module": "@jupyter-widgets/base",
      "model_module_version": "1.0.0",
      "model_name": "LayoutModel",
      "state": {}
     },
     "6044e5c2ae5740628a45442154ca859e": {
      "model_module": "@jupyter-widgets/controls",
      "model_module_version": "1.1.0",
      "model_name": "IntSliderModel",
      "state": {
       "layout": "IPY_MODEL_27c01dca16674dae80057e5d6939b538",
       "max": 0,
       "style": "IPY_MODEL_7b96da85b92741b19f5bffa2a5ea270d"
      }
     },
     "60664a16849e418088d51f6c8fc41edc": {
      "model_module": "@jupyter-widgets/controls",
      "model_module_version": "1.1.0",
      "model_name": "TextareaModel",
      "state": {
       "layout": "IPY_MODEL_7e40d0e1aae040e1994abbca91be0bfd",
       "placeholder": "Sentence",
       "style": "IPY_MODEL_44fec84391fc4a52a8be8cb8c993932c",
       "value": "Cod. Wings 1. IV Evangelia. I + 333 + I Bl. (Ordnung z.T. verwirrt); 23,5x16,8 cm (14,3x9,7 cm); 17 Z. 2r-319r: St. Galler Kalligr. mehrerer Hde. 7r-12r Kanontafeln. Init. z.T. mit Gold- u. Silber-füllung; 14v Purpurband. 319v-333r Capit, ev. (s. X2). Lit.: Merton2, S. 49; Landsberger, Abb. 9c, 10a; Ausst. Suevia Sacra, Nr. 156, Abb. 145; Aachener Kunstblätter 45 (1974), S. 350f. m. Abb. - St. Gallen, IX. Jh., 3. Drittel- "
      }
     },
     "6074f7af0f324de3b5e90554929057d3": {
      "model_module": "@jupyter-widgets/base",
      "model_module_version": "1.0.0",
      "model_name": "LayoutModel",
      "state": {}
     },
     "6088ba1552824dc9bc5bd0e5bbcf84e8": {
      "model_module": "@jupyter-widgets/controls",
      "model_module_version": "1.1.0",
      "model_name": "IntSliderModel",
      "state": {
       "layout": "IPY_MODEL_50ccd82161f5421d852fef5de267e2f1",
       "max": 7,
       "style": "IPY_MODEL_5936531df14f4f2ea806711a685dae67"
      }
     },
     "60a96b054e4e4575b84ef25d49970cf9": {
      "model_module": "@jupyter-widgets/base",
      "model_module_version": "1.0.0",
      "model_name": "LayoutModel",
      "state": {}
     },
     "613a4410d24e4e7f94947a38f98c9c20": {
      "model_module": "@jupyter-widgets/controls",
      "model_module_version": "1.1.0",
      "model_name": "TextareaModel",
      "state": {
       "layout": "IPY_MODEL_368d84634c2d431aa26d83ba18f171cb",
       "placeholder": "Sentence",
       "style": "IPY_MODEL_e4287901d80b4e4988989419bbae234f",
       "value": "Clm 6212. IV Evangelia (Abkömmling eines ravennatischen Evangeliars von 521\n- 534).\nLit.: Schreibsch. 1, S. 131; Illuminierte Hss. d. Agilolfinger- u. frühen Karolingerzeit, Nr. 18; Nordenfalk, Kanontafeln, S. 151 (Abb. 17); Bierbrauer, Ornamentik, S. 108, Taf. 54.7-8, 55; Holter, „Insular oder italisch?“, S. 182f., Abb. 2; Katal. der illuminierten Hss. 1, Nr. 170, Abb. 365, 386; CLLA1, Nr. 1110.\n-    Südliches Bayern (?), IX. Jh., 1. Drittel-\n"
      }
     },
     "61906227cc334dea90110035ed6a71dc": {
      "model_module": "@jupyter-widgets/base",
      "model_module_version": "1.0.0",
      "model_name": "LayoutModel",
      "state": {}
     },
     "619a739a692a4d6a970496a9e8b7c71f": {
      "model_module": "@jupyter-widgets/controls",
      "model_module_version": "1.1.0",
      "model_name": "HBoxModel",
      "state": {
       "children": [
        "IPY_MODEL_6e9e11cd94c248a6b84016c98e92157a"
       ],
       "layout": "IPY_MODEL_8fcbf849944946ba99071f8f62b86158"
      }
     },
     "61a03c3c86c9414ea85b055a7462ae77": {
      "model_module": "@jupyter-widgets/base",
      "model_module_version": "1.0.0",
      "model_name": "LayoutModel",
      "state": {}
     },
     "61e6d3fe016a4d0782b80e7c892ffd2f": {
      "model_module": "@jupyter-widgets/controls",
      "model_module_version": "1.1.0",
      "model_name": "ButtonModel",
      "state": {
       "description": "Plot on",
       "layout": "IPY_MODEL_38e206c6174346d78da0f5bf18080d6b",
       "style": "IPY_MODEL_514f988c577948e28ff2357d6cac02cd"
      }
     },
     "6250810ad1ad4449a0fb12313c22134f": {
      "model_module": "@jupyter-widgets/controls",
      "model_module_version": "1.1.0",
      "model_name": "IntSliderModel",
      "state": {
       "layout": "IPY_MODEL_fda0cfb92f084fbea94b8f2569a81637",
       "max": 15,
       "style": "IPY_MODEL_9bb3ff6091ad4d87aac3c5673a8ade5e"
      }
     },
     "6278f16ed8ed49ada1537d782fe226c1": {
      "model_module": "@jupyter-widgets/base",
      "model_module_version": "1.0.0",
      "model_name": "LayoutModel",
      "state": {
       "flex": "0 1 auto",
       "height": "200px",
       "min_height": "40px",
       "width": "70%"
      }
     },
     "6383bf38d7f04136990c2326d206a1e0": {
      "model_module": "@jupyter-widgets/base",
      "model_module_version": "1.0.0",
      "model_name": "LayoutModel",
      "state": {}
     },
     "6390238b4b914e9fa9a776f5ca5e7f55": {
      "model_module": "@jupyter-widgets/controls",
      "model_module_version": "1.1.0",
      "model_name": "HBoxModel",
      "state": {
       "children": [
        "IPY_MODEL_dfd94c49ca8f4e55a6a66aaafb9654b5",
        "IPY_MODEL_3f749c9b34a34721ae33904081046fa1",
        "IPY_MODEL_47916bc36e994e62a47c179f7d4828f6"
       ],
       "layout": "IPY_MODEL_b4e68ae396fd46beb165dae246be42b5"
      }
     },
     "639125b3a3244432bdc95c2e51754b86": {
      "model_module": "@jupyter-widgets/controls",
      "model_module_version": "1.1.0",
      "model_name": "DescriptionStyleModel",
      "state": {
       "description_width": ""
      }
     },
     "63d6e653da024b598b58bc86c78ec67f": {
      "model_module": "@jupyter-widgets/controls",
      "model_module_version": "1.1.0",
      "model_name": "IntSliderModel",
      "state": {
       "layout": "IPY_MODEL_6763d308a83946d69c37bba0d4ae402f",
       "max": 15,
       "style": "IPY_MODEL_d19c9f6d063c46f8bc87dc1df177746f"
      }
     },
     "63e042e1b50343b88c8cc030ef5f50ba": {
      "model_module": "@jupyter-widgets/controls",
      "model_module_version": "1.1.0",
      "model_name": "HBoxModel",
      "state": {
       "children": [
        "IPY_MODEL_b4b3f30ebce3403e81afb136d1fb6944",
        "IPY_MODEL_fe0f511f7e2c4ddcabe3011441194cb2"
       ],
       "layout": "IPY_MODEL_9f1eb7ce145940d5a7bd85e71b522016"
      }
     },
     "63fae7e6fce646a48e7abbf55b3f879a": {
      "model_module": "@jupyter-widgets/base",
      "model_module_version": "1.0.0",
      "model_name": "LayoutModel",
      "state": {}
     },
     "63fe7e3db6774a8d877be38dd920176e": {
      "model_module": "@jupyter-widgets/controls",
      "model_module_version": "1.1.0",
      "model_name": "ButtonModel",
      "state": {
       "description": "Reset plot",
       "layout": "IPY_MODEL_6074f7af0f324de3b5e90554929057d3",
       "style": "IPY_MODEL_ae0fdf0eb28049fb918cb3e692c19f9e"
      }
     },
     "64235ef431de471987c70d89e6bb75a0": {
      "model_module": "@jupyter-widgets/controls",
      "model_module_version": "1.1.0",
      "model_name": "DescriptionStyleModel",
      "state": {
       "description_width": ""
      }
     },
     "64ca2dfc2c144e96a751b029adcd207b": {
      "model_module": "@jupyter-widgets/base",
      "model_module_version": "1.0.0",
      "model_name": "LayoutModel",
      "state": {
       "margin": "0 0 0 20px"
      }
     },
     "64d5b1c10d094da8aa42e48d8d340e49": {
      "model_module": "@jupyter-widgets/base",
      "model_module_version": "1.0.0",
      "model_name": "LayoutModel",
      "state": {}
     },
     "64f6c97d43d745e0a9be81bb80e14501": {
      "model_module": "@jupyter-widgets/controls",
      "model_module_version": "1.1.0",
      "model_name": "DescriptionStyleModel",
      "state": {
       "description_width": ""
      }
     },
     "655ec0ff1eae4d768dd41d7df52e409a": {
      "model_module": "@jupyter-widgets/base",
      "model_module_version": "1.0.0",
      "model_name": "LayoutModel",
      "state": {}
     },
     "6604bf8f950c42ca81d46e1b23c8c87c": {
      "model_module": "@jupyter-widgets/base",
      "model_module_version": "1.0.0",
      "model_name": "LayoutModel",
      "state": {}
     },
     "666d87aaedf44459b4217cfdeab6fb21": {
      "model_module": "@jupyter-widgets/controls",
      "model_module_version": "1.1.0",
      "model_name": "ToggleButtonsStyleModel",
      "state": {
       "button_width": "",
       "description_width": ""
      }
     },
     "667d4ca93c8b4e32a972cd1116c3eff6": {
      "model_module": "@jupyter-widgets/controls",
      "model_module_version": "1.1.0",
      "model_name": "HBoxModel",
      "state": {
       "children": [
        "IPY_MODEL_8353e5d315eb47c8884f3f1ab26e0ee5"
       ],
       "layout": "IPY_MODEL_ef822750b5034f9b8c57eb32df44e129"
      }
     },
     "66f58f77fecf4436a19f5dc817b70d34": {
      "model_module": "@jupyter-widgets/controls",
      "model_module_version": "1.1.0",
      "model_name": "HBoxModel",
      "state": {
       "children": [
        "IPY_MODEL_5beb397ea76e4b278f6dcdb5eec7dee6"
       ],
       "layout": "IPY_MODEL_11490ef97305463ab323d9ba0462b0b5"
      }
     },
     "6763d308a83946d69c37bba0d4ae402f": {
      "model_module": "@jupyter-widgets/base",
      "model_module_version": "1.0.0",
      "model_name": "LayoutModel",
      "state": {}
     },
     "676b6b82fe9d4784ba9ff930e32dc5e2": {
      "model_module": "@jupyter-widgets/base",
      "model_module_version": "1.0.0",
      "model_name": "LayoutModel",
      "state": {}
     },
     "67d64f2fc4ee40c2b5e0f50ff3eec048": {
      "model_module": "@jupyter-widgets/base",
      "model_module_version": "1.0.0",
      "model_name": "LayoutModel",
      "state": {}
     },
     "67e45d79950543bc90714e2194acde97": {
      "model_module": "@jupyter-widgets/controls",
      "model_module_version": "1.1.0",
      "model_name": "ToggleButtonsModel",
      "state": {
       "_options_labels": [
        "more",
        "less"
       ],
       "button_style": "",
       "icons": [],
       "index": 0,
       "layout": "IPY_MODEL_90a926bc5d994f13a38407b494126178",
       "style": "IPY_MODEL_58d650d817054f42be662dce2d16649f",
       "tooltips": []
      }
     },
     "682c58dbbbe04a5fa2506eb40103900b": {
      "model_module": "@jupyter-widgets/output",
      "model_module_version": "1.0.0",
      "model_name": "OutputModel",
      "state": {
       "layout": "IPY_MODEL_d74f8ab50f2c4482b648dbe044ede15f",
       "outputs": [
        {
         "name": "stdout",
         "output_type": "stream",
         "text": "Found 7 entries.\n"
        }
       ]
      }
     },
     "6852324ad5bf4fbbae9a8e35a807b786": {
      "model_module": "@jupyter-widgets/base",
      "model_module_version": "1.0.0",
      "model_name": "LayoutModel",
      "state": {}
     },
     "6853cabe219947208105b36180adf2a2": {
      "model_module": "@jupyter-widgets/base",
      "model_module_version": "1.0.0",
      "model_name": "LayoutModel",
      "state": {}
     },
     "685ebe416d394369b6b98208e172dc12": {
      "model_module": "@jupyter-widgets/base",
      "model_module_version": "1.0.0",
      "model_name": "LayoutModel",
      "state": {}
     },
     "68882ca3bfc74535a531965ae130aee4": {
      "model_module": "@jupyter-widgets/controls",
      "model_module_version": "1.1.0",
      "model_name": "DropdownModel",
      "state": {
       "_options_labels": [
        "city",
        "library",
        "Lokalisierung",
        "Datierung",
        "text"
       ],
       "description": "Search in:",
       "index": 4,
       "layout": "IPY_MODEL_bed5f52bb89c4045806b380f3356b271",
       "style": "IPY_MODEL_ac109324a496484382fe850ce94c6577"
      }
     },
     "68a06038bb334e809415d7667c08f176": {
      "model_module": "@jupyter-widgets/base",
      "model_module_version": "1.0.0",
      "model_name": "LayoutModel",
      "state": {}
     },
     "68c0ca0ac8aa45ea92732779dfd5c512": {
      "model_module": "@jupyter-widgets/controls",
      "model_module_version": "1.1.0",
      "model_name": "DropdownModel",
      "state": {
       "_options_labels": [
        "city",
        "library",
        "Lokalisierung",
        "Datierung",
        "text"
       ],
       "index": 1,
       "layout": "IPY_MODEL_d85caa8ec23b4b4e91bca254cf43e150",
       "style": "IPY_MODEL_f3fc300adc354bc68a875925137c17cc"
      }
     },
     "6900f95a79884ced92a2b56583c06326": {
      "model_module": "@jupyter-widgets/base",
      "model_module_version": "1.0.0",
      "model_name": "LayoutModel",
      "state": {}
     },
     "6909e42a58dd46b8b6210ff5db08b920": {
      "model_module": "@jupyter-widgets/controls",
      "model_module_version": "1.1.0",
      "model_name": "HBoxModel",
      "state": {
       "children": [
        "IPY_MODEL_6088ba1552824dc9bc5bd0e5bbcf84e8"
       ],
       "layout": "IPY_MODEL_0f926e63410c43a0a64ef0fcf0e43694"
      }
     },
     "690c0e0d9bce43ae8f79218f44bd98fc": {
      "model_module": "@jupyter-widgets/base",
      "model_module_version": "1.0.0",
      "model_name": "LayoutModel",
      "state": {}
     },
     "69151396d6014ff290652fa2fc3283aa": {
      "model_module": "@jupyter-widgets/controls",
      "model_module_version": "1.1.0",
      "model_name": "TextModel",
      "state": {
       "description": "Search for:",
       "layout": "IPY_MODEL_f557ab30fda84d59b96e56fb6fa05e64",
       "placeholder": "term",
       "style": "IPY_MODEL_828ead295bea4b3e8b15ac9ee168092a",
       "value": "[Uu]"
      }
     },
     "69c44180b8d045f89efec73a3d26e17f": {
      "model_module": "@jupyter-widgets/controls",
      "model_module_version": "1.1.0",
      "model_name": "DropdownModel",
      "state": {
       "_options_labels": [
        "city",
        "library",
        "Lokalisierung",
        "Datierung",
        "text"
       ],
       "description": "Search in:",
       "index": 4,
       "layout": "IPY_MODEL_a6e7a5d9efe3417fbb996a1218c05f00",
       "style": "IPY_MODEL_2e3abc56467f4b08b7d92de54b18027b"
      }
     },
     "69dee414f42b4547a12d11048d9cd35f": {
      "model_module": "@jupyter-widgets/controls",
      "model_module_version": "1.1.0",
      "model_name": "HBoxModel",
      "state": {
       "children": [
        "IPY_MODEL_1ce750755302488d83847ce514e8bc31",
        "IPY_MODEL_585a45cbfe424905aabff23752384471"
       ],
       "layout": "IPY_MODEL_189e709395ef49ec85adc3d41f8609f8"
      }
     },
     "69edad8731304535a5b2e750b191e058": {
      "model_module": "@jupyter-widgets/base",
      "model_module_version": "1.0.0",
      "model_name": "LayoutModel",
      "state": {}
     },
     "6a14ca7bb52b4e7bbb5633de0fd19363": {
      "model_module": "@jupyter-widgets/controls",
      "model_module_version": "1.1.0",
      "model_name": "HBoxModel",
      "state": {
       "children": [
        "IPY_MODEL_252e8b28a03d48e9823ab7f1764319db",
        "IPY_MODEL_28b6ab30d2004eaaa83743ae057dcf50"
       ],
       "layout": "IPY_MODEL_9c3bead6d6674e0aa3df7d20639e552a"
      }
     },
     "6a68621929d54ebe9dd2f8e2adc12f1f": {
      "model_module": "@jupyter-widgets/base",
      "model_module_version": "1.0.0",
      "model_name": "LayoutModel",
      "state": {}
     },
     "6a711e0828784feaab2414878b8792cf": {
      "model_module": "@jupyter-widgets/controls",
      "model_module_version": "1.1.0",
      "model_name": "VBoxModel",
      "state": {
       "children": [
        "IPY_MODEL_97f93c478c1a418f91938e71855dbda1",
        "IPY_MODEL_ceeb9b5f75ef49c180da2b4075404282",
        "IPY_MODEL_404053fb52db47c0aaf1f2e52a74dffb",
        "IPY_MODEL_7972e2d17c12485e8edab38b59a244ea",
        "IPY_MODEL_5747abbb95254580a673ac9d5e826c28",
        "IPY_MODEL_8e767d88d397462289ec426b8ea0ecdd"
       ],
       "layout": "IPY_MODEL_1c9c71e9cfa44799a3b77952dcd94b44"
      }
     },
     "6a819d7f65f3492c90ad018f4db3b268": {
      "model_module": "@jupyter-widgets/controls",
      "model_module_version": "1.1.0",
      "model_name": "ButtonModel",
      "state": {
       "description": "Reset plot",
       "layout": "IPY_MODEL_c3c4211037434f3b95bde78b6664e848",
       "style": "IPY_MODEL_4f2a234e4b9f4a20ad23abb605ea598d"
      }
     },
     "6a9896fb138444128f8baefb3021a6a2": {
      "model_module": "@jupyter-widgets/base",
      "model_module_version": "1.0.0",
      "model_name": "LayoutModel",
      "state": {}
     },
     "6a9cf15580f24818927de48f27004f53": {
      "model_module": "@jupyter-widgets/controls",
      "model_module_version": "1.1.0",
      "model_name": "ButtonModel",
      "state": {
       "description": "Reset plot",
       "layout": "IPY_MODEL_14a054a2cce44dd58b1f3b91e38316b3",
       "style": "IPY_MODEL_7cb36dbe563e42b695e2f3689b78a9e0"
      }
     },
     "6aa536953d2844249643e594a9a7cd58": {
      "model_module": "@jupyter-widgets/base",
      "model_module_version": "1.0.0",
      "model_name": "LayoutModel",
      "state": {}
     },
     "6b2adf9fe840448e8b0a251e3de4cac9": {
      "model_module": "@jupyter-widgets/controls",
      "model_module_version": "1.1.0",
      "model_name": "DescriptionStyleModel",
      "state": {
       "description_width": ""
      }
     },
     "6b84b9139b3d4406b9e0ed916cbafd0b": {
      "model_module": "@jupyter-widgets/controls",
      "model_module_version": "1.1.0",
      "model_name": "ButtonModel",
      "state": {
       "description": "Reset plot",
       "layout": "IPY_MODEL_4125a5694c1a4c0db8f5738eaaebe53a",
       "style": "IPY_MODEL_108996868ca1426086e9af3793e2170b"
      }
     },
     "6bb84e6e0fd34462a2d72ec02ed5eacb": {
      "model_module": "@jupyter-widgets/controls",
      "model_module_version": "1.1.0",
      "model_name": "IntSliderModel",
      "state": {
       "layout": "IPY_MODEL_433506e4db02480ba42808f06d01c887",
       "max": 15,
       "style": "IPY_MODEL_86c553a190d04a17bd853302bed62973",
       "value": 7
      }
     },
     "6bbd5bd4efe64834a5f148af07fd2912": {
      "model_module": "@jupyter-widgets/base",
      "model_module_version": "1.0.0",
      "model_name": "LayoutModel",
      "state": {
       "flex": "0 1 auto",
       "height": "200px",
       "min_height": "40px",
       "width": "70%"
      }
     },
     "6bd2ba3b74764decbc71a2f516e026e7": {
      "model_module": "@jupyter-widgets/base",
      "model_module_version": "1.0.0",
      "model_name": "LayoutModel",
      "state": {}
     },
     "6c0d182f7af349c88264c5a84603f1ea": {
      "model_module": "@jupyter-widgets/controls",
      "model_module_version": "1.1.0",
      "model_name": "TextareaModel",
      "state": {
       "layout": "IPY_MODEL_1f1b241b478f4b4f96a1af6bd95e6bed",
       "placeholder": "Result",
       "style": "IPY_MODEL_8b3dd34bc9fa4841b90ea2cb67cb3667",
       "value": "Result 0\ncity: AACHEN\nlibrary: Domschatzkammer\nmanuID: 1\nLiteratur: Lit. Koehler 3, S. 53 („spätestens 814 o. sogar 810“), 72-80, Taf. 28-36; Aussi. Karl d. Gr., Nr. 421; Ma. Studien 3, S. 179; Nordenfalk, Kanontafeln, S. 195ff, 274f., Taf. 162, 163.\nLokalisierung: Karolingisches Hofatelier\nDatierung: Zeit Ludwigs des Frommen (spätestens 830)\nlatitude: nan\nlongitude: nan"
      }
     },
     "6c73cd499d974ac5958ba419ba8014ae": {
      "model_module": "@jupyter-widgets/base",
      "model_module_version": "1.0.0",
      "model_name": "LayoutModel",
      "state": {}
     },
     "6c9e7e8a0b8a410fbab4f90a2da970a7": {
      "model_module": "@jupyter-widgets/output",
      "model_module_version": "1.0.0",
      "model_name": "OutputModel",
      "state": {
       "layout": "IPY_MODEL_2af53a928b3944d3be7acb29a486f76e",
       "outputs": [
        {
         "name": "stdout",
         "output_type": "stream",
         "text": "Found 15 entries.\n"
        }
       ]
      }
     },
     "6d12124d36cf4a618c485d9183b6685e": {
      "model_module": "@jupyter-widgets/base",
      "model_module_version": "1.0.0",
      "model_name": "LayoutModel",
      "state": {}
     },
     "6d2fec9f2a3b444d8e8a844bdcaf543d": {
      "model_module": "@jupyter-widgets/controls",
      "model_module_version": "1.1.0",
      "model_name": "DescriptionStyleModel",
      "state": {
       "description_width": ""
      }
     },
     "6d32bd4d65824d67a200b0adf41c0145": {
      "model_module": "@jupyter-widgets/base",
      "model_module_version": "1.0.0",
      "model_name": "LayoutModel",
      "state": {}
     },
     "6d457686d63e4caaab00ddfa14e228d6": {
      "model_module": "@jupyter-widgets/controls",
      "model_module_version": "1.1.0",
      "model_name": "IntSliderModel",
      "state": {
       "layout": "IPY_MODEL_08dbf23461714442910613152151f28c",
       "max": 15,
       "style": "IPY_MODEL_d0d63d26a960484a85285132e17855e4"
      }
     },
     "6d69187957ca4a439b9a19dc810c18cf": {
      "model_module": "@jupyter-widgets/controls",
      "model_module_version": "1.1.0",
      "model_name": "ButtonModel",
      "state": {
       "button_style": "danger",
       "description": "Search",
       "layout": "IPY_MODEL_0c60abef16b942dda50c6c9721a6ec1a",
       "style": "IPY_MODEL_868b0a84a724413abb387b65694a8bbf"
      }
     },
     "6d7adcd8e81842ada48f9254ef4b3b82": {
      "model_module": "@jupyter-widgets/base",
      "model_module_version": "1.0.0",
      "model_name": "LayoutModel",
      "state": {}
     },
     "6dc988adae914d29bdc09dfcf5ff8bb0": {
      "model_module": "@jupyter-widgets/controls",
      "model_module_version": "1.1.0",
      "model_name": "ButtonStyleModel",
      "state": {}
     },
     "6dce5e0587a74ce29e4d414a5bcfd132": {
      "model_module": "@jupyter-widgets/controls",
      "model_module_version": "1.1.0",
      "model_name": "ButtonModel",
      "state": {
       "button_style": "danger",
       "description": "Search",
       "layout": "IPY_MODEL_7205200ca82f4ce881bf2b19d105df45",
       "style": "IPY_MODEL_07c34d58aa64482da64eaf315852977e"
      }
     },
     "6dfbc4f154384dada6d20c5a6d0a51dc": {
      "model_module": "@jupyter-widgets/controls",
      "model_module_version": "1.1.0",
      "model_name": "IntSliderModel",
      "state": {
       "layout": "IPY_MODEL_2e4ae1d1c3bb4e3cae833a99ec746fa7",
       "max": 0,
       "style": "IPY_MODEL_4dd3dc0058cb4b99afb2d3f3aeab9105"
      }
     },
     "6e35305b539c42d8aff185a36f2c05cc": {
      "model_module": "@jupyter-widgets/controls",
      "model_module_version": "1.1.0",
      "model_name": "DescriptionStyleModel",
      "state": {
       "description_width": ""
      }
     },
     "6e801cca9363476ca41f4b47cce5adb7": {
      "model_module": "@jupyter-widgets/controls",
      "model_module_version": "1.1.0",
      "model_name": "DescriptionStyleModel",
      "state": {
       "description_width": ""
      }
     },
     "6e9e11cd94c248a6b84016c98e92157a": {
      "model_module": "@jupyter-widgets/controls",
      "model_module_version": "1.1.0",
      "model_name": "IntSliderModel",
      "state": {
       "layout": "IPY_MODEL_055a4a6376234f2bb14c2fe53dded312",
       "max": 432,
       "style": "IPY_MODEL_205a7e3f4a7e469280687bacb316f943"
      }
     },
     "6ea04ee5ea3a436c8b5602ea51c8a845": {
      "model_module": "@jupyter-widgets/base",
      "model_module_version": "1.0.0",
      "model_name": "LayoutModel",
      "state": {
       "margin": "0 0 0 20px"
      }
     },
     "6eb6421b2a9147699d3c513ba6fd6143": {
      "model_module": "@jupyter-widgets/base",
      "model_module_version": "1.0.0",
      "model_name": "LayoutModel",
      "state": {
       "flex": "0 1 auto",
       "height": "200px",
       "min_height": "40px",
       "width": "30%"
      }
     },
     "6f39ab741e6048c8911c08211ff365ae": {
      "model_module": "@jupyter-widgets/controls",
      "model_module_version": "1.1.0",
      "model_name": "HBoxModel",
      "state": {
       "children": [
        "IPY_MODEL_6fef1dd62dee481993ec9d287be4c657",
        "IPY_MODEL_ca747eddf56347ad8a673165fcd4fbca",
        "IPY_MODEL_7facffa82b1443f086d070460f8e26fd"
       ],
       "layout": "IPY_MODEL_3a14fdc70e76445b865be93aba1374ad"
      }
     },
     "6f4a73eb16e145dabc37091d54a18b5a": {
      "model_module": "@jupyter-widgets/controls",
      "model_module_version": "1.1.0",
      "model_name": "ButtonStyleModel",
      "state": {}
     },
     "6f55c1a657254afcb3444cf068583507": {
      "model_module": "@jupyter-widgets/controls",
      "model_module_version": "1.1.0",
      "model_name": "TextareaModel",
      "state": {
       "layout": "IPY_MODEL_c01211e10c894fbc905fb725c2eec9bc",
       "placeholder": "Sentence",
       "style": "IPY_MODEL_58352146a3124e44b71844c11639395f",
       "value": "Cod. Wings 1. IV Evangelia. I + 333 + I Bl. (Ordnung z.T. verwirrt); 23,5x16,8 cm (14,3x9,7 cm); 17 Z. 2r-319r: St. Galler Kalligr. mehrerer Hde. 7r-12r Kanontafeln. Init. z.T. mit Gold- u. Silber-füllung; 14v Purpurband. 319v-333r Capit, ev. (s. X2). Lit.: Merton2, S. 49; Landsberger, Abb. 9c, 10a; Ausst. Suevia Sacra, Nr. 156, Abb. 145; Aachener Kunstblätter 45 (1974), S. 350f. m. Abb. - St. Gallen, IX. Jh., 3. Drittel- "
      }
     },
     "6fa5c3178bf54d4fa72f42dd07bb0ebe": {
      "model_module": "@jupyter-widgets/controls",
      "model_module_version": "1.1.0",
      "model_name": "ButtonModel",
      "state": {
       "button_style": "danger",
       "description": "Search",
       "layout": "IPY_MODEL_cf96110001e84f37bad90cfabeff1c82",
       "style": "IPY_MODEL_75b4d53a39ff41deaea1a7cd5da6285b"
      }
     },
     "6fef1dd62dee481993ec9d287be4c657": {
      "model_module": "@jupyter-widgets/controls",
      "model_module_version": "1.1.0",
      "model_name": "ToggleButtonsModel",
      "state": {
       "_options_labels": [
        "more",
        "less"
       ],
       "button_style": "",
       "icons": [],
       "index": 0,
       "layout": "IPY_MODEL_9bb4dcc4d703416eb2da50127e942930",
       "style": "IPY_MODEL_ba104e83fadd4eeb934638e3433655ce",
       "tooltips": []
      }
     },
     "70516b4845f241fa93c4f080d4f9a91b": {
      "model_module": "@jupyter-widgets/base",
      "model_module_version": "1.0.0",
      "model_name": "LayoutModel",
      "state": {}
     },
     "70998ebb62e34fbba5da3743140be8ec": {
      "model_module": "@jupyter-widgets/controls",
      "model_module_version": "1.1.0",
      "model_name": "TextareaModel",
      "state": {
       "layout": "IPY_MODEL_3cfa5dd814db48ff95eaff06c82ffff1",
       "placeholder": "Result",
       "style": "IPY_MODEL_1d415b18099a4b2cac8501275a39ada4",
       "value": "Result 0\ncity:\n AACHEN\nlibrary:\n Öffentliche Bibliothek\nmanuID:\n 2\nLiteratur:\n Lit. Merton2, S. 49; Landsberger, Abb. 9c, 10a; Ausst. Suevia Sacra, Nr. 156, Abb. 145; Aachener Kunstblätter 45 (1974), S. 350f. m. Abb.\nLokalisierung:\n St. Gallen\nDatierung:\n IX. Jh., 3. Drittel\nlatitude:\n 47.42391\nlongitude:\n 9.37477"
      }
     },
     "70a47e63353d4c8fa394252a9a9d2452": {
      "model_module": "@jupyter-widgets/controls",
      "model_module_version": "1.1.0",
      "model_name": "ButtonStyleModel",
      "state": {}
     },
     "70c646330b1440ad9cfc5bb9c5b91819": {
      "model_module": "@jupyter-widgets/controls",
      "model_module_version": "1.1.0",
      "model_name": "HBoxModel",
      "state": {
       "children": [
        "IPY_MODEL_ac042f120bf94540a01ffb903dd3892a",
        "IPY_MODEL_b3c6036ee688411bb7b05d55c105b616"
       ],
       "layout": "IPY_MODEL_f334e7b2815f45e9a134de53f2f1d543"
      }
     },
     "716e934652364e6594e71d4ba56bee37": {
      "model_module": "@jupyter-widgets/base",
      "model_module_version": "1.0.0",
      "model_name": "LayoutModel",
      "state": {}
     },
     "71805410282a4a359e53b44de985758c": {
      "model_module": "@jupyter-widgets/controls",
      "model_module_version": "1.1.0",
      "model_name": "HBoxModel",
      "state": {
       "children": [
        "IPY_MODEL_7343472482d54a94b82a48bec3bdb4ae",
        "IPY_MODEL_3a936d5d5cae40b78a0dce2592bfea2b"
       ],
       "layout": "IPY_MODEL_955043358459416e8efc1c8fe6714f3a"
      }
     },
     "7199d5c3b7174d118147c81e6aeda699": {
      "model_module": "@jupyter-widgets/controls",
      "model_module_version": "1.1.0",
      "model_name": "IntSliderModel",
      "state": {
       "layout": "IPY_MODEL_a81b4042531d43cc94ae3d031826c112",
       "max": 0,
       "style": "IPY_MODEL_b14f2c1d4d91441b8afd609dd03fe726"
      }
     },
     "7205200ca82f4ce881bf2b19d105df45": {
      "model_module": "@jupyter-widgets/base",
      "model_module_version": "1.0.0",
      "model_name": "LayoutModel",
      "state": {}
     },
     "729f07bd1b724919b63320f4dd511769": {
      "model_module": "@jupyter-widgets/base",
      "model_module_version": "1.0.0",
      "model_name": "LayoutModel",
      "state": {}
     },
     "72a58f58d9a64bdd95f04fca8161064d": {
      "model_module": "@jupyter-widgets/base",
      "model_module_version": "1.0.0",
      "model_name": "LayoutModel",
      "state": {
       "margin": "0 0 0 20px"
      }
     },
     "72c2a08ff1e74461b3df3d83d36e6972": {
      "model_module": "@jupyter-widgets/controls",
      "model_module_version": "1.1.0",
      "model_name": "ButtonModel",
      "state": {
       "description": "Reset plot",
       "layout": "IPY_MODEL_6bd2ba3b74764decbc71a2f516e026e7",
       "style": "IPY_MODEL_70a47e63353d4c8fa394252a9a9d2452"
      }
     },
     "72caa19cdd5a496b8d73f94dc8c94bac": {
      "model_module": "@jupyter-widgets/controls",
      "model_module_version": "1.1.0",
      "model_name": "ButtonStyleModel",
      "state": {}
     },
     "72d1db49b37e4749bc582f96884df4ce": {
      "model_module": "@jupyter-widgets/controls",
      "model_module_version": "1.1.0",
      "model_name": "HBoxModel",
      "state": {
       "children": [
        "IPY_MODEL_ee12f3028f794b229aed83321a804c92",
        "IPY_MODEL_ff029c0770654b9184056369881d0553"
       ],
       "layout": "IPY_MODEL_bf2418951e30438cae2179d3ea8969c4"
      }
     },
     "7316700cb7374a60a18a3810b2621a73": {
      "model_module": "@jupyter-widgets/base",
      "model_module_version": "1.0.0",
      "model_name": "LayoutModel",
      "state": {}
     },
     "7343472482d54a94b82a48bec3bdb4ae": {
      "model_module": "@jupyter-widgets/controls",
      "model_module_version": "1.1.0",
      "model_name": "TextareaModel",
      "state": {
       "layout": "IPY_MODEL_91d4db67f1844966a98040efb1d77b66",
       "placeholder": "Result",
       "style": "IPY_MODEL_ce18c63ae9d64979a6a4cc762bfb35c2",
       "value": "Result 0\ncity:\n AACHEN\nlibrary:\n Öffentliche Bibliothek\nmanuID:\n 2\nLiteratur:\n Lit. Merton2, S. 49; Landsberger, Abb. 9c, 10a; Ausst. Suevia Sacra, Nr. 156, Abb. 145; Aachener Kunstblätter 45 (1974), S. 350f. m. Abb.\nLokalisierung:\n St. Gallen\nDatierung:\n IX. Jh., 3. Drittel\nlatitude:\n 47.42391\nlongitude:\n 9.37477"
      }
     },
     "73b612ed445348398d43334f67e6fa00": {
      "model_module": "@jupyter-widgets/base",
      "model_module_version": "1.0.0",
      "model_name": "LayoutModel",
      "state": {}
     },
     "73bfe4b6f58347b1b777e2d198721903": {
      "model_module": "@jupyter-widgets/base",
      "model_module_version": "1.0.0",
      "model_name": "LayoutModel",
      "state": {}
     },
     "74f37edcf0be4111bddee04757f097e2": {
      "model_module": "@jupyter-widgets/controls",
      "model_module_version": "1.1.0",
      "model_name": "DescriptionStyleModel",
      "state": {
       "description_width": ""
      }
     },
     "74fdcf88f3474b868150d1ed93e12052": {
      "model_module": "@jupyter-widgets/controls",
      "model_module_version": "1.1.0",
      "model_name": "DropdownModel",
      "state": {
       "_options_labels": [
        "volume",
        "part",
        "text"
       ],
       "description": "Search in:",
       "index": 2,
       "layout": "IPY_MODEL_6900f95a79884ced92a2b56583c06326",
       "style": "IPY_MODEL_108db2a413cc41baa6603e29574d73c8"
      }
     },
     "753f8496b6614ae7aa05ffdb79e9d7b6": {
      "model_module": "@jupyter-widgets/controls",
      "model_module_version": "1.1.0",
      "model_name": "DropdownModel",
      "state": {
       "_options_labels": [
        "city",
        "library",
        "Lokalisierung",
        "Datierung",
        "text"
       ],
       "description": "Search in:",
       "index": 4,
       "layout": "IPY_MODEL_6d12124d36cf4a618c485d9183b6685e",
       "style": "IPY_MODEL_996e5125c85e4b61b2ef71ae328eb77a"
      }
     },
     "75b4d53a39ff41deaea1a7cd5da6285b": {
      "model_module": "@jupyter-widgets/controls",
      "model_module_version": "1.1.0",
      "model_name": "ButtonStyleModel",
      "state": {}
     },
     "75badd55758c4cc6bddaa75bfb937e98": {
      "model_module": "@jupyter-widgets/base",
      "model_module_version": "1.0.0",
      "model_name": "LayoutModel",
      "state": {}
     },
     "766d19cf78ad4fd6a07017fb2c0574bb": {
      "model_module": "@jupyter-widgets/base",
      "model_module_version": "1.0.0",
      "model_name": "LayoutModel",
      "state": {}
     },
     "766f4b688b2341cb8c0669b744eae9f8": {
      "model_module": "@jupyter-widgets/controls",
      "model_module_version": "1.1.0",
      "model_name": "ToggleButtonsModel",
      "state": {
       "_options_labels": [
        "more",
        "less"
       ],
       "button_style": "",
       "icons": [],
       "index": 0,
       "layout": "IPY_MODEL_37da66bc6d054e369cd1b55931fa9b15",
       "style": "IPY_MODEL_84c9e17086fc483f8efc352ac7a487ee",
       "tooltips": []
      }
     },
     "76821cf85e3145458b65a82a4fbfbad8": {
      "model_module": "@jupyter-widgets/controls",
      "model_module_version": "1.1.0",
      "model_name": "HBoxModel",
      "state": {
       "children": [
        "IPY_MODEL_2ebe5e0bda7c43fc855798b6e6b47766",
        "IPY_MODEL_3f8fb962f74343af89de4ba5534ddf1e",
        "IPY_MODEL_8c17f52fc4d54d1d97dc1e9999df183c"
       ],
       "layout": "IPY_MODEL_b12a722086cd47daa53b974fbee798f4"
      }
     },
     "774d5e0299cf4f398db53a4fef87f955": {
      "model_module": "@jupyter-widgets/base",
      "model_module_version": "1.0.0",
      "model_name": "LayoutModel",
      "state": {}
     },
     "77d4c798e8644e6abb40d0437c89c073": {
      "model_module": "@jupyter-widgets/base",
      "model_module_version": "1.0.0",
      "model_name": "LayoutModel",
      "state": {}
     },
     "78092edb07b747078531c11cb767706e": {
      "model_module": "@jupyter-widgets/controls",
      "model_module_version": "1.1.0",
      "model_name": "TextareaModel",
      "state": {
       "layout": "IPY_MODEL_c57860dabd41498fba09fa37a5c45e3f",
       "placeholder": "Sentence",
       "style": "IPY_MODEL_1949037ff5b344bdb4a3bf0c70f2fba7",
       "value": "Fragm. 2 + CHICAGO, Newberry Libr., Fragm. 5 + HILDESHEIM, Dombibi., Fragm. 23 + NEW YORK, Union Theological Seminary, Ms. 10 (Vord. Dsp.) (s. XV in Alto Nemore: Hohenbusch bei Aachen). Biblia.\n24 z.T. verstümm. Bl. (je 1 Bl. in Chicago, Hildesheim und New York), 5 Reste von Gegenbl., 1 kleines Fragm.; 47x37 cm (36,5x25,6 cm); 2 Sp. zu 51 Z. Dünne Min. mehrerer Hde. Blaustichig r. Rust.; P ist tiefgestellt (Symptom von Corbie-Einfluß). Fulda, 24r: Goldinit. A. Seitentitel: Rust.\nLit.: Köllner, Illuminierte Handschriften, Nr. 13, Abb. 76-77 (Fulda); (Chicago:) Masi, Mediaeval Studies 34 (1972), S. 101 („Tours, s. IX/X“).\n-    Corvey, IX. Jh., ca. 3. Drittel-\n"
      }
     },
     "7847e0b2faf64b2bb93cb5474255d721": {
      "model_module": "@jupyter-widgets/controls",
      "model_module_version": "1.1.0",
      "model_name": "ButtonModel",
      "state": {
       "description": "Reset plot",
       "layout": "IPY_MODEL_b902cadd68554e3ea5124bf31bd286ca",
       "style": "IPY_MODEL_bd08b45d639c420d9617c196a8130831"
      }
     },
     "7885ad1930ad42249ccc3cdcf5889b1d": {
      "model_module": "@jupyter-widgets/base",
      "model_module_version": "1.0.0",
      "model_name": "LayoutModel",
      "state": {
       "flex": "0 1 auto",
       "height": "200px",
       "min_height": "40px",
       "width": "30%"
      }
     },
     "788fbd3989044f8095ec124bd03693d3": {
      "model_module": "@jupyter-widgets/base",
      "model_module_version": "1.0.0",
      "model_name": "LayoutModel",
      "state": {}
     },
     "789329cdd8e24957a4f1698a2d162cb4": {
      "model_module": "@jupyter-widgets/controls",
      "model_module_version": "1.1.0",
      "model_name": "HBoxModel",
      "state": {
       "children": [
        "IPY_MODEL_50135e254de140da90d4bc2811ec965e",
        "IPY_MODEL_5159a4600eaa4aac9a0399f20f17593a"
       ],
       "layout": "IPY_MODEL_9c1f373788854dbbaa860b30821b6e39"
      }
     },
     "78bc8b4d84a947149ce795fe9923a035": {
      "model_module": "@jupyter-widgets/base",
      "model_module_version": "1.0.0",
      "model_name": "LayoutModel",
      "state": {}
     },
     "78cccdffb85a4db5b8aac56b4d60ab6b": {
      "model_module": "@jupyter-widgets/controls",
      "model_module_version": "1.1.0",
      "model_name": "TextareaModel",
      "state": {
       "layout": "IPY_MODEL_c4feaeca85254fdeb8db31c45ebd3e85",
       "placeholder": "Result",
       "style": "IPY_MODEL_d381866ce6ef45c59a05ce6af797911e",
       "value": "Result 0\ncity:\n AACHEN\nlibrary:\n Öffentliche Bibliothek\nmanuID:\n 2\nLiteratur:\n Lit. Merton2, S. 49; Landsberger, Abb. 9c, 10a; Ausst. Suevia Sacra, Nr. 156, Abb. 145; Aachener Kunstblätter 45 (1974), S. 350f. m. Abb.\nLokalisierung:\n St. Gallen\nDatierung:\n IX. Jh., 3. Drittel\nlatitude:\n 47.42391\nlongitude:\n 9.37477"
      }
     },
     "79322166cef74e45a1a21ae17a4016df": {
      "model_module": "@jupyter-widgets/controls",
      "model_module_version": "1.1.0",
      "model_name": "DescriptionStyleModel",
      "state": {
       "description_width": ""
      }
     },
     "79680dec50a048f8b2902b33e1aac1dd": {
      "model_module": "@jupyter-widgets/base",
      "model_module_version": "1.0.0",
      "model_name": "LayoutModel",
      "state": {}
     },
     "7972e2d17c12485e8edab38b59a244ea": {
      "model_module": "@jupyter-widgets/controls",
      "model_module_version": "1.1.0",
      "model_name": "HBoxModel",
      "state": {
       "children": [
        "IPY_MODEL_58c057ef2492465b8cbe56394a638700",
        "IPY_MODEL_ca578e40faf2457fb31a5969f01db34c"
       ],
       "layout": "IPY_MODEL_9316b66494ae40cb9972c48c41a1b24c"
      }
     },
     "79787ec34d764dd0b7b376128556a82b": {
      "model_module": "@jupyter-widgets/controls",
      "model_module_version": "1.1.0",
      "model_name": "TextareaModel",
      "state": {
       "layout": "IPY_MODEL_b09414db3137432889446befef726dd5",
       "placeholder": "Sentence",
       "style": "IPY_MODEL_c753b8015b3148a99e4e8996538b8124",
       "value": "         HERAUSGEGEBEN 1M AUFTRAG"
      }
     },
     "797f8bb5cb38467eaaeac03da1a9d1a3": {
      "model_module": "@jupyter-widgets/base",
      "model_module_version": "1.0.0",
      "model_name": "LayoutModel",
      "state": {
       "flex": "0 1 auto",
       "height": "200px",
       "min_height": "40px",
       "width": "70%"
      }
     },
     "799c3bf852484abda10959be36cf358d": {
      "model_module": "@jupyter-widgets/output",
      "model_module_version": "1.0.0",
      "model_name": "OutputModel",
      "state": {
       "layout": "IPY_MODEL_e10085b3d25d48b0b0b3d6bafbbfa887"
      }
     },
     "79a2f7548fc7414e990ad5580907d393": {
      "model_module": "@jupyter-widgets/controls",
      "model_module_version": "1.1.0",
      "model_name": "DescriptionStyleModel",
      "state": {
       "description_width": ""
      }
     },
     "7a3df1e80a394eeea6bcd55b6ca05ab5": {
      "model_module": "@jupyter-widgets/output",
      "model_module_version": "1.0.0",
      "model_name": "OutputModel",
      "state": {
       "layout": "IPY_MODEL_22aae9b696bb48b1b6545f644d3f4ab6",
       "outputs": [
        {
         "name": "stdout",
         "output_type": "stream",
         "text": "Found 15 entries.\n"
        }
       ]
      }
     },
     "7a81110c4f8e4d5ba4e63a20862e8131": {
      "model_module": "@jupyter-widgets/output",
      "model_module_version": "1.0.0",
      "model_name": "OutputModel",
      "state": {
       "layout": "IPY_MODEL_09cd86b83df943deba5f0edcc869f60d",
       "outputs": [
        {
         "name": "stdout",
         "output_type": "stream",
         "text": "Found 15 entries.\n"
        }
       ]
      }
     },
     "7adecb1ce1f042a58a15b4b8f5514219": {
      "model_module": "@jupyter-widgets/controls",
      "model_module_version": "1.1.0",
      "model_name": "HBoxModel",
      "state": {
       "children": [
        "IPY_MODEL_4fe7031d6bd9405b88c1e070d0b63760",
        "IPY_MODEL_6f55c1a657254afcb3444cf068583507"
       ],
       "layout": "IPY_MODEL_ae6b38fdf5d5448fb28f8e110a994aa7"
      }
     },
     "7b05efa6e48e44e195866d9a991ef369": {
      "model_module": "@jupyter-widgets/output",
      "model_module_version": "1.0.0",
      "model_name": "OutputModel",
      "state": {
       "layout": "IPY_MODEL_e557fcac485043f3b3a61605ee2fc36b",
       "outputs": [
        {
         "ename": "TypeError",
         "evalue": "_initFigure() missing 1 required positional argument: 'level'",
         "output_type": "error",
         "traceback": [
          "\u001b[0;31m---------------------------------------------------------------------------\u001b[0m",
          "\u001b[0;31mTypeError\u001b[0m                                 Traceback (most recent call last)",
          "\u001b[0;32m~/Dokumente/packages/corpussearch/env/local/lib/python3.6/site-packages/corpussearch/vis.py\u001b[0m in \u001b[0;36m_plotFunction\u001b[0;34m(self, widget, content, buffers)\u001b[0m\n\u001b[1;32m     94\u001b[0m         \u001b[0mresDict\u001b[0m \u001b[0;34m=\u001b[0m \u001b[0mOrderedDict\u001b[0m\u001b[0;34m(\u001b[0m\u001b[0mCounter\u001b[0m\u001b[0;34m(\u001b[0m\u001b[0melem\u001b[0m \u001b[0;32mfor\u001b[0m \u001b[0melem\u001b[0m \u001b[0;32min\u001b[0m \u001b[0miterate\u001b[0m\u001b[0;34m)\u001b[0m\u001b[0;34m)\u001b[0m\u001b[0;34m\u001b[0m\u001b[0m\n\u001b[1;32m     95\u001b[0m         \u001b[0;32mwith\u001b[0m \u001b[0mself\u001b[0m\u001b[0;34m.\u001b[0m\u001b[0mplotout\u001b[0m\u001b[0;34m:\u001b[0m\u001b[0;34m\u001b[0m\u001b[0m\n\u001b[0;32m---> 96\u001b[0;31m             \u001b[0mself\u001b[0m\u001b[0;34m.\u001b[0m\u001b[0m_initFigure\u001b[0m\u001b[0;34m(\u001b[0m\u001b[0;34m)\u001b[0m\u001b[0;34m\u001b[0m\u001b[0m\n\u001b[0m\u001b[1;32m     97\u001b[0m             \u001b[0mlabelStr\u001b[0m \u001b[0;34m=\u001b[0m \u001b[0;34m' '\u001b[0m\u001b[0;34m.\u001b[0m\u001b[0mjoin\u001b[0m\u001b[0;34m(\u001b[0m\u001b[0;34m[\u001b[0m\u001b[0mch\u001b[0m\u001b[0;34m.\u001b[0m\u001b[0mvalue\u001b[0m \u001b[0;32mfor\u001b[0m \u001b[0mch\u001b[0m \u001b[0;32min\u001b[0m \u001b[0mself\u001b[0m\u001b[0;34m.\u001b[0m\u001b[0maccordion\u001b[0m\u001b[0;34m.\u001b[0m\u001b[0mchildren\u001b[0m\u001b[0;34m]\u001b[0m\u001b[0;34m)\u001b[0m\u001b[0;34m\u001b[0m\u001b[0m\n\u001b[1;32m     98\u001b[0m             \u001b[0mx\u001b[0m \u001b[0;34m=\u001b[0m \u001b[0;34m[\u001b[0m\u001b[0mx\u001b[0m \u001b[0;32mfor\u001b[0m \u001b[0mx\u001b[0m \u001b[0;32min\u001b[0m \u001b[0mrange\u001b[0m\u001b[0;34m(\u001b[0m\u001b[0;36m1\u001b[0m\u001b[0;34m,\u001b[0m \u001b[0mlen\u001b[0m\u001b[0;34m(\u001b[0m\u001b[0mresDict\u001b[0m\u001b[0;34m.\u001b[0m\u001b[0mkeys\u001b[0m\u001b[0;34m(\u001b[0m\u001b[0;34m)\u001b[0m\u001b[0;34m)\u001b[0m\u001b[0;34m+\u001b[0m\u001b[0;36m1\u001b[0m\u001b[0;34m)\u001b[0m\u001b[0;34m]\u001b[0m\u001b[0;34m\u001b[0m\u001b[0m\n",
          "\u001b[0;31mTypeError\u001b[0m: _initFigure() missing 1 required positional argument: 'level'"
         ]
        }
       ]
      }
     },
     "7b16e7b0fa45432eb84ac575a466665b": {
      "model_module": "@jupyter-widgets/base",
      "model_module_version": "1.0.0",
      "model_name": "LayoutModel",
      "state": {}
     },
     "7b251573881248a1942eba89a02dde86": {
      "model_module": "@jupyter-widgets/base",
      "model_module_version": "1.0.0",
      "model_name": "LayoutModel",
      "state": {}
     },
     "7b3b04366519484d8d3f52fb581d73d2": {
      "model_module": "@jupyter-widgets/controls",
      "model_module_version": "1.1.0",
      "model_name": "HBoxModel",
      "state": {
       "children": [
        "IPY_MODEL_3f3f0d42e53d4a2cb332d7a1daa7fdb5",
        "IPY_MODEL_dd4de69c51e94b6a887ae3f2c23d006d"
       ],
       "layout": "IPY_MODEL_7b476aec1bc54a0695c1ee294c473d57"
      }
     },
     "7b476aec1bc54a0695c1ee294c473d57": {
      "model_module": "@jupyter-widgets/base",
      "model_module_version": "1.0.0",
      "model_name": "LayoutModel",
      "state": {}
     },
     "7b5294447486423f9313cdae5d950023": {
      "model_module": "@jupyter-widgets/base",
      "model_module_version": "1.0.0",
      "model_name": "LayoutModel",
      "state": {}
     },
     "7b5cc97d4046496196f3a21342e5623a": {
      "model_module": "@jupyter-widgets/controls",
      "model_module_version": "1.1.0",
      "model_name": "HBoxModel",
      "state": {
       "children": [
        "IPY_MODEL_c28b6adc5ab44c5083bc170204d870a4",
        "IPY_MODEL_070acf1c281e419ca1d1d40248257b3c",
        "IPY_MODEL_813956c4add14f7fbf625f8389899982"
       ],
       "layout": "IPY_MODEL_7e5e7887f6504292af8ed593fd796368"
      }
     },
     "7b8b36f092a04030a444344e2176a7c6": {
      "model_module": "@jupyter-widgets/controls",
      "model_module_version": "1.1.0",
      "model_name": "ToggleButtonsModel",
      "state": {
       "_options_labels": [
        "more",
        "less"
       ],
       "button_style": "",
       "icons": [],
       "index": 0,
       "layout": "IPY_MODEL_4fa0f6f48cd14ba3883a04bbfd5d49b9",
       "style": "IPY_MODEL_b7e9dcf8a2ba4b19900bfc8467745fa6",
       "tooltips": []
      }
     },
     "7b96da85b92741b19f5bffa2a5ea270d": {
      "model_module": "@jupyter-widgets/controls",
      "model_module_version": "1.1.0",
      "model_name": "SliderStyleModel",
      "state": {
       "description_width": ""
      }
     },
     "7b9a45bbe84e4556acf49edff9cb9037": {
      "model_module": "@jupyter-widgets/controls",
      "model_module_version": "1.1.0",
      "model_name": "HBoxModel",
      "state": {
       "children": [
        "IPY_MODEL_afdffee63e1445d3b64af224951e7cbc",
        "IPY_MODEL_69c44180b8d045f89efec73a3d26e17f"
       ],
       "layout": "IPY_MODEL_70516b4845f241fa93c4f080d4f9a91b"
      }
     },
     "7bf29a13ac7a474c8f46ec7b7f1eb443": {
      "model_module": "@jupyter-widgets/controls",
      "model_module_version": "1.1.0",
      "model_name": "IntSliderModel",
      "state": {
       "layout": "IPY_MODEL_aa76d9c2550b42aba1781a3a0bdde261",
       "max": 0,
       "style": "IPY_MODEL_f2799f6333974c36ac11c0c1df28ae31"
      }
     },
     "7bfca7ef936e41648d5eb7eafba5f270": {
      "model_module": "@jupyter-widgets/base",
      "model_module_version": "1.0.0",
      "model_name": "LayoutModel",
      "state": {}
     },
     "7c211241253b457abe81ec0e5a5413a7": {
      "model_module": "@jupyter-widgets/controls",
      "model_module_version": "1.1.0",
      "model_name": "HBoxModel",
      "state": {
       "children": [
        "IPY_MODEL_86fa43209b5f408998d21c914a8c609c",
        "IPY_MODEL_df0a4438851c4ad3b8eecf30fbdfe7cf",
        "IPY_MODEL_0c1c17d463a34ef3bed4bd31c5a2e961"
       ],
       "layout": "IPY_MODEL_a183ae1d4d6b4e89ba9b06625bd3a36d"
      }
     },
     "7c4eb984030c4b1d952c59911b9825af": {
      "model_module": "@jupyter-widgets/controls",
      "model_module_version": "1.1.0",
      "model_name": "TextareaModel",
      "state": {
       "layout": "IPY_MODEL_a66578e1503f471681ba8bd86c49efc6",
       "placeholder": "Result",
       "style": "IPY_MODEL_8a3fa5f539d644a0ba41e1397c1db437",
       "value": "Result 184\ncity:\n MÜNCHEN\nlibrary:\n Bayerische Staatsbibliothek\nmanuID:\n 2989\nLiteratur:\n Lit. Schreibsch. 1, S. 131; Illuminierte Hss. d. Agilolfinger- u. frühen Karolingerzeit, Nr. 18; Nordenfalk, Kanontafeln, S. 151 (Abb. 17); Bierbrauer, Ornamentik, S. 108, Taf. 54.7-8, 55; Holter, „Insular oder italisch?“, S. 182f., Abb. 2; Katal. der illuminierten Hss. 1, Nr. 170, Abb. 365, 386; CLLA1, Nr. 1110.\nLokalisierung:\n Südliches Bayern (?)\nDatierung:\n IX. Jh., 1. Drittel\nlatitude:\n nan\nlongitude:\n nan"
      }
     },
     "7c9d05f33c7b41078fc9a4aa4a480b5a": {
      "model_module": "@jupyter-widgets/base",
      "model_module_version": "1.0.0",
      "model_name": "LayoutModel",
      "state": {}
     },
     "7ca89d355a52450198ea008065223a6d": {
      "model_module": "@jupyter-widgets/base",
      "model_module_version": "1.0.0",
      "model_name": "LayoutModel",
      "state": {}
     },
     "7cb36dbe563e42b695e2f3689b78a9e0": {
      "model_module": "@jupyter-widgets/controls",
      "model_module_version": "1.1.0",
      "model_name": "ButtonStyleModel",
      "state": {}
     },
     "7d19edd6942946759af812658d083c01": {
      "model_module": "@jupyter-widgets/controls",
      "model_module_version": "1.1.0",
      "model_name": "ButtonModel",
      "state": {
       "description": "Plot on",
       "layout": "IPY_MODEL_6604bf8f950c42ca81d46e1b23c8c87c",
       "style": "IPY_MODEL_e036334026c84ecda71ff21b9c192013"
      }
     },
     "7d26853b4acc47f0be73312dd7be5a4b": {
      "model_module": "@jupyter-widgets/controls",
      "model_module_version": "1.1.0",
      "model_name": "ButtonModel",
      "state": {
       "description": "Plot on",
       "layout": "IPY_MODEL_94f465dd092b45d9aaf5363ff43543e2",
       "style": "IPY_MODEL_12f46ecbaced4556a7d35009f55ec3e2"
      }
     },
     "7d522ff108d24f3d84f43d8aa7e3f272": {
      "model_module": "@jupyter-widgets/base",
      "model_module_version": "1.0.0",
      "model_name": "LayoutModel",
      "state": {}
     },
     "7db52c46e644432e8dcb7eada4867c76": {
      "model_module": "@jupyter-widgets/controls",
      "model_module_version": "1.1.0",
      "model_name": "DropdownModel",
      "state": {
       "_options_labels": [
        "city",
        "library",
        "Lokalisierung",
        "Datierung",
        "text"
       ],
       "description": "Search in:",
       "index": 4,
       "layout": "IPY_MODEL_1545cba429094cfdb496dcd5c2adbfd1",
       "style": "IPY_MODEL_a9b96de1848c41b7a6899fbe57ffa1b4"
      }
     },
     "7db57979bb494ed19267fffb208359b6": {
      "model_module": "@jupyter-widgets/base",
      "model_module_version": "1.0.0",
      "model_name": "LayoutModel",
      "state": {
       "flex": "0 1 auto",
       "height": "200px",
       "min_height": "40px",
       "width": "30%"
      }
     },
     "7dc8a2798d724737b0159779971b9c9c": {
      "model_module": "@jupyter-widgets/controls",
      "model_module_version": "1.1.0",
      "model_name": "ButtonModel",
      "state": {
       "description": "Plot on",
       "layout": "IPY_MODEL_b917a457fd214c758a6637f1746f3326",
       "style": "IPY_MODEL_e89d37f813ae4ef6bed41cedc64abbde"
      }
     },
     "7de8c366cbcc45eeb0526fac192d86dd": {
      "model_module": "@jupyter-widgets/output",
      "model_module_version": "1.0.0",
      "model_name": "OutputModel",
      "state": {
       "layout": "IPY_MODEL_685ebe416d394369b6b98208e172dc12",
       "outputs": [
        {
         "name": "stdout",
         "output_type": "stream",
         "text": "Found 432 entries.\n"
        }
       ]
      }
     },
     "7dedb235ef6343c382504c391c97fa24": {
      "model_module": "@jupyter-widgets/controls",
      "model_module_version": "1.1.0",
      "model_name": "ToggleButtonsStyleModel",
      "state": {
       "button_width": "",
       "description_width": ""
      }
     },
     "7e1218a58b37458faa42717ad337d7ec": {
      "model_module": "@jupyter-widgets/controls",
      "model_module_version": "1.1.0",
      "model_name": "TextareaModel",
      "state": {
       "layout": "IPY_MODEL_c73e9e850b314ff09afab18d8fe3951b",
       "placeholder": "Result",
       "style": "IPY_MODEL_7ff998ddf7b342cf8f1ae81880e68e64",
       "value": "Result 7\ncity: FULDA\nlibrary: Hessische Landesbibliothek\nmanuID: 1334\nLiteratur: Lit. Köllner, Illuminierte Handschriften, Nr. 13, Abb. 76-77 (Fulda); (Chicago:) Masi, Mediaeval Studies 34 (1972), S. 101 („Tours, s. IX/X“).\nLokalisierung: Corvey\nDatierung: IX. Jh., ca. 3. Drittel\nlatitude: 51.85\nlongitude: 9.36667"
      }
     },
     "7e40d0e1aae040e1994abbca91be0bfd": {
      "model_module": "@jupyter-widgets/base",
      "model_module_version": "1.0.0",
      "model_name": "LayoutModel",
      "state": {
       "flex": "0 1 auto",
       "height": "200px",
       "min_height": "40px",
       "width": "70%"
      }
     },
     "7e5e7887f6504292af8ed593fd796368": {
      "model_module": "@jupyter-widgets/base",
      "model_module_version": "1.0.0",
      "model_name": "LayoutModel",
      "state": {}
     },
     "7edd350e557c4ca6b61356551e3cdb1f": {
      "model_module": "@jupyter-widgets/controls",
      "model_module_version": "1.1.0",
      "model_name": "TextareaModel",
      "state": {
       "layout": "IPY_MODEL_16f0f7f7257340659b6c66989dad8af5",
       "placeholder": "Sentence",
       "style": "IPY_MODEL_37330a86c9454fe79fa5495509296834",
       "value": "IV Evangelia. 280 BI.; 30,5 χ 24 cm (18,5 χ 11,7 cm); 20, 23, 24 Z. Schlichte Min., verwandt mit BRESCIA, Bibi. Civica Queriniana, Ms. E.II.9; Lig.: rcc. Schmale natürliche Rust. Mon.cap. Schmuck: Kanontafeln (8v-14r); die vier Evangelisten (14v); Zierrahmen (19v). Lit.: Koehler 3, S. 53 („spätestens 814 o. sogar 810“), 72-80, Taf. 28-36; Aussi. Karl d. Gr., Nr. 421; Ma. Studien 3, S. 179; Nordenfalk, Kanontafeln, S. 195ff, 274f., Taf. 162, 163. - Karolingisches Hofatelier, Zeit Ludwigs des Frommen (spätestens 830)- "
      }
     },
     "7f5065ddb1b94cfba0426115f291375c": {
      "model_module": "@jupyter-widgets/controls",
      "model_module_version": "1.1.0",
      "model_name": "ButtonStyleModel",
      "state": {}
     },
     "7f608ba83f3c4fdf84cbc97cf3fd6ee1": {
      "model_module": "@jupyter-widgets/controls",
      "model_module_version": "1.1.0",
      "model_name": "ButtonModel",
      "state": {
       "description": "Reset plot",
       "layout": "IPY_MODEL_4a49505b9ac5496e8316061e73ed40f4",
       "style": "IPY_MODEL_d95b518efc824e28bd6f1a43cffbe9f0"
      }
     },
     "7f9cdf7b0a17438cabfcc13a1af60ec3": {
      "model_module": "@jupyter-widgets/controls",
      "model_module_version": "1.1.0",
      "model_name": "DescriptionStyleModel",
      "state": {
       "description_width": ""
      }
     },
     "7facffa82b1443f086d070460f8e26fd": {
      "model_module": "@jupyter-widgets/output",
      "model_module_version": "1.0.0",
      "model_name": "OutputModel",
      "state": {
       "layout": "IPY_MODEL_67d64f2fc4ee40c2b5e0f50ff3eec048",
       "outputs": [
        {
         "name": "stdout",
         "output_type": "stream",
         "text": "Found 7 entries.\n"
        }
       ]
      }
     },
     "7fae323cf17a43e698f3cf71f0843416": {
      "model_module": "@jupyter-widgets/base",
      "model_module_version": "1.0.0",
      "model_name": "LayoutModel",
      "state": {}
     },
     "7fc32c2022d3406e90f5e512b4128e84": {
      "model_module": "@jupyter-widgets/controls",
      "model_module_version": "1.1.0",
      "model_name": "DescriptionStyleModel",
      "state": {
       "description_width": ""
      }
     },
     "7ff998ddf7b342cf8f1ae81880e68e64": {
      "model_module": "@jupyter-widgets/controls",
      "model_module_version": "1.1.0",
      "model_name": "DescriptionStyleModel",
      "state": {
       "description_width": ""
      }
     },
     "807b61f71a14471ba3dbc72198a8b0ec": {
      "model_module": "@jupyter-widgets/controls",
      "model_module_version": "1.1.0",
      "model_name": "ButtonStyleModel",
      "state": {}
     },
     "809f4d2ff9884dc1ad5f8cf28b66f5f9": {
      "model_module": "@jupyter-widgets/controls",
      "model_module_version": "1.1.0",
      "model_name": "ButtonModel",
      "state": {
       "description": "Plot on",
       "layout": "IPY_MODEL_568269a520664fe28ebe4e243eeccb5f",
       "style": "IPY_MODEL_419552f2ef4443e5b809bff34786b04d"
      }
     },
     "80cda64433bd4dcf802ba8c71a6c4101": {
      "model_module": "@jupyter-widgets/controls",
      "model_module_version": "1.1.0",
      "model_name": "DescriptionStyleModel",
      "state": {
       "description_width": ""
      }
     },
     "80e58e530a3b44c7964a411ecf525ffb": {
      "model_module": "@jupyter-widgets/base",
      "model_module_version": "1.0.0",
      "model_name": "LayoutModel",
      "state": {}
     },
     "80e7f760e1354099b595a627497d2ffb": {
      "model_module": "@jupyter-widgets/base",
      "model_module_version": "1.0.0",
      "model_name": "LayoutModel",
      "state": {}
     },
     "80f7f5c88bb3410dad4545a7096446de": {
      "model_module": "@jupyter-widgets/controls",
      "model_module_version": "1.1.0",
      "model_name": "SliderStyleModel",
      "state": {
       "description_width": ""
      }
     },
     "813956c4add14f7fbf625f8389899982": {
      "model_module": "@jupyter-widgets/controls",
      "model_module_version": "1.1.0",
      "model_name": "ButtonModel",
      "state": {
       "description": "Reset plot",
       "layout": "IPY_MODEL_e001a07560774f2c889df527a40915ac",
       "style": "IPY_MODEL_9907c3ddfeb14feebff50e3e3d965654"
      }
     },
     "816fd088a22142659209f7c9058109fb": {
      "model_module": "@jupyter-widgets/base",
      "model_module_version": "1.0.0",
      "model_name": "LayoutModel",
      "state": {}
     },
     "81779e1269134cdfa5c848772e9604cf": {
      "model_module": "@jupyter-widgets/controls",
      "model_module_version": "1.1.0",
      "model_name": "DropdownModel",
      "state": {
       "_options_labels": [
        "city",
        "library",
        "Lokalisierung",
        "Datierung",
        "text"
       ],
       "description": "Search in:",
       "index": 4,
       "layout": "IPY_MODEL_a8953e0ccdb944839f9c3ce0156410e9",
       "style": "IPY_MODEL_b66bdbd60afd405c9cd58c0f0348a2b6"
      }
     },
     "819934dc7eec4104b60fe323a319c65e": {
      "model_module": "@jupyter-widgets/base",
      "model_module_version": "1.0.0",
      "model_name": "LayoutModel",
      "state": {}
     },
     "81e6289ec3a445518ceec934e6ec8713": {
      "model_module": "@jupyter-widgets/controls",
      "model_module_version": "1.1.0",
      "model_name": "IntSliderModel",
      "state": {
       "layout": "IPY_MODEL_3ba506873afb422fa7844c2a48ff7bd3",
       "max": 7,
       "style": "IPY_MODEL_15ada9ef270643f483489677e322c1ff",
       "value": 3
      }
     },
     "828ead295bea4b3e8b15ac9ee168092a": {
      "model_module": "@jupyter-widgets/controls",
      "model_module_version": "1.1.0",
      "model_name": "DescriptionStyleModel",
      "state": {
       "description_width": ""
      }
     },
     "83185b9e6d4047a4b4ecb126145e8af3": {
      "model_module": "@jupyter-widgets/base",
      "model_module_version": "1.0.0",
      "model_name": "LayoutModel",
      "state": {}
     },
     "83502157fad540df889d877a00c38c94": {
      "model_module": "@jupyter-widgets/controls",
      "model_module_version": "1.1.0",
      "model_name": "ButtonStyleModel",
      "state": {}
     },
     "8353e5d315eb47c8884f3f1ab26e0ee5": {
      "model_module": "@jupyter-widgets/controls",
      "model_module_version": "1.1.0",
      "model_name": "IntSliderModel",
      "state": {
       "layout": "IPY_MODEL_8760c5e1946344269c4c7d9cc859e5bd",
       "max": 7,
       "style": "IPY_MODEL_2d950140d37141cb9b1df7a2a67a67e0"
      }
     },
     "83676336fc8745ce96c2c6d643760b36": {
      "model_module": "@jupyter-widgets/controls",
      "model_module_version": "1.1.0",
      "model_name": "DescriptionStyleModel",
      "state": {
       "description_width": ""
      }
     },
     "8369b06ed3c04e06b46995bdb32fc310": {
      "model_module": "@jupyter-widgets/controls",
      "model_module_version": "1.1.0",
      "model_name": "IntSliderModel",
      "state": {
       "layout": "IPY_MODEL_4a35c318420e4c36a7b6191919108762",
       "max": 7,
       "style": "IPY_MODEL_0bb38bc3bfcd47af9a51e21512a8f751"
      }
     },
     "83a7535d4ba14c99bc2a37dbbaf4352e": {
      "model_module": "@jupyter-widgets/controls",
      "model_module_version": "1.1.0",
      "model_name": "ButtonModel",
      "state": {
       "description": "Plot on",
       "layout": "IPY_MODEL_c41c1f57896142009df63c3170168074",
       "style": "IPY_MODEL_d942b94ab90249d1b873360fbfb3a2bb"
      }
     },
     "83e08707b07d44aba944727a08da7c6e": {
      "model_module": "@jupyter-widgets/controls",
      "model_module_version": "1.1.0",
      "model_name": "IntSliderModel",
      "state": {
       "layout": "IPY_MODEL_3b3b8632ce894b37a5b173b8a552f2d2",
       "max": 15,
       "style": "IPY_MODEL_8c3ad8e52ddf404c8331f10fb9ac0b6a"
      }
     },
     "83fed35cae1d4dffa2cc1ccd476037c9": {
      "model_module": "@jupyter-widgets/controls",
      "model_module_version": "1.1.0",
      "model_name": "DescriptionStyleModel",
      "state": {
       "description_width": ""
      }
     },
     "840f467aa93446b79c81a0c7cc401852": {
      "model_module": "@jupyter-widgets/controls",
      "model_module_version": "1.1.0",
      "model_name": "TextareaModel",
      "state": {
       "layout": "IPY_MODEL_ec45f60a231445bab314f9355a55cfca",
       "placeholder": "Result",
       "style": "IPY_MODEL_a40711a53c8a4b5d874d7156661c8a0a",
       "value": "Result 6\ncity: BRESCIA\nlibrary: Biblioteca Civica Queriniana\nmanuID: 682\nLiteratur: Lit. Koehler 3, S. 8Iff. („vor 810“) u. Taf. 37-39; Ma. Studien 3, S. 158, 174ff, 179, 182, 185.\nLokalisierung: Aachen,  Hofschule\nDatierung: Zeit Ludwigs des Frommen\nlatitude: nan\nlongitude: nan"
      }
     },
     "84417a771fda44308d8658efc67783e7": {
      "model_module": "@jupyter-widgets/controls",
      "model_module_version": "1.1.0",
      "model_name": "TextareaModel",
      "state": {
       "layout": "IPY_MODEL_3c170851b8544025a3cffbb46f9f2911",
       "placeholder": "Sentence",
       "style": "IPY_MODEL_51dd7aa94a584130a2dea5b04fb86fea",
       "value": "Cod. Wings 1. IV Evangelia. I + 333 + I Bl. (Ordnung z.T. verwirrt); 23,5x16,8 cm (14,3x9,7 cm); 17 Z. 2r-319r: St. Galler Kalligr. mehrerer Hde. 7r-12r Kanontafeln. Init. z.T. mit Gold- u. Silber-füllung; 14v Purpurband. 319v-333r Capit, ev. (s. X2). Lit.: Merton2, S. 49; Landsberger, Abb. 9c, 10a; Ausst. Suevia Sacra, Nr. 156, Abb. 145; Aachener Kunstblätter 45 (1974), S. 350f. m. Abb. - St. Gallen, IX. Jh., 3. Drittel- "
      }
     },
     "844c7b94a2da4fc1a18ad490046279c3": {
      "model_module": "@jupyter-widgets/controls",
      "model_module_version": "1.1.0",
      "model_name": "ButtonStyleModel",
      "state": {}
     },
     "8470c99267034aafa00f93a16035a85b": {
      "model_module": "@jupyter-widgets/base",
      "model_module_version": "1.0.0",
      "model_name": "LayoutModel",
      "state": {}
     },
     "84bde31c048e445db743723ea8c37a3f": {
      "model_module": "@jupyter-widgets/controls",
      "model_module_version": "1.1.0",
      "model_name": "TextareaModel",
      "state": {
       "layout": "IPY_MODEL_7db57979bb494ed19267fffb208359b6",
       "placeholder": "Result",
       "style": "IPY_MODEL_e687aa3e605d404cbff416e8acb8cbfb",
       "value": "Result 3\nvolume: Band_1\npart: Einleitung\npage: 1\nparagraph: 6\nsentence: 1"
      }
     },
     "84c9e17086fc483f8efc352ac7a487ee": {
      "model_module": "@jupyter-widgets/controls",
      "model_module_version": "1.1.0",
      "model_name": "ToggleButtonsStyleModel",
      "state": {
       "button_width": "",
       "description_width": ""
      }
     },
     "84f46d08deeb41acbcb44e8932acea47": {
      "model_module": "@jupyter-widgets/controls",
      "model_module_version": "1.1.0",
      "model_name": "VBoxModel",
      "state": {
       "children": [
        "IPY_MODEL_e2ec6580897b4f089a65e37dc18180e4",
        "IPY_MODEL_96973ad3cc8d4c5aaab16c77f72e8f24",
        "IPY_MODEL_6909e42a58dd46b8b6210ff5db08b920",
        "IPY_MODEL_860e32bf74254ada8d8375e6539bcea1",
        "IPY_MODEL_fb4f87f020b34d05940b2f1002fe49a8",
        "IPY_MODEL_cb462af595ca4565897e8e8d8fac499e"
       ],
       "layout": "IPY_MODEL_2968c3324cbd411fbad49876ec2cd360"
      }
     },
     "84f91580d316407ea207d0d80b29ba4a": {
      "model_module": "@jupyter-widgets/base",
      "model_module_version": "1.0.0",
      "model_name": "LayoutModel",
      "state": {}
     },
     "84fa2d7b33ae484ba22edec23111beb3": {
      "model_module": "@jupyter-widgets/controls",
      "model_module_version": "1.1.0",
      "model_name": "HBoxModel",
      "state": {
       "children": [
        "IPY_MODEL_3cf5bcc9e8c043e8b948c000f899dbb1",
        "IPY_MODEL_e569ae8f6b904b65902916b60bd5c643",
        "IPY_MODEL_682c58dbbbe04a5fa2506eb40103900b"
       ],
       "layout": "IPY_MODEL_73b612ed445348398d43334f67e6fa00"
      }
     },
     "85466a2ff117497380160e0d935f14fd": {
      "model_module": "@jupyter-widgets/controls",
      "model_module_version": "1.1.0",
      "model_name": "HBoxModel",
      "state": {
       "children": [
        "IPY_MODEL_61e6d3fe016a4d0782b80e7c892ffd2f",
        "IPY_MODEL_52e8b0d889314dad957c9a8c900a3b43",
        "IPY_MODEL_7847e0b2faf64b2bb93cb5474255d721"
       ],
       "layout": "IPY_MODEL_9115f8ec25104d6aa4183d731cf4e1ce"
      }
     },
     "857039e20eb84e26b5592ba36dc9c091": {
      "model_module": "@jupyter-widgets/controls",
      "model_module_version": "1.1.0",
      "model_name": "DescriptionStyleModel",
      "state": {
       "description_width": ""
      }
     },
     "85b3e7ef61e14037942d628b987808a3": {
      "model_module": "@jupyter-widgets/base",
      "model_module_version": "1.0.0",
      "model_name": "LayoutModel",
      "state": {
       "flex": "0 1 auto",
       "height": "200px",
       "min_height": "40px",
       "width": "30%"
      }
     },
     "85d0570944cf4177916fde43b3504cb7": {
      "model_module": "@jupyter-widgets/base",
      "model_module_version": "1.0.0",
      "model_name": "LayoutModel",
      "state": {}
     },
     "85d4cff49dd845a09c86c8e7fcf31a1b": {
      "model_module": "@jupyter-widgets/controls",
      "model_module_version": "1.1.0",
      "model_name": "ToggleButtonsStyleModel",
      "state": {
       "button_width": "",
       "description_width": ""
      }
     },
     "860e32bf74254ada8d8375e6539bcea1": {
      "model_module": "@jupyter-widgets/controls",
      "model_module_version": "1.1.0",
      "model_name": "HBoxModel",
      "state": {
       "children": [
        "IPY_MODEL_f00adf70b12243c3ab22a7300a097e4f",
        "IPY_MODEL_2a226e3a13e0431cb1b15517dec08f1f"
       ],
       "layout": "IPY_MODEL_f6fe34cbbb3548419f7e892c6e6b3977"
      }
     },
     "86441f7ba1354128aa50e52ed24eadea": {
      "model_module": "@jupyter-widgets/controls",
      "model_module_version": "1.1.0",
      "model_name": "DropdownModel",
      "state": {
       "_options_labels": [
        "city",
        "library",
        "Lokalisierung",
        "Datierung",
        "text"
       ],
       "description": "Search in:",
       "index": 4,
       "layout": "IPY_MODEL_411b86a8323141f9892371a6b9b3a4c9",
       "style": "IPY_MODEL_17967c129713472caeb6467dcfcabee6"
      }
     },
     "868b0a84a724413abb387b65694a8bbf": {
      "model_module": "@jupyter-widgets/controls",
      "model_module_version": "1.1.0",
      "model_name": "ButtonStyleModel",
      "state": {}
     },
     "86c553a190d04a17bd853302bed62973": {
      "model_module": "@jupyter-widgets/controls",
      "model_module_version": "1.1.0",
      "model_name": "SliderStyleModel",
      "state": {
       "description_width": ""
      }
     },
     "86c64b3c4db24fc0ab93358cf6729fb0": {
      "model_module": "@jupyter-widgets/base",
      "model_module_version": "1.0.0",
      "model_name": "LayoutModel",
      "state": {}
     },
     "86cddbf9efbb45c6b561722d1eb792c4": {
      "model_module": "@jupyter-widgets/controls",
      "model_module_version": "1.1.0",
      "model_name": "HBoxModel",
      "state": {
       "children": [
        "IPY_MODEL_27d71d5a7ffd4771aa25f6b4642e191b",
        "IPY_MODEL_4cce41384ddc40b5b6cb8544e05ce441"
       ],
       "layout": "IPY_MODEL_a2417dfc36534413b3653b34e9448604"
      }
     },
     "86fa43209b5f408998d21c914a8c609c": {
      "model_module": "@jupyter-widgets/controls",
      "model_module_version": "1.1.0",
      "model_name": "ToggleButtonsModel",
      "state": {
       "_options_labels": [
        "more",
        "less"
       ],
       "button_style": "",
       "icons": [],
       "index": 0,
       "layout": "IPY_MODEL_a5945b2294a64fb99f30800848da75b8",
       "style": "IPY_MODEL_52ec2738c74c41c19bb13cc7c95b7678",
       "tooltips": []
      }
     },
     "87238517860846d591c7f03c8e870110": {
      "model_module": "@jupyter-widgets/controls",
      "model_module_version": "1.1.0",
      "model_name": "DescriptionStyleModel",
      "state": {
       "description_width": ""
      }
     },
     "8760c5e1946344269c4c7d9cc859e5bd": {
      "model_module": "@jupyter-widgets/base",
      "model_module_version": "1.0.0",
      "model_name": "LayoutModel",
      "state": {}
     },
     "87a575e0dddf44f1a029da06b0f85991": {
      "model_module": "@jupyter-widgets/base",
      "model_module_version": "1.0.0",
      "model_name": "LayoutModel",
      "state": {}
     },
     "87ae33b79ddc4486a2912229941b6140": {
      "model_module": "@jupyter-widgets/base",
      "model_module_version": "1.0.0",
      "model_name": "LayoutModel",
      "state": {}
     },
     "8864eb90a7764dc984e84c8ad96477f5": {
      "model_module": "@jupyter-widgets/base",
      "model_module_version": "1.0.0",
      "model_name": "LayoutModel",
      "state": {}
     },
     "8878dcf32dac45a49d98c568b95c2c91": {
      "model_module": "@jupyter-widgets/controls",
      "model_module_version": "1.1.0",
      "model_name": "ButtonModel",
      "state": {
       "description": "Plot on",
       "layout": "IPY_MODEL_b2661cccf5494920ab8f03414975c4e2",
       "style": "IPY_MODEL_a5902fdf58d1430c9fcf4050a8fbf954"
      }
     },
     "88f94ee6c2f34bb7aec5bf3bc8c85480": {
      "model_module": "@jupyter-widgets/base",
      "model_module_version": "1.0.0",
      "model_name": "LayoutModel",
      "state": {}
     },
     "8967b329cdf745b89bbefd2f1c9945e8": {
      "model_module": "@jupyter-widgets/controls",
      "model_module_version": "1.1.0",
      "model_name": "AccordionModel",
      "state": {
       "_titles": {
        "0": "Enter search term"
       },
       "children": [
        "IPY_MODEL_bed314f9e43345c08a89207c2b8a7848"
       ],
       "layout": "IPY_MODEL_2e227e82d0f142cfa60e0dcb8e7ffc36"
      }
     },
     "89f36d3a60494642a8d2d53f53dfa448": {
      "model_module": "@jupyter-widgets/base",
      "model_module_version": "1.0.0",
      "model_name": "LayoutModel",
      "state": {}
     },
     "8a1c7796a1d44437a161e1e8bfb3a530": {
      "model_module": "@jupyter-widgets/controls",
      "model_module_version": "1.1.0",
      "model_name": "ButtonStyleModel",
      "state": {}
     },
     "8a3fa5f539d644a0ba41e1397c1db437": {
      "model_module": "@jupyter-widgets/controls",
      "model_module_version": "1.1.0",
      "model_name": "DescriptionStyleModel",
      "state": {
       "description_width": ""
      }
     },
     "8ac36d8f68f44b3fa751cd51635d364c": {
      "model_module": "@jupyter-widgets/base",
      "model_module_version": "1.0.0",
      "model_name": "LayoutModel",
      "state": {}
     },
     "8ad1cf84f32c41f2bbd492539010c4f3": {
      "model_module": "@jupyter-widgets/controls",
      "model_module_version": "1.1.0",
      "model_name": "TextModel",
      "state": {
       "description": "Search for:",
       "layout": "IPY_MODEL_64ca2dfc2c144e96a751b029adcd207b",
       "placeholder": "term",
       "style": "IPY_MODEL_46c88ebb41e2477d84559799f1baa38b",
       "value": "Aachen"
      }
     },
     "8b1fe94029f9499eaea6a54ab8399b7a": {
      "model_module": "@jupyter-widgets/controls",
      "model_module_version": "1.1.0",
      "model_name": "DescriptionStyleModel",
      "state": {
       "description_width": ""
      }
     },
     "8b3dd34bc9fa4841b90ea2cb67cb3667": {
      "model_module": "@jupyter-widgets/controls",
      "model_module_version": "1.1.0",
      "model_name": "DescriptionStyleModel",
      "state": {
       "description_width": ""
      }
     },
     "8b45dcac996043ca9b9d38814fa09c27": {
      "model_module": "@jupyter-widgets/controls",
      "model_module_version": "1.1.0",
      "model_name": "DescriptionStyleModel",
      "state": {
       "description_width": ""
      }
     },
     "8b68dda17c0045e5a693a9318f59e056": {
      "model_module": "@jupyter-widgets/controls",
      "model_module_version": "1.1.0",
      "model_name": "HBoxModel",
      "state": {
       "children": [
        "IPY_MODEL_0dee9dad7c4c4d289926e194ab64c4ac",
        "IPY_MODEL_0c083e4f276c4b878c6408d811ae3c0f",
        "IPY_MODEL_039cb0c1b6cf403c8c9d5c58abb01064"
       ],
       "layout": "IPY_MODEL_84f91580d316407ea207d0d80b29ba4a"
      }
     },
     "8bb39f10cc284efaadb4c09e2bd324a3": {
      "model_module": "@jupyter-widgets/controls",
      "model_module_version": "1.1.0",
      "model_name": "DescriptionStyleModel",
      "state": {
       "description_width": ""
      }
     },
     "8bd2e2fd6092426bac3670549aa84caf": {
      "model_module": "@jupyter-widgets/controls",
      "model_module_version": "1.1.0",
      "model_name": "TextModel",
      "state": {
       "description": "Search for:",
       "layout": "IPY_MODEL_6ea04ee5ea3a436c8b5602ea51c8a845",
       "placeholder": "term",
       "style": "IPY_MODEL_b5c2548955fc4b958500dfeabf1051df",
       "value": "Aachen"
      }
     },
     "8bde203190114a01a447d1a998b9fd00": {
      "model_module": "@jupyter-widgets/base",
      "model_module_version": "1.0.0",
      "model_name": "LayoutModel",
      "state": {}
     },
     "8c0e6c57d7c5478f900d225e43940e1e": {
      "model_module": "@jupyter-widgets/controls",
      "model_module_version": "1.1.0",
      "model_name": "ButtonModel",
      "state": {
       "button_style": "danger",
       "description": "Search",
       "layout": "IPY_MODEL_1873a3b3f600430f90bb2c987b44bd38",
       "style": "IPY_MODEL_c484b44df5764ff7a13767712b9f969e"
      }
     },
     "8c17f52fc4d54d1d97dc1e9999df183c": {
      "model_module": "@jupyter-widgets/output",
      "model_module_version": "1.0.0",
      "model_name": "OutputModel",
      "state": {
       "layout": "IPY_MODEL_d48569b0629042e9846266adc6ccddd8",
       "outputs": [
        {
         "name": "stdout",
         "output_type": "stream",
         "text": "Found 15 entries.\n"
        }
       ]
      }
     },
     "8c3ad8e52ddf404c8331f10fb9ac0b6a": {
      "model_module": "@jupyter-widgets/controls",
      "model_module_version": "1.1.0",
      "model_name": "SliderStyleModel",
      "state": {
       "description_width": ""
      }
     },
     "8c547b74a2bb4a1197fdb08e9d5ccb5b": {
      "model_module": "@jupyter-widgets/controls",
      "model_module_version": "1.1.0",
      "model_name": "AccordionModel",
      "state": {
       "_titles": {
        "0": "Enter search term"
       },
       "children": [
        "IPY_MODEL_f34039b55e714e368e7ddd5c345f153f"
       ],
       "layout": "IPY_MODEL_5d0749859bae4743b786087752df4829"
      }
     },
     "8c95f79146334be29ec13e3a04a1314b": {
      "model_module": "@jupyter-widgets/controls",
      "model_module_version": "1.1.0",
      "model_name": "VBoxModel",
      "state": {
       "children": [
        "IPY_MODEL_8c547b74a2bb4a1197fdb08e9d5ccb5b",
        "IPY_MODEL_4b52dd8e4e864ee1a17b08fad17ac763",
        "IPY_MODEL_9e190004fd4b46a8bf6d0d404d19fcea",
        "IPY_MODEL_d0b5b7a5f6b74ea4952e882da7015811",
        "IPY_MODEL_5db99617235747f899b047ee1167f39a",
        "IPY_MODEL_f7a5956c91334ca4913583a471d9689a"
       ],
       "layout": "IPY_MODEL_adba86350cf44036847cc217000ac43b"
      }
     },
     "8cbb0b15ad93444193b96b5e4b53e279": {
      "model_module": "@jupyter-widgets/controls",
      "model_module_version": "1.1.0",
      "model_name": "DescriptionStyleModel",
      "state": {
       "description_width": ""
      }
     },
     "8cbc13bfa757415ea132addb41963c2e": {
      "model_module": "@jupyter-widgets/base",
      "model_module_version": "1.0.0",
      "model_name": "LayoutModel",
      "state": {}
     },
     "8dcecb3857254744a4546c66ca7c09eb": {
      "model_module": "@jupyter-widgets/base",
      "model_module_version": "1.0.0",
      "model_name": "LayoutModel",
      "state": {}
     },
     "8dffc7ff691543179f038f43c2716bba": {
      "model_module": "@jupyter-widgets/controls",
      "model_module_version": "1.1.0",
      "model_name": "DropdownModel",
      "state": {
       "_options_labels": [
        "volume",
        "part",
        "text"
       ],
       "index": 0,
       "layout": "IPY_MODEL_4dce68a473b246d78313633b8cfc52f6",
       "style": "IPY_MODEL_7fc32c2022d3406e90f5e512b4128e84"
      }
     },
     "8e340ede35d24ab2bd927b7cbdbb3d21": {
      "model_module": "@jupyter-widgets/base",
      "model_module_version": "1.0.0",
      "model_name": "LayoutModel",
      "state": {}
     },
     "8e362985707848e2bd9ec075e51d7c9f": {
      "model_module": "@jupyter-widgets/controls",
      "model_module_version": "1.1.0",
      "model_name": "AccordionModel",
      "state": {
       "_titles": {
        "0": "Enter search term"
       },
       "children": [
        "IPY_MODEL_2b81259b071d45fa946e722408a181b5"
       ],
       "layout": "IPY_MODEL_6852324ad5bf4fbbae9a8e35a807b786"
      }
     },
     "8e37b26d47f643308a186040eabff285": {
      "model_module": "@jupyter-widgets/controls",
      "model_module_version": "1.1.0",
      "model_name": "DescriptionStyleModel",
      "state": {
       "description_width": ""
      }
     },
     "8e3ddb12b3b94060a5e517c4b849cbe0": {
      "model_module": "@jupyter-widgets/base",
      "model_module_version": "1.0.0",
      "model_name": "LayoutModel",
      "state": {}
     },
     "8e6982831ccd49eeb293dd2501b9b0d6": {
      "model_module": "@jupyter-widgets/base",
      "model_module_version": "1.0.0",
      "model_name": "LayoutModel",
      "state": {}
     },
     "8e767d88d397462289ec426b8ea0ecdd": {
      "model_module": "@jupyter-widgets/output",
      "model_module_version": "1.0.0",
      "model_name": "OutputModel",
      "state": {
       "layout": "IPY_MODEL_37d0393581364facb90fce8acd31be99"
      }
     },
     "8ea8e3727909490283a13e3324d0a6d4": {
      "model_module": "@jupyter-widgets/controls",
      "model_module_version": "1.1.0",
      "model_name": "TextareaModel",
      "state": {
       "layout": "IPY_MODEL_6bbd5bd4efe64834a5f148af07fd2912",
       "placeholder": "Sentence",
       "style": "IPY_MODEL_1ebcf0246ae04a9780da7a6c7f42247d",
       "value": " HERAUSGEGEBEN 1M AUFTRAG"
      }
     },
     "8f0601f5b63a4852beeaffd98948b655": {
      "model_module": "@jupyter-widgets/controls",
      "model_module_version": "1.1.0",
      "model_name": "DropdownModel",
      "state": {
       "_options_labels": [
        "city",
        "library",
        "Lokalisierung",
        "Datierung",
        "text"
       ],
       "description": "Search in:",
       "index": 4,
       "layout": "IPY_MODEL_9bd8c3c72a114d0bab1c432af653c91a",
       "style": "IPY_MODEL_5243fa29d3e24f5faab629d415a159cd"
      }
     },
     "8f22a23aaf8a4e2fb1351aa479266076": {
      "model_module": "@jupyter-widgets/controls",
      "model_module_version": "1.1.0",
      "model_name": "HBoxModel",
      "state": {
       "children": [
        "IPY_MODEL_ad70ab14f65c43289399e0a5c5aa38f8",
        "IPY_MODEL_e4d606268e644c11ad9aee8b0a9ab7ad"
       ],
       "layout": "IPY_MODEL_87a575e0dddf44f1a029da06b0f85991"
      }
     },
     "8f758c7000df4c6eb7a0610397576950": {
      "model_module": "@jupyter-widgets/base",
      "model_module_version": "1.0.0",
      "model_name": "LayoutModel",
      "state": {}
     },
     "8f99b2ed5e064c0f8eeaa5c3c71a1c5e": {
      "model_module": "@jupyter-widgets/base",
      "model_module_version": "1.0.0",
      "model_name": "LayoutModel",
      "state": {
       "margin": "0 0 0 20px"
      }
     },
     "8f9fe33a79f94207bfd3733c0c93a67a": {
      "model_module": "@jupyter-widgets/controls",
      "model_module_version": "1.1.0",
      "model_name": "DropdownModel",
      "state": {
       "_options_labels": [
        "city",
        "library",
        "Lokalisierung",
        "Datierung",
        "text"
       ],
       "description": "Search in:",
       "index": 4,
       "layout": "IPY_MODEL_a2133323f8a94c80b588fa7b9f06a9fb",
       "style": "IPY_MODEL_519788d6a2c04725a087682d5cb157b6"
      }
     },
     "8fcbf849944946ba99071f8f62b86158": {
      "model_module": "@jupyter-widgets/base",
      "model_module_version": "1.0.0",
      "model_name": "LayoutModel",
      "state": {}
     },
     "8fced268dc3646318574212bf5f2c984": {
      "model_module": "@jupyter-widgets/controls",
      "model_module_version": "1.1.0",
      "model_name": "DropdownModel",
      "state": {
       "_options_labels": [
        "volume",
        "part",
        "text"
       ],
       "description": "Search in:",
       "index": 2,
       "layout": "IPY_MODEL_29b2bf27d02e480aa9303a4dc9b9193b",
       "style": "IPY_MODEL_d70f136d5f914594bcd7681f520f902d"
      }
     },
     "8fee2d332ed04621bd5b61f7326cda64": {
      "model_module": "@jupyter-widgets/controls",
      "model_module_version": "1.1.0",
      "model_name": "SliderStyleModel",
      "state": {
       "description_width": ""
      }
     },
     "9006113f2a954f6099c5c80d1052c479": {
      "model_module": "@jupyter-widgets/controls",
      "model_module_version": "1.1.0",
      "model_name": "DescriptionStyleModel",
      "state": {
       "description_width": ""
      }
     },
     "906cdde44dad45f9ae2963c034ee443c": {
      "model_module": "@jupyter-widgets/controls",
      "model_module_version": "1.1.0",
      "model_name": "VBoxModel",
      "state": {
       "children": [
        "IPY_MODEL_f2b404c99eb6440cbcb95531d3973ac4",
        "IPY_MODEL_0fb3cc1f1c9e4515af15b466e739816b",
        "IPY_MODEL_58761e97ac764623b14e8fcff9c8f01c",
        "IPY_MODEL_275cbd114b014805a5240ff1c7143da8",
        "IPY_MODEL_7b5cc97d4046496196f3a21342e5623a",
        "IPY_MODEL_33ef26e1c7cd4fc1849bba234549dc62"
       ],
       "layout": "IPY_MODEL_f5c852cbd43b45c5bdfd53c9d4854b83"
      }
     },
     "907b13257daf4e2890eb4e3cbf6cacd3": {
      "model_module": "@jupyter-widgets/base",
      "model_module_version": "1.0.0",
      "model_name": "LayoutModel",
      "state": {}
     },
     "9090d94b1fab4b98a62e8be2dd04e1b3": {
      "model_module": "@jupyter-widgets/base",
      "model_module_version": "1.0.0",
      "model_name": "LayoutModel",
      "state": {}
     },
     "90a926bc5d994f13a38407b494126178": {
      "model_module": "@jupyter-widgets/base",
      "model_module_version": "1.0.0",
      "model_name": "LayoutModel",
      "state": {}
     },
     "90e5f181fcf744efa3760d535c6a6537": {
      "model_module": "@jupyter-widgets/base",
      "model_module_version": "1.0.0",
      "model_name": "LayoutModel",
      "state": {}
     },
     "910462fd66fc478db544f9dbc1cf0221": {
      "model_module": "@jupyter-widgets/base",
      "model_module_version": "1.0.0",
      "model_name": "LayoutModel",
      "state": {}
     },
     "9115f8ec25104d6aa4183d731cf4e1ce": {
      "model_module": "@jupyter-widgets/base",
      "model_module_version": "1.0.0",
      "model_name": "LayoutModel",
      "state": {}
     },
     "91713fa451d349dfb36b8ea25e6b328f": {
      "model_module": "@jupyter-widgets/controls",
      "model_module_version": "1.1.0",
      "model_name": "ButtonStyleModel",
      "state": {}
     },
     "918ddc3954744ff499a13ce4b985c277": {
      "model_module": "@jupyter-widgets/controls",
      "model_module_version": "1.1.0",
      "model_name": "TextModel",
      "state": {
       "description": "Search for:",
       "layout": "IPY_MODEL_35ff5173548545eb9e41a0b62fc7036a",
       "placeholder": "term",
       "style": "IPY_MODEL_64f6c97d43d745e0a9be81bb80e14501"
      }
     },
     "91d4db67f1844966a98040efb1d77b66": {
      "model_module": "@jupyter-widgets/base",
      "model_module_version": "1.0.0",
      "model_name": "LayoutModel",
      "state": {
       "flex": "0 1 auto",
       "height": "200px",
       "min_height": "40px",
       "width": "30%"
      }
     },
     "91e792c7fb994fb79b6d491d8319957c": {
      "model_module": "@jupyter-widgets/controls",
      "model_module_version": "1.1.0",
      "model_name": "SliderStyleModel",
      "state": {
       "description_width": ""
      }
     },
     "91f7e3b37019474bb98d27175a7ede21": {
      "model_module": "@jupyter-widgets/controls",
      "model_module_version": "1.1.0",
      "model_name": "ButtonStyleModel",
      "state": {}
     },
     "91fdea6c5164481e871dcf615177d80c": {
      "model_module": "@jupyter-widgets/base",
      "model_module_version": "1.0.0",
      "model_name": "LayoutModel",
      "state": {}
     },
     "920a317a7cbe4f40a44eab4c272f9561": {
      "model_module": "@jupyter-widgets/controls",
      "model_module_version": "1.1.0",
      "model_name": "DescriptionStyleModel",
      "state": {
       "description_width": ""
      }
     },
     "924e6b4abc924fd58c70f409ec9eeb18": {
      "model_module": "@jupyter-widgets/base",
      "model_module_version": "1.0.0",
      "model_name": "LayoutModel",
      "state": {
       "margin": "0 0 0 20px"
      }
     },
     "925fec43ecc3479e8a2b82ec17533486": {
      "model_module": "@jupyter-widgets/controls",
      "model_module_version": "1.1.0",
      "model_name": "HBoxModel",
      "state": {
       "children": [
        "IPY_MODEL_78cccdffb85a4db5b8aac56b4d60ab6b",
        "IPY_MODEL_c68762c234d0435488b02c38778847a8"
       ],
       "layout": "IPY_MODEL_20db1935193b4a0e8f7bf9cbe799af7f"
      }
     },
     "9295ef247ccd47eb84ea14a156a647bb": {
      "model_module": "@jupyter-widgets/base",
      "model_module_version": "1.0.0",
      "model_name": "LayoutModel",
      "state": {}
     },
     "92ecd535b49c416b9b29ce6b83244098": {
      "model_module": "@jupyter-widgets/base",
      "model_module_version": "1.0.0",
      "model_name": "LayoutModel",
      "state": {}
     },
     "92f4eb9f974a4cbebe6eb12fb807169e": {
      "model_module": "@jupyter-widgets/controls",
      "model_module_version": "1.1.0",
      "model_name": "HBoxModel",
      "state": {
       "children": [
        "IPY_MODEL_a5de34822a924c49a10473d7ab2ec7ed",
        "IPY_MODEL_2c45e8e2f5a042a2a874f92628b7b494",
        "IPY_MODEL_0fade6b480d84393bd6a4f96c491d9ad"
       ],
       "layout": "IPY_MODEL_80e7f760e1354099b595a627497d2ffb"
      }
     },
     "9316b66494ae40cb9972c48c41a1b24c": {
      "model_module": "@jupyter-widgets/base",
      "model_module_version": "1.0.0",
      "model_name": "LayoutModel",
      "state": {}
     },
     "93400856834b4a91bbd2647cddb44cba": {
      "model_module": "@jupyter-widgets/controls",
      "model_module_version": "1.1.0",
      "model_name": "ButtonStyleModel",
      "state": {}
     },
     "93647ca89dad4168b5af65aa50cde128": {
      "model_module": "@jupyter-widgets/base",
      "model_module_version": "1.0.0",
      "model_name": "LayoutModel",
      "state": {
       "margin": "0 0 0 20px"
      }
     },
     "93af5b30f6a8456ca1cb41621f91e1af": {
      "model_module": "@jupyter-widgets/base",
      "model_module_version": "1.0.0",
      "model_name": "LayoutModel",
      "state": {}
     },
     "941eb8d332af4e32945aad949136ac8c": {
      "model_module": "@jupyter-widgets/controls",
      "model_module_version": "1.1.0",
      "model_name": "DropdownModel",
      "state": {
       "_options_labels": [
        "city",
        "library",
        "Lokalisierung",
        "Datierung",
        "text"
       ],
       "index": 0,
       "layout": "IPY_MODEL_bf8b5e1fe06e4320a8d5f08df3f8adec",
       "style": "IPY_MODEL_d603177e8cf64fd38f75da19953494c2"
      }
     },
     "94c4253d108b4b9193289235ac1263b1": {
      "model_module": "@jupyter-widgets/base",
      "model_module_version": "1.0.0",
      "model_name": "LayoutModel",
      "state": {}
     },
     "94c5b5f045b84daa85e97909a4cba82d": {
      "model_module": "@jupyter-widgets/base",
      "model_module_version": "1.0.0",
      "model_name": "LayoutModel",
      "state": {}
     },
     "94d7dacc99b74449a2708351dffd6344": {
      "model_module": "@jupyter-widgets/controls",
      "model_module_version": "1.1.0",
      "model_name": "ButtonModel",
      "state": {
       "button_style": "danger",
       "description": "Search",
       "layout": "IPY_MODEL_41ab8335441e4714b2651f9d178d9d63",
       "style": "IPY_MODEL_16707e286baa4b2da4f57000e576c9fe"
      }
     },
     "94dfe373715a44f6b428055461dc7897": {
      "model_module": "@jupyter-widgets/base",
      "model_module_version": "1.0.0",
      "model_name": "LayoutModel",
      "state": {}
     },
     "94f465dd092b45d9aaf5363ff43543e2": {
      "model_module": "@jupyter-widgets/base",
      "model_module_version": "1.0.0",
      "model_name": "LayoutModel",
      "state": {}
     },
     "953a9c010d28421191dab9dc26857f5d": {
      "model_module": "@jupyter-widgets/controls",
      "model_module_version": "1.1.0",
      "model_name": "ButtonStyleModel",
      "state": {}
     },
     "953abf14e4a64871a5e49deafc8efb2e": {
      "model_module": "@jupyter-widgets/controls",
      "model_module_version": "1.1.0",
      "model_name": "TextModel",
      "state": {
       "description": "Search for:",
       "layout": "IPY_MODEL_924e6b4abc924fd58c70f409ec9eeb18",
       "placeholder": "term",
       "style": "IPY_MODEL_6b2adf9fe840448e8b0a251e3de4cac9",
       "value": "Evangelia"
      }
     },
     "955043358459416e8efc1c8fe6714f3a": {
      "model_module": "@jupyter-widgets/base",
      "model_module_version": "1.0.0",
      "model_name": "LayoutModel",
      "state": {}
     },
     "955e7c9268fa4f18914a800c8a5ed226": {
      "model_module": "@jupyter-widgets/output",
      "model_module_version": "1.0.0",
      "model_name": "OutputModel",
      "state": {
       "layout": "IPY_MODEL_8e6982831ccd49eeb293dd2501b9b0d6",
       "outputs": [
        {
         "data": {
          "image/png": "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\n",
          "text/plain": "<Figure size 576x576 with 1 Axes>"
         },
         "metadata": {},
         "output_type": "display_data"
        },
        {
         "ename": "TypeError",
         "evalue": "_initFigure() missing 1 required positional argument: 'level'",
         "output_type": "error",
         "traceback": [
          "\u001b[0;31m---------------------------------------------------------------------------\u001b[0m",
          "\u001b[0;31mTypeError\u001b[0m                                 Traceback (most recent call last)",
          "\u001b[0;32m~/Dokumente/packages/corpussearch/env/local/lib/python3.6/site-packages/corpussearch/vis.py\u001b[0m in \u001b[0;36m_plotFunction\u001b[0;34m(self, widget, content, buffers)\u001b[0m\n\u001b[1;32m     94\u001b[0m         \u001b[0mresDict\u001b[0m \u001b[0;34m=\u001b[0m \u001b[0mOrderedDict\u001b[0m\u001b[0;34m(\u001b[0m\u001b[0mCounter\u001b[0m\u001b[0;34m(\u001b[0m\u001b[0melem\u001b[0m \u001b[0;32mfor\u001b[0m \u001b[0melem\u001b[0m \u001b[0;32min\u001b[0m \u001b[0miterate\u001b[0m\u001b[0;34m)\u001b[0m\u001b[0;34m)\u001b[0m\u001b[0;34m\u001b[0m\u001b[0m\n\u001b[1;32m     95\u001b[0m         \u001b[0;32mwith\u001b[0m \u001b[0mself\u001b[0m\u001b[0;34m.\u001b[0m\u001b[0mplotout\u001b[0m\u001b[0;34m:\u001b[0m\u001b[0;34m\u001b[0m\u001b[0m\n\u001b[0;32m---> 96\u001b[0;31m             \u001b[0mself\u001b[0m\u001b[0;34m.\u001b[0m\u001b[0m_initFigure\u001b[0m\u001b[0;34m(\u001b[0m\u001b[0mself\u001b[0m\u001b[0;34m.\u001b[0m\u001b[0mplotLevel\u001b[0m\u001b[0;34m.\u001b[0m\u001b[0mvalue\u001b[0m\u001b[0;34m)\u001b[0m\u001b[0;34m\u001b[0m\u001b[0m\n\u001b[0m\u001b[1;32m     97\u001b[0m             \u001b[0mlabelStr\u001b[0m \u001b[0;34m=\u001b[0m \u001b[0;34m' '\u001b[0m\u001b[0;34m.\u001b[0m\u001b[0mjoin\u001b[0m\u001b[0;34m(\u001b[0m\u001b[0;34m[\u001b[0m\u001b[0mch\u001b[0m\u001b[0;34m.\u001b[0m\u001b[0mvalue\u001b[0m \u001b[0;32mfor\u001b[0m \u001b[0mch\u001b[0m \u001b[0;32min\u001b[0m \u001b[0mself\u001b[0m\u001b[0;34m.\u001b[0m\u001b[0maccordion\u001b[0m\u001b[0;34m.\u001b[0m\u001b[0mchildren\u001b[0m\u001b[0;34m]\u001b[0m\u001b[0;34m)\u001b[0m\u001b[0;34m\u001b[0m\u001b[0m\n\u001b[1;32m     98\u001b[0m             \u001b[0mx\u001b[0m \u001b[0;34m=\u001b[0m \u001b[0;34m[\u001b[0m\u001b[0mx\u001b[0m \u001b[0;32mfor\u001b[0m \u001b[0mx\u001b[0m \u001b[0;32min\u001b[0m \u001b[0mrange\u001b[0m\u001b[0;34m(\u001b[0m\u001b[0;36m1\u001b[0m\u001b[0;34m,\u001b[0m \u001b[0mlen\u001b[0m\u001b[0;34m(\u001b[0m\u001b[0mresDict\u001b[0m\u001b[0;34m.\u001b[0m\u001b[0mkeys\u001b[0m\u001b[0;34m(\u001b[0m\u001b[0;34m)\u001b[0m\u001b[0;34m)\u001b[0m\u001b[0;34m+\u001b[0m\u001b[0;36m1\u001b[0m\u001b[0;34m)\u001b[0m\u001b[0;34m]\u001b[0m\u001b[0;34m\u001b[0m\u001b[0m\n",
          "\u001b[0;31mTypeError\u001b[0m: _initFigure() missing 1 required positional argument: 'level'"
         ]
        },
        {
         "ename": "TypeError",
         "evalue": "_initFigure() missing 1 required positional argument: 'level'",
         "output_type": "error",
         "traceback": [
          "\u001b[0;31m---------------------------------------------------------------------------\u001b[0m",
          "\u001b[0;31mTypeError\u001b[0m                                 Traceback (most recent call last)",
          "\u001b[0;32m~/Dokumente/packages/corpussearch/env/local/lib/python3.6/site-packages/corpussearch/vis.py\u001b[0m in \u001b[0;36m_plotFunction\u001b[0;34m(self, widget, content, buffers)\u001b[0m\n\u001b[1;32m     94\u001b[0m         \u001b[0mresDict\u001b[0m \u001b[0;34m=\u001b[0m \u001b[0mOrderedDict\u001b[0m\u001b[0;34m(\u001b[0m\u001b[0mCounter\u001b[0m\u001b[0;34m(\u001b[0m\u001b[0melem\u001b[0m \u001b[0;32mfor\u001b[0m \u001b[0melem\u001b[0m \u001b[0;32min\u001b[0m \u001b[0miterate\u001b[0m\u001b[0;34m)\u001b[0m\u001b[0;34m)\u001b[0m\u001b[0;34m\u001b[0m\u001b[0m\n\u001b[1;32m     95\u001b[0m         \u001b[0;32mwith\u001b[0m \u001b[0mself\u001b[0m\u001b[0;34m.\u001b[0m\u001b[0mplotout\u001b[0m\u001b[0;34m:\u001b[0m\u001b[0;34m\u001b[0m\u001b[0m\n\u001b[0;32m---> 96\u001b[0;31m             \u001b[0mself\u001b[0m\u001b[0;34m.\u001b[0m\u001b[0m_initFigure\u001b[0m\u001b[0;34m(\u001b[0m\u001b[0mself\u001b[0m\u001b[0;34m.\u001b[0m\u001b[0mplotLevel\u001b[0m\u001b[0;34m.\u001b[0m\u001b[0mvalue\u001b[0m\u001b[0;34m)\u001b[0m\u001b[0;34m\u001b[0m\u001b[0m\n\u001b[0m\u001b[1;32m     97\u001b[0m             \u001b[0mlabelStr\u001b[0m \u001b[0;34m=\u001b[0m \u001b[0;34m' '\u001b[0m\u001b[0;34m.\u001b[0m\u001b[0mjoin\u001b[0m\u001b[0;34m(\u001b[0m\u001b[0;34m[\u001b[0m\u001b[0mch\u001b[0m\u001b[0;34m.\u001b[0m\u001b[0mvalue\u001b[0m \u001b[0;32mfor\u001b[0m \u001b[0mch\u001b[0m \u001b[0;32min\u001b[0m \u001b[0mself\u001b[0m\u001b[0;34m.\u001b[0m\u001b[0maccordion\u001b[0m\u001b[0;34m.\u001b[0m\u001b[0mchildren\u001b[0m\u001b[0;34m]\u001b[0m\u001b[0;34m)\u001b[0m\u001b[0;34m\u001b[0m\u001b[0m\n\u001b[1;32m     98\u001b[0m             \u001b[0mx\u001b[0m \u001b[0;34m=\u001b[0m \u001b[0;34m[\u001b[0m\u001b[0mx\u001b[0m \u001b[0;32mfor\u001b[0m \u001b[0mx\u001b[0m \u001b[0;32min\u001b[0m \u001b[0mrange\u001b[0m\u001b[0;34m(\u001b[0m\u001b[0;36m1\u001b[0m\u001b[0;34m,\u001b[0m \u001b[0mlen\u001b[0m\u001b[0;34m(\u001b[0m\u001b[0mresDict\u001b[0m\u001b[0;34m.\u001b[0m\u001b[0mkeys\u001b[0m\u001b[0;34m(\u001b[0m\u001b[0;34m)\u001b[0m\u001b[0;34m)\u001b[0m\u001b[0;34m+\u001b[0m\u001b[0;36m1\u001b[0m\u001b[0;34m)\u001b[0m\u001b[0;34m]\u001b[0m\u001b[0;34m\u001b[0m\u001b[0m\n",
          "\u001b[0;31mTypeError\u001b[0m: _initFigure() missing 1 required positional argument: 'level'"
         ]
        }
       ]
      }
     },
     "9565aafb8c4c41bb99ce7d3273002163": {
      "model_module": "@jupyter-widgets/base",
      "model_module_version": "1.0.0",
      "model_name": "LayoutModel",
      "state": {}
     },
     "95f92497b5e8455c863d36b025e3178d": {
      "model_module": "@jupyter-widgets/controls",
      "model_module_version": "1.1.0",
      "model_name": "AccordionModel",
      "state": {
       "_titles": {
        "0": "Enter search term"
       },
       "children": [
        "IPY_MODEL_48a4a49a83884fa7bde2f9b8e07d0c5d"
       ],
       "layout": "IPY_MODEL_caea9aa1ba0242c9be286883cc7729bf"
      }
     },
     "9636d2720e5149b799498fa05afb984d": {
      "model_module": "@jupyter-widgets/controls",
      "model_module_version": "1.1.0",
      "model_name": "SliderStyleModel",
      "state": {
       "description_width": ""
      }
     },
     "965e7da849e74fe29d9c10c6a36741bb": {
      "model_module": "@jupyter-widgets/controls",
      "model_module_version": "1.1.0",
      "model_name": "DescriptionStyleModel",
      "state": {
       "description_width": ""
      }
     },
     "966a1dd2a9c54f3a83d5951d59e7eb18": {
      "model_module": "@jupyter-widgets/base",
      "model_module_version": "1.0.0",
      "model_name": "LayoutModel",
      "state": {}
     },
     "966f949e4437487382c5808eee005712": {
      "model_module": "@jupyter-widgets/base",
      "model_module_version": "1.0.0",
      "model_name": "LayoutModel",
      "state": {}
     },
     "96973ad3cc8d4c5aaab16c77f72e8f24": {
      "model_module": "@jupyter-widgets/controls",
      "model_module_version": "1.1.0",
      "model_name": "HBoxModel",
      "state": {
       "children": [
        "IPY_MODEL_766f4b688b2341cb8c0669b744eae9f8",
        "IPY_MODEL_3ca09ea53bac4ec99626f6f10459be81",
        "IPY_MODEL_54720f20de1f4dbc9199047932f7d197"
       ],
       "layout": "IPY_MODEL_a800ac0ee7f1489e99fadd7635e66ebb"
      }
     },
     "969fafb9eee44cb0a843ca7edbbbb357": {
      "model_module": "@jupyter-widgets/base",
      "model_module_version": "1.0.0",
      "model_name": "LayoutModel",
      "state": {}
     },
     "979d5c422b75402cae7118c25d4e3df2": {
      "model_module": "@jupyter-widgets/base",
      "model_module_version": "1.0.0",
      "model_name": "LayoutModel",
      "state": {}
     },
     "97af8213e8f74330b8d6f8b2782e8400": {
      "model_module": "@jupyter-widgets/base",
      "model_module_version": "1.0.0",
      "model_name": "LayoutModel",
      "state": {}
     },
     "97b1f6b6140d40849a3b7b77e0c368e6": {
      "model_module": "@jupyter-widgets/base",
      "model_module_version": "1.0.0",
      "model_name": "LayoutModel",
      "state": {}
     },
     "97b8d89e751a48668c6839188aa51b35": {
      "model_module": "@jupyter-widgets/base",
      "model_module_version": "1.0.0",
      "model_name": "LayoutModel",
      "state": {
       "flex": "0 1 auto",
       "height": "200px",
       "min_height": "40px",
       "width": "30%"
      }
     },
     "97c8c33bba0d47719ef80591fee576fd": {
      "model_module": "@jupyter-widgets/base",
      "model_module_version": "1.0.0",
      "model_name": "LayoutModel",
      "state": {}
     },
     "97de562b2e6345c984b7a661e5cff767": {
      "model_module": "@jupyter-widgets/controls",
      "model_module_version": "1.1.0",
      "model_name": "ButtonStyleModel",
      "state": {}
     },
     "97ee15e2c82c459a9782fcdb807d34a0": {
      "model_module": "@jupyter-widgets/base",
      "model_module_version": "1.0.0",
      "model_name": "LayoutModel",
      "state": {}
     },
     "97f93c478c1a418f91938e71855dbda1": {
      "model_module": "@jupyter-widgets/controls",
      "model_module_version": "1.1.0",
      "model_name": "AccordionModel",
      "state": {
       "_titles": {
        "0": "Enter search term"
       },
       "children": [
        "IPY_MODEL_72d1db49b37e4749bc582f96884df4ce"
       ],
       "layout": "IPY_MODEL_00a6c4b0a894434ebb6d6a8728187406"
      }
     },
     "98526e0e9d5b44d5b64456a1e932e384": {
      "model_module": "@jupyter-widgets/controls",
      "model_module_version": "1.1.0",
      "model_name": "VBoxModel",
      "state": {
       "children": [
        "IPY_MODEL_d395b46694c7494799bdc6c9319c9650",
        "IPY_MODEL_e0f3f5ff5d4146868e9c0464dedbc1b6",
        "IPY_MODEL_cadccd4305654d91ae2611f410df1558",
        "IPY_MODEL_25ab8c88c84a4c67b342209e7118f060",
        "IPY_MODEL_009605167f1149539217d35afd497a56",
        "IPY_MODEL_c8af9663848847e79696febcb6771537"
       ],
       "layout": "IPY_MODEL_4167c642b9654df5bac256ba98aa51dc"
      }
     },
     "9885025d9135432bbdb835fb58d3d5e4": {
      "model_module": "@jupyter-widgets/controls",
      "model_module_version": "1.1.0",
      "model_name": "ButtonModel",
      "state": {
       "button_style": "danger",
       "description": "Search",
       "layout": "IPY_MODEL_5f20e9f75ec8452dab2fb4f4002a8c81",
       "style": "IPY_MODEL_844c7b94a2da4fc1a18ad490046279c3"
      }
     },
     "989de68db46145569d278679a14362fe": {
      "model_module": "@jupyter-widgets/base",
      "model_module_version": "1.0.0",
      "model_name": "LayoutModel",
      "state": {
       "margin": "0 0 0 20px"
      }
     },
     "98fbf1853abf4436b0d31132916472e8": {
      "model_module": "@jupyter-widgets/base",
      "model_module_version": "1.0.0",
      "model_name": "LayoutModel",
      "state": {
       "margin": "0 0 0 20px"
      }
     },
     "9907c3ddfeb14feebff50e3e3d965654": {
      "model_module": "@jupyter-widgets/controls",
      "model_module_version": "1.1.0",
      "model_name": "ButtonStyleModel",
      "state": {}
     },
     "9935acdc1d2f4e70919c2ba7cec0035f": {
      "model_module": "@jupyter-widgets/controls",
      "model_module_version": "1.1.0",
      "model_name": "ToggleButtonsModel",
      "state": {
       "_options_labels": [
        "more",
        "less"
       ],
       "button_style": "",
       "icons": [],
       "index": 0,
       "layout": "IPY_MODEL_7b5294447486423f9313cdae5d950023",
       "style": "IPY_MODEL_aac8cf140d4b49f58e748029906caf5c",
       "tooltips": []
      }
     },
     "99371d85088a47cc96b0aa4120fe17f6": {
      "model_module": "@jupyter-widgets/controls",
      "model_module_version": "1.1.0",
      "model_name": "DescriptionStyleModel",
      "state": {
       "description_width": ""
      }
     },
     "996e5125c85e4b61b2ef71ae328eb77a": {
      "model_module": "@jupyter-widgets/controls",
      "model_module_version": "1.1.0",
      "model_name": "DescriptionStyleModel",
      "state": {
       "description_width": ""
      }
     },
     "9a5245d475ee495f8a813ce2eeb0a797": {
      "model_module": "@jupyter-widgets/base",
      "model_module_version": "1.0.0",
      "model_name": "LayoutModel",
      "state": {}
     },
     "9ad02cbd8fa04df2aaac20b2b11df11e": {
      "model_module": "@jupyter-widgets/controls",
      "model_module_version": "1.1.0",
      "model_name": "HBoxModel",
      "state": {
       "children": [
        "IPY_MODEL_b194efd28a614098b882fab8446325f2"
       ],
       "layout": "IPY_MODEL_6aa536953d2844249643e594a9a7cd58"
      }
     },
     "9b09a06c072d453c8086a59b4a13d0e9": {
      "model_module": "@jupyter-widgets/base",
      "model_module_version": "1.0.0",
      "model_name": "LayoutModel",
      "state": {}
     },
     "9bb3ff6091ad4d87aac3c5673a8ade5e": {
      "model_module": "@jupyter-widgets/controls",
      "model_module_version": "1.1.0",
      "model_name": "SliderStyleModel",
      "state": {
       "description_width": ""
      }
     },
     "9bb4dcc4d703416eb2da50127e942930": {
      "model_module": "@jupyter-widgets/base",
      "model_module_version": "1.0.0",
      "model_name": "LayoutModel",
      "state": {}
     },
     "9bca1a7d06a94bfbb807b06fe2573ed4": {
      "model_module": "@jupyter-widgets/controls",
      "model_module_version": "1.1.0",
      "model_name": "AccordionModel",
      "state": {
       "_titles": {
        "0": "Enter search term"
       },
       "children": [
        "IPY_MODEL_00ad8d96b2e04a2fa640a0863423f5e2"
       ],
       "layout": "IPY_MODEL_23ffcd2c536e436188c97d2d08d69189"
      }
     },
     "9bd8c3c72a114d0bab1c432af653c91a": {
      "model_module": "@jupyter-widgets/base",
      "model_module_version": "1.0.0",
      "model_name": "LayoutModel",
      "state": {}
     },
     "9bf04a3f51454d9caf09c99334b81583": {
      "model_module": "@jupyter-widgets/controls",
      "model_module_version": "1.1.0",
      "model_name": "IntSliderModel",
      "state": {
       "layout": "IPY_MODEL_f1dee4e71b034d63899fc8f5f5330e39",
       "max": 0,
       "style": "IPY_MODEL_c7a7a7c006aa4fee9ece66d1f756c777"
      }
     },
     "9c1f373788854dbbaa860b30821b6e39": {
      "model_module": "@jupyter-widgets/base",
      "model_module_version": "1.0.0",
      "model_name": "LayoutModel",
      "state": {}
     },
     "9c23f58219b84a64ad4c3313704ac19f": {
      "model_module": "@jupyter-widgets/base",
      "model_module_version": "1.0.0",
      "model_name": "LayoutModel",
      "state": {}
     },
     "9c3bead6d6674e0aa3df7d20639e552a": {
      "model_module": "@jupyter-widgets/base",
      "model_module_version": "1.0.0",
      "model_name": "LayoutModel",
      "state": {}
     },
     "9c78a4767e814b279f8ef03515389963": {
      "model_module": "@jupyter-widgets/base",
      "model_module_version": "1.0.0",
      "model_name": "LayoutModel",
      "state": {}
     },
     "9ca11d4846314511ba6f1366d6d3835f": {
      "model_module": "@jupyter-widgets/base",
      "model_module_version": "1.0.0",
      "model_name": "LayoutModel",
      "state": {}
     },
     "9ca6a44bc1b24874ba64e8c6fbb949b2": {
      "model_module": "@jupyter-widgets/output",
      "model_module_version": "1.0.0",
      "model_name": "OutputModel",
      "state": {
       "layout": "IPY_MODEL_64d5b1c10d094da8aa42e48d8d340e49",
       "outputs": [
        {
         "name": "stdout",
         "output_type": "stream",
         "text": "Found 15 entries.\n"
        }
       ]
      }
     },
     "9ca9da4853534c039db5dd5f99982cf3": {
      "model_module": "@jupyter-widgets/controls",
      "model_module_version": "1.1.0",
      "model_name": "ButtonModel",
      "state": {
       "description": "Plot on",
       "layout": "IPY_MODEL_97ee15e2c82c459a9782fcdb807d34a0",
       "style": "IPY_MODEL_a1cf260c495b43a7892b39e791bae1a1"
      }
     },
     "9cc4975c73544154973e716500534201": {
      "model_module": "@jupyter-widgets/output",
      "model_module_version": "1.0.0",
      "model_name": "OutputModel",
      "state": {
       "layout": "IPY_MODEL_bb68019a473946ec9e1bc607dbe25828",
       "outputs": [
        {
         "ename": "TypeError",
         "evalue": "_initFigure() takes 1 positional argument but 2 were given",
         "output_type": "error",
         "traceback": [
          "\u001b[0;31m---------------------------------------------------------------------------\u001b[0m",
          "\u001b[0;31mTypeError\u001b[0m                                 Traceback (most recent call last)",
          "\u001b[0;32m~/Dokumente/packages/corpussearch/env/local/lib/python3.6/site-packages/corpussearch/vis.py\u001b[0m in \u001b[0;36m_plotFunction\u001b[0;34m(self, widget, content, buffers)\u001b[0m\n\u001b[1;32m     96\u001b[0m         \u001b[0mlevel\u001b[0m \u001b[0;34m=\u001b[0m \u001b[0mself\u001b[0m\u001b[0;34m.\u001b[0m\u001b[0mplotLevel\u001b[0m\u001b[0;34m.\u001b[0m\u001b[0mvalue\u001b[0m\u001b[0;34m\u001b[0m\u001b[0m\n\u001b[1;32m     97\u001b[0m         \u001b[0;32mwith\u001b[0m \u001b[0mself\u001b[0m\u001b[0;34m.\u001b[0m\u001b[0mplotout\u001b[0m\u001b[0;34m:\u001b[0m\u001b[0;34m\u001b[0m\u001b[0m\n\u001b[0;32m---> 98\u001b[0;31m             \u001b[0mself\u001b[0m\u001b[0;34m.\u001b[0m\u001b[0m_initFigure\u001b[0m\u001b[0;34m(\u001b[0m\u001b[0mlevel\u001b[0m\u001b[0;34m)\u001b[0m\u001b[0;34m\u001b[0m\u001b[0m\n\u001b[0m\u001b[1;32m     99\u001b[0m             \u001b[0mlabelStr\u001b[0m \u001b[0;34m=\u001b[0m \u001b[0;34m' '\u001b[0m\u001b[0;34m.\u001b[0m\u001b[0mjoin\u001b[0m\u001b[0;34m(\u001b[0m\u001b[0;34m[\u001b[0m\u001b[0mch\u001b[0m\u001b[0;34m.\u001b[0m\u001b[0mvalue\u001b[0m \u001b[0;32mfor\u001b[0m \u001b[0mch\u001b[0m \u001b[0;32min\u001b[0m \u001b[0mself\u001b[0m\u001b[0;34m.\u001b[0m\u001b[0maccordion\u001b[0m\u001b[0;34m.\u001b[0m\u001b[0mchildren\u001b[0m\u001b[0;34m]\u001b[0m\u001b[0;34m)\u001b[0m\u001b[0;34m\u001b[0m\u001b[0m\n\u001b[1;32m    100\u001b[0m             \u001b[0mx\u001b[0m \u001b[0;34m=\u001b[0m \u001b[0;34m[\u001b[0m\u001b[0mx\u001b[0m \u001b[0;32mfor\u001b[0m \u001b[0mx\u001b[0m \u001b[0;32min\u001b[0m \u001b[0mrange\u001b[0m\u001b[0;34m(\u001b[0m\u001b[0;36m1\u001b[0m\u001b[0;34m,\u001b[0m \u001b[0mlen\u001b[0m\u001b[0;34m(\u001b[0m\u001b[0mresDict\u001b[0m\u001b[0;34m.\u001b[0m\u001b[0mkeys\u001b[0m\u001b[0;34m(\u001b[0m\u001b[0;34m)\u001b[0m\u001b[0;34m)\u001b[0m\u001b[0;34m+\u001b[0m\u001b[0;36m1\u001b[0m\u001b[0;34m)\u001b[0m\u001b[0;34m]\u001b[0m\u001b[0;34m\u001b[0m\u001b[0m\n",
          "\u001b[0;31mTypeError\u001b[0m: _initFigure() takes 1 positional argument but 2 were given"
         ]
        }
       ]
      }
     },
     "9cd77f423b56475db92335aa9b0f9bec": {
      "model_module": "@jupyter-widgets/controls",
      "model_module_version": "1.1.0",
      "model_name": "DropdownModel",
      "state": {
       "_options_labels": [
        "city",
        "library",
        "Lokalisierung",
        "Datierung",
        "text"
       ],
       "description": "Search in:",
       "index": 4,
       "layout": "IPY_MODEL_532ad1a77e6f4e5fa22575a9258f4abb",
       "style": "IPY_MODEL_b88b874838384e099ff75601349c7805"
      }
     },
     "9d7d2f7dfb7a46be8caec566531566dd": {
      "model_module": "@jupyter-widgets/controls",
      "model_module_version": "1.1.0",
      "model_name": "TextareaModel",
      "state": {
       "layout": "IPY_MODEL_a7421cca790d4e07be37679d5d45ce46",
       "placeholder": "Result",
       "style": "IPY_MODEL_e5287a27f4d34dfeb8cc0f2289a7734c",
       "value": "Result 0\nvolume: Band_1\npart: Einleitung\npage: 1\nparagraph: 3\nsentence: 1"
      }
     },
     "9d83aab1d044497fa5b4b50babcfea42": {
      "model_module": "@jupyter-widgets/base",
      "model_module_version": "1.0.0",
      "model_name": "LayoutModel",
      "state": {}
     },
     "9e190004fd4b46a8bf6d0d404d19fcea": {
      "model_module": "@jupyter-widgets/controls",
      "model_module_version": "1.1.0",
      "model_name": "HBoxModel",
      "state": {
       "children": [
        "IPY_MODEL_a4754a630189455983779e739f4bbfa6"
       ],
       "layout": "IPY_MODEL_d3778a21414b40f1ba2fa1a71e97829d"
      }
     },
     "9e1a7791020248a08a25b9e386041f77": {
      "model_module": "@jupyter-widgets/controls",
      "model_module_version": "1.1.0",
      "model_name": "DropdownModel",
      "state": {
       "_options_labels": [
        "city",
        "library",
        "Lokalisierung",
        "Datierung",
        "text"
       ],
       "index": 0,
       "layout": "IPY_MODEL_e588a090243a465ca4172728f132d109",
       "style": "IPY_MODEL_c0aa533b0d3f4db39c550d67ad644599"
      }
     },
     "9e3b05889c924e64ad72cd37f8dc86da": {
      "model_module": "@jupyter-widgets/controls",
      "model_module_version": "1.1.0",
      "model_name": "DropdownModel",
      "state": {
       "_options_labels": [
        "city",
        "library",
        "Lokalisierung",
        "Datierung",
        "text"
       ],
       "index": 0,
       "layout": "IPY_MODEL_50ede29f73ca4400ae7e787b7a5cfcf7",
       "style": "IPY_MODEL_a3e58655cea941e3a9b3abcad475b44a"
      }
     },
     "9e98aefd13a042079be65ab3c9a6c486": {
      "model_module": "@jupyter-widgets/controls",
      "model_module_version": "1.1.0",
      "model_name": "ButtonModel",
      "state": {
       "description": "Reset plot",
       "layout": "IPY_MODEL_94c5b5f045b84daa85e97909a4cba82d",
       "style": "IPY_MODEL_4dfbf08effaf4f22a5068c451e42070a"
      }
     },
     "9f1eb7ce145940d5a7bd85e71b522016": {
      "model_module": "@jupyter-widgets/base",
      "model_module_version": "1.0.0",
      "model_name": "LayoutModel",
      "state": {}
     },
     "9fc7e7e8473a4679bebaa2b0ca1e8563": {
      "model_module": "@jupyter-widgets/controls",
      "model_module_version": "1.1.0",
      "model_name": "DescriptionStyleModel",
      "state": {
       "description_width": ""
      }
     },
     "9fd169d5c6aa4a519a013b54e288f969": {
      "model_module": "@jupyter-widgets/base",
      "model_module_version": "1.0.0",
      "model_name": "LayoutModel",
      "state": {}
     },
     "9fde476d7b534dbf9f6149c53cec81a5": {
      "model_module": "@jupyter-widgets/controls",
      "model_module_version": "1.1.0",
      "model_name": "ToggleButtonsStyleModel",
      "state": {
       "button_width": "",
       "description_width": ""
      }
     },
     "9ff72ee5f43447da9a921e1da8639cb8": {
      "model_module": "@jupyter-widgets/base",
      "model_module_version": "1.0.0",
      "model_name": "LayoutModel",
      "state": {}
     },
     "a01b025320e84530aa6dfb562f08db40": {
      "model_module": "@jupyter-widgets/base",
      "model_module_version": "1.0.0",
      "model_name": "LayoutModel",
      "state": {}
     },
     "a0682ce90a6f4a7581e239cf83097ab9": {
      "model_module": "@jupyter-widgets/controls",
      "model_module_version": "1.1.0",
      "model_name": "ButtonStyleModel",
      "state": {}
     },
     "a1639fca642e4333891adf3122831265": {
      "model_module": "@jupyter-widgets/controls",
      "model_module_version": "1.1.0",
      "model_name": "VBoxModel",
      "state": {
       "children": [
        "IPY_MODEL_128aa3a6a412473f81dafb25e706bef3",
        "IPY_MODEL_b8f6d93a0df747cf8ff905eeea6b19d2",
        "IPY_MODEL_caabe627c37f4967ac936e9c9f21a52a",
        "IPY_MODEL_300200fbd74f430eaee11d2d9e497df9",
        "IPY_MODEL_bbc4a9ccb7b440a7b9e60715a94c3760",
        "IPY_MODEL_9cc4975c73544154973e716500534201"
       ],
       "layout": "IPY_MODEL_729f07bd1b724919b63320f4dd511769"
      }
     },
     "a183ae1d4d6b4e89ba9b06625bd3a36d": {
      "model_module": "@jupyter-widgets/base",
      "model_module_version": "1.0.0",
      "model_name": "LayoutModel",
      "state": {}
     },
     "a190394c8a254a0da42c33e8aa06196f": {
      "model_module": "@jupyter-widgets/base",
      "model_module_version": "1.0.0",
      "model_name": "LayoutModel",
      "state": {}
     },
     "a1b630b4b5f44e7e852063c69e0e0708": {
      "model_module": "@jupyter-widgets/base",
      "model_module_version": "1.0.0",
      "model_name": "LayoutModel",
      "state": {}
     },
     "a1cf260c495b43a7892b39e791bae1a1": {
      "model_module": "@jupyter-widgets/controls",
      "model_module_version": "1.1.0",
      "model_name": "ButtonStyleModel",
      "state": {}
     },
     "a1e69bb3a38148b689f6055464af0595": {
      "model_module": "@jupyter-widgets/controls",
      "model_module_version": "1.1.0",
      "model_name": "ButtonStyleModel",
      "state": {}
     },
     "a2133323f8a94c80b588fa7b9f06a9fb": {
      "model_module": "@jupyter-widgets/base",
      "model_module_version": "1.0.0",
      "model_name": "LayoutModel",
      "state": {}
     },
     "a2417dfc36534413b3653b34e9448604": {
      "model_module": "@jupyter-widgets/base",
      "model_module_version": "1.0.0",
      "model_name": "LayoutModel",
      "state": {}
     },
     "a25f207e2bd84475808e4e3b4245cfd4": {
      "model_module": "@jupyter-widgets/controls",
      "model_module_version": "1.1.0",
      "model_name": "TextModel",
      "state": {
       "description": "Search for:",
       "layout": "IPY_MODEL_93647ca89dad4168b5af65aa50cde128",
       "placeholder": "term",
       "style": "IPY_MODEL_1e2a62d8a1c04c7e95270bfaf1c21373"
      }
     },
     "a2918f8d34be46cc9d00595c02d8d10a": {
      "model_module": "@jupyter-widgets/controls",
      "model_module_version": "1.1.0",
      "model_name": "ButtonModel",
      "state": {
       "description": "Plot on",
       "layout": "IPY_MODEL_6a9896fb138444128f8baefb3021a6a2",
       "style": "IPY_MODEL_469a99deb1df461aabbb18e72a9df195"
      }
     },
     "a2d18952cf8741579cd6597cbc3d1de5": {
      "model_module": "@jupyter-widgets/controls",
      "model_module_version": "1.1.0",
      "model_name": "HBoxModel",
      "state": {
       "children": [
        "IPY_MODEL_d48db263378940cfb87547de61c7d636",
        "IPY_MODEL_c6d9ea82790b47e083288ffb6518971f",
        "IPY_MODEL_7f608ba83f3c4fdf84cbc97cf3fd6ee1"
       ],
       "layout": "IPY_MODEL_6d7adcd8e81842ada48f9254ef4b3b82"
      }
     },
     "a3161ae362e04e1997ae087c7a35d8a9": {
      "model_module": "@jupyter-widgets/controls",
      "model_module_version": "1.1.0",
      "model_name": "HBoxModel",
      "state": {
       "children": [
        "IPY_MODEL_f0013404a41b48a6b09afa101bc5fc61",
        "IPY_MODEL_adaaa511ff254c5abdb3ccb99680d606",
        "IPY_MODEL_9e98aefd13a042079be65ab3c9a6c486"
       ],
       "layout": "IPY_MODEL_082083c5bc174693bfc33b3bb1bd5f3e"
      }
     },
     "a35f561b472f41e6b39a692943a1f35b": {
      "model_module": "@jupyter-widgets/controls",
      "model_module_version": "1.1.0",
      "model_name": "DescriptionStyleModel",
      "state": {
       "description_width": ""
      }
     },
     "a3e58655cea941e3a9b3abcad475b44a": {
      "model_module": "@jupyter-widgets/controls",
      "model_module_version": "1.1.0",
      "model_name": "DescriptionStyleModel",
      "state": {
       "description_width": ""
      }
     },
     "a40711a53c8a4b5d874d7156661c8a0a": {
      "model_module": "@jupyter-widgets/controls",
      "model_module_version": "1.1.0",
      "model_name": "DescriptionStyleModel",
      "state": {
       "description_width": ""
      }
     },
     "a42780da722140189d78550a3ec9a5a1": {
      "model_module": "@jupyter-widgets/base",
      "model_module_version": "1.0.0",
      "model_name": "LayoutModel",
      "state": {}
     },
     "a4754a630189455983779e739f4bbfa6": {
      "model_module": "@jupyter-widgets/controls",
      "model_module_version": "1.1.0",
      "model_name": "IntSliderModel",
      "state": {
       "layout": "IPY_MODEL_0c216d3adac245d88dcb67ecbe52f17e",
       "max": 15,
       "style": "IPY_MODEL_027f78459a244825a73044c4e1d96b18"
      }
     },
     "a477c5bdec744b2a824fc10cbf77fab7": {
      "model_module": "@jupyter-widgets/controls",
      "model_module_version": "1.1.0",
      "model_name": "IntSliderModel",
      "state": {
       "layout": "IPY_MODEL_86c64b3c4db24fc0ab93358cf6729fb0",
       "max": 0,
       "style": "IPY_MODEL_8fee2d332ed04621bd5b61f7326cda64"
      }
     },
     "a47d3466199b4d428146ed8cf3686abb": {
      "model_module": "@jupyter-widgets/controls",
      "model_module_version": "1.1.0",
      "model_name": "ButtonStyleModel",
      "state": {}
     },
     "a4a35cbe92af42eba167af68cb9d92e6": {
      "model_module": "@jupyter-widgets/base",
      "model_module_version": "1.0.0",
      "model_name": "LayoutModel",
      "state": {}
     },
     "a4e8ae9108ba45b68c2dde7a56764d0a": {
      "model_module": "@jupyter-widgets/base",
      "model_module_version": "1.0.0",
      "model_name": "LayoutModel",
      "state": {}
     },
     "a5410dd5b9ad465a9ff27b3418d60f02": {
      "model_module": "@jupyter-widgets/base",
      "model_module_version": "1.0.0",
      "model_name": "LayoutModel",
      "state": {}
     },
     "a58136cc5f66449986bc668d283b66f0": {
      "model_module": "@jupyter-widgets/output",
      "model_module_version": "1.0.0",
      "model_name": "OutputModel",
      "state": {
       "layout": "IPY_MODEL_df57380f1a914b4391ed44672b6b47be",
       "outputs": [
        {
         "name": "stdout",
         "output_type": "stream",
         "text": "Found 15 entries.\n"
        }
       ]
      }
     },
     "a5902fdf58d1430c9fcf4050a8fbf954": {
      "model_module": "@jupyter-widgets/controls",
      "model_module_version": "1.1.0",
      "model_name": "ButtonStyleModel",
      "state": {}
     },
     "a5945b2294a64fb99f30800848da75b8": {
      "model_module": "@jupyter-widgets/base",
      "model_module_version": "1.0.0",
      "model_name": "LayoutModel",
      "state": {}
     },
     "a5de34822a924c49a10473d7ab2ec7ed": {
      "model_module": "@jupyter-widgets/controls",
      "model_module_version": "1.1.0",
      "model_name": "ButtonModel",
      "state": {
       "description": "Plot on",
       "layout": "IPY_MODEL_c40783a7058d4569b05954d5a76e1d30",
       "style": "IPY_MODEL_3a73a24303d043649600471642b1dc1e"
      }
     },
     "a610a797afb146fe8371c5898099d02f": {
      "model_module": "@jupyter-widgets/controls",
      "model_module_version": "1.1.0",
      "model_name": "IntSliderModel",
      "state": {
       "layout": "IPY_MODEL_3432ee2767ef4bc9a21c9cb1dddf4f51",
       "max": 0,
       "style": "IPY_MODEL_3984b3fbfea143178121beb15cbe2ae2"
      }
     },
     "a66578e1503f471681ba8bd86c49efc6": {
      "model_module": "@jupyter-widgets/base",
      "model_module_version": "1.0.0",
      "model_name": "LayoutModel",
      "state": {
       "flex": "0 1 auto",
       "height": "200px",
       "min_height": "40px",
       "width": "30%"
      }
     },
     "a6701e52ad5c4152887a99e223b518e6": {
      "model_module": "@jupyter-widgets/base",
      "model_module_version": "1.0.0",
      "model_name": "LayoutModel",
      "state": {}
     },
     "a6999938e04f42409df63b3ad2f9fb94": {
      "model_module": "@jupyter-widgets/base",
      "model_module_version": "1.0.0",
      "model_name": "LayoutModel",
      "state": {}
     },
     "a6ca7a8d947f4635b6f6fc252d41163a": {
      "model_module": "@jupyter-widgets/controls",
      "model_module_version": "1.1.0",
      "model_name": "ButtonModel",
      "state": {
       "button_style": "danger",
       "description": "Search",
       "layout": "IPY_MODEL_69edad8731304535a5b2e750b191e058",
       "style": "IPY_MODEL_e8bda17f40384faab67a87ff39b4e812"
      }
     },
     "a6e7a5d9efe3417fbb996a1218c05f00": {
      "model_module": "@jupyter-widgets/base",
      "model_module_version": "1.0.0",
      "model_name": "LayoutModel",
      "state": {}
     },
     "a71a2e617c904ad8a55c11a49d8398f7": {
      "model_module": "@jupyter-widgets/controls",
      "model_module_version": "1.1.0",
      "model_name": "ToggleButtonsModel",
      "state": {
       "_options_labels": [
        "more",
        "less"
       ],
       "button_style": "",
       "icons": [],
       "index": 0,
       "layout": "IPY_MODEL_cd3453a9290942d8aa848ff8e35f4200",
       "style": "IPY_MODEL_7dedb235ef6343c382504c391c97fa24",
       "tooltips": []
      }
     },
     "a7421cca790d4e07be37679d5d45ce46": {
      "model_module": "@jupyter-widgets/base",
      "model_module_version": "1.0.0",
      "model_name": "LayoutModel",
      "state": {
       "flex": "0 1 auto",
       "height": "200px",
       "min_height": "40px",
       "width": "30%"
      }
     },
     "a785853d58ad4aa18c1a794a457fbe55": {
      "model_module": "@jupyter-widgets/controls",
      "model_module_version": "1.1.0",
      "model_name": "ButtonStyleModel",
      "state": {}
     },
     "a792773e3e7a4feca33e536e1b6abb36": {
      "model_module": "@jupyter-widgets/base",
      "model_module_version": "1.0.0",
      "model_name": "LayoutModel",
      "state": {}
     },
     "a7d43c37026d4c4da4403f9b7e7bd992": {
      "model_module": "@jupyter-widgets/controls",
      "model_module_version": "1.1.0",
      "model_name": "VBoxModel",
      "state": {
       "children": [
        "IPY_MODEL_06ae53b03d284f3fa9a1688b381bbeda",
        "IPY_MODEL_8b68dda17c0045e5a693a9318f59e056",
        "IPY_MODEL_cf7d8dcbbb854c8391b5492252cce72f",
        "IPY_MODEL_63e042e1b50343b88c8cc030ef5f50ba",
        "IPY_MODEL_85466a2ff117497380160e0d935f14fd",
        "IPY_MODEL_5cc8f764f3714c3cb9ce95c13d574317"
       ],
       "layout": "IPY_MODEL_8dcecb3857254744a4546c66ca7c09eb"
      }
     },
     "a800ac0ee7f1489e99fadd7635e66ebb": {
      "model_module": "@jupyter-widgets/base",
      "model_module_version": "1.0.0",
      "model_name": "LayoutModel",
      "state": {}
     },
     "a81b4042531d43cc94ae3d031826c112": {
      "model_module": "@jupyter-widgets/base",
      "model_module_version": "1.0.0",
      "model_name": "LayoutModel",
      "state": {}
     },
     "a82ef8db4c394bf4b97d85244bff020c": {
      "model_module": "@jupyter-widgets/controls",
      "model_module_version": "1.1.0",
      "model_name": "IntSliderModel",
      "state": {
       "layout": "IPY_MODEL_ef4f52d9c89b4b7589288e24f4028cc2",
       "max": 15,
       "style": "IPY_MODEL_30334ed385f84787a90515f4efde5582"
      }
     },
     "a87ec0c6af2045d89afa22b7b537e9ce": {
      "model_module": "@jupyter-widgets/controls",
      "model_module_version": "1.1.0",
      "model_name": "VBoxModel",
      "state": {
       "children": [
        "IPY_MODEL_8e362985707848e2bd9ec075e51d7c9f",
        "IPY_MODEL_3acb25cfbb4a4f7f894c9223a406f4e4",
        "IPY_MODEL_b7520adcbcc248ff90a3f745b4052227",
        "IPY_MODEL_7adecb1ce1f042a58a15b4b8f5514219",
        "IPY_MODEL_2ebb9cbc477b4d78877baaee7241c5cd",
        "IPY_MODEL_04e1845b7c3f4e218b543bbfaad80efa"
       ],
       "layout": "IPY_MODEL_7316700cb7374a60a18a3810b2621a73"
      }
     },
     "a8953e0ccdb944839f9c3ce0156410e9": {
      "model_module": "@jupyter-widgets/base",
      "model_module_version": "1.0.0",
      "model_name": "LayoutModel",
      "state": {}
     },
     "a92631f5ec2b46678698d4aa4b664e8f": {
      "model_module": "@jupyter-widgets/output",
      "model_module_version": "1.0.0",
      "model_name": "OutputModel",
      "state": {
       "layout": "IPY_MODEL_b2a5c3f637ec42e887a1f1b2b6b7924f"
      }
     },
     "a9474b22217241cc947d4763b7133cb7": {
      "model_module": "@jupyter-widgets/controls",
      "model_module_version": "1.1.0",
      "model_name": "TextareaModel",
      "state": {
       "layout": "IPY_MODEL_b2fcf181e440414fb7091afc4da17718",
       "placeholder": "Sentence",
       "style": "IPY_MODEL_87238517860846d591c7f03c8e870110",
       "value": "Cod. Wings 1. IV Evangelia. I + 333 + I Bl. (Ordnung z.T. verwirrt); 23,5x16,8 cm (14,3x9,7 cm); 17 Z. 2r-319r: St. Galler Kalligr. mehrerer Hde. 7r-12r Kanontafeln. Init. z.T. mit Gold- u. Silber-füllung; 14v Purpurband. 319v-333r Capit, ev. (s. X2). Lit.: Merton2, S. 49; Landsberger, Abb. 9c, 10a; Ausst. Suevia Sacra, Nr. 156, Abb. 145; Aachener Kunstblätter 45 (1974), S. 350f. m. Abb. - St. Gallen, IX. Jh., 3. Drittel- "
      }
     },
     "a9488b96e18f400683cd3c4ce57dd952": {
      "model_module": "@jupyter-widgets/output",
      "model_module_version": "1.0.0",
      "model_name": "OutputModel",
      "state": {
       "layout": "IPY_MODEL_0f5409d58c2e46d293f9208bd681acf2",
       "outputs": [
        {
         "data": {
          "image/png": "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\n",
          "text/plain": "<Figure size 576x576 with 1 Axes>"
         },
         "metadata": {},
         "output_type": "display_data"
        }
       ]
      }
     },
     "a9b96de1848c41b7a6899fbe57ffa1b4": {
      "model_module": "@jupyter-widgets/controls",
      "model_module_version": "1.1.0",
      "model_name": "DescriptionStyleModel",
      "state": {
       "description_width": ""
      }
     },
     "aa3232c1b6ce444e885851efae0f9932": {
      "model_module": "@jupyter-widgets/controls",
      "model_module_version": "1.1.0",
      "model_name": "ButtonModel",
      "state": {
       "button_style": "danger",
       "description": "Search",
       "layout": "IPY_MODEL_d7c3a3b0e84c4a6a98ffd7a92a00a1a5",
       "style": "IPY_MODEL_8a1c7796a1d44437a161e1e8bfb3a530"
      }
     },
     "aa76d9c2550b42aba1781a3a0bdde261": {
      "model_module": "@jupyter-widgets/base",
      "model_module_version": "1.0.0",
      "model_name": "LayoutModel",
      "state": {}
     },
     "aa85d5df1175406baf9eff8971156aec": {
      "model_module": "@jupyter-widgets/output",
      "model_module_version": "1.0.0",
      "model_name": "OutputModel",
      "state": {
       "layout": "IPY_MODEL_c890f4812464423aa081bdaa2218ed12",
       "outputs": [
        {
         "name": "stdout",
         "output_type": "stream",
         "text": "Found 15 entries.\n"
        }
       ]
      }
     },
     "aa98e820acda48df8b5834fd04efc055": {
      "model_module": "@jupyter-widgets/controls",
      "model_module_version": "1.1.0",
      "model_name": "HBoxModel",
      "state": {
       "children": [
        "IPY_MODEL_809f4d2ff9884dc1ad5f8cf28b66f5f9",
        "IPY_MODEL_68c0ca0ac8aa45ea92732779dfd5c512",
        "IPY_MODEL_d49f7bd7dd9644d4961d6cd746167873"
       ],
       "layout": "IPY_MODEL_61a03c3c86c9414ea85b055a7462ae77"
      }
     },
     "aac8cf140d4b49f58e748029906caf5c": {
      "model_module": "@jupyter-widgets/controls",
      "model_module_version": "1.1.0",
      "model_name": "ToggleButtonsStyleModel",
      "state": {
       "button_width": "",
       "description_width": ""
      }
     },
     "aad6fb2346a24effbf6d891931050525": {
      "model_module": "@jupyter-widgets/controls",
      "model_module_version": "1.1.0",
      "model_name": "ButtonStyleModel",
      "state": {}
     },
     "aafbfe80467147bfb12664e9d08c73f6": {
      "model_module": "@jupyter-widgets/base",
      "model_module_version": "1.0.0",
      "model_name": "LayoutModel",
      "state": {}
     },
     "abecb32394d54bd7b8a7aeffb851ecfd": {
      "model_module": "@jupyter-widgets/controls",
      "model_module_version": "1.1.0",
      "model_name": "ToggleButtonsModel",
      "state": {
       "_options_labels": [
        "more",
        "less"
       ],
       "button_style": "",
       "icons": [],
       "index": 0,
       "layout": "IPY_MODEL_1b80776750d14de085678def6ab537de",
       "style": "IPY_MODEL_4a6867c0ff6f4687b5bf3dbb2600555e",
       "tooltips": []
      }
     },
     "ac042f120bf94540a01ffb903dd3892a": {
      "model_module": "@jupyter-widgets/controls",
      "model_module_version": "1.1.0",
      "model_name": "TextareaModel",
      "state": {
       "layout": "IPY_MODEL_2029502afc0b41ddb6a58fb1315af2e9",
       "placeholder": "Result",
       "style": "IPY_MODEL_965e7da849e74fe29d9c10c6a36741bb",
       "value": "Result 0\ncity:\n AACHEN\nlibrary:\n Öffentliche Bibliothek\nmanuID:\n 2\nLiteratur:\n Lit. Merton2, S. 49; Landsberger, Abb. 9c, 10a; Ausst. Suevia Sacra, Nr. 156, Abb. 145; Aachener Kunstblätter 45 (1974), S. 350f. m. Abb.\nLokalisierung:\n St. Gallen\nDatierung:\n IX. Jh., 3. Drittel\nlatitude:\n 47.42391\nlongitude:\n 9.37477"
      }
     },
     "ac109324a496484382fe850ce94c6577": {
      "model_module": "@jupyter-widgets/controls",
      "model_module_version": "1.1.0",
      "model_name": "DescriptionStyleModel",
      "state": {
       "description_width": ""
      }
     },
     "ac1d34f875254cdf92c58f2500841ffa": {
      "model_module": "@jupyter-widgets/base",
      "model_module_version": "1.0.0",
      "model_name": "LayoutModel",
      "state": {}
     },
     "ac303b78062440808bc2619706d4f473": {
      "model_module": "@jupyter-widgets/controls",
      "model_module_version": "1.1.0",
      "model_name": "ToggleButtonsModel",
      "state": {
       "_options_labels": [
        "more",
        "less"
       ],
       "button_style": "",
       "icons": [],
       "index": 0,
       "layout": "IPY_MODEL_7b251573881248a1942eba89a02dde86",
       "style": "IPY_MODEL_e2ee3e2c81fe4f1d9f63620448d7ffb7",
       "tooltips": []
      }
     },
     "ac3171e58b58475c9a4faeae0b9e8e45": {
      "model_module": "@jupyter-widgets/controls",
      "model_module_version": "1.1.0",
      "model_name": "DescriptionStyleModel",
      "state": {
       "description_width": ""
      }
     },
     "ac49a0126e9843eb8f16f770f48f0d05": {
      "model_module": "@jupyter-widgets/base",
      "model_module_version": "1.0.0",
      "model_name": "LayoutModel",
      "state": {
       "margin": "0 0 0 20px"
      }
     },
     "ac65e2379aa14747ade0ece07d15f735": {
      "model_module": "@jupyter-widgets/controls",
      "model_module_version": "1.1.0",
      "model_name": "TextareaModel",
      "state": {
       "layout": "IPY_MODEL_797f8bb5cb38467eaaeac03da1a9d1a3",
       "placeholder": "Sentence",
       "style": "IPY_MODEL_e010a6c2cfbb4180bf273f33bf62fdf2",
       "value": "  WALTHER VON DYCK    t   UNO MA    CASPAR"
      }
     },
     "acc4f6f277f645ccb222a73fbf4561c0": {
      "model_module": "@jupyter-widgets/base",
      "model_module_version": "1.0.0",
      "model_name": "LayoutModel",
      "state": {}
     },
     "ad3f062b4a844d3a955a71b1c4f0be12": {
      "model_module": "@jupyter-widgets/controls",
      "model_module_version": "1.1.0",
      "model_name": "SliderStyleModel",
      "state": {
       "description_width": ""
      }
     },
     "ad400dd4ee71454886c45071e858ffde": {
      "model_module": "@jupyter-widgets/base",
      "model_module_version": "1.0.0",
      "model_name": "LayoutModel",
      "state": {}
     },
     "ad6c8658b4674d868ca4ddc524e0104c": {
      "model_module": "@jupyter-widgets/controls",
      "model_module_version": "1.1.0",
      "model_name": "DropdownModel",
      "state": {
       "_options_labels": [
        "volume",
        "part",
        "text"
       ],
       "description": "Search in:",
       "index": 2,
       "layout": "IPY_MODEL_b8798a38fb784fe396fc1f85906b7957",
       "style": "IPY_MODEL_cc4f1bf1adef4ba7b3cd02c755af18ae"
      }
     },
     "ad70ab14f65c43289399e0a5c5aa38f8": {
      "model_module": "@jupyter-widgets/controls",
      "model_module_version": "1.1.0",
      "model_name": "TextModel",
      "state": {
       "description": "Search for:",
       "layout": "IPY_MODEL_d6e7027be3e944db8bf83a0b54278f9b",
       "placeholder": "term",
       "style": "IPY_MODEL_639125b3a3244432bdc95c2e51754b86",
       "value": "[uU]"
      }
     },
     "adaaa511ff254c5abdb3ccb99680d606": {
      "model_module": "@jupyter-widgets/controls",
      "model_module_version": "1.1.0",
      "model_name": "DropdownModel",
      "state": {
       "_options_labels": [
        "city",
        "library",
        "Lokalisierung",
        "Datierung",
        "text"
       ],
       "index": 0,
       "layout": "IPY_MODEL_0a05ba5100b143ed82046aa58f890895",
       "style": "IPY_MODEL_c1a261cd13194241bcd8225d2c652e64"
      }
     },
     "adba86350cf44036847cc217000ac43b": {
      "model_module": "@jupyter-widgets/base",
      "model_module_version": "1.0.0",
      "model_name": "LayoutModel",
      "state": {}
     },
     "adbbf22b4f9a45ceabd8d9894448f2d9": {
      "model_module": "@jupyter-widgets/base",
      "model_module_version": "1.0.0",
      "model_name": "LayoutModel",
      "state": {}
     },
     "ae0fdf0eb28049fb918cb3e692c19f9e": {
      "model_module": "@jupyter-widgets/controls",
      "model_module_version": "1.1.0",
      "model_name": "ButtonStyleModel",
      "state": {}
     },
     "ae4f5f186880434e93a0e0413de4a940": {
      "model_module": "@jupyter-widgets/controls",
      "model_module_version": "1.1.0",
      "model_name": "HBoxModel",
      "state": {
       "children": [
        "IPY_MODEL_a25f207e2bd84475808e4e3b4245cfd4",
        "IPY_MODEL_7db52c46e644432e8dcb7eada4867c76"
       ],
       "layout": "IPY_MODEL_88f94ee6c2f34bb7aec5bf3bc8c85480"
      }
     },
     "ae6b38fdf5d5448fb28f8e110a994aa7": {
      "model_module": "@jupyter-widgets/base",
      "model_module_version": "1.0.0",
      "model_name": "LayoutModel",
      "state": {}
     },
     "ae8b59cbf0cb4d28abe25929e25373d1": {
      "model_module": "@jupyter-widgets/controls",
      "model_module_version": "1.1.0",
      "model_name": "TextareaModel",
      "state": {
       "layout": "IPY_MODEL_5274c2382cb344cfafced3271ed977b3",
       "placeholder": "Sentence",
       "style": "IPY_MODEL_6e35305b539c42d8aff185a36f2c05cc",
       "value": "Cod. Wings 1. IV Evangelia. I + 333 + I Bl. (Ordnung z.T. verwirrt); 23,5x16,8 cm (14,3x9,7 cm); 17 Z. 2r-319r: St. Galler Kalligr. mehrerer Hde. 7r-12r Kanontafeln. Init. z.T. mit Gold- u. Silber-füllung; 14v Purpurband. 319v-333r Capit, ev. (s. X2). Lit.: Merton2, S. 49; Landsberger, Abb. 9c, 10a; Ausst. Suevia Sacra, Nr. 156, Abb. 145; Aachener Kunstblätter 45 (1974), S. 350f. m. Abb. - St. Gallen, IX. Jh., 3. Drittel- "
      }
     },
     "aea2bb8e46144ab1bdb642a2f68fe086": {
      "model_module": "@jupyter-widgets/controls",
      "model_module_version": "1.1.0",
      "model_name": "ButtonStyleModel",
      "state": {}
     },
     "aecb4d7d0b6b48d79f16bfe75fbcf9a2": {
      "model_module": "@jupyter-widgets/base",
      "model_module_version": "1.0.0",
      "model_name": "LayoutModel",
      "state": {}
     },
     "aef3eb814d0544f3804369361f86c949": {
      "model_module": "@jupyter-widgets/controls",
      "model_module_version": "1.1.0",
      "model_name": "TextModel",
      "state": {
       "description": "Search for:",
       "layout": "IPY_MODEL_ac49a0126e9843eb8f16f770f48f0d05",
       "placeholder": "term",
       "style": "IPY_MODEL_4d8a7ea6ab2f4b1eac49cafb79fc06b1",
       "value": "Aachen"
      }
     },
     "af13437222dc4c929e06b5b7f6196fd1": {
      "model_module": "@jupyter-widgets/controls",
      "model_module_version": "1.1.0",
      "model_name": "ButtonModel",
      "state": {
       "description": "Plot on",
       "layout": "IPY_MODEL_94dfe373715a44f6b428055461dc7897",
       "style": "IPY_MODEL_f4f8ae2c45994e64a29d7476e5548f86"
      }
     },
     "af518ec695a44f8785fddbbad100014d": {
      "model_module": "@jupyter-widgets/output",
      "model_module_version": "1.0.0",
      "model_name": "OutputModel",
      "state": {
       "layout": "IPY_MODEL_0cc6d50f2f2f4433bc25509a57f732d4",
       "outputs": [
        {
         "name": "stdout",
         "output_type": "stream",
         "text": "Found 15 entries.\n"
        }
       ]
      }
     },
     "af73dbf4046243b7a106bdcbd18913a0": {
      "model_module": "@jupyter-widgets/controls",
      "model_module_version": "1.1.0",
      "model_name": "DropdownModel",
      "state": {
       "_options_labels": [
        "city",
        "library",
        "Lokalisierung",
        "Datierung",
        "text"
       ],
       "index": 0,
       "layout": "IPY_MODEL_d156b69a807844f89ddef717fb768a9a",
       "style": "IPY_MODEL_ac3171e58b58475c9a4faeae0b9e8e45"
      }
     },
     "afd2117a9b7f492cbc5949d157752dc5": {
      "model_module": "@jupyter-widgets/base",
      "model_module_version": "1.0.0",
      "model_name": "LayoutModel",
      "state": {}
     },
     "afdffee63e1445d3b64af224951e7cbc": {
      "model_module": "@jupyter-widgets/controls",
      "model_module_version": "1.1.0",
      "model_name": "TextModel",
      "state": {
       "description": "Search for:",
       "layout": "IPY_MODEL_98fbf1853abf4436b0d31132916472e8",
       "placeholder": "term",
       "style": "IPY_MODEL_f6650ce1c5ff4b3ea1ac72dd51fd879d",
       "value": "Aachen"
      }
     },
     "b03c876f0d164d24818d5034d18ddb79": {
      "model_module": "@jupyter-widgets/controls",
      "model_module_version": "1.1.0",
      "model_name": "ToggleButtonsStyleModel",
      "state": {
       "button_width": "",
       "description_width": ""
      }
     },
     "b05f2983431243c1827275275e2dff99": {
      "model_module": "@jupyter-widgets/controls",
      "model_module_version": "1.1.0",
      "model_name": "DropdownModel",
      "state": {
       "_options_labels": [
        "volume",
        "part",
        "text"
       ],
       "index": 0,
       "layout": "IPY_MODEL_8bde203190114a01a447d1a998b9fd00",
       "style": "IPY_MODEL_8bb39f10cc284efaadb4c09e2bd324a3"
      }
     },
     "b08be7c0dba34c90a43b5e299b54ed4b": {
      "model_module": "@jupyter-widgets/controls",
      "model_module_version": "1.1.0",
      "model_name": "IntSliderModel",
      "state": {
       "layout": "IPY_MODEL_bda1d5a2ab6b482abbfe0990685875d3",
       "max": 0,
       "style": "IPY_MODEL_47b74668700d49009746b0ac6e34f598"
      }
     },
     "b09414db3137432889446befef726dd5": {
      "model_module": "@jupyter-widgets/base",
      "model_module_version": "1.0.0",
      "model_name": "LayoutModel",
      "state": {
       "flex": "0 1 auto",
       "height": "200px",
       "min_height": "40px",
       "width": "70%"
      }
     },
     "b0a75a34452f47a7b2146ddced88a032": {
      "model_module": "@jupyter-widgets/controls",
      "model_module_version": "1.1.0",
      "model_name": "ToggleButtonsModel",
      "state": {
       "_options_labels": [
        "more",
        "less"
       ],
       "button_style": "",
       "icons": [],
       "index": 0,
       "layout": "IPY_MODEL_1158bd3ab2c84a4eb3fd06baa3894388",
       "style": "IPY_MODEL_4adf46b6d1c84b909daca6d405cdafbe",
       "tooltips": []
      }
     },
     "b0a7bba87003444caf9055367b3332d6": {
      "model_module": "@jupyter-widgets/controls",
      "model_module_version": "1.1.0",
      "model_name": "SliderStyleModel",
      "state": {
       "description_width": ""
      }
     },
     "b12a722086cd47daa53b974fbee798f4": {
      "model_module": "@jupyter-widgets/base",
      "model_module_version": "1.0.0",
      "model_name": "LayoutModel",
      "state": {}
     },
     "b12e5e6238f14648b7d552bb2b59567c": {
      "model_module": "@jupyter-widgets/controls",
      "model_module_version": "1.1.0",
      "model_name": "SliderStyleModel",
      "state": {
       "description_width": ""
      }
     },
     "b14f2c1d4d91441b8afd609dd03fe726": {
      "model_module": "@jupyter-widgets/controls",
      "model_module_version": "1.1.0",
      "model_name": "SliderStyleModel",
      "state": {
       "description_width": ""
      }
     },
     "b1618aaf64af4ee7a0a198cb25554189": {
      "model_module": "@jupyter-widgets/output",
      "model_module_version": "1.0.0",
      "model_name": "OutputModel",
      "state": {
       "layout": "IPY_MODEL_87ae33b79ddc4486a2912229941b6140",
       "outputs": [
        {
         "data": {
          "image/png": "iVBORw0KGgoAAAANSUhEUgAAAfUAAAIHCAYAAACG+sWeAAAABHNCSVQICAgIfAhkiAAAAAlwSFlzAAALEgAACxIB0t1+/AAAADl0RVh0U29mdHdhcmUAbWF0cGxvdGxpYiB2ZXJzaW9uIDIuMi4yLCBodHRwOi8vbWF0cGxvdGxpYi5vcmcvhp/UCwAAELRJREFUeJzt3W+snvVdx/HPl7asuKHElilZyQ7ppqxDLQHxwWzCMJvMCEucD1iyB8RN4gMEo6gsJoMNMmOyJS6GEMlGFCXbGGYZxA62CHGNboHWIH9mmLjVcJBtlCLRjG78+fng3K0HKPT0cPfcPd++XgnJue77un/Xjyd95/pfY4wAAKvfcbOeAAAwHaIOAE2IOgA0IeoA0ISoA0ATog4ATYg6ADQh6gDQhKgDQBNrZ7XhjRs3jrm5uVltHgBWjV27du0ZY5x8qPVmFvW5ubns3LlzVpsHgFWjqv5zKes5/A4ATYg6ADQh6gDQxMzOqQPA4Xj22WczPz+fffv2zXoqR8z69euzadOmrFu3blm/F3UAVoX5+fmceOKJmZubS1XNejpTN8bIk08+mfn5+Zx22mnLGsPhdwBWhX379mXDhg0tg54kVZUNGza8piMRog7AqtE16Pu91v8/UQeAJpxTB2BVuueh7051vHPe/tNTHW8W7KkDwBLt3r07J5xwQrZu3Zrdu3fnjDPOeNH3V199dT7xiU+86hg7duzIli1bXvbbaRB1ADgMmzdvzn333bfs32/bti3bt2+f4oz+n6gDwBFw7rnnHnjHyZ49e7ISLzETdQBoQtQBYBle6fazWd52J+oAsAwbNmzIU0899aLP9u7dm40bNyZJ1q5dmxdeeCFJVuzRtm5pA2BVmvUtaG94wxtyyimn5K677sp5552XvXv35o477sjll1+eJJmbm8uuXbtyzjnn5NZbb12ROdlTB4Bluummm3LNNddk69atOe+883LVVVdl8+bNSZIrrrgi119/fc4888zs2bNnReZjTx0AlmnLli25++67D/rd6aefnvvvv//A8rXXXnvE52NPHQCWaM2aNXn66aezdevWZY+xY8eOXHDBBQfOvU+TPXUAVo0xxkyvLj/11FPz6KOPvqYxtm3blgceeOCg340xXtPYraI+7ecAA3D0WPd85bHHv5eTTvrJo/ptba8/Yd2yfrf/ferr169f9rZbRR2Avp497sQ8see/V+yis+V63bo1y/7t+vXrs2nTpmX/XtQBWB1qTZ5dc9KsZ3FIW982u1vtXCgHAE2IOgA0IeoA0ISoA0ATog4ATYg6ADQh6gDQhKgDQBOiDgBNiDoANCHqANCEqANAE6IOAE2IOgA0IeoA0ISoA0ATog4ATYg6ADQh6gDQhKgDQBOiDgBNiDoANCHqANCEqANAE6IOAE2IOgA0IeoA0ISoA0ATog4ATYg6ADQh6gDQhKgDQBOiDgBNiDoANCHqANCEqANAE6IOAE2IOgA0IeoA0ISoA0ATog4ATYg6ADQh6gDQhKgDQBOiDgBNiDoANCHqANCEqANAE6IOAE2IOgA0IeoA0ISoA0ATog4ATYg6ADQh6gDQhKgDQBOiDgBNiDoANCHqANCEqANAE6IOAE2IOgA0IeoA0ISoA0ATog4ATYg6ADQh6gDQhKgDQBOiDgBNiDoANCHqANCEqANAE6IOAE2IOgA0IeoA0ISoA0ATog4ATYg6ADQh6gDQhKgDQBOiDgBNiDoANCHqANCEqANAE6IOAE2IOgA0IeoA0ISoA0ATog4ATYg6ADQh6gDQhKgDQBOiDgBNiDoANCHqANCEqANAE6IOAE2IOgA0IeoA0ISoA0ATog4ATYg6ADQh6gDQhKgDQBOiDgBNiDoANCHqANCEqANAE6IOAE2IOgA0IeoA0ISoA0ATog4ATYg6ADQh6gDQhKgDQBOiDgBNiDoANCHqANCEqANAE6IOAE2IOgA0IeoA0ISoA0ATog4ATYg6ADQh6gDQhKgDQBOiDgBNiDoANCHqANCEqANAE6IOAE2IOgA0IeoA0ISoA0ATog4ATYg6ADQh6gDQhKgDQBOiDgBNiDoANCHqANCEqANAE6IOAE2IOgA0IeoA0ISoA0ATog4ATYg6ADQh6gDQhKgDQBOiDgBNiDoANCHqANCEqANAE6IOAE2IOgA0IeoA0ISoA0ATog4ATYg6ADQh6gDQhKgDQBOiDgBNiDoANCHqANCEqANAE6IOAE2IOgA0IeoA0ISoA0ATog4ATYg6ADQh6gDQhKgDQBOiDgBNiDoANCHqANCEqANAE6IOAE2IOgA0IeoA0ISoA0ATog4ATYg6ADQh6gDQhKgDQBOiDgBNiDoANCHqANCEqANAE6IOAE2IOgA0IeoA0ISoA0ATog4ATYg6ADQh6gDQhKgDQBOiDgBNiDoANCHqANCEqANAE6IOAE2IOgA0IeoA0ISoA0ATog4ATYg6ADQh6gDQhKgDQBOiDgBNiDoANCHqANCEqANAE6IOAE2IOgA0IeoA0ISoA0ATog4ATYg6ADQh6gDQhKgDQBOiDgBNiDoANCHqANCEqANAE6IOAE2IOgA0IeoA0ISoA0ATog4ATYg6ADQh6gDQhKgDQBOiDgBNiDoANCHqANCEqANAE6IOAE2IOgA0IeoA0ISoA0ATog4ATYg6ADQh6gDQhKgDQBOiDgBNiDoANCHqANCEqANAE6IOAE2IOgA0IeoA0ISoA0ATog4ATYg6ADQh6gDQhKgDQBOiDgBNiDoANCHqANCEqANAE6IOAE2IOgA0IeoA0ISoA0ATog4ATYg6ADQh6gDQhKgDQBOiDgBNiDoANCHqANCEqANAE6IOAE2IOgA0IeoA0ISoA0ATog4ATYg6ADQh6gDQhKgDQBOiDgBNiDoANCHqANCEqANAE6IOAE2IOgA0IeoA0ISoA0ATog4ATYg6ADQh6gDQhKgDQBOiDgBNiDoANCHqANCEqANAE6IOAE2IOgA0IeoA0ISoA0ATog4ATYg6ADQh6gDQhKgDQBOiDgBNiDoANCHqANCEqANAE6IOAE2IOgA0IeoA0ISoA0ATog4ATYg6ADQh6gDQhKgDQBOiDgBNiDoANCHqANCEqANAE6IOAE2IOgA0IeoA0ISoA0ATog4ATYg6ADQh6gDQhKgDQBOiDgBNiDoANCHqANCEqANAE6IOAE2IOgA0IeoA0ISoA0ATog4ATYg6ADQh6gDQhKgDQBOiDgBNiDoANCHqANCEqANAE6IOAE2IOgA0IeoA0ISoA0ATog4ATYg6ADQh6gDQhKgDQBOiDgBNiDoANCHqANCEqANAE6IOAE2IOgA0IeoA0ISoA0ATog4ATYg6ADQh6gDQhKgDQBOiDgBNiDoANDG1qFfVjVX1/ap6cFpjAgBLN8099b9Kcv4UxwMADsPUoj7G+FqSvdMaDwA4PCt6Tr2qLqmqnVW184knnljJTQNAeysa9THGDWOMs8cYZ5988skruWkAaM/V7wDQhKgDQBPTvKXts0m+nuRnq2q+qj44rbEBgENbO62Bxhjvn9ZYAMDhc/gdAJoQdQBoQtQBoAlRB4AmRB0AmhB1AGhC1AGgCVEHgCZEHQCaEHUAaML71AGgCe9TB4AmHH4HgCZEHQCaEHUAaELUAaAJUQeAJkQdAJoQdQBoQtQBoAlRB4AmRB0AmlhS1Kvq/Kp6uKoeqaorD/L9xVX1RFXdN/nvQ9OfKgDwatYeaoWqWpPkuiTvSjKf5N6qum2M8c2XrPr5McalR2COAMASLGVP/Zwkj4wxvj3G+FGSzyV575GdFgBwuJYS9TcleXTR8vzks5d6X1XdX1W3VtWpBxvIq1cB4MiZ1oVytyeZG2P8fJKvJvnrg63k1asAcOQsJeqPJVm8571p8tkBY4wnxxg/nCx+OslZ05keALBUS4n6vUneWlWnVdXxSS5KctviFarqlEWLFyb5t+lNEQBYikNe/T7GeK6qLk1yZ5I1SW4cYzxUVR9LsnOMcVuSy6rqwiTPJdmb5OIjOGcA4CAOGfUkGWNsT7L9JZ99ZNHfH07y4elODQA4HJ4oBwBNiDoANCHqANCEqANAE6IOAE2IOgA0IeoA0ISoA0ATog4ATYg6ADSxolH3PnUAOHJWNOrepw4AR47D7wDQhKgDQBOiDgBNiDoANCHqANCEqANAE6IOAE2IOgA0IeoA0ISoA0ATU4t6VZ1fVQ9X1SNVdeW0xgUAlmYqUa+qNUmuS/KeJFuSvL+qtkxjbABgaaa1p35OkkfGGN8eY/woyeeSvHdKYwMASzCtqL8pyaOLlucnnwEAK2TtSm6sqi5Jcslk8X+r6uGV3D5wSBuT7Jn1JICXefNSVppW1B9Lcuqi5U2Tz15kjHFDkhumtE1gyqpq5xjj7FnPA1ieaR1+vzfJW6vqtKo6PslFSW6b0tgAwBJMZU99jPFcVV2a5M4ka5LcOMZ4aBpjAwBLU2OMWc8BOEpU1SWT02TAKiTqANCEx8QCQBOiDgBNiDoANCHqwGGrqpr1HICXE3VgSarq1Kp6Z5KMMYaww9FnRR8TC6xOVXV6kruT7Kqqk8cYt+wP+3ALDRw1RB1Yil9PcnuSryR596TlXxB2OLqIOrAU12Xh34v1SX4iybsmMbfHDkcRUQcOaYzxzOTP/6mq2yd/v7uqvpfk6SyE/h9nMjngABfKAYdljPH9JNuzcDj+T5LsSvL6mU4KSCLqwCuoqlf892GM8XgWDsWfleTCMcb2FZsY8IpEHTigqt5cVR9KkjHGCwcL+6Jb2c5OcukY4+9rYiXnCrycF7oAB1TVLyb5bJJPjjGun3z2qhfB7Y+5C+Vg9uypA0kOxPveJL+f5LKqujg5+INmqurARbZiDkcPUQeSHIj3hUkuSvJgkiur6tJF3x2XJFW1ZozxXFWdVFUfnSwLOxwF3NIGJEmqamOSa5JcmoUr2s9K8udV9cwY4zOTc+xr9wc9yd8luXqM8fwMpw0sYk8djnGLDq0/n+TRJP86xvhBkn9KckuSj1fV7yTJoqDfkoWg75jFnIGDE3U4Ri2K+RuTZIzxVJLvJvnCZPmFJP8+Wf7m5DevyyT0gg5HH1e/wzGsqn4tyZ8l+UaSLye5I8lfJPm5JH+T5A+SXDTG+MZk/Tcm+bExxu6ZTBh4VaIOx6iqOjvJ7yb52ySnJ9mc5MExxqer6reSrEvynTHGV2Y4TeAwiDocg6pqQxae1X7fGOMDk8Pq70vyS0keTnLjGGPfLOcIHD7n1OEYNMZ4MsmfJjm/qn5zjPHDLJwr/5ckW5L81CznByyPW9rgGLD/qXBVdVYW3qj2H2OMm6vqB0k+WlUZY9xaVTcn+eoY479mO2NgOUQdmlsU9Pck+VSSm5J8vqp+Y4zxxap6Pgv3ox83xrgliaDDKiXq0Nwk6G9P8vEk70nyliTPJflMVV02xritqtYk2TPLeQKvnQvloKGq2pzkF5I8P8b40uSzn0lycpJPjTHOrqo/SnJtkl8dY9w9WedVX94CHN1cKAfNTOL9pSTvSPLHi54G960kb0tyz2TVe5L8c5Jn9v9W0GF1s6cOjVTVliQ3J/nIGOP2qvpAkhOTfH2McV9VbcvCvemPJ3lnkkv2P1gGWP1EHRqpql9O8rUxxv43qt2f5LEkp2ThdrXfzkLM35HknjHGl2c1V2D6RB2amVzlfl2Sb2ch8B+rquOz8DrVvxxjfHLRus6hQyOiDg1V1a8kuTPJ8ZMXs6SqPpjkpMVRB3pxoRw0NMb4hyQXJvlWklTVW5L8YZIHZjkv4Mhynzo0NcbYXlUvTJ4a950kv+flLNCbw+/Q3ORQ/I+PMb4467kAR5aowzHCRXHQn6gDQBMulAOAJkQdAJoQdQBoQtQBoAlRB4AmRB0Amvg//rIOerZIQQcAAAAASUVORK5CYII=\n",
          "text/plain": "<Figure size 576x576 with 1 Axes>"
         },
         "metadata": {},
         "output_type": "display_data"
        }
       ]
      }
     },
     "b194efd28a614098b882fab8446325f2": {
      "model_module": "@jupyter-widgets/controls",
      "model_module_version": "1.1.0",
      "model_name": "IntSliderModel",
      "state": {
       "layout": "IPY_MODEL_9c78a4767e814b279f8ef03515389963",
       "max": 7,
       "style": "IPY_MODEL_f7f92034dba54999b57f72119d42957e"
      }
     },
     "b2661cccf5494920ab8f03414975c4e2": {
      "model_module": "@jupyter-widgets/base",
      "model_module_version": "1.0.0",
      "model_name": "LayoutModel",
      "state": {}
     },
     "b26baed746664c73acd38e2de6b2e94c": {
      "model_module": "@jupyter-widgets/base",
      "model_module_version": "1.0.0",
      "model_name": "LayoutModel",
      "state": {}
     },
     "b2a5c3f637ec42e887a1f1b2b6b7924f": {
      "model_module": "@jupyter-widgets/base",
      "model_module_version": "1.0.0",
      "model_name": "LayoutModel",
      "state": {}
     },
     "b2fcf181e440414fb7091afc4da17718": {
      "model_module": "@jupyter-widgets/base",
      "model_module_version": "1.0.0",
      "model_name": "LayoutModel",
      "state": {
       "flex": "0 1 auto",
       "height": "200px",
       "min_height": "40px",
       "width": "70%"
      }
     },
     "b343b2baa7844818a35a0c51c7c244a2": {
      "model_module": "@jupyter-widgets/controls",
      "model_module_version": "1.1.0",
      "model_name": "ToggleButtonsStyleModel",
      "state": {
       "button_width": "",
       "description_width": ""
      }
     },
     "b36646358bc640da84f291ccd246c9f0": {
      "model_module": "@jupyter-widgets/controls",
      "model_module_version": "1.1.0",
      "model_name": "ButtonStyleModel",
      "state": {}
     },
     "b3794ff3a9a34a9697dd3964208ab51c": {
      "model_module": "@jupyter-widgets/base",
      "model_module_version": "1.0.0",
      "model_name": "LayoutModel",
      "state": {}
     },
     "b398f916b7ee4e5db4b75f138db3afc3": {
      "model_module": "@jupyter-widgets/controls",
      "model_module_version": "1.1.0",
      "model_name": "AccordionModel",
      "state": {
       "_titles": {
        "0": "Enter search term"
       },
       "children": [
        "IPY_MODEL_86cddbf9efbb45c6b561722d1eb792c4"
       ],
       "layout": "IPY_MODEL_14dbad09e14c453db752abc7ef1e2138"
      }
     },
     "b3c6036ee688411bb7b05d55c105b616": {
      "model_module": "@jupyter-widgets/controls",
      "model_module_version": "1.1.0",
      "model_name": "TextareaModel",
      "state": {
       "layout": "IPY_MODEL_194eb9de20ac453e995748c128a69e8a",
       "placeholder": "Sentence",
       "style": "IPY_MODEL_9fc7e7e8473a4679bebaa2b0ca1e8563",
       "value": "Cod. Wings 1. IV Evangelia.\nI + 333 + I Bl. (Ordnung z.T. verwirrt); 23,5x16,8 cm (14,3x9,7 cm); 17 Z. 2r-319r: St. Galler Kalligr. mehrerer Hde. 7r-12r Kanontafeln. Init. z.T. mit Gold- u. Silber-füllung; 14v Purpurband. 319v-333r Capit, ev. (s. X2).\nLit.: Merton2, S. 49; Landsberger, Abb. 9c, 10a; Ausst. Suevia Sacra, Nr. 156, Abb. 145; Aachener Kunstblätter 45 (1974), S. 350f. m. Abb.\n-   St. Gallen, IX. Jh., 3. Drittel-\n"
      }
     },
     "b3d1e48ffbd5483788994638ca91192f": {
      "model_module": "@jupyter-widgets/controls",
      "model_module_version": "1.1.0",
      "model_name": "ToggleButtonsModel",
      "state": {
       "_options_labels": [
        "more",
        "less"
       ],
       "button_style": "",
       "icons": [],
       "index": 0,
       "layout": "IPY_MODEL_e042335d511b4f7a9b7072a45efa71c5",
       "style": "IPY_MODEL_5ec9d2aa637840cda54c350b1c95653d",
       "tooltips": []
      }
     },
     "b4077ced0a994f62a892758a0cb18809": {
      "model_module": "@jupyter-widgets/controls",
      "model_module_version": "1.1.0",
      "model_name": "ToggleButtonsStyleModel",
      "state": {
       "button_width": "",
       "description_width": ""
      }
     },
     "b4b3f30ebce3403e81afb136d1fb6944": {
      "model_module": "@jupyter-widgets/controls",
      "model_module_version": "1.1.0",
      "model_name": "TextareaModel",
      "state": {
       "layout": "IPY_MODEL_6eb6421b2a9147699d3c513ba6fd6143",
       "placeholder": "Result",
       "style": "IPY_MODEL_cbf4336009ec4a39a79374d27797a26f",
       "value": "Result 0\ncity: AACHEN\nlibrary: Öffentliche Bibliothek\nmanuID: 2\nLiteratur: Lit. Merton2, S. 49; Landsberger, Abb. 9c, 10a; Ausst. Suevia Sacra, Nr. 156, Abb. 145; Aachener Kunstblätter 45 (1974), S. 350f. m. Abb.\nLokalisierung: St. Gallen\nDatierung: IX. Jh., 3. Drittel\nlatitude: 47.42391\nlongitude: 9.37477"
      }
     },
     "b4c773d637b242c8b39c2da743505491": {
      "model_module": "@jupyter-widgets/base",
      "model_module_version": "1.0.0",
      "model_name": "LayoutModel",
      "state": {}
     },
     "b4e68ae396fd46beb165dae246be42b5": {
      "model_module": "@jupyter-widgets/base",
      "model_module_version": "1.0.0",
      "model_name": "LayoutModel",
      "state": {}
     },
     "b5339c554dd347359c43ebf1322e4ce7": {
      "model_module": "@jupyter-widgets/base",
      "model_module_version": "1.0.0",
      "model_name": "LayoutModel",
      "state": {
       "flex": "0 1 auto",
       "height": "200px",
       "min_height": "40px",
       "width": "30%"
      }
     },
     "b5820d8a7f564989b98cc9d61773f77e": {
      "model_module": "@jupyter-widgets/controls",
      "model_module_version": "1.1.0",
      "model_name": "DropdownModel",
      "state": {
       "_options_labels": [
        "city",
        "library",
        "Lokalisierung",
        "Datierung",
        "text"
       ],
       "index": 0,
       "layout": "IPY_MODEL_f9669194cb5e42719d91a622dce98e30",
       "style": "IPY_MODEL_f3c55c0601314582beeda28489ad16cd"
      }
     },
     "b5a2df1258124cf48e80bd5aef2e7b76": {
      "model_module": "@jupyter-widgets/base",
      "model_module_version": "1.0.0",
      "model_name": "LayoutModel",
      "state": {}
     },
     "b5c2548955fc4b958500dfeabf1051df": {
      "model_module": "@jupyter-widgets/controls",
      "model_module_version": "1.1.0",
      "model_name": "DescriptionStyleModel",
      "state": {
       "description_width": ""
      }
     },
     "b62d2d1b98184da79f2d7e3c08b0a9c2": {
      "model_module": "@jupyter-widgets/base",
      "model_module_version": "1.0.0",
      "model_name": "LayoutModel",
      "state": {}
     },
     "b66bdbd60afd405c9cd58c0f0348a2b6": {
      "model_module": "@jupyter-widgets/controls",
      "model_module_version": "1.1.0",
      "model_name": "DescriptionStyleModel",
      "state": {
       "description_width": ""
      }
     },
     "b68859a2a5664a8b96c9a1ba931e520f": {
      "model_module": "@jupyter-widgets/controls",
      "model_module_version": "1.1.0",
      "model_name": "TextModel",
      "state": {
       "description": "Search for:",
       "layout": "IPY_MODEL_30d69356de0f4af295297a9dc8053e0b",
       "placeholder": "term",
       "style": "IPY_MODEL_6e801cca9363476ca41f4b47cce5adb7",
       "value": "[uU]"
      }
     },
     "b68922d65504404592972d962745abfd": {
      "model_module": "@jupyter-widgets/controls",
      "model_module_version": "1.1.0",
      "model_name": "DropdownModel",
      "state": {
       "_options_labels": [
        "city",
        "library",
        "Lokalisierung",
        "Datierung",
        "text"
       ],
       "description": "Search in:",
       "index": 4,
       "layout": "IPY_MODEL_766d19cf78ad4fd6a07017fb2c0574bb",
       "style": "IPY_MODEL_07b3895b983a4c35be4848f2571b8ce2"
      }
     },
     "b6b248236a2a414392ad40a874e6f92e": {
      "model_module": "@jupyter-widgets/output",
      "model_module_version": "1.0.0",
      "model_name": "OutputModel",
      "state": {
       "layout": "IPY_MODEL_8f758c7000df4c6eb7a0610397576950",
       "outputs": [
        {
         "ename": "NameError",
         "evalue": "name 'ax' is not defined",
         "output_type": "error",
         "traceback": [
          "\u001b[0;31m---------------------------------------------------------------------------\u001b[0m",
          "\u001b[0;31mNameError\u001b[0m                                 Traceback (most recent call last)",
          "\u001b[0;32m~/Dokumente/packages/corpussearch/env/local/lib/python3.6/site-packages/corpussearch/vis.py\u001b[0m in \u001b[0;36m_plotFunction\u001b[0;34m(self, widget, content, buffers)\u001b[0m\n\u001b[1;32m    107\u001b[0m             \u001b[0;32mfor\u001b[0m \u001b[0mkey\u001b[0m\u001b[0;34m,\u001b[0m \u001b[0mvalue\u001b[0m \u001b[0;32min\u001b[0m \u001b[0mself\u001b[0m\u001b[0;34m.\u001b[0m\u001b[0mplotDict\u001b[0m\u001b[0;34m.\u001b[0m\u001b[0mitems\u001b[0m\u001b[0;34m(\u001b[0m\u001b[0;34m)\u001b[0m\u001b[0;34m:\u001b[0m\u001b[0;34m\u001b[0m\u001b[0m\n\u001b[1;32m    108\u001b[0m                 \u001b[0mradii\u001b[0m \u001b[0;34m=\u001b[0m \u001b[0;34m[\u001b[0m\u001b[0mxo\u001b[0m \u001b[0;32mfor\u001b[0m \u001b[0mxo\u001b[0m \u001b[0;32min\u001b[0m \u001b[0;34m[\u001b[0m\u001b[0mx\u001b[0m\u001b[0;34m/\u001b[0m\u001b[0mmaxVal\u001b[0m \u001b[0;32mfor\u001b[0m \u001b[0mx\u001b[0m \u001b[0;32min\u001b[0m \u001b[0mvalue\u001b[0m\u001b[0;34m[\u001b[0m\u001b[0;36m0\u001b[0m\u001b[0;34m]\u001b[0m\u001b[0;34m]\u001b[0m\u001b[0;34m]\u001b[0m\u001b[0;34m\u001b[0m\u001b[0m\n\u001b[0;32m--> 109\u001b[0;31m                 \u001b[0max\u001b[0m\u001b[0;34m.\u001b[0m\u001b[0mbar\u001b[0m\u001b[0;34m(\u001b[0m\u001b[0mx\u001b[0m\u001b[0;34m,\u001b[0m \u001b[0mradii\u001b[0m\u001b[0;34m,\u001b[0m \u001b[0mwidth\u001b[0m\u001b[0;34m=\u001b[0m\u001b[0;36m0.3\u001b[0m\u001b[0;34m,\u001b[0m \u001b[0malpha\u001b[0m\u001b[0;34m=\u001b[0m\u001b[0;36m0.3\u001b[0m\u001b[0;34m,\u001b[0m \u001b[0mcolor\u001b[0m\u001b[0;34m=\u001b[0m\u001b[0mcolors\u001b[0m\u001b[0;34m[\u001b[0m\u001b[0mi\u001b[0m\u001b[0;34m]\u001b[0m\u001b[0;34m,\u001b[0m \u001b[0mlabel\u001b[0m\u001b[0;34m=\u001b[0m\u001b[0mkey\u001b[0m\u001b[0;34m)\u001b[0m\u001b[0;34m\u001b[0m\u001b[0m\n\u001b[0m\u001b[1;32m    110\u001b[0m                 \u001b[0mi\u001b[0m \u001b[0;34m+=\u001b[0m \u001b[0;36m1\u001b[0m\u001b[0;34m\u001b[0m\u001b[0m\n\u001b[1;32m    111\u001b[0m \u001b[0;34m\u001b[0m\u001b[0m\n",
          "\u001b[0;31mNameError\u001b[0m: name 'ax' is not defined"
         ]
        }
       ]
      }
     },
     "b6b25608cb4c482281c508d5e9091ad6": {
      "model_module": "@jupyter-widgets/controls",
      "model_module_version": "1.1.0",
      "model_name": "IntSliderModel",
      "state": {
       "layout": "IPY_MODEL_7c9d05f33c7b41078fc9a4aa4a480b5a",
       "max": 0,
       "style": "IPY_MODEL_4ac3c307528a42828f845168f32ff993"
      }
     },
     "b701d68afc22418ba5bfca13b84898a6": {
      "model_module": "@jupyter-widgets/controls",
      "model_module_version": "1.1.0",
      "model_name": "ButtonModel",
      "state": {
       "description": "Reset plot",
       "layout": "IPY_MODEL_23d3c934ad1f44418d3bd7bbb532e299",
       "style": "IPY_MODEL_fa00c97b3d494b08972ad98457e17439"
      }
     },
     "b715e28c945d49a99a322b2ab37b796d": {
      "model_module": "@jupyter-widgets/controls",
      "model_module_version": "1.1.0",
      "model_name": "TextareaModel",
      "state": {
       "layout": "IPY_MODEL_1c2303718e024b95b31024dce11a2720",
       "placeholder": "Result",
       "style": "IPY_MODEL_4ddfb9945dca4dfaae5a2d5b46a225a9",
       "value": "Result 0\ncity: AACHEN\nlibrary: Domschatzkammer\nmanuID: 1\nLiteratur: Lit. Koehler 3, S. 53 („spätestens 814 o. sogar 810“), 72-80, Taf. 28-36; Aussi. Karl d. Gr., Nr. 421; Ma. Studien 3, S. 179; Nordenfalk, Kanontafeln, S. 195ff, 274f., Taf. 162, 163.\nLokalisierung: Karolingisches Hofatelier\nDatierung: Zeit Ludwigs des Frommen (spätestens 830)\nlatitude: nan\nlongitude: nan"
      }
     },
     "b7520adcbcc248ff90a3f745b4052227": {
      "model_module": "@jupyter-widgets/controls",
      "model_module_version": "1.1.0",
      "model_name": "HBoxModel",
      "state": {
       "children": [
        "IPY_MODEL_f725789ff99b4cf2b794d7f5472f6ab8"
       ],
       "layout": "IPY_MODEL_979d5c422b75402cae7118c25d4e3df2"
      }
     },
     "b7e76408c0294e60b370d527ddaa8e2b": {
      "model_module": "@jupyter-widgets/controls",
      "model_module_version": "1.1.0",
      "model_name": "HBoxModel",
      "state": {
       "children": [
        "IPY_MODEL_b3d1e48ffbd5483788994638ca91192f",
        "IPY_MODEL_94d7dacc99b74449a2708351dffd6344",
        "IPY_MODEL_6c9e7e8a0b8a410fbab4f90a2da970a7"
       ],
       "layout": "IPY_MODEL_adbbf22b4f9a45ceabd8d9894448f2d9"
      }
     },
     "b7e9dcf8a2ba4b19900bfc8467745fa6": {
      "model_module": "@jupyter-widgets/controls",
      "model_module_version": "1.1.0",
      "model_name": "ToggleButtonsStyleModel",
      "state": {
       "button_width": "",
       "description_width": ""
      }
     },
     "b8266f2ef1ac46e69ee0ab7c3326c063": {
      "model_module": "@jupyter-widgets/base",
      "model_module_version": "1.0.0",
      "model_name": "LayoutModel",
      "state": {}
     },
     "b85d3928c19d450ab1f78bad7cfb564a": {
      "model_module": "@jupyter-widgets/controls",
      "model_module_version": "1.1.0",
      "model_name": "TextareaModel",
      "state": {
       "layout": "IPY_MODEL_30501ae264714d72aeef3452511fe37e",
       "placeholder": "Result",
       "style": "IPY_MODEL_8cbb0b15ad93444193b96b5e4b53e279",
       "value": "Result 0\nvolume: Band_1\npart: Einleitung\npage: 1\nparagraph: 3\nsentence: 1"
      }
     },
     "b8798a38fb784fe396fc1f85906b7957": {
      "model_module": "@jupyter-widgets/base",
      "model_module_version": "1.0.0",
      "model_name": "LayoutModel",
      "state": {}
     },
     "b88b874838384e099ff75601349c7805": {
      "model_module": "@jupyter-widgets/controls",
      "model_module_version": "1.1.0",
      "model_name": "DescriptionStyleModel",
      "state": {
       "description_width": ""
      }
     },
     "b8bb7a0d1d804b749efe25d14aff13b3": {
      "model_module": "@jupyter-widgets/controls",
      "model_module_version": "1.1.0",
      "model_name": "DescriptionStyleModel",
      "state": {
       "description_width": ""
      }
     },
     "b8f6d93a0df747cf8ff905eeea6b19d2": {
      "model_module": "@jupyter-widgets/controls",
      "model_module_version": "1.1.0",
      "model_name": "HBoxModel",
      "state": {
       "children": [
        "IPY_MODEL_16b548a383b64beea1e70ae03a1b1b36",
        "IPY_MODEL_aa3232c1b6ce444e885851efae0f9932",
        "IPY_MODEL_aa85d5df1175406baf9eff8971156aec"
       ],
       "layout": "IPY_MODEL_25ac81bc0e0244629a971358eef7ade1"
      }
     },
     "b902cadd68554e3ea5124bf31bd286ca": {
      "model_module": "@jupyter-widgets/base",
      "model_module_version": "1.0.0",
      "model_name": "LayoutModel",
      "state": {}
     },
     "b917a457fd214c758a6637f1746f3326": {
      "model_module": "@jupyter-widgets/base",
      "model_module_version": "1.0.0",
      "model_name": "LayoutModel",
      "state": {}
     },
     "b932241f9bd04da6865601ef4c022adb": {
      "model_module": "@jupyter-widgets/controls",
      "model_module_version": "1.1.0",
      "model_name": "DropdownModel",
      "state": {
       "_options_labels": [
        "city",
        "library",
        "Lokalisierung",
        "Datierung",
        "text"
       ],
       "index": 0,
       "layout": "IPY_MODEL_bdb7b850789549eb804c340dac503f98",
       "style": "IPY_MODEL_4a1ccac3073c4ec0b0dc0151958e4a66"
      }
     },
     "b943419361e543ec8584a7e665fe6828": {
      "model_module": "@jupyter-widgets/controls",
      "model_module_version": "1.1.0",
      "model_name": "ButtonModel",
      "state": {
       "button_style": "danger",
       "description": "Search",
       "layout": "IPY_MODEL_bdd2118a534744928fda3ac493ebbd30",
       "style": "IPY_MODEL_31dcc2d1db7a44aea85d3c219d521eb8"
      }
     },
     "b9dac34cd3a54d11a819bf5e523f2099": {
      "model_module": "@jupyter-widgets/controls",
      "model_module_version": "1.1.0",
      "model_name": "HBoxModel",
      "state": {
       "children": [
        "IPY_MODEL_e188701b1d6e434ba98c40bb7da49cf1",
        "IPY_MODEL_256b90b1282a432390eeb7ae6e8967d4",
        "IPY_MODEL_6b84b9139b3d4406b9e0ed916cbafd0b"
       ],
       "layout": "IPY_MODEL_c40b8f2926104b3bbd5f1cec981104e1"
      }
     },
     "ba104e83fadd4eeb934638e3433655ce": {
      "model_module": "@jupyter-widgets/controls",
      "model_module_version": "1.1.0",
      "model_name": "ToggleButtonsStyleModel",
      "state": {
       "button_width": "",
       "description_width": ""
      }
     },
     "ba14dc1f5c8b45d189be527e8565fdd7": {
      "model_module": "@jupyter-widgets/controls",
      "model_module_version": "1.1.0",
      "model_name": "TextModel",
      "state": {
       "description": "Search for:",
       "layout": "IPY_MODEL_ffd4beb8ee044df092e0b90cc04aa54c",
       "placeholder": "term",
       "style": "IPY_MODEL_bf6c9aa04d52493689778d3e1c870740",
       "value": "Aachen"
      }
     },
     "ba962b267aa140d394b078c4adcc6a0b": {
      "model_module": "@jupyter-widgets/controls",
      "model_module_version": "1.1.0",
      "model_name": "HBoxModel",
      "state": {
       "children": [
        "IPY_MODEL_b85d3928c19d450ab1f78bad7cfb564a",
        "IPY_MODEL_79787ec34d764dd0b7b376128556a82b"
       ],
       "layout": "IPY_MODEL_774d5e0299cf4f398db53a4fef87f955"
      }
     },
     "bad57dbd7a4a461dae48a02ed677c740": {
      "model_module": "@jupyter-widgets/controls",
      "model_module_version": "1.1.0",
      "model_name": "ButtonStyleModel",
      "state": {}
     },
     "bb32ba02868f41f38fa8d95ef3a77a75": {
      "model_module": "@jupyter-widgets/controls",
      "model_module_version": "1.1.0",
      "model_name": "HBoxModel",
      "state": {
       "children": [
        "IPY_MODEL_81e6289ec3a445518ceec934e6ec8713"
       ],
       "layout": "IPY_MODEL_537d3e83bfcd407691da56f944dd464a"
      }
     },
     "bb68019a473946ec9e1bc607dbe25828": {
      "model_module": "@jupyter-widgets/base",
      "model_module_version": "1.0.0",
      "model_name": "LayoutModel",
      "state": {}
     },
     "bb8e8c05e3f0496781fec392804d2ed3": {
      "model_module": "@jupyter-widgets/controls",
      "model_module_version": "1.1.0",
      "model_name": "DescriptionStyleModel",
      "state": {
       "description_width": ""
      }
     },
     "bbc4a9ccb7b440a7b9e60715a94c3760": {
      "model_module": "@jupyter-widgets/controls",
      "model_module_version": "1.1.0",
      "model_name": "HBoxModel",
      "state": {
       "children": [
        "IPY_MODEL_141c13d870f845b4890532055f06e57d",
        "IPY_MODEL_af73dbf4046243b7a106bdcbd18913a0",
        "IPY_MODEL_72c2a08ff1e74461b3df3d83d36e6972"
       ],
       "layout": "IPY_MODEL_ee8bd6c7a3ce42d18ff7bbac114f7af7"
      }
     },
     "bc026b452dd44507a84a20783adfc825": {
      "model_module": "@jupyter-widgets/controls",
      "model_module_version": "1.1.0",
      "model_name": "ButtonStyleModel",
      "state": {}
     },
     "bc55be6a908546d1991418abb72d97c8": {
      "model_module": "@jupyter-widgets/base",
      "model_module_version": "1.0.0",
      "model_name": "LayoutModel",
      "state": {}
     },
     "bc94fae9a4bf483fa76c96e6f09faba8": {
      "model_module": "@jupyter-widgets/controls",
      "model_module_version": "1.1.0",
      "model_name": "IntSliderModel",
      "state": {
       "layout": "IPY_MODEL_040323fd0cb3491f857f8a26914e33c7",
       "max": 0,
       "style": "IPY_MODEL_91e792c7fb994fb79b6d491d8319957c"
      }
     },
     "bc98429957fe40379ab85d9522350524": {
      "model_module": "@jupyter-widgets/controls",
      "model_module_version": "1.1.0",
      "model_name": "ButtonStyleModel",
      "state": {}
     },
     "bcc776ca932444e5bd79d53d4a5e3c7f": {
      "model_module": "@jupyter-widgets/controls",
      "model_module_version": "1.1.0",
      "model_name": "HBoxModel",
      "state": {
       "children": [
        "IPY_MODEL_c6d316f39ea843e98b6f911396560d03"
       ],
       "layout": "IPY_MODEL_1922755a50104e6fb3d146063d79ba9b"
      }
     },
     "bd08b45d639c420d9617c196a8130831": {
      "model_module": "@jupyter-widgets/controls",
      "model_module_version": "1.1.0",
      "model_name": "ButtonStyleModel",
      "state": {}
     },
     "bd33d1daa0004adab1f0e7f15cda569e": {
      "model_module": "@jupyter-widgets/base",
      "model_module_version": "1.0.0",
      "model_name": "LayoutModel",
      "state": {}
     },
     "bd3879d1d1e341efa9218243a51c0d81": {
      "model_module": "@jupyter-widgets/controls",
      "model_module_version": "1.1.0",
      "model_name": "ButtonStyleModel",
      "state": {}
     },
     "bd3e5aebc4504186a4c669e4b18add88": {
      "model_module": "@jupyter-widgets/controls",
      "model_module_version": "1.1.0",
      "model_name": "DropdownModel",
      "state": {
       "_options_labels": [
        "city",
        "library",
        "Lokalisierung",
        "Datierung",
        "text"
       ],
       "index": 1,
       "layout": "IPY_MODEL_351a5a4bca5a4a9db08d0b16d4290388",
       "style": "IPY_MODEL_2fc64ac270ae4d9381467cfef33ac633"
      }
     },
     "bd4177a22a42443087784bd3e67e08de": {
      "model_module": "@jupyter-widgets/controls",
      "model_module_version": "1.1.0",
      "model_name": "DescriptionStyleModel",
      "state": {
       "description_width": ""
      }
     },
     "bd4324d28a76487e995bc358b3806c2e": {
      "model_module": "@jupyter-widgets/controls",
      "model_module_version": "1.1.0",
      "model_name": "IntSliderModel",
      "state": {
       "layout": "IPY_MODEL_5b3879d2a5d24a708f6fe2281ce0675c",
       "max": 432,
       "style": "IPY_MODEL_d6ba152a8e0649a7bf744ab116fc1ed0",
       "value": 184
      }
     },
     "bda1d5a2ab6b482abbfe0990685875d3": {
      "model_module": "@jupyter-widgets/base",
      "model_module_version": "1.0.0",
      "model_name": "LayoutModel",
      "state": {}
     },
     "bdb7b850789549eb804c340dac503f98": {
      "model_module": "@jupyter-widgets/base",
      "model_module_version": "1.0.0",
      "model_name": "LayoutModel",
      "state": {}
     },
     "bdba0c5a6bb34b6fa47e465b5de76397": {
      "model_module": "@jupyter-widgets/base",
      "model_module_version": "1.0.0",
      "model_name": "LayoutModel",
      "state": {}
     },
     "bdca2e4f6602464896f73beb4087e3d3": {
      "model_module": "@jupyter-widgets/base",
      "model_module_version": "1.0.0",
      "model_name": "LayoutModel",
      "state": {}
     },
     "bdd2118a534744928fda3ac493ebbd30": {
      "model_module": "@jupyter-widgets/base",
      "model_module_version": "1.0.0",
      "model_name": "LayoutModel",
      "state": {}
     },
     "bdfb409421de4e889f71e9a8c1e14d75": {
      "model_module": "@jupyter-widgets/base",
      "model_module_version": "1.0.0",
      "model_name": "LayoutModel",
      "state": {
       "flex": "0 1 auto",
       "height": "200px",
       "min_height": "40px",
       "width": "70%"
      }
     },
     "be06547b40d141338c67f6421aee578d": {
      "model_module": "@jupyter-widgets/controls",
      "model_module_version": "1.1.0",
      "model_name": "IntSliderModel",
      "state": {
       "layout": "IPY_MODEL_63fae7e6fce646a48e7abbf55b3f879a",
       "max": 15,
       "style": "IPY_MODEL_c9a829ab2f5b4b07b6b0061de4882e5d"
      }
     },
     "be53819d31c34be0a5261ee23d0e955d": {
      "model_module": "@jupyter-widgets/controls",
      "model_module_version": "1.1.0",
      "model_name": "ToggleButtonsModel",
      "state": {
       "_options_labels": [
        "more",
        "less"
       ],
       "button_style": "",
       "icons": [],
       "index": 0,
       "layout": "IPY_MODEL_f16c3798050c495a8027552c68a2b39b",
       "style": "IPY_MODEL_42d100ab2adc4898aa862c4b30d7fdf5",
       "tooltips": []
      }
     },
     "be6e06119608414d9583a0e656590e6b": {
      "model_module": "@jupyter-widgets/controls",
      "model_module_version": "1.1.0",
      "model_name": "HBoxModel",
      "state": {
       "children": [
        "IPY_MODEL_8369b06ed3c04e06b46995bdb32fc310"
       ],
       "layout": "IPY_MODEL_54aed633222c48939ce368148557d806"
      }
     },
     "be968cfe0a7a4d25a548e006b9ce59c4": {
      "model_module": "@jupyter-widgets/base",
      "model_module_version": "1.0.0",
      "model_name": "LayoutModel",
      "state": {}
     },
     "bec8db14aa7d44a0822497723019c552": {
      "model_module": "@jupyter-widgets/controls",
      "model_module_version": "1.1.0",
      "model_name": "TextModel",
      "state": {
       "description": "Search for:",
       "layout": "IPY_MODEL_f097b79d7ed14cbaaea4492d772815e1",
       "placeholder": "term",
       "style": "IPY_MODEL_5693946c7b8e4cfabb1f4ef84b0dc457"
      }
     },
     "bed314f9e43345c08a89207c2b8a7848": {
      "model_module": "@jupyter-widgets/controls",
      "model_module_version": "1.1.0",
      "model_name": "HBoxModel",
      "state": {
       "children": [
        "IPY_MODEL_aef3eb814d0544f3804369361f86c949",
        "IPY_MODEL_86441f7ba1354128aa50e52ed24eadea"
       ],
       "layout": "IPY_MODEL_bdba0c5a6bb34b6fa47e465b5de76397"
      }
     },
     "bed5f52bb89c4045806b380f3356b271": {
      "model_module": "@jupyter-widgets/base",
      "model_module_version": "1.0.0",
      "model_name": "LayoutModel",
      "state": {}
     },
     "bf2418951e30438cae2179d3ea8969c4": {
      "model_module": "@jupyter-widgets/base",
      "model_module_version": "1.0.0",
      "model_name": "LayoutModel",
      "state": {}
     },
     "bf6c9aa04d52493689778d3e1c870740": {
      "model_module": "@jupyter-widgets/controls",
      "model_module_version": "1.1.0",
      "model_name": "DescriptionStyleModel",
      "state": {
       "description_width": ""
      }
     },
     "bf80839671954ee6878bcc05e6cdfd50": {
      "model_module": "@jupyter-widgets/controls",
      "model_module_version": "1.1.0",
      "model_name": "HBoxModel",
      "state": {
       "children": [
        "IPY_MODEL_215a3e7023d94f848314f519c342ae4a",
        "IPY_MODEL_a6ca7a8d947f4635b6f6fc252d41163a",
        "IPY_MODEL_1de2eab4ccbe4a6b8c00fc6982f52eb7"
       ],
       "layout": "IPY_MODEL_35e54121f5e342838d087395e35a2bdc"
      }
     },
     "bf8b5e1fe06e4320a8d5f08df3f8adec": {
      "model_module": "@jupyter-widgets/base",
      "model_module_version": "1.0.0",
      "model_name": "LayoutModel",
      "state": {}
     },
     "c00202b1faeb46fbbe493fd8c04e1edc": {
      "model_module": "@jupyter-widgets/output",
      "model_module_version": "1.0.0",
      "model_name": "OutputModel",
      "state": {
       "layout": "IPY_MODEL_910462fd66fc478db544f9dbc1cf0221",
       "outputs": [
        {
         "name": "stdout",
         "output_type": "stream",
         "text": "Found 15 entries.\n"
        }
       ]
      }
     },
     "c01211e10c894fbc905fb725c2eec9bc": {
      "model_module": "@jupyter-widgets/base",
      "model_module_version": "1.0.0",
      "model_name": "LayoutModel",
      "state": {
       "flex": "0 1 auto",
       "height": "200px",
       "min_height": "40px",
       "width": "70%"
      }
     },
     "c03520e19ced4b598a52e3a4a6cd9467": {
      "model_module": "@jupyter-widgets/controls",
      "model_module_version": "1.1.0",
      "model_name": "AccordionModel",
      "state": {
       "_titles": {
        "0": "Enter search term"
       },
       "children": [
        "IPY_MODEL_090a16e97d8545fa8a74a95e948fecc9"
       ],
       "layout": "IPY_MODEL_85d0570944cf4177916fde43b3504cb7"
      }
     },
     "c0aa533b0d3f4db39c550d67ad644599": {
      "model_module": "@jupyter-widgets/controls",
      "model_module_version": "1.1.0",
      "model_name": "DescriptionStyleModel",
      "state": {
       "description_width": ""
      }
     },
     "c0bfa97f6e89461ba9d8c7f6827f6026": {
      "model_module": "@jupyter-widgets/controls",
      "model_module_version": "1.1.0",
      "model_name": "VBoxModel",
      "state": {
       "children": [
        "IPY_MODEL_397a8ce6b96f4241a25a750c10807571",
        "IPY_MODEL_b7e76408c0294e60b370d527ddaa8e2b",
        "IPY_MODEL_5124cc17593140039509570d4d450e8c",
        "IPY_MODEL_2050bfc7c3304b98bd5fe26849cea168",
        "IPY_MODEL_a2d18952cf8741579cd6597cbc3d1de5",
        "IPY_MODEL_b6b248236a2a414392ad40a874e6f92e"
       ],
       "layout": "IPY_MODEL_38b43d3a51754123add54db97d6abd9f"
      }
     },
     "c0e0d78b031545529d4d4f1ad2915087": {
      "model_module": "@jupyter-widgets/base",
      "model_module_version": "1.0.0",
      "model_name": "LayoutModel",
      "state": {}
     },
     "c0f0fa88933b49b38abda533883471bd": {
      "model_module": "@jupyter-widgets/base",
      "model_module_version": "1.0.0",
      "model_name": "LayoutModel",
      "state": {}
     },
     "c1a261cd13194241bcd8225d2c652e64": {
      "model_module": "@jupyter-widgets/controls",
      "model_module_version": "1.1.0",
      "model_name": "DescriptionStyleModel",
      "state": {
       "description_width": ""
      }
     },
     "c1d18968b96a4fd4b202c6f45c8298a2": {
      "model_module": "@jupyter-widgets/base",
      "model_module_version": "1.0.0",
      "model_name": "LayoutModel",
      "state": {}
     },
     "c22a979f5e6a44aa8f233e735c1400fc": {
      "model_module": "@jupyter-widgets/base",
      "model_module_version": "1.0.0",
      "model_name": "LayoutModel",
      "state": {}
     },
     "c24515193c774ce1b8682435a40b17ac": {
      "model_module": "@jupyter-widgets/base",
      "model_module_version": "1.0.0",
      "model_name": "LayoutModel",
      "state": {}
     },
     "c257d52ebb6b45a1b9c06eac9d1df1b4": {
      "model_module": "@jupyter-widgets/base",
      "model_module_version": "1.0.0",
      "model_name": "LayoutModel",
      "state": {}
     },
     "c267d3bb66a643d28a67cecc2bc322fe": {
      "model_module": "@jupyter-widgets/base",
      "model_module_version": "1.0.0",
      "model_name": "LayoutModel",
      "state": {}
     },
     "c28b6adc5ab44c5083bc170204d870a4": {
      "model_module": "@jupyter-widgets/controls",
      "model_module_version": "1.1.0",
      "model_name": "ButtonModel",
      "state": {
       "description": "Plot on",
       "layout": "IPY_MODEL_00e057e31176472e9dea30d3427c3927",
       "style": "IPY_MODEL_02eb0e1fce1447b0b748b8e9f1254ee8"
      }
     },
     "c29e8c787f394acda56305be9d73c0e3": {
      "model_module": "@jupyter-widgets/base",
      "model_module_version": "1.0.0",
      "model_name": "LayoutModel",
      "state": {}
     },
     "c31595e5ba804a14a6109e4160592c79": {
      "model_module": "@jupyter-widgets/base",
      "model_module_version": "1.0.0",
      "model_name": "LayoutModel",
      "state": {}
     },
     "c3188a4bfc3a4f7caa3c54e6f4c0c0ec": {
      "model_module": "@jupyter-widgets/base",
      "model_module_version": "1.0.0",
      "model_name": "LayoutModel",
      "state": {}
     },
     "c33f684810de4cdd947668e562fc3329": {
      "model_module": "@jupyter-widgets/controls",
      "model_module_version": "1.1.0",
      "model_name": "DropdownModel",
      "state": {
       "_options_labels": [
        "city",
        "library",
        "Lokalisierung",
        "Datierung",
        "text"
       ],
       "description": "Search in:",
       "index": 4,
       "layout": "IPY_MODEL_f4593f3640cc42f686dc15ae3e98e662",
       "style": "IPY_MODEL_bd4177a22a42443087784bd3e67e08de"
      }
     },
     "c3a3e9fa3a364d028a91846e1b919b1c": {
      "model_module": "@jupyter-widgets/controls",
      "model_module_version": "1.1.0",
      "model_name": "DropdownModel",
      "state": {
       "_options_labels": [
        "city",
        "library",
        "Lokalisierung",
        "Datierung",
        "text"
       ],
       "description": "Search in:",
       "index": 4,
       "layout": "IPY_MODEL_e596acb5c9c8478b9d536147e9cd75ba",
       "style": "IPY_MODEL_ce10b692b66542c6b70d5ce22538b8ad"
      }
     },
     "c3c4211037434f3b95bde78b6664e848": {
      "model_module": "@jupyter-widgets/base",
      "model_module_version": "1.0.0",
      "model_name": "LayoutModel",
      "state": {}
     },
     "c3c4ff8ba5cd4fe3af8d2084d9881510": {
      "model_module": "@jupyter-widgets/controls",
      "model_module_version": "1.1.0",
      "model_name": "HBoxModel",
      "state": {
       "children": [
        "IPY_MODEL_af13437222dc4c929e06b5b7f6196fd1",
        "IPY_MODEL_9e1a7791020248a08a25b9e386041f77",
        "IPY_MODEL_6a819d7f65f3492c90ad018f4db3b268"
       ],
       "layout": "IPY_MODEL_a4e8ae9108ba45b68c2dde7a56764d0a"
      }
     },
     "c3e4be466ab94aeb99841912723ec82d": {
      "model_module": "@jupyter-widgets/controls",
      "model_module_version": "1.1.0",
      "model_name": "SliderStyleModel",
      "state": {
       "description_width": ""
      }
     },
     "c40783a7058d4569b05954d5a76e1d30": {
      "model_module": "@jupyter-widgets/base",
      "model_module_version": "1.0.0",
      "model_name": "LayoutModel",
      "state": {}
     },
     "c40b8f2926104b3bbd5f1cec981104e1": {
      "model_module": "@jupyter-widgets/base",
      "model_module_version": "1.0.0",
      "model_name": "LayoutModel",
      "state": {}
     },
     "c41c1f57896142009df63c3170168074": {
      "model_module": "@jupyter-widgets/base",
      "model_module_version": "1.0.0",
      "model_name": "LayoutModel",
      "state": {}
     },
     "c452ecf173a640289281e3a9bae6a754": {
      "model_module": "@jupyter-widgets/controls",
      "model_module_version": "1.1.0",
      "model_name": "VBoxModel",
      "state": {
       "children": [
        "IPY_MODEL_d8a01f57caf34d4b8216187b2a040cea",
        "IPY_MODEL_d9059a0360ea41589214954aef0f160c",
        "IPY_MODEL_bcc776ca932444e5bd79d53d4a5e3c7f",
        "IPY_MODEL_2b2ce1e5031d4e469eb8a73f04d866cb",
        "IPY_MODEL_92f4eb9f974a4cbebe6eb12fb807169e",
        "IPY_MODEL_d84f94a674734c8ca36e916e8b1648ae"
       ],
       "layout": "IPY_MODEL_6853cabe219947208105b36180adf2a2"
      }
     },
     "c45611b243f04572ab70bdfe02e2ac11": {
      "model_module": "@jupyter-widgets/base",
      "model_module_version": "1.0.0",
      "model_name": "LayoutModel",
      "state": {
       "flex": "0 1 auto",
       "height": "200px",
       "min_height": "40px",
       "width": "30%"
      }
     },
     "c484b44df5764ff7a13767712b9f969e": {
      "model_module": "@jupyter-widgets/controls",
      "model_module_version": "1.1.0",
      "model_name": "ButtonStyleModel",
      "state": {}
     },
     "c49b478a0e164da8a0bfe5d67775a1fa": {
      "model_module": "@jupyter-widgets/controls",
      "model_module_version": "1.1.0",
      "model_name": "HBoxModel",
      "state": {
       "children": [
        "IPY_MODEL_67e45d79950543bc90714e2194acde97",
        "IPY_MODEL_6d69187957ca4a439b9a19dc810c18cf",
        "IPY_MODEL_a58136cc5f66449986bc668d283b66f0"
       ],
       "layout": "IPY_MODEL_58099b7d73394eefb81262d2cca33a3a"
      }
     },
     "c4b37655451e4aabb6d80bded402a40d": {
      "model_module": "@jupyter-widgets/controls",
      "model_module_version": "1.1.0",
      "model_name": "TextareaModel",
      "state": {
       "layout": "IPY_MODEL_16896c4b17834aeba5de30d419ce3f1a",
       "placeholder": "Sentence",
       "style": "IPY_MODEL_e7d8bcd0eccb43f0963e5dfb469cdc7f",
       "value": " HERAUSGEGEBEN 1M AUFTRAG"
      }
     },
     "c4feaeca85254fdeb8db31c45ebd3e85": {
      "model_module": "@jupyter-widgets/base",
      "model_module_version": "1.0.0",
      "model_name": "LayoutModel",
      "state": {
       "flex": "0 1 auto",
       "height": "200px",
       "min_height": "40px",
       "width": "30%"
      }
     },
     "c500dca090044068ad5b7c62e96697b2": {
      "model_module": "@jupyter-widgets/base",
      "model_module_version": "1.0.0",
      "model_name": "LayoutModel",
      "state": {}
     },
     "c53ce343556b4d77b4f8c1706300dbd9": {
      "model_module": "@jupyter-widgets/controls",
      "model_module_version": "1.1.0",
      "model_name": "IntSliderModel",
      "state": {
       "layout": "IPY_MODEL_acc4f6f277f645ccb222a73fbf4561c0",
       "max": 432,
       "style": "IPY_MODEL_4a96524c2c9848e085571d93b3844e96"
      }
     },
     "c57860dabd41498fba09fa37a5c45e3f": {
      "model_module": "@jupyter-widgets/base",
      "model_module_version": "1.0.0",
      "model_name": "LayoutModel",
      "state": {
       "flex": "0 1 auto",
       "height": "200px",
       "min_height": "40px",
       "width": "70%"
      }
     },
     "c58444273c444675a173df3b34255561": {
      "model_module": "@jupyter-widgets/controls",
      "model_module_version": "1.1.0",
      "model_name": "VBoxModel",
      "state": {
       "children": [
        "IPY_MODEL_e53a33c65e5b41f78659d4a9731a6a9d",
        "IPY_MODEL_1c4454dd4c4e41cb9d0351eac6d0f33d",
        "IPY_MODEL_667d4ca93c8b4e32a972cd1116c3eff6",
        "IPY_MODEL_16878da22ee04d7bb07ecd18b10cd541",
        "IPY_MODEL_fdd1b5e0344c4241b8ef1dbd415ccb25",
        "IPY_MODEL_2d8bcf55f20444eebfd6ff75e3c2c76e"
       ],
       "layout": "IPY_MODEL_83185b9e6d4047a4b4ecb126145e8af3"
      }
     },
     "c59e923b0a8f4253a5aecc4735a08540": {
      "model_module": "@jupyter-widgets/base",
      "model_module_version": "1.0.0",
      "model_name": "LayoutModel",
      "state": {
       "margin": "0 0 0 20px"
      }
     },
     "c6138019fac54bf69c772f760522d6ba": {
      "model_module": "@jupyter-widgets/controls",
      "model_module_version": "1.1.0",
      "model_name": "HBoxModel",
      "state": {
       "children": [
        "IPY_MODEL_6d457686d63e4caaab00ddfa14e228d6"
       ],
       "layout": "IPY_MODEL_a190394c8a254a0da42c33e8aa06196f"
      }
     },
     "c68762c234d0435488b02c38778847a8": {
      "model_module": "@jupyter-widgets/controls",
      "model_module_version": "1.1.0",
      "model_name": "TextareaModel",
      "state": {
       "layout": "IPY_MODEL_12065355dfb840cbbb389b46fc1ea59b",
       "placeholder": "Sentence",
       "style": "IPY_MODEL_213fb5a9da2748d2af8e91b976c81f01",
       "value": "Cod. Wings 1. IV Evangelia. I + 333 + I Bl. (Ordnung z.T. verwirrt); 23,5x16,8 cm (14,3x9,7 cm); 17 Z. 2r-319r: St. Galler Kalligr. mehrerer Hde. 7r-12r Kanontafeln. Init. z.T. mit Gold- u. Silber-füllung; 14v Purpurband. 319v-333r Capit, ev. (s. X2). Lit.: Merton2, S. 49; Landsberger, Abb. 9c, 10a; Ausst. Suevia Sacra, Nr. 156, Abb. 145; Aachener Kunstblätter 45 (1974), S. 350f. m. Abb. - St. Gallen, IX. Jh., 3. Drittel- "
      }
     },
     "c6d316f39ea843e98b6f911396560d03": {
      "model_module": "@jupyter-widgets/controls",
      "model_module_version": "1.1.0",
      "model_name": "IntSliderModel",
      "state": {
       "layout": "IPY_MODEL_c96b25292b504a3aba76fb96bbcd58b0",
       "max": 7,
       "style": "IPY_MODEL_3d631351800e4945bb4f0d1bf2869f93"
      }
     },
     "c6d9ea82790b47e083288ffb6518971f": {
      "model_module": "@jupyter-widgets/controls",
      "model_module_version": "1.1.0",
      "model_name": "DropdownModel",
      "state": {
       "_options_labels": [
        "city",
        "library",
        "Lokalisierung",
        "Datierung",
        "text"
       ],
       "index": 0,
       "layout": "IPY_MODEL_9295ef247ccd47eb84ea14a156a647bb",
       "style": "IPY_MODEL_d13a57eab447480d90853f715e50e0ec"
      }
     },
     "c73e9e850b314ff09afab18d8fe3951b": {
      "model_module": "@jupyter-widgets/base",
      "model_module_version": "1.0.0",
      "model_name": "LayoutModel",
      "state": {
       "flex": "0 1 auto",
       "height": "200px",
       "min_height": "40px",
       "width": "30%"
      }
     },
     "c753b8015b3148a99e4e8996538b8124": {
      "model_module": "@jupyter-widgets/controls",
      "model_module_version": "1.1.0",
      "model_name": "DescriptionStyleModel",
      "state": {
       "description_width": ""
      }
     },
     "c763673f5bb84a738662bdf6e8156330": {
      "model_module": "@jupyter-widgets/controls",
      "model_module_version": "1.1.0",
      "model_name": "HBoxModel",
      "state": {
       "children": [
        "IPY_MODEL_3fb4ce0b7b8a40eaacc02e1bb76b4c46",
        "IPY_MODEL_4f777215aed1460a850850f69f7b7ee5"
       ],
       "layout": "IPY_MODEL_ccfc644999814c41b8bb000d349ebbb0"
      }
     },
     "c7a447fbb9304ed185ed88620538757f": {
      "model_module": "@jupyter-widgets/controls",
      "model_module_version": "1.1.0",
      "model_name": "HBoxModel",
      "state": {
       "children": [
        "IPY_MODEL_9935acdc1d2f4e70919c2ba7cec0035f",
        "IPY_MODEL_6dce5e0587a74ce29e4d414a5bcfd132",
        "IPY_MODEL_223bf0cf4e554fc7ba91647a930ce234"
       ],
       "layout": "IPY_MODEL_e2a95c65a2684420a7d92726edda04fc"
      }
     },
     "c7a7a7c006aa4fee9ece66d1f756c777": {
      "model_module": "@jupyter-widgets/controls",
      "model_module_version": "1.1.0",
      "model_name": "SliderStyleModel",
      "state": {
       "description_width": ""
      }
     },
     "c7fa1c85d29049f98926caa165963094": {
      "model_module": "@jupyter-widgets/controls",
      "model_module_version": "1.1.0",
      "model_name": "ButtonModel",
      "state": {
       "description": "Reset plot",
       "layout": "IPY_MODEL_a42780da722140189d78550a3ec9a5a1",
       "style": "IPY_MODEL_cb5510d96fea48dbafcbf8a4d389e0c3"
      }
     },
     "c84190a0457c4114be76fdaa6d30ae08": {
      "model_module": "@jupyter-widgets/controls",
      "model_module_version": "1.1.0",
      "model_name": "ToggleButtonsStyleModel",
      "state": {
       "button_width": "",
       "description_width": ""
      }
     },
     "c8624e2b3fc64a16bb92f7571b2ee9d7": {
      "model_module": "@jupyter-widgets/base",
      "model_module_version": "1.0.0",
      "model_name": "LayoutModel",
      "state": {}
     },
     "c890f4812464423aa081bdaa2218ed12": {
      "model_module": "@jupyter-widgets/base",
      "model_module_version": "1.0.0",
      "model_name": "LayoutModel",
      "state": {}
     },
     "c89348107bd34f5db147531e13c512d6": {
      "model_module": "@jupyter-widgets/controls",
      "model_module_version": "1.1.0",
      "model_name": "ButtonModel",
      "state": {
       "description": "Reset plot",
       "layout": "IPY_MODEL_daf4884ace3944c4b1f61914cd57feff",
       "style": "IPY_MODEL_aad6fb2346a24effbf6d891931050525"
      }
     },
     "c8af9663848847e79696febcb6771537": {
      "model_module": "@jupyter-widgets/output",
      "model_module_version": "1.0.0",
      "model_name": "OutputModel",
      "state": {
       "layout": "IPY_MODEL_3098ea901a444faf9636b48b0123d195"
      }
     },
     "c950e845dc4b4e5faf1f3ba76d7cda36": {
      "model_module": "@jupyter-widgets/controls",
      "model_module_version": "1.1.0",
      "model_name": "DescriptionStyleModel",
      "state": {
       "description_width": ""
      }
     },
     "c96b25292b504a3aba76fb96bbcd58b0": {
      "model_module": "@jupyter-widgets/base",
      "model_module_version": "1.0.0",
      "model_name": "LayoutModel",
      "state": {}
     },
     "c9a829ab2f5b4b07b6b0061de4882e5d": {
      "model_module": "@jupyter-widgets/controls",
      "model_module_version": "1.1.0",
      "model_name": "SliderStyleModel",
      "state": {
       "description_width": ""
      }
     },
     "ca109bcb5c814598a98ecd05f2abf774": {
      "model_module": "@jupyter-widgets/controls",
      "model_module_version": "1.1.0",
      "model_name": "IntSliderModel",
      "state": {
       "layout": "IPY_MODEL_8e3ddb12b3b94060a5e517c4b849cbe0",
       "max": 0,
       "style": "IPY_MODEL_5ab4129a3d234356b855e151fc19a2da"
      }
     },
     "ca578e40faf2457fb31a5969f01db34c": {
      "model_module": "@jupyter-widgets/controls",
      "model_module_version": "1.1.0",
      "model_name": "TextareaModel",
      "state": {
       "layout": "IPY_MODEL_6278f16ed8ed49ada1537d782fe226c1",
       "placeholder": "Sentence",
       "style": "IPY_MODEL_2d76e605204f4e62b95eb5e58abcab85",
       "value": "Cod. Wings 1. IV Evangelia. I + 333 + I Bl. (Ordnung z.T. verwirrt); 23,5x16,8 cm (14,3x9,7 cm); 17 Z. 2r-319r: St. Galler Kalligr. mehrerer Hde. 7r-12r Kanontafeln. Init. z.T. mit Gold- u. Silber-füllung; 14v Purpurband. 319v-333r Capit, ev. (s. X2). Lit.: Merton2, S. 49; Landsberger, Abb. 9c, 10a; Ausst. Suevia Sacra, Nr. 156, Abb. 145; Aachener Kunstblätter 45 (1974), S. 350f. m. Abb. - St. Gallen, IX. Jh., 3. Drittel- "
      }
     },
     "ca747eddf56347ad8a673165fcd4fbca": {
      "model_module": "@jupyter-widgets/controls",
      "model_module_version": "1.1.0",
      "model_name": "ButtonModel",
      "state": {
       "button_style": "danger",
       "description": "Search",
       "layout": "IPY_MODEL_0549e74f144741e1b1fb6a1e1a0f9f49",
       "style": "IPY_MODEL_bc026b452dd44507a84a20783adfc825"
      }
     },
     "caabe627c37f4967ac936e9c9f21a52a": {
      "model_module": "@jupyter-widgets/controls",
      "model_module_version": "1.1.0",
      "model_name": "HBoxModel",
      "state": {
       "children": [
        "IPY_MODEL_6bb84e6e0fd34462a2d72ec02ed5eacb"
       ],
       "layout": "IPY_MODEL_fcccd71f86004321b4b402325b5ccd70"
      }
     },
     "caac98eaeb16499294c2d6d600ef7a71": {
      "model_module": "@jupyter-widgets/base",
      "model_module_version": "1.0.0",
      "model_name": "LayoutModel",
      "state": {}
     },
     "cadccd4305654d91ae2611f410df1558": {
      "model_module": "@jupyter-widgets/controls",
      "model_module_version": "1.1.0",
      "model_name": "HBoxModel",
      "state": {
       "children": [
        "IPY_MODEL_63d6e653da024b598b58bc86c78ec67f"
       ],
       "layout": "IPY_MODEL_18d51000ab844792891e3820c0614da8"
      }
     },
     "caea9aa1ba0242c9be286883cc7729bf": {
      "model_module": "@jupyter-widgets/base",
      "model_module_version": "1.0.0",
      "model_name": "LayoutModel",
      "state": {}
     },
     "caedc5c9e1f540d89a5e38a23fd5047c": {
      "model_module": "@jupyter-widgets/base",
      "model_module_version": "1.0.0",
      "model_name": "LayoutModel",
      "state": {}
     },
     "cafe009b2e3e4f8e95addd65ab800d3d": {
      "model_module": "@jupyter-widgets/controls",
      "model_module_version": "1.1.0",
      "model_name": "VBoxModel",
      "state": {
       "children": [
        "IPY_MODEL_4fbfafae3f7b46118b9ff196d346e373",
        "IPY_MODEL_1a08199ad17940e8b8206529df5587e8",
        "IPY_MODEL_e58d2b7c76734e11b703a8ef886a963c",
        "IPY_MODEL_70c646330b1440ad9cfc5bb9c5b91819",
        "IPY_MODEL_c3c4ff8ba5cd4fe3af8d2084d9881510",
        "IPY_MODEL_a92631f5ec2b46678698d4aa4b664e8f"
       ],
       "layout": "IPY_MODEL_c500dca090044068ad5b7c62e96697b2"
      }
     },
     "cb462af595ca4565897e8e8d8fac499e": {
      "model_module": "@jupyter-widgets/output",
      "model_module_version": "1.0.0",
      "model_name": "OutputModel",
      "state": {
       "layout": "IPY_MODEL_ac1d34f875254cdf92c58f2500841ffa",
       "outputs": [
        {
         "ename": "TypeError",
         "evalue": "int() argument must be a string, a bytes-like object or a number, not 'odict_values'",
         "output_type": "error",
         "traceback": [
          "\u001b[0;31m---------------------------------------------------------------------------\u001b[0m",
          "\u001b[0;31mTypeError\u001b[0m                                 Traceback (most recent call last)",
          "\u001b[0;32m~/Dokumente/packages/corpussearch/env/local/lib/python3.6/site-packages/corpussearch/vis.py\u001b[0m in \u001b[0;36m_plotFunction\u001b[0;34m(self, widget, content, buffers)\u001b[0m\n\u001b[1;32m    111\u001b[0m             \u001b[0max\u001b[0m\u001b[0;34m.\u001b[0m\u001b[0mset_xticks\u001b[0m\u001b[0;34m(\u001b[0m\u001b[0mnp\u001b[0m\u001b[0;34m.\u001b[0m\u001b[0mlinspace\u001b[0m\u001b[0;34m(\u001b[0m\u001b[0;36m1\u001b[0m\u001b[0;34m,\u001b[0m  \u001b[0mlen\u001b[0m\u001b[0;34m(\u001b[0m\u001b[0mxtickslabels\u001b[0m\u001b[0;34m)\u001b[0m \u001b[0;34m+\u001b[0m \u001b[0;36m1\u001b[0m\u001b[0;34m,\u001b[0m \u001b[0mlen\u001b[0m\u001b[0;34m(\u001b[0m\u001b[0mxtickslabels\u001b[0m\u001b[0;34m)\u001b[0m\u001b[0;34m,\u001b[0m \u001b[0mendpoint\u001b[0m\u001b[0;34m=\u001b[0m\u001b[0;32mFalse\u001b[0m\u001b[0;34m)\u001b[0m\u001b[0;34m)\u001b[0m\u001b[0;34m\u001b[0m\u001b[0m\n\u001b[1;32m    112\u001b[0m             \u001b[0max\u001b[0m\u001b[0;34m.\u001b[0m\u001b[0mset_xticklabels\u001b[0m\u001b[0;34m(\u001b[0m\u001b[0mxtickslabels\u001b[0m\u001b[0;34m,\u001b[0m \u001b[0mrotation\u001b[0m\u001b[0;34m=\u001b[0m\u001b[0;36m45\u001b[0m\u001b[0;34m)\u001b[0m\u001b[0;34m\u001b[0m\u001b[0m\n\u001b[0;32m--> 113\u001b[0;31m             \u001b[0myMax\u001b[0m \u001b[0;34m=\u001b[0m \u001b[0mint\u001b[0m\u001b[0;34m(\u001b[0m\u001b[0mresDict\u001b[0m\u001b[0;34m.\u001b[0m\u001b[0mvalues\u001b[0m\u001b[0;34m(\u001b[0m\u001b[0;34m)\u001b[0m\u001b[0;34m)\u001b[0m\u001b[0;34m\u001b[0m\u001b[0m\n\u001b[0m\u001b[1;32m    114\u001b[0m             \u001b[0max\u001b[0m\u001b[0;34m.\u001b[0m\u001b[0mset_yticks\u001b[0m\u001b[0;34m(\u001b[0m\u001b[0mnp\u001b[0m\u001b[0;34m.\u001b[0m\u001b[0mlinspace\u001b[0m\u001b[0;34m(\u001b[0m\u001b[0;36m0\u001b[0m\u001b[0;34m,\u001b[0m \u001b[0myMax\u001b[0m\u001b[0;34m,\u001b[0m \u001b[0;36m10\u001b[0m\u001b[0;34m)\u001b[0m\u001b[0;34m)\u001b[0m\u001b[0;34m\u001b[0m\u001b[0m\n\u001b[1;32m    115\u001b[0m             \u001b[0max\u001b[0m\u001b[0;34m.\u001b[0m\u001b[0mset_yticklabels\u001b[0m\u001b[0;34m(\u001b[0m\u001b[0;34m[\u001b[0m\u001b[0;34m'0'\u001b[0m\u001b[0;34m,\u001b[0m \u001b[0;34m''\u001b[0m\u001b[0;34m,\u001b[0m \u001b[0mstr\u001b[0m\u001b[0;34m(\u001b[0m\u001b[0myMax\u001b[0m\u001b[0;34m/\u001b[0m\u001b[0;36m2\u001b[0m\u001b[0;34m)\u001b[0m\u001b[0;34m,\u001b[0m \u001b[0;34m''\u001b[0m\u001b[0;34m,\u001b[0m \u001b[0mstr\u001b[0m\u001b[0;34m(\u001b[0m\u001b[0myMax\u001b[0m\u001b[0;34m)\u001b[0m\u001b[0;34m]\u001b[0m\u001b[0;34m)\u001b[0m\u001b[0;34m\u001b[0m\u001b[0m\n",
          "\u001b[0;31mTypeError\u001b[0m: int() argument must be a string, a bytes-like object or a number, not 'odict_values'"
         ]
        }
       ]
      }
     },
     "cb5510d96fea48dbafcbf8a4d389e0c3": {
      "model_module": "@jupyter-widgets/controls",
      "model_module_version": "1.1.0",
      "model_name": "ButtonStyleModel",
      "state": {}
     },
     "cb936df3ffe2475186e30d4df65f9a83": {
      "model_module": "@jupyter-widgets/controls",
      "model_module_version": "1.1.0",
      "model_name": "DescriptionStyleModel",
      "state": {
       "description_width": ""
      }
     },
     "cbf4336009ec4a39a79374d27797a26f": {
      "model_module": "@jupyter-widgets/controls",
      "model_module_version": "1.1.0",
      "model_name": "DescriptionStyleModel",
      "state": {
       "description_width": ""
      }
     },
     "cc006280c44e41d789da35cdb9c5dbec": {
      "model_module": "@jupyter-widgets/base",
      "model_module_version": "1.0.0",
      "model_name": "LayoutModel",
      "state": {}
     },
     "cc08355da7c34a9995584ef834869913": {
      "model_module": "@jupyter-widgets/controls",
      "model_module_version": "1.1.0",
      "model_name": "AccordionModel",
      "state": {
       "_titles": {
        "0": "Enter search term"
       },
       "children": [
        "IPY_MODEL_7b9a45bbe84e4556acf49edff9cb9037"
       ],
       "layout": "IPY_MODEL_36242644992140b2bf37fa62ded6636e"
      }
     },
     "cc3238ac57fd4334945fbb31a3db3eaf": {
      "model_module": "@jupyter-widgets/base",
      "model_module_version": "1.0.0",
      "model_name": "LayoutModel",
      "state": {
       "flex": "0 1 auto",
       "height": "200px",
       "min_height": "40px",
       "width": "30%"
      }
     },
     "cc430cc24cd24e448340642567e1dc2f": {
      "model_module": "@jupyter-widgets/controls",
      "model_module_version": "1.1.0",
      "model_name": "TextareaModel",
      "state": {
       "layout": "IPY_MODEL_97b8d89e751a48668c6839188aa51b35",
       "placeholder": "Result",
       "style": "IPY_MODEL_557da6bd95064d4f834012e5477bfcfd",
       "value": "Result 0\ncity:\n AACHEN\nlibrary:\n Öffentliche Bibliothek\nmanuID:\n 2\nLiteratur:\n Lit. Merton2, S. 49; Landsberger, Abb. 9c, 10a; Ausst. Suevia Sacra, Nr. 156, Abb. 145; Aachener Kunstblätter 45 (1974), S. 350f. m. Abb.\nLokalisierung:\n St. Gallen\nDatierung:\n IX. Jh., 3. Drittel\nlatitude:\n 47.42391\nlongitude:\n 9.37477"
      }
     },
     "cc4f1bf1adef4ba7b3cd02c755af18ae": {
      "model_module": "@jupyter-widgets/controls",
      "model_module_version": "1.1.0",
      "model_name": "DescriptionStyleModel",
      "state": {
       "description_width": ""
      }
     },
     "ccb9356af0154994883437e1c22af605": {
      "model_module": "@jupyter-widgets/base",
      "model_module_version": "1.0.0",
      "model_name": "LayoutModel",
      "state": {}
     },
     "ccd47507d7ca4559a850ff9ad6631fe2": {
      "model_module": "@jupyter-widgets/base",
      "model_module_version": "1.0.0",
      "model_name": "LayoutModel",
      "state": {}
     },
     "ccfc644999814c41b8bb000d349ebbb0": {
      "model_module": "@jupyter-widgets/base",
      "model_module_version": "1.0.0",
      "model_name": "LayoutModel",
      "state": {}
     },
     "cd3453a9290942d8aa848ff8e35f4200": {
      "model_module": "@jupyter-widgets/base",
      "model_module_version": "1.0.0",
      "model_name": "LayoutModel",
      "state": {}
     },
     "cd3c259a6c0c4150ac81c3498b4e4837": {
      "model_module": "@jupyter-widgets/base",
      "model_module_version": "1.0.0",
      "model_name": "LayoutModel",
      "state": {}
     },
     "cd8ee5f9e3574be8b9da1483583e1b2c": {
      "model_module": "@jupyter-widgets/base",
      "model_module_version": "1.0.0",
      "model_name": "LayoutModel",
      "state": {}
     },
     "ce10b692b66542c6b70d5ce22538b8ad": {
      "model_module": "@jupyter-widgets/controls",
      "model_module_version": "1.1.0",
      "model_name": "DescriptionStyleModel",
      "state": {
       "description_width": ""
      }
     },
     "ce18c63ae9d64979a6a4cc762bfb35c2": {
      "model_module": "@jupyter-widgets/controls",
      "model_module_version": "1.1.0",
      "model_name": "DescriptionStyleModel",
      "state": {
       "description_width": ""
      }
     },
     "ce69f16c7d7843d0adc54dc9c6aed69e": {
      "model_module": "@jupyter-widgets/base",
      "model_module_version": "1.0.0",
      "model_name": "LayoutModel",
      "state": {}
     },
     "ce9ed859e3d241939f2f5906fb6ca778": {
      "model_module": "@jupyter-widgets/controls",
      "model_module_version": "1.1.0",
      "model_name": "SliderStyleModel",
      "state": {
       "description_width": ""
      }
     },
     "ce9f870f9bb0414c9dadbc6732af27a0": {
      "model_module": "@jupyter-widgets/controls",
      "model_module_version": "1.1.0",
      "model_name": "DropdownModel",
      "state": {
       "_options_labels": [
        "city",
        "library",
        "Lokalisierung",
        "Datierung",
        "text"
       ],
       "index": 0,
       "layout": "IPY_MODEL_19e8ddd74e1a4341a183cde49aceee59",
       "style": "IPY_MODEL_80cda64433bd4dcf802ba8c71a6c4101"
      }
     },
     "ced6783213f34b059e240612198db1a3": {
      "model_module": "@jupyter-widgets/base",
      "model_module_version": "1.0.0",
      "model_name": "LayoutModel",
      "state": {}
     },
     "ceeb9b5f75ef49c180da2b4075404282": {
      "model_module": "@jupyter-widgets/controls",
      "model_module_version": "1.1.0",
      "model_name": "HBoxModel",
      "state": {
       "children": [
        "IPY_MODEL_efe9d7de970a4d94bfa408bc95ccff9a",
        "IPY_MODEL_03620ca24a4c460da0a219117b60c888",
        "IPY_MODEL_7a3df1e80a394eeea6bcd55b6ca05ab5"
       ],
       "layout": "IPY_MODEL_d834c7c342df46ce86b9aa8c57e45cfe"
      }
     },
     "cf6a824c80704a3b87a181babd6f9643": {
      "model_module": "@jupyter-widgets/controls",
      "model_module_version": "1.1.0",
      "model_name": "HBoxModel",
      "state": {
       "children": [
        "IPY_MODEL_8ad1cf84f32c41f2bbd492539010c4f3",
        "IPY_MODEL_4f6f7818d1524e71820b1c73bc2b8575"
       ],
       "layout": "IPY_MODEL_97af8213e8f74330b8d6f8b2782e8400"
      }
     },
     "cf7d8dcbbb854c8391b5492252cce72f": {
      "model_module": "@jupyter-widgets/controls",
      "model_module_version": "1.1.0",
      "model_name": "HBoxModel",
      "state": {
       "children": [
        "IPY_MODEL_be06547b40d141338c67f6421aee578d"
       ],
       "layout": "IPY_MODEL_5fedc538d13e4feda9a6b1fcb59ede6f"
      }
     },
     "cf7e3ddf975f43dcb25352ecd10f1e1d": {
      "model_module": "@jupyter-widgets/output",
      "model_module_version": "1.0.0",
      "model_name": "OutputModel",
      "state": {
       "layout": "IPY_MODEL_bd33d1daa0004adab1f0e7f15cda569e"
      }
     },
     "cf96110001e84f37bad90cfabeff1c82": {
      "model_module": "@jupyter-widgets/base",
      "model_module_version": "1.0.0",
      "model_name": "LayoutModel",
      "state": {}
     },
     "cfe61d69bb6e427b9ad009fe995e825b": {
      "model_module": "@jupyter-widgets/base",
      "model_module_version": "1.0.0",
      "model_name": "LayoutModel",
      "state": {
       "flex": "0 1 auto",
       "height": "200px",
       "min_height": "40px",
       "width": "70%"
      }
     },
     "d012cef929cc495b85ca23e276ef4b2e": {
      "model_module": "@jupyter-widgets/base",
      "model_module_version": "1.0.0",
      "model_name": "LayoutModel",
      "state": {}
     },
     "d07bb20a38c94ab5a5090fa91650eccf": {
      "model_module": "@jupyter-widgets/base",
      "model_module_version": "1.0.0",
      "model_name": "LayoutModel",
      "state": {}
     },
     "d09bc6755fb04a6fa4d02f9ae98a79ec": {
      "model_module": "@jupyter-widgets/base",
      "model_module_version": "1.0.0",
      "model_name": "LayoutModel",
      "state": {}
     },
     "d0b5b7a5f6b74ea4952e882da7015811": {
      "model_module": "@jupyter-widgets/controls",
      "model_module_version": "1.1.0",
      "model_name": "HBoxModel",
      "state": {
       "children": [
        "IPY_MODEL_40dcc715460b4afb954f05e8d9ad60be",
        "IPY_MODEL_84417a771fda44308d8658efc67783e7"
       ],
       "layout": "IPY_MODEL_c0f0fa88933b49b38abda533883471bd"
      }
     },
     "d0c6e95097ce436e9c7b3d474d215242": {
      "model_module": "@jupyter-widgets/base",
      "model_module_version": "1.0.0",
      "model_name": "LayoutModel",
      "state": {}
     },
     "d0d63d26a960484a85285132e17855e4": {
      "model_module": "@jupyter-widgets/controls",
      "model_module_version": "1.1.0",
      "model_name": "SliderStyleModel",
      "state": {
       "description_width": ""
      }
     },
     "d13a57eab447480d90853f715e50e0ec": {
      "model_module": "@jupyter-widgets/controls",
      "model_module_version": "1.1.0",
      "model_name": "DescriptionStyleModel",
      "state": {
       "description_width": ""
      }
     },
     "d156b69a807844f89ddef717fb768a9a": {
      "model_module": "@jupyter-widgets/base",
      "model_module_version": "1.0.0",
      "model_name": "LayoutModel",
      "state": {}
     },
     "d193eae5a44242aeb58be3366a06b82e": {
      "model_module": "@jupyter-widgets/base",
      "model_module_version": "1.0.0",
      "model_name": "LayoutModel",
      "state": {}
     },
     "d19c9f6d063c46f8bc87dc1df177746f": {
      "model_module": "@jupyter-widgets/controls",
      "model_module_version": "1.1.0",
      "model_name": "SliderStyleModel",
      "state": {
       "description_width": ""
      }
     },
     "d1a85d0f6a2b43cdad1bd84758f4381b": {
      "model_module": "@jupyter-widgets/controls",
      "model_module_version": "1.1.0",
      "model_name": "HBoxModel",
      "state": {
       "children": [
        "IPY_MODEL_84bde31c048e445db743723ea8c37a3f",
        "IPY_MODEL_ac65e2379aa14747ade0ece07d15f735"
       ],
       "layout": "IPY_MODEL_313fd84eadf44a0fa61892a8c028f00c"
      }
     },
     "d1db4ba0ea1c480a9c2b34d33e3e4a03": {
      "model_module": "@jupyter-widgets/base",
      "model_module_version": "1.0.0",
      "model_name": "LayoutModel",
      "state": {}
     },
     "d236350fc8b04c84ad8254fddea3054f": {
      "model_module": "@jupyter-widgets/base",
      "model_module_version": "1.0.0",
      "model_name": "LayoutModel",
      "state": {}
     },
     "d27c7e7667b44cfc99b344735e5c282f": {
      "model_module": "@jupyter-widgets/controls",
      "model_module_version": "1.1.0",
      "model_name": "DescriptionStyleModel",
      "state": {
       "description_width": ""
      }
     },
     "d2d198ac784f4f9db53f2eab5ed9a54c": {
      "model_module": "@jupyter-widgets/controls",
      "model_module_version": "1.1.0",
      "model_name": "TextareaModel",
      "state": {
       "layout": "IPY_MODEL_85b3e7ef61e14037942d628b987808a3",
       "placeholder": "Result",
       "style": "IPY_MODEL_e1b20cf20fee4be8898ed7772193e4b2",
       "value": "Result 0\nvolume: Band_1\npart: Einleitung\npage: 1\nparagraph: 3\nsentence: 1"
      }
     },
     "d2ddee52c41d400d947e643f952a1b11": {
      "model_module": "@jupyter-widgets/controls",
      "model_module_version": "1.1.0",
      "model_name": "HBoxModel",
      "state": {
       "children": [
        "IPY_MODEL_d458f2ba57514ba4a37a3ba5d37512bd"
       ],
       "layout": "IPY_MODEL_ff70e9d0d4f047b3a2655f89936934ca"
      }
     },
     "d36d9bba9ca2438d98f4c0275823917b": {
      "model_module": "@jupyter-widgets/controls",
      "model_module_version": "1.1.0",
      "model_name": "ButtonModel",
      "state": {
       "description": "Plot on",
       "layout": "IPY_MODEL_966a1dd2a9c54f3a83d5951d59e7eb18",
       "style": "IPY_MODEL_298c1d81d7fb4fde979f2e67f72ec986"
      }
     },
     "d3778a21414b40f1ba2fa1a71e97829d": {
      "model_module": "@jupyter-widgets/base",
      "model_module_version": "1.0.0",
      "model_name": "LayoutModel",
      "state": {}
     },
     "d381866ce6ef45c59a05ce6af797911e": {
      "model_module": "@jupyter-widgets/controls",
      "model_module_version": "1.1.0",
      "model_name": "DescriptionStyleModel",
      "state": {
       "description_width": ""
      }
     },
     "d395b46694c7494799bdc6c9319c9650": {
      "model_module": "@jupyter-widgets/controls",
      "model_module_version": "1.1.0",
      "model_name": "AccordionModel",
      "state": {
       "_titles": {
        "0": "Enter search term"
       },
       "children": [
        "IPY_MODEL_253724cdfa4c4383ad1906d1e313fdce"
       ],
       "layout": "IPY_MODEL_1f3ad9f4808541cab45a02219d4ac3a6"
      }
     },
     "d3d8a39bfcdf4fe1b915116c344cd228": {
      "model_module": "@jupyter-widgets/controls",
      "model_module_version": "1.1.0",
      "model_name": "SliderStyleModel",
      "state": {
       "description_width": ""
      }
     },
     "d43a99bf20a442a4ab6ecdf628d165be": {
      "model_module": "@jupyter-widgets/controls",
      "model_module_version": "1.1.0",
      "model_name": "ButtonStyleModel",
      "state": {}
     },
     "d458f2ba57514ba4a37a3ba5d37512bd": {
      "model_module": "@jupyter-widgets/controls",
      "model_module_version": "1.1.0",
      "model_name": "IntSliderModel",
      "state": {
       "layout": "IPY_MODEL_655ec0ff1eae4d768dd41d7df52e409a",
       "max": 7,
       "style": "IPY_MODEL_ffe438be15ed4071bfe271a4cc3346e2"
      }
     },
     "d48569b0629042e9846266adc6ccddd8": {
      "model_module": "@jupyter-widgets/base",
      "model_module_version": "1.0.0",
      "model_name": "LayoutModel",
      "state": {}
     },
     "d48db263378940cfb87547de61c7d636": {
      "model_module": "@jupyter-widgets/controls",
      "model_module_version": "1.1.0",
      "model_name": "ButtonModel",
      "state": {
       "description": "Plot on",
       "layout": "IPY_MODEL_3eca935fca124cb48ca7abf40ca1aaf0",
       "style": "IPY_MODEL_244e2469f6234e0e98983449a0723c73"
      }
     },
     "d49f7bd7dd9644d4961d6cd746167873": {
      "model_module": "@jupyter-widgets/controls",
      "model_module_version": "1.1.0",
      "model_name": "ButtonModel",
      "state": {
       "description": "Reset plot",
       "layout": "IPY_MODEL_ced6783213f34b059e240612198db1a3",
       "style": "IPY_MODEL_b36646358bc640da84f291ccd246c9f0"
      }
     },
     "d4a13a86fb3f480eb2aae60ef646e487": {
      "model_module": "@jupyter-widgets/base",
      "model_module_version": "1.0.0",
      "model_name": "LayoutModel",
      "state": {}
     },
     "d4f905e210c44693a1498175309282e7": {
      "model_module": "@jupyter-widgets/base",
      "model_module_version": "1.0.0",
      "model_name": "LayoutModel",
      "state": {}
     },
     "d54d8bdda407407db8f53439aef8c4fb": {
      "model_module": "@jupyter-widgets/base",
      "model_module_version": "1.0.0",
      "model_name": "LayoutModel",
      "state": {}
     },
     "d54e6b18f3d74143a40edfb6ee06e5f8": {
      "model_module": "@jupyter-widgets/controls",
      "model_module_version": "1.1.0",
      "model_name": "ButtonModel",
      "state": {
       "description": "Reset plot",
       "layout": "IPY_MODEL_9090d94b1fab4b98a62e8be2dd04e1b3",
       "style": "IPY_MODEL_f1aba5f60a05431eb882619e9d6a4b0b"
      }
     },
     "d5c6fb7e6b35402caac9b4c29822faae": {
      "model_module": "@jupyter-widgets/base",
      "model_module_version": "1.0.0",
      "model_name": "LayoutModel",
      "state": {
       "flex": "0 1 auto",
       "height": "200px",
       "min_height": "40px",
       "width": "30%"
      }
     },
     "d5cc47acd1ed44469359688bd1caaf74": {
      "model_module": "@jupyter-widgets/controls",
      "model_module_version": "1.1.0",
      "model_name": "IntSliderModel",
      "state": {
       "layout": "IPY_MODEL_ef72a6816a5344d8a5b2c66137178abf",
       "max": 0,
       "style": "IPY_MODEL_b12e5e6238f14648b7d552bb2b59567c"
      }
     },
     "d5dab1ba2d864f80b7557934f7efa80f": {
      "model_module": "@jupyter-widgets/controls",
      "model_module_version": "1.1.0",
      "model_name": "ButtonStyleModel",
      "state": {}
     },
     "d5deb49a2b784667a1b680c5602ccb4a": {
      "model_module": "@jupyter-widgets/controls",
      "model_module_version": "1.1.0",
      "model_name": "ButtonModel",
      "state": {
       "description": "Reset plot",
       "layout": "IPY_MODEL_e807cba99c6742c29ee4ab8ae3c0a21e",
       "style": "IPY_MODEL_aea2bb8e46144ab1bdb642a2f68fe086"
      }
     },
     "d603177e8cf64fd38f75da19953494c2": {
      "model_module": "@jupyter-widgets/controls",
      "model_module_version": "1.1.0",
      "model_name": "DescriptionStyleModel",
      "state": {
       "description_width": ""
      }
     },
     "d649ba0803eb46d683a7e0d79affcc8a": {
      "model_module": "@jupyter-widgets/base",
      "model_module_version": "1.0.0",
      "model_name": "LayoutModel",
      "state": {
       "flex": "0 1 auto",
       "height": "200px",
       "min_height": "40px",
       "width": "70%"
      }
     },
     "d689205b3b3045af9226fed44c9afcf6": {
      "model_module": "@jupyter-widgets/controls",
      "model_module_version": "1.1.0",
      "model_name": "DropdownModel",
      "state": {
       "_options_labels": [
        "city",
        "library",
        "Lokalisierung",
        "Datierung",
        "text"
       ],
       "index": 0,
       "layout": "IPY_MODEL_faf4444fd884442e8eea196bf5006510",
       "style": "IPY_MODEL_8e37b26d47f643308a186040eabff285"
      }
     },
     "d6ba152a8e0649a7bf744ab116fc1ed0": {
      "model_module": "@jupyter-widgets/controls",
      "model_module_version": "1.1.0",
      "model_name": "SliderStyleModel",
      "state": {
       "description_width": ""
      }
     },
     "d6e7027be3e944db8bf83a0b54278f9b": {
      "model_module": "@jupyter-widgets/base",
      "model_module_version": "1.0.0",
      "model_name": "LayoutModel",
      "state": {
       "margin": "0 0 0 20px"
      }
     },
     "d6f531c906d34016b434c4bde741f809": {
      "model_module": "@jupyter-widgets/base",
      "model_module_version": "1.0.0",
      "model_name": "LayoutModel",
      "state": {}
     },
     "d70f136d5f914594bcd7681f520f902d": {
      "model_module": "@jupyter-widgets/controls",
      "model_module_version": "1.1.0",
      "model_name": "DescriptionStyleModel",
      "state": {
       "description_width": ""
      }
     },
     "d71abdaf09784d37ab8c0c4f7254ad6c": {
      "model_module": "@jupyter-widgets/base",
      "model_module_version": "1.0.0",
      "model_name": "LayoutModel",
      "state": {}
     },
     "d74f8ab50f2c4482b648dbe044ede15f": {
      "model_module": "@jupyter-widgets/base",
      "model_module_version": "1.0.0",
      "model_name": "LayoutModel",
      "state": {}
     },
     "d7c3a3b0e84c4a6a98ffd7a92a00a1a5": {
      "model_module": "@jupyter-widgets/base",
      "model_module_version": "1.0.0",
      "model_name": "LayoutModel",
      "state": {}
     },
     "d834c7c342df46ce86b9aa8c57e45cfe": {
      "model_module": "@jupyter-widgets/base",
      "model_module_version": "1.0.0",
      "model_name": "LayoutModel",
      "state": {}
     },
     "d84f94a674734c8ca36e916e8b1648ae": {
      "model_module": "@jupyter-widgets/output",
      "model_module_version": "1.0.0",
      "model_name": "OutputModel",
      "state": {
       "layout": "IPY_MODEL_fd9c659e017747138cac26f91a3cf8b4",
       "outputs": [
        {
         "data": {
          "image/png": "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\n",
          "text/plain": "<Figure size 576x576 with 1 Axes>"
         },
         "metadata": {},
         "output_type": "display_data"
        }
       ]
      }
     },
     "d85caa8ec23b4b4e91bca254cf43e150": {
      "model_module": "@jupyter-widgets/base",
      "model_module_version": "1.0.0",
      "model_name": "LayoutModel",
      "state": {}
     },
     "d880d37aa43b4c65896bfcec93b337f4": {
      "model_module": "@jupyter-widgets/base",
      "model_module_version": "1.0.0",
      "model_name": "LayoutModel",
      "state": {}
     },
     "d8a01f57caf34d4b8216187b2a040cea": {
      "model_module": "@jupyter-widgets/controls",
      "model_module_version": "1.1.0",
      "model_name": "AccordionModel",
      "state": {
       "_titles": {
        "0": "Enter search term"
       },
       "children": [
        "IPY_MODEL_359fa0971cd44825b2b0340268c509cf"
       ],
       "layout": "IPY_MODEL_716e934652364e6594e71d4ba56bee37"
      }
     },
     "d8a63a4843244973aaf0293c3ba5dbee": {
      "model_module": "@jupyter-widgets/controls",
      "model_module_version": "1.1.0",
      "model_name": "TextModel",
      "state": {
       "description": "Search for:",
       "layout": "IPY_MODEL_dac88aa7ba5540c7a286b0d8549d761e",
       "placeholder": "term",
       "style": "IPY_MODEL_6d2fec9f2a3b444d8e8a844bdcaf543d",
       "value": "[uU]"
      }
     },
     "d8f0e5d3e7a1436f9299d84a8575af6a": {
      "model_module": "@jupyter-widgets/controls",
      "model_module_version": "1.1.0",
      "model_name": "SliderStyleModel",
      "state": {
       "description_width": ""
      }
     },
     "d9059a0360ea41589214954aef0f160c": {
      "model_module": "@jupyter-widgets/controls",
      "model_module_version": "1.1.0",
      "model_name": "HBoxModel",
      "state": {
       "children": [
        "IPY_MODEL_be53819d31c34be0a5261ee23d0e955d",
        "IPY_MODEL_29e4bc61b78740acb615d393400788db",
        "IPY_MODEL_15fccbee3f7b4fc49b5121a398a37fc8"
       ],
       "layout": "IPY_MODEL_a792773e3e7a4feca33e536e1b6abb36"
      }
     },
     "d942b94ab90249d1b873360fbfb3a2bb": {
      "model_module": "@jupyter-widgets/controls",
      "model_module_version": "1.1.0",
      "model_name": "ButtonStyleModel",
      "state": {}
     },
     "d948156da0ac45c29c800c2da62b6a77": {
      "model_module": "@jupyter-widgets/base",
      "model_module_version": "1.0.0",
      "model_name": "LayoutModel",
      "state": {
       "margin": "0 0 0 20px"
      }
     },
     "d95b518efc824e28bd6f1a43cffbe9f0": {
      "model_module": "@jupyter-widgets/controls",
      "model_module_version": "1.1.0",
      "model_name": "ButtonStyleModel",
      "state": {}
     },
     "d95bccc7b12640cb962cabf5333b2e08": {
      "model_module": "@jupyter-widgets/base",
      "model_module_version": "1.0.0",
      "model_name": "LayoutModel",
      "state": {}
     },
     "d9673bf89c594f9bbeda3f4dce01c3de": {
      "model_module": "@jupyter-widgets/controls",
      "model_module_version": "1.1.0",
      "model_name": "HBoxModel",
      "state": {
       "children": [
        "IPY_MODEL_8bd2e2fd6092426bac3670549aa84caf",
        "IPY_MODEL_68882ca3bfc74535a531965ae130aee4"
       ],
       "layout": "IPY_MODEL_0fc5619bc6344473b37b6f8ef84a801c"
      }
     },
     "d9c0f43e474c49ffa785dbf3b5a46e8a": {
      "model_module": "@jupyter-widgets/base",
      "model_module_version": "1.0.0",
      "model_name": "LayoutModel",
      "state": {}
     },
     "da265475433043bea53c0ced92431df2": {
      "model_module": "@jupyter-widgets/controls",
      "model_module_version": "1.1.0",
      "model_name": "TextareaModel",
      "state": {
       "layout": "IPY_MODEL_bdfb409421de4e889f71e9a8c1e14d75",
       "placeholder": "Sentence",
       "style": "IPY_MODEL_5ebdabcfdffd4de2b67c49bf2ebac150",
       "value": " HERAUSGEGEBEN 1M AUFTRAG"
      }
     },
     "da2e0d0e80234973bd59872799f69634": {
      "model_module": "@jupyter-widgets/base",
      "model_module_version": "1.0.0",
      "model_name": "LayoutModel",
      "state": {
       "margin": "0 0 0 20px"
      }
     },
     "dac88aa7ba5540c7a286b0d8549d761e": {
      "model_module": "@jupyter-widgets/base",
      "model_module_version": "1.0.0",
      "model_name": "LayoutModel",
      "state": {
       "margin": "0 0 0 20px"
      }
     },
     "dae59f70baf44d869bcea5fd55dda635": {
      "model_module": "@jupyter-widgets/controls",
      "model_module_version": "1.1.0",
      "model_name": "HBoxModel",
      "state": {
       "children": [
        "IPY_MODEL_b715e28c945d49a99a322b2ab37b796d",
        "IPY_MODEL_7edd350e557c4ca6b61356551e3cdb1f"
       ],
       "layout": "IPY_MODEL_23f85ccde055471ba88b4232f5236c2f"
      }
     },
     "daf4884ace3944c4b1f61914cd57feff": {
      "model_module": "@jupyter-widgets/base",
      "model_module_version": "1.0.0",
      "model_name": "LayoutModel",
      "state": {}
     },
     "dc0430dea29e459fa68f2f5ee849d858": {
      "model_module": "@jupyter-widgets/controls",
      "model_module_version": "1.1.0",
      "model_name": "ButtonStyleModel",
      "state": {}
     },
     "dc5b973175344886be5875762aa7ecf7": {
      "model_module": "@jupyter-widgets/base",
      "model_module_version": "1.0.0",
      "model_name": "LayoutModel",
      "state": {}
     },
     "dc790c5a9ff5426a8fbc0c66868f4f0b": {
      "model_module": "@jupyter-widgets/base",
      "model_module_version": "1.0.0",
      "model_name": "LayoutModel",
      "state": {}
     },
     "dcc6c267f0ab492d96d3e6fdb956102a": {
      "model_module": "@jupyter-widgets/controls",
      "model_module_version": "1.1.0",
      "model_name": "DescriptionStyleModel",
      "state": {
       "description_width": ""
      }
     },
     "dcf7f3b8384e4af282acb0aa7d9eee8b": {
      "model_module": "@jupyter-widgets/controls",
      "model_module_version": "1.1.0",
      "model_name": "DropdownModel",
      "state": {
       "_options_labels": [
        "volume",
        "part",
        "text"
       ],
       "index": 0,
       "layout": "IPY_MODEL_3bf4ef5531b1473b876e7c9caa5e5130",
       "style": "IPY_MODEL_1c303e5380eb4bb19bb339ad219855f8"
      }
     },
     "dcff60314628402691ad286c68909bc2": {
      "model_module": "@jupyter-widgets/controls",
      "model_module_version": "1.1.0",
      "model_name": "HBoxModel",
      "state": {
       "children": [
        "IPY_MODEL_48df893c3eaa478fbbccd5684933a1a3",
        "IPY_MODEL_600476873ce843ec94a71807693b7446",
        "IPY_MODEL_af518ec695a44f8785fddbbad100014d"
       ],
       "layout": "IPY_MODEL_f48876c67a3d4939a0999b12c91894ee"
      }
     },
     "dd4de69c51e94b6a887ae3f2c23d006d": {
      "model_module": "@jupyter-widgets/controls",
      "model_module_version": "1.1.0",
      "model_name": "TextareaModel",
      "state": {
       "layout": "IPY_MODEL_1a421d57dff04f969444facc65357a59",
       "placeholder": "Sentence",
       "style": "IPY_MODEL_79322166cef74e45a1a21ae17a4016df",
       "value": "IV Evangelia. 280 BI.; 30,5 χ 24 cm (18,5 χ 11,7 cm); 20, 23, 24 Z. Schlichte Min., verwandt mit BRESCIA, Bibi. Civica Queriniana, Ms. E.II.9; Lig.: rcc. Schmale natürliche Rust. Mon.cap. Schmuck: Kanontafeln (8v-14r); die vier Evangelisten (14v); Zierrahmen (19v). Lit.: Koehler 3, S. 53 („spätestens 814 o. sogar 810“), 72-80, Taf. 28-36; Aussi. Karl d. Gr., Nr. 421; Ma. Studien 3, S. 179; Nordenfalk, Kanontafeln, S. 195ff, 274f., Taf. 162, 163. - Karolingisches Hofatelier, Zeit Ludwigs des Frommen (spätestens 830)- "
      }
     },
     "de26dcc519e04d849f43970dbe046ee4": {
      "model_module": "@jupyter-widgets/base",
      "model_module_version": "1.0.0",
      "model_name": "LayoutModel",
      "state": {}
     },
     "de8f646f59b44bf8b0dc7e39e13cd082": {
      "model_module": "@jupyter-widgets/controls",
      "model_module_version": "1.1.0",
      "model_name": "HBoxModel",
      "state": {
       "children": [
        "IPY_MODEL_1ed706f4362e4e998f82e53175a8a117"
       ],
       "layout": "IPY_MODEL_110645a6c30e495a872f4deb8a332d13"
      }
     },
     "ded455ff520f4a58af79140700f684b3": {
      "model_module": "@jupyter-widgets/controls",
      "model_module_version": "1.1.0",
      "model_name": "ButtonModel",
      "state": {
       "button_style": "danger",
       "description": "Search",
       "layout": "IPY_MODEL_b4c773d637b242c8b39c2da743505491",
       "style": "IPY_MODEL_fd61a6bc572f4278bcc46b722be310a3"
      }
     },
     "dedb4dcb358347f9995f8cdc477a4330": {
      "model_module": "@jupyter-widgets/base",
      "model_module_version": "1.0.0",
      "model_name": "LayoutModel",
      "state": {}
     },
     "df0a4438851c4ad3b8eecf30fbdfe7cf": {
      "model_module": "@jupyter-widgets/controls",
      "model_module_version": "1.1.0",
      "model_name": "ButtonModel",
      "state": {
       "button_style": "danger",
       "description": "Search",
       "layout": "IPY_MODEL_01a0f8ae8875423fac4c52697fa37d35",
       "style": "IPY_MODEL_37f8074176014d1e829935726d0192ff"
      }
     },
     "df57380f1a914b4391ed44672b6b47be": {
      "model_module": "@jupyter-widgets/base",
      "model_module_version": "1.0.0",
      "model_name": "LayoutModel",
      "state": {}
     },
     "dfc29dc451b94f29bfcabd21cec1a1ba": {
      "model_module": "@jupyter-widgets/base",
      "model_module_version": "1.0.0",
      "model_name": "LayoutModel",
      "state": {}
     },
     "dfd94c49ca8f4e55a6a66aaafb9654b5": {
      "model_module": "@jupyter-widgets/controls",
      "model_module_version": "1.1.0",
      "model_name": "ToggleButtonsModel",
      "state": {
       "_options_labels": [
        "more",
        "less"
       ],
       "button_style": "",
       "icons": [],
       "index": 0,
       "layout": "IPY_MODEL_5114a20ac35b4c8597b67bf4e79e9e13",
       "style": "IPY_MODEL_b03c876f0d164d24818d5034d18ddb79",
       "tooltips": []
      }
     },
     "e001a07560774f2c889df527a40915ac": {
      "model_module": "@jupyter-widgets/base",
      "model_module_version": "1.0.0",
      "model_name": "LayoutModel",
      "state": {}
     },
     "e010a6c2cfbb4180bf273f33bf62fdf2": {
      "model_module": "@jupyter-widgets/controls",
      "model_module_version": "1.1.0",
      "model_name": "DescriptionStyleModel",
      "state": {
       "description_width": ""
      }
     },
     "e036334026c84ecda71ff21b9c192013": {
      "model_module": "@jupyter-widgets/controls",
      "model_module_version": "1.1.0",
      "model_name": "ButtonStyleModel",
      "state": {}
     },
     "e042335d511b4f7a9b7072a45efa71c5": {
      "model_module": "@jupyter-widgets/base",
      "model_module_version": "1.0.0",
      "model_name": "LayoutModel",
      "state": {}
     },
     "e063932cbaec4606999fdb1f235329ff": {
      "model_module": "@jupyter-widgets/base",
      "model_module_version": "1.0.0",
      "model_name": "LayoutModel",
      "state": {
       "margin": "0 0 0 20px"
      }
     },
     "e08db507866b4127903255cc0bbe5349": {
      "model_module": "@jupyter-widgets/controls",
      "model_module_version": "1.1.0",
      "model_name": "DropdownModel",
      "state": {
       "_options_labels": [
        "city",
        "library",
        "Lokalisierung",
        "Datierung",
        "text"
       ],
       "description": "Search in:",
       "index": 4,
       "layout": "IPY_MODEL_816fd088a22142659209f7c9058109fb",
       "style": "IPY_MODEL_13a5ba55f225491ca8a4f5564f97b211"
      }
     },
     "e0b2fcbd38da4b6680702167f25b9453": {
      "model_module": "@jupyter-widgets/controls",
      "model_module_version": "1.1.0",
      "model_name": "IntSliderModel",
      "state": {
       "layout": "IPY_MODEL_94c4253d108b4b9193289235ac1263b1",
       "max": 0,
       "style": "IPY_MODEL_ad3f062b4a844d3a955a71b1c4f0be12"
      }
     },
     "e0dda5b64080455582932fd2fe564dee": {
      "model_module": "@jupyter-widgets/controls",
      "model_module_version": "1.1.0",
      "model_name": "ButtonStyleModel",
      "state": {}
     },
     "e0f3f5ff5d4146868e9c0464dedbc1b6": {
      "model_module": "@jupyter-widgets/controls",
      "model_module_version": "1.1.0",
      "model_name": "HBoxModel",
      "state": {
       "children": [
        "IPY_MODEL_a71a2e617c904ad8a55c11a49d8398f7",
        "IPY_MODEL_6fa5c3178bf54d4fa72f42dd07bb0ebe",
        "IPY_MODEL_9ca6a44bc1b24874ba64e8c6fbb949b2"
       ],
       "layout": "IPY_MODEL_a4a35cbe92af42eba167af68cb9d92e6"
      }
     },
     "e10085b3d25d48b0b0b3d6bafbbfa887": {
      "model_module": "@jupyter-widgets/base",
      "model_module_version": "1.0.0",
      "model_name": "LayoutModel",
      "state": {}
     },
     "e188701b1d6e434ba98c40bb7da49cf1": {
      "model_module": "@jupyter-widgets/controls",
      "model_module_version": "1.1.0",
      "model_name": "ButtonModel",
      "state": {
       "description": "Plot on",
       "layout": "IPY_MODEL_2260b21a85d942468cc32d3a13d25733",
       "style": "IPY_MODEL_bc98429957fe40379ab85d9522350524"
      }
     },
     "e195feeff54a4da98684cdb07af1d732": {
      "model_module": "@jupyter-widgets/controls",
      "model_module_version": "1.1.0",
      "model_name": "VBoxModel",
      "state": {
       "children": [
        "IPY_MODEL_95f92497b5e8455c863d36b025e3178d",
        "IPY_MODEL_c7a447fbb9304ed185ed88620538757f",
        "IPY_MODEL_de8f646f59b44bf8b0dc7e39e13cd082",
        "IPY_MODEL_21afa1caf7b04597815c0c73618cc3c4",
        "IPY_MODEL_143d3937b0814955bca5f8e5a29ff164",
        "IPY_MODEL_0451ea6e474c421aaf08270c38ba8666"
       ],
       "layout": "IPY_MODEL_ebe0dabde4f44198bb616b8272593641"
      }
     },
     "e199705ab54249ffac97ef41d5ed04b2": {
      "model_module": "@jupyter-widgets/base",
      "model_module_version": "1.0.0",
      "model_name": "LayoutModel",
      "state": {}
     },
     "e1ad4b5712d1482682fcba7fdcfd489b": {
      "model_module": "@jupyter-widgets/controls",
      "model_module_version": "1.1.0",
      "model_name": "AccordionModel",
      "state": {
       "_titles": {
        "0": "Enter search term"
       },
       "children": [
        "IPY_MODEL_59a94222246546649d72bef584de63d5"
       ],
       "layout": "IPY_MODEL_4114bc2fdd8040c2a21358aed7d229c4"
      }
     },
     "e1b20cf20fee4be8898ed7772193e4b2": {
      "model_module": "@jupyter-widgets/controls",
      "model_module_version": "1.1.0",
      "model_name": "DescriptionStyleModel",
      "state": {
       "description_width": ""
      }
     },
     "e223af9b74734086903654443b43a3db": {
      "model_module": "@jupyter-widgets/controls",
      "model_module_version": "1.1.0",
      "model_name": "VBoxModel",
      "state": {
       "children": [
        "IPY_MODEL_0e38918dcac9481eb38c66b6e4089cbb",
        "IPY_MODEL_7c211241253b457abe81ec0e5a5413a7",
        "IPY_MODEL_be6e06119608414d9583a0e656590e6b",
        "IPY_MODEL_c763673f5bb84a738662bdf6e8156330",
        "IPY_MODEL_e739bf04878749db984a834d32c2e953",
        "IPY_MODEL_a9488b96e18f400683cd3c4ce57dd952"
       ],
       "layout": "IPY_MODEL_1960efd1bd3a427d978a5904def28c10"
      }
     },
     "e2a95c65a2684420a7d92726edda04fc": {
      "model_module": "@jupyter-widgets/base",
      "model_module_version": "1.0.0",
      "model_name": "LayoutModel",
      "state": {}
     },
     "e2ec6580897b4f089a65e37dc18180e4": {
      "model_module": "@jupyter-widgets/controls",
      "model_module_version": "1.1.0",
      "model_name": "AccordionModel",
      "state": {
       "_titles": {
        "0": "Enter search term"
       },
       "children": [
        "IPY_MODEL_6a14ca7bb52b4e7bbb5633de0fd19363"
       ],
       "layout": "IPY_MODEL_116d23319f074168a79de3978813330f"
      }
     },
     "e2ee3e2c81fe4f1d9f63620448d7ffb7": {
      "model_module": "@jupyter-widgets/controls",
      "model_module_version": "1.1.0",
      "model_name": "ToggleButtonsStyleModel",
      "state": {
       "button_width": "",
       "description_width": ""
      }
     },
     "e3bb57201144442db63494d9c8dd52c1": {
      "model_module": "@jupyter-widgets/controls",
      "model_module_version": "1.1.0",
      "model_name": "SliderStyleModel",
      "state": {
       "description_width": ""
      }
     },
     "e4287901d80b4e4988989419bbae234f": {
      "model_module": "@jupyter-widgets/controls",
      "model_module_version": "1.1.0",
      "model_name": "DescriptionStyleModel",
      "state": {
       "description_width": ""
      }
     },
     "e4d606268e644c11ad9aee8b0a9ab7ad": {
      "model_module": "@jupyter-widgets/controls",
      "model_module_version": "1.1.0",
      "model_name": "DropdownModel",
      "state": {
       "_options_labels": [
        "volume",
        "part",
        "text"
       ],
       "description": "Search in:",
       "index": 2,
       "layout": "IPY_MODEL_b5a2df1258124cf48e80bd5aef2e7b76",
       "style": "IPY_MODEL_8b1fe94029f9499eaea6a54ab8399b7a"
      }
     },
     "e523e97060e543bfb0ec205ac8a70036": {
      "model_module": "@jupyter-widgets/controls",
      "model_module_version": "1.1.0",
      "model_name": "AccordionModel",
      "state": {
       "_titles": {
        "0": "Enter search term"
       },
       "children": [
        "IPY_MODEL_4fe507d668984d6b9c5061ae840e728a"
       ],
       "layout": "IPY_MODEL_f8a833693b9449f9a261ec96c20baa15"
      }
     },
     "e5287a27f4d34dfeb8cc0f2289a7734c": {
      "model_module": "@jupyter-widgets/controls",
      "model_module_version": "1.1.0",
      "model_name": "DescriptionStyleModel",
      "state": {
       "description_width": ""
      }
     },
     "e5373e8689b046f08b9d321ed1466244": {
      "model_module": "@jupyter-widgets/controls",
      "model_module_version": "1.1.0",
      "model_name": "ButtonStyleModel",
      "state": {}
     },
     "e53a33c65e5b41f78659d4a9731a6a9d": {
      "model_module": "@jupyter-widgets/controls",
      "model_module_version": "1.1.0",
      "model_name": "AccordionModel",
      "state": {
       "_titles": {
        "0": "Enter search term"
       },
       "children": [
        "IPY_MODEL_8f22a23aaf8a4e2fb1351aa479266076"
       ],
       "layout": "IPY_MODEL_35bb9e98235448f28fd3968a8fb3ed8a"
      }
     },
     "e557fcac485043f3b3a61605ee2fc36b": {
      "model_module": "@jupyter-widgets/base",
      "model_module_version": "1.0.0",
      "model_name": "LayoutModel",
      "state": {}
     },
     "e569ae8f6b904b65902916b60bd5c643": {
      "model_module": "@jupyter-widgets/controls",
      "model_module_version": "1.1.0",
      "model_name": "ButtonModel",
      "state": {
       "button_style": "danger",
       "description": "Search",
       "layout": "IPY_MODEL_2708227ca66c418d833e5e00d8bbd695",
       "style": "IPY_MODEL_1f83ea6bd9694ce48e98dd1dacbbba32"
      }
     },
     "e588a090243a465ca4172728f132d109": {
      "model_module": "@jupyter-widgets/base",
      "model_module_version": "1.0.0",
      "model_name": "LayoutModel",
      "state": {}
     },
     "e58d2b7c76734e11b703a8ef886a963c": {
      "model_module": "@jupyter-widgets/controls",
      "model_module_version": "1.1.0",
      "model_name": "HBoxModel",
      "state": {
       "children": [
        "IPY_MODEL_077e7b6dc8fd4b639119f5be0192371d"
       ],
       "layout": "IPY_MODEL_fb91e636768744379cf34422add2dd00"
      }
     },
     "e58ef218e76a4b6e9e0e2261e927bef3": {
      "model_module": "@jupyter-widgets/base",
      "model_module_version": "1.0.0",
      "model_name": "LayoutModel",
      "state": {}
     },
     "e596acb5c9c8478b9d536147e9cd75ba": {
      "model_module": "@jupyter-widgets/base",
      "model_module_version": "1.0.0",
      "model_name": "LayoutModel",
      "state": {}
     },
     "e608c145833f4d019ab26a6c6dca04b7": {
      "model_module": "@jupyter-widgets/controls",
      "model_module_version": "1.1.0",
      "model_name": "ButtonModel",
      "state": {
       "description": "Plot on",
       "layout": "IPY_MODEL_f7a030e9273c462a965929a57262c5ee",
       "style": "IPY_MODEL_93400856834b4a91bbd2647cddb44cba"
      }
     },
     "e630c14fe2524fc59a42216c180c6d79": {
      "model_module": "@jupyter-widgets/controls",
      "model_module_version": "1.1.0",
      "model_name": "DropdownModel",
      "state": {
       "_options_labels": [
        "city",
        "library",
        "Lokalisierung",
        "Datierung",
        "text"
       ],
       "index": 0,
       "layout": "IPY_MODEL_104bf6554b2d4331986ad3cf91fdc4b2",
       "style": "IPY_MODEL_857039e20eb84e26b5592ba36dc9c091"
      }
     },
     "e64f1d7445374e479c7b21aafe7818a1": {
      "model_module": "@jupyter-widgets/base",
      "model_module_version": "1.0.0",
      "model_name": "LayoutModel",
      "state": {}
     },
     "e687aa3e605d404cbff416e8acb8cbfb": {
      "model_module": "@jupyter-widgets/controls",
      "model_module_version": "1.1.0",
      "model_name": "DescriptionStyleModel",
      "state": {
       "description_width": ""
      }
     },
     "e6903a267ed64d0bbff991210f0ccb00": {
      "model_module": "@jupyter-widgets/controls",
      "model_module_version": "1.1.0",
      "model_name": "DescriptionStyleModel",
      "state": {
       "description_width": ""
      }
     },
     "e739bf04878749db984a834d32c2e953": {
      "model_module": "@jupyter-widgets/controls",
      "model_module_version": "1.1.0",
      "model_name": "HBoxModel",
      "state": {
       "children": [
        "IPY_MODEL_7d26853b4acc47f0be73312dd7be5a4b",
        "IPY_MODEL_dcf7f3b8384e4af282acb0aa7d9eee8b",
        "IPY_MODEL_d54e6b18f3d74143a40edfb6ee06e5f8"
       ],
       "layout": "IPY_MODEL_8e340ede35d24ab2bd927b7cbdbb3d21"
      }
     },
     "e746704cec1a40caa7b2f34361302972": {
      "model_module": "@jupyter-widgets/base",
      "model_module_version": "1.0.0",
      "model_name": "LayoutModel",
      "state": {}
     },
     "e79f7cd2c9564a7791f91539dece9e7a": {
      "model_module": "@jupyter-widgets/controls",
      "model_module_version": "1.1.0",
      "model_name": "ToggleButtonsStyleModel",
      "state": {
       "button_width": "",
       "description_width": ""
      }
     },
     "e7d8bcd0eccb43f0963e5dfb469cdc7f": {
      "model_module": "@jupyter-widgets/controls",
      "model_module_version": "1.1.0",
      "model_name": "DescriptionStyleModel",
      "state": {
       "description_width": ""
      }
     },
     "e807cba99c6742c29ee4ab8ae3c0a21e": {
      "model_module": "@jupyter-widgets/base",
      "model_module_version": "1.0.0",
      "model_name": "LayoutModel",
      "state": {}
     },
     "e8309b0218d645d1970bc7b0d8eb4395": {
      "model_module": "@jupyter-widgets/base",
      "model_module_version": "1.0.0",
      "model_name": "LayoutModel",
      "state": {}
     },
     "e89d37f813ae4ef6bed41cedc64abbde": {
      "model_module": "@jupyter-widgets/controls",
      "model_module_version": "1.1.0",
      "model_name": "ButtonStyleModel",
      "state": {}
     },
     "e8bda17f40384faab67a87ff39b4e812": {
      "model_module": "@jupyter-widgets/controls",
      "model_module_version": "1.1.0",
      "model_name": "ButtonStyleModel",
      "state": {}
     },
     "e8be15d5cfbb4e22930cc1d0998d2274": {
      "model_module": "@jupyter-widgets/controls",
      "model_module_version": "1.1.0",
      "model_name": "HBoxModel",
      "state": {
       "children": [
        "IPY_MODEL_00b1dc618e5e4651b8f4a4c150a2f90b",
        "IPY_MODEL_ff6d507591984340b7de0efe6a515f5f",
        "IPY_MODEL_16ecae86bb8443018ff54ed0aa6cd37d"
       ],
       "layout": "IPY_MODEL_a01b025320e84530aa6dfb562f08db40"
      }
     },
     "ea2fd68915e24dd59d03afd7f38ad789": {
      "model_module": "@jupyter-widgets/controls",
      "model_module_version": "1.1.0",
      "model_name": "SliderStyleModel",
      "state": {
       "description_width": ""
      }
     },
     "eac40c27f17d41528ffc7902c9b50c63": {
      "model_module": "@jupyter-widgets/base",
      "model_module_version": "1.0.0",
      "model_name": "LayoutModel",
      "state": {}
     },
     "eb04ab5acb58457a89c96f141197ab41": {
      "model_module": "@jupyter-widgets/base",
      "model_module_version": "1.0.0",
      "model_name": "LayoutModel",
      "state": {}
     },
     "eb7bf874654c4b699d306786a0b4f178": {
      "model_module": "@jupyter-widgets/controls",
      "model_module_version": "1.1.0",
      "model_name": "HBoxModel",
      "state": {
       "children": [
        "IPY_MODEL_1c01f2d3dd9747469658864313cbf139"
       ],
       "layout": "IPY_MODEL_93af5b30f6a8456ca1cb41621f91e1af"
      }
     },
     "ebe0dabde4f44198bb616b8272593641": {
      "model_module": "@jupyter-widgets/base",
      "model_module_version": "1.0.0",
      "model_name": "LayoutModel",
      "state": {}
     },
     "ec0af966b4574d9e9769a5e978e991b2": {
      "model_module": "@jupyter-widgets/controls",
      "model_module_version": "1.1.0",
      "model_name": "ButtonStyleModel",
      "state": {}
     },
     "ec349ed8cea84488a21f84c064ded98d": {
      "model_module": "@jupyter-widgets/output",
      "model_module_version": "1.0.0",
      "model_name": "OutputModel",
      "state": {
       "layout": "IPY_MODEL_97c8c33bba0d47719ef80591fee576fd"
      }
     },
     "ec45f60a231445bab314f9355a55cfca": {
      "model_module": "@jupyter-widgets/base",
      "model_module_version": "1.0.0",
      "model_name": "LayoutModel",
      "state": {
       "flex": "0 1 auto",
       "height": "200px",
       "min_height": "40px",
       "width": "30%"
      }
     },
     "ed1ab508db3f474799a96399d7323246": {
      "model_module": "@jupyter-widgets/base",
      "model_module_version": "1.0.0",
      "model_name": "LayoutModel",
      "state": {}
     },
     "ed8c3b0c1c4b479bb5ef3c7774007b12": {
      "model_module": "@jupyter-widgets/controls",
      "model_module_version": "1.1.0",
      "model_name": "ButtonModel",
      "state": {
       "button_style": "danger",
       "description": "Search",
       "layout": "IPY_MODEL_520aa5e4083149bcad890855790dbc99",
       "style": "IPY_MODEL_6dc988adae914d29bdc09dfcf5ff8bb0"
      }
     },
     "ed9e5e258b984d5e8d10fd55369a0d2c": {
      "model_module": "@jupyter-widgets/controls",
      "model_module_version": "1.1.0",
      "model_name": "SliderStyleModel",
      "state": {
       "description_width": ""
      }
     },
     "edb8b3e84b9048d5a45f375b2f424208": {
      "model_module": "@jupyter-widgets/controls",
      "model_module_version": "1.1.0",
      "model_name": "VBoxModel",
      "state": {
       "children": [
        "IPY_MODEL_e1ad4b5712d1482682fcba7fdcfd489b",
        "IPY_MODEL_c49b478a0e164da8a0bfe5d67775a1fa",
        "IPY_MODEL_441bdb8c976447b49899b164a209da80",
        "IPY_MODEL_27ee424e4ad843b99d2a90caabc7ffc2",
        "IPY_MODEL_f77605fb377e4998873ebfc9edcf12f3",
        "IPY_MODEL_41701bed82b144a2b094675106f06190"
       ],
       "layout": "IPY_MODEL_be968cfe0a7a4d25a548e006b9ce59c4"
      }
     },
     "ee12f3028f794b229aed83321a804c92": {
      "model_module": "@jupyter-widgets/controls",
      "model_module_version": "1.1.0",
      "model_name": "TextModel",
      "state": {
       "description": "Search for:",
       "layout": "IPY_MODEL_72a58f58d9a64bdd95f04fca8161064d",
       "placeholder": "term",
       "style": "IPY_MODEL_920a317a7cbe4f40a44eab4c272f9561",
       "value": "Aachen"
      }
     },
     "ee696dcc27714cdc855eb337fdb7deff": {
      "model_module": "@jupyter-widgets/base",
      "model_module_version": "1.0.0",
      "model_name": "LayoutModel",
      "state": {}
     },
     "ee8686b82733466992cefa3191cb3db0": {
      "model_module": "@jupyter-widgets/controls",
      "model_module_version": "1.1.0",
      "model_name": "SliderStyleModel",
      "state": {
       "description_width": ""
      }
     },
     "ee8bd6c7a3ce42d18ff7bbac114f7af7": {
      "model_module": "@jupyter-widgets/base",
      "model_module_version": "1.0.0",
      "model_name": "LayoutModel",
      "state": {}
     },
     "ee9104c5303846ae98beb40899ea7c02": {
      "model_module": "@jupyter-widgets/base",
      "model_module_version": "1.0.0",
      "model_name": "LayoutModel",
      "state": {
       "flex": "0 1 auto",
       "height": "200px",
       "min_height": "40px",
       "width": "70%"
      }
     },
     "ee9bef825b9b4763aca355bfcaf24556": {
      "model_module": "@jupyter-widgets/controls",
      "model_module_version": "1.1.0",
      "model_name": "ButtonModel",
      "state": {
       "description": "Plot on",
       "layout": "IPY_MODEL_dedb4dcb358347f9995f8cdc477a4330",
       "style": "IPY_MODEL_7f5065ddb1b94cfba0426115f291375c"
      }
     },
     "ef4f52d9c89b4b7589288e24f4028cc2": {
      "model_module": "@jupyter-widgets/base",
      "model_module_version": "1.0.0",
      "model_name": "LayoutModel",
      "state": {}
     },
     "ef72a6816a5344d8a5b2c66137178abf": {
      "model_module": "@jupyter-widgets/base",
      "model_module_version": "1.0.0",
      "model_name": "LayoutModel",
      "state": {}
     },
     "ef822750b5034f9b8c57eb32df44e129": {
      "model_module": "@jupyter-widgets/base",
      "model_module_version": "1.0.0",
      "model_name": "LayoutModel",
      "state": {}
     },
     "efe9d7de970a4d94bfa408bc95ccff9a": {
      "model_module": "@jupyter-widgets/controls",
      "model_module_version": "1.1.0",
      "model_name": "ToggleButtonsModel",
      "state": {
       "_options_labels": [
        "more",
        "less"
       ],
       "button_style": "",
       "icons": [],
       "index": 0,
       "layout": "IPY_MODEL_ee696dcc27714cdc855eb337fdb7deff",
       "style": "IPY_MODEL_0b5edb7b8043409da736ab4970bae2b2",
       "tooltips": []
      }
     },
     "eff0c426849d408aa9e5da953cc5c7c5": {
      "model_module": "@jupyter-widgets/output",
      "model_module_version": "1.0.0",
      "model_name": "OutputModel",
      "state": {
       "layout": "IPY_MODEL_6a68621929d54ebe9dd2f8e2adc12f1f",
       "outputs": [
        {
         "name": "stdout",
         "output_type": "stream",
         "text": "Found 15 entries.\n"
        }
       ]
      }
     },
     "f0013404a41b48a6b09afa101bc5fc61": {
      "model_module": "@jupyter-widgets/controls",
      "model_module_version": "1.1.0",
      "model_name": "ButtonModel",
      "state": {
       "description": "Plot on",
       "layout": "IPY_MODEL_d4f905e210c44693a1498175309282e7",
       "style": "IPY_MODEL_91f7e3b37019474bb98d27175a7ede21"
      }
     },
     "f00adf70b12243c3ab22a7300a097e4f": {
      "model_module": "@jupyter-widgets/controls",
      "model_module_version": "1.1.0",
      "model_name": "TextareaModel",
      "state": {
       "layout": "IPY_MODEL_b5339c554dd347359c43ebf1322e4ce7",
       "placeholder": "Result",
       "style": "IPY_MODEL_16b4c1232bf542e9978f61458a863614",
       "value": "Result 0\nvolume: Band_1\npart: Einleitung\npage: 1\nparagraph: 3\nsentence: 1"
      }
     },
     "f097b79d7ed14cbaaea4492d772815e1": {
      "model_module": "@jupyter-widgets/base",
      "model_module_version": "1.0.0",
      "model_name": "LayoutModel",
      "state": {
       "margin": "0 0 0 20px"
      }
     },
     "f14860eb88ca49d6abc97b94e004e1b4": {
      "model_module": "@jupyter-widgets/controls",
      "model_module_version": "1.1.0",
      "model_name": "IntSliderModel",
      "state": {
       "layout": "IPY_MODEL_55fefdb785074321a12cd423a99168a9",
       "max": 15,
       "style": "IPY_MODEL_ed9e5e258b984d5e8d10fd55369a0d2c",
       "value": 6
      }
     },
     "f16c3798050c495a8027552c68a2b39b": {
      "model_module": "@jupyter-widgets/base",
      "model_module_version": "1.0.0",
      "model_name": "LayoutModel",
      "state": {}
     },
     "f1aba5f60a05431eb882619e9d6a4b0b": {
      "model_module": "@jupyter-widgets/controls",
      "model_module_version": "1.1.0",
      "model_name": "ButtonStyleModel",
      "state": {}
     },
     "f1dee4e71b034d63899fc8f5f5330e39": {
      "model_module": "@jupyter-widgets/base",
      "model_module_version": "1.0.0",
      "model_name": "LayoutModel",
      "state": {}
     },
     "f2799f6333974c36ac11c0c1df28ae31": {
      "model_module": "@jupyter-widgets/controls",
      "model_module_version": "1.1.0",
      "model_name": "SliderStyleModel",
      "state": {
       "description_width": ""
      }
     },
     "f2b404c99eb6440cbcb95531d3973ac4": {
      "model_module": "@jupyter-widgets/controls",
      "model_module_version": "1.1.0",
      "model_name": "AccordionModel",
      "state": {
       "_titles": {
        "0": "Enter search term"
       },
       "children": [
        "IPY_MODEL_3428425e8c4e42beb1799517ffbd1eee"
       ],
       "layout": "IPY_MODEL_ad400dd4ee71454886c45071e858ffde"
      }
     },
     "f334e7b2815f45e9a134de53f2f1d543": {
      "model_module": "@jupyter-widgets/base",
      "model_module_version": "1.0.0",
      "model_name": "LayoutModel",
      "state": {}
     },
     "f34039b55e714e368e7ddd5c345f153f": {
      "model_module": "@jupyter-widgets/controls",
      "model_module_version": "1.1.0",
      "model_name": "HBoxModel",
      "state": {
       "children": [
        "IPY_MODEL_fe8454d66f264c99ae6cc08f21f70cef",
        "IPY_MODEL_4ed9f8a5ce9f4e148ad1f30552d31fd9"
       ],
       "layout": "IPY_MODEL_92ecd535b49c416b9b29ce6b83244098"
      }
     },
     "f3c55c0601314582beeda28489ad16cd": {
      "model_module": "@jupyter-widgets/controls",
      "model_module_version": "1.1.0",
      "model_name": "DescriptionStyleModel",
      "state": {
       "description_width": ""
      }
     },
     "f3fc300adc354bc68a875925137c17cc": {
      "model_module": "@jupyter-widgets/controls",
      "model_module_version": "1.1.0",
      "model_name": "DescriptionStyleModel",
      "state": {
       "description_width": ""
      }
     },
     "f4593f3640cc42f686dc15ae3e98e662": {
      "model_module": "@jupyter-widgets/base",
      "model_module_version": "1.0.0",
      "model_name": "LayoutModel",
      "state": {}
     },
     "f48876c67a3d4939a0999b12c91894ee": {
      "model_module": "@jupyter-widgets/base",
      "model_module_version": "1.0.0",
      "model_name": "LayoutModel",
      "state": {}
     },
     "f4951ec3fee547e89bb22bdf8283f6b3": {
      "model_module": "@jupyter-widgets/base",
      "model_module_version": "1.0.0",
      "model_name": "LayoutModel",
      "state": {}
     },
     "f4f8ae2c45994e64a29d7476e5548f86": {
      "model_module": "@jupyter-widgets/controls",
      "model_module_version": "1.1.0",
      "model_name": "ButtonStyleModel",
      "state": {}
     },
     "f4fd98019dda4aa6bc47f08fd2544139": {
      "model_module": "@jupyter-widgets/base",
      "model_module_version": "1.0.0",
      "model_name": "LayoutModel",
      "state": {
       "flex": "0 1 auto",
       "height": "200px",
       "min_height": "40px",
       "width": "70%"
      }
     },
     "f52f046a26334c1b8f1a6efc19320d10": {
      "model_module": "@jupyter-widgets/controls",
      "model_module_version": "1.1.0",
      "model_name": "DescriptionStyleModel",
      "state": {
       "description_width": ""
      }
     },
     "f557ab30fda84d59b96e56fb6fa05e64": {
      "model_module": "@jupyter-widgets/base",
      "model_module_version": "1.0.0",
      "model_name": "LayoutModel",
      "state": {
       "margin": "0 0 0 20px"
      }
     },
     "f5abadb355cd480698a4ef8e6cc79f61": {
      "model_module": "@jupyter-widgets/output",
      "model_module_version": "1.0.0",
      "model_name": "OutputModel",
      "state": {
       "layout": "IPY_MODEL_dfc29dc451b94f29bfcabd21cec1a1ba",
       "outputs": [
        {
         "name": "stdout",
         "output_type": "stream",
         "text": "Found 7 entries.\n"
        }
       ]
      }
     },
     "f5aecb5c5738476e933e84873384fd61": {
      "model_module": "@jupyter-widgets/base",
      "model_module_version": "1.0.0",
      "model_name": "LayoutModel",
      "state": {}
     },
     "f5c852cbd43b45c5bdfd53c9d4854b83": {
      "model_module": "@jupyter-widgets/base",
      "model_module_version": "1.0.0",
      "model_name": "LayoutModel",
      "state": {}
     },
     "f5f0b6ba6a274d29856f947a479fac8a": {
      "model_module": "@jupyter-widgets/base",
      "model_module_version": "1.0.0",
      "model_name": "LayoutModel",
      "state": {
       "flex": "0 1 auto",
       "height": "200px",
       "min_height": "40px",
       "width": "30%"
      }
     },
     "f6420a5d4b404e2092e2e4cf6884852e": {
      "model_module": "@jupyter-widgets/controls",
      "model_module_version": "1.1.0",
      "model_name": "HBoxModel",
      "state": {
       "children": [
        "IPY_MODEL_134f4099fd9746c2b72de8e798ffaad1",
        "IPY_MODEL_f806f78fa5a94b1ab7379057fcb52391",
        "IPY_MODEL_f5abadb355cd480698a4ef8e6cc79f61"
       ],
       "layout": "IPY_MODEL_c24515193c774ce1b8682435a40b17ac"
      }
     },
     "f6650ce1c5ff4b3ea1ac72dd51fd879d": {
      "model_module": "@jupyter-widgets/controls",
      "model_module_version": "1.1.0",
      "model_name": "DescriptionStyleModel",
      "state": {
       "description_width": ""
      }
     },
     "f6fe34cbbb3548419f7e892c6e6b3977": {
      "model_module": "@jupyter-widgets/base",
      "model_module_version": "1.0.0",
      "model_name": "LayoutModel",
      "state": {}
     },
     "f725789ff99b4cf2b794d7f5472f6ab8": {
      "model_module": "@jupyter-widgets/controls",
      "model_module_version": "1.1.0",
      "model_name": "IntSliderModel",
      "state": {
       "layout": "IPY_MODEL_f5aecb5c5738476e933e84873384fd61",
       "max": 15,
       "style": "IPY_MODEL_ea2fd68915e24dd59d03afd7f38ad789"
      }
     },
     "f761542069754c8c846bee2f37a9c905": {
      "model_module": "@jupyter-widgets/controls",
      "model_module_version": "1.1.0",
      "model_name": "TextareaModel",
      "state": {
       "layout": "IPY_MODEL_20d9eedacc654bf9b2aac472ee6fb428",
       "placeholder": "Sentence",
       "style": "IPY_MODEL_23de660251194b71a1a4edef79d97e87",
       "value": "Ms. E.II.9 (unbewiesene Vermutung zur Provenienz s.u.). IV Evangelia.\n230 (231?) Bl. (6-11, m. den Kanontafeln, anscheinend dünnes Kalbpg.); 30,3x24 cm <18,4x9,7 cm); 23 Z. Gerade Min. einer kalligr., verschieden dicht schreibenden Hd. (vgl. z.B. 195r); fast ohne Kzg. Blaustichig r., enge (klassisch) nüchterne Rust. (G und U Unz.-ähnlich). Erste Z. jedes Evangeliums in sorgfältiger goldener Mon.cap. Exzerpte (bes. Augustinus, Sedulius Scottus) s. IX/X 12r, 167r-168r am Rd. 22v, 23r z.T. neu geschr. Korr. s. IX u. X. 69rv Zus. s. XI/XII. Lit. Eintr. 30r. Ir (ob. Rd.) ein „O“: Meine Vermutung, es könnte eine Weißenburger Signatur sein, von Butzmann, Weissenburger Hss., S. 33f. mit Verwechslung (Vatikan, Basilica S. Petri) aufgenommen.\nLit.: Koehler 3, S. 8Iff. („vor 810“) u. Taf. 37-39; Ma. Studien 3, S. 158, 174ff, 179, 182, 185.\n-    Aachen, Hofschule, Zeit Ludwigs des Frommen-\n"
      }
     },
     "f77605fb377e4998873ebfc9edcf12f3": {
      "model_module": "@jupyter-widgets/controls",
      "model_module_version": "1.1.0",
      "model_name": "HBoxModel",
      "state": {
       "children": [
        "IPY_MODEL_9ca9da4853534c039db5dd5f99982cf3",
        "IPY_MODEL_33fe06fda3a3486a8a914977d90c35c9",
        "IPY_MODEL_6a9cf15580f24818927de48f27004f53"
       ],
       "layout": "IPY_MODEL_0a907c98d5964523afd1a86a8ec32422"
      }
     },
     "f7a030e9273c462a965929a57262c5ee": {
      "model_module": "@jupyter-widgets/base",
      "model_module_version": "1.0.0",
      "model_name": "LayoutModel",
      "state": {}
     },
     "f7a5956c91334ca4913583a471d9689a": {
      "model_module": "@jupyter-widgets/output",
      "model_module_version": "1.0.0",
      "model_name": "OutputModel",
      "state": {
       "layout": "IPY_MODEL_26256270708d421a997e440dd9e31b3f"
      }
     },
     "f7ad019e56184fe4a63b590954f144bd": {
      "model_module": "@jupyter-widgets/base",
      "model_module_version": "1.0.0",
      "model_name": "LayoutModel",
      "state": {}
     },
     "f7d7e56ec431457ba854f6964e5a253a": {
      "model_module": "@jupyter-widgets/controls",
      "model_module_version": "1.1.0",
      "model_name": "SliderStyleModel",
      "state": {
       "description_width": ""
      }
     },
     "f7f92034dba54999b57f72119d42957e": {
      "model_module": "@jupyter-widgets/controls",
      "model_module_version": "1.1.0",
      "model_name": "SliderStyleModel",
      "state": {
       "description_width": ""
      }
     },
     "f806f78fa5a94b1ab7379057fcb52391": {
      "model_module": "@jupyter-widgets/controls",
      "model_module_version": "1.1.0",
      "model_name": "ButtonModel",
      "state": {
       "button_style": "danger",
       "description": "Search",
       "layout": "IPY_MODEL_47d3943d2fd4461683742203ebfc2659",
       "style": "IPY_MODEL_dc0430dea29e459fa68f2f5ee849d858"
      }
     },
     "f84ccf01522049658b47871167519ec1": {
      "model_module": "@jupyter-widgets/controls",
      "model_module_version": "1.1.0",
      "model_name": "HBoxModel",
      "state": {
       "children": [
        "IPY_MODEL_438d524c31464d22b38c29fa8f498f1f",
        "IPY_MODEL_bd3e5aebc4504186a4c669e4b18add88",
        "IPY_MODEL_c7fa1c85d29049f98926caa165963094"
       ],
       "layout": "IPY_MODEL_8470c99267034aafa00f93a16035a85b"
      }
     },
     "f8a833693b9449f9a261ec96c20baa15": {
      "model_module": "@jupyter-widgets/base",
      "model_module_version": "1.0.0",
      "model_name": "LayoutModel",
      "state": {}
     },
     "f8e7b04dd7a74d04bd96cb10f6a8b085": {
      "model_module": "@jupyter-widgets/controls",
      "model_module_version": "1.1.0",
      "model_name": "ButtonModel",
      "state": {
       "description": "Reset plot",
       "layout": "IPY_MODEL_03b38cf7787a4bf994e5b73e4f732ac1",
       "style": "IPY_MODEL_a47d3466199b4d428146ed8cf3686abb"
      }
     },
     "f9669194cb5e42719d91a622dce98e30": {
      "model_module": "@jupyter-widgets/base",
      "model_module_version": "1.0.0",
      "model_name": "LayoutModel",
      "state": {}
     },
     "f99a9fb4565b49f2824d559948ac8424": {
      "model_module": "@jupyter-widgets/controls",
      "model_module_version": "1.1.0",
      "model_name": "ButtonModel",
      "state": {
       "description": "Plot on",
       "layout": "IPY_MODEL_d07bb20a38c94ab5a5090fa91650eccf",
       "style": "IPY_MODEL_5c263340186b4ba6a0b48374eb4fed4f"
      }
     },
     "f9a3cfd32fee4375a1cb6405151f9587": {
      "model_module": "@jupyter-widgets/base",
      "model_module_version": "1.0.0",
      "model_name": "LayoutModel",
      "state": {}
     },
     "fa00c97b3d494b08972ad98457e17439": {
      "model_module": "@jupyter-widgets/controls",
      "model_module_version": "1.1.0",
      "model_name": "ButtonStyleModel",
      "state": {}
     },
     "fa0a13e77b664660b9a32bc1cf6a2ee4": {
      "model_module": "@jupyter-widgets/base",
      "model_module_version": "1.0.0",
      "model_name": "LayoutModel",
      "state": {}
     },
     "fa221f6722c44822a301138ebbd2281f": {
      "model_module": "@jupyter-widgets/controls",
      "model_module_version": "1.1.0",
      "model_name": "TextareaModel",
      "state": {
       "layout": "IPY_MODEL_d5c6fb7e6b35402caac9b4c29822faae",
       "placeholder": "Result",
       "style": "IPY_MODEL_99371d85088a47cc96b0aa4120fe17f6"
      }
     },
     "fa42f4769520427a8a93d3175dc7e87d": {
      "model_module": "@jupyter-widgets/controls",
      "model_module_version": "1.1.0",
      "model_name": "HBoxModel",
      "state": {
       "children": [
        "IPY_MODEL_918ddc3954744ff499a13ce4b985c277",
        "IPY_MODEL_c33f684810de4cdd947668e562fc3329"
       ],
       "layout": "IPY_MODEL_fb92afd3562f482faf46b278cdd1a68b"
      }
     },
     "faf4444fd884442e8eea196bf5006510": {
      "model_module": "@jupyter-widgets/base",
      "model_module_version": "1.0.0",
      "model_name": "LayoutModel",
      "state": {}
     },
     "fb4f87f020b34d05940b2f1002fe49a8": {
      "model_module": "@jupyter-widgets/controls",
      "model_module_version": "1.1.0",
      "model_name": "HBoxModel",
      "state": {
       "children": [
        "IPY_MODEL_7dc8a2798d724737b0159779971b9c9c",
        "IPY_MODEL_8dffc7ff691543179f038f43c2716bba",
        "IPY_MODEL_fd4e5c4cb9cb42d1ae0847fb877f727c"
       ],
       "layout": "IPY_MODEL_54dcd7e7547d4cfa91706b6aca2ecb7e"
      }
     },
     "fb91e636768744379cf34422add2dd00": {
      "model_module": "@jupyter-widgets/base",
      "model_module_version": "1.0.0",
      "model_name": "LayoutModel",
      "state": {}
     },
     "fb92afd3562f482faf46b278cdd1a68b": {
      "model_module": "@jupyter-widgets/base",
      "model_module_version": "1.0.0",
      "model_name": "LayoutModel",
      "state": {}
     },
     "fbfcbbbd8fcb4d7cb4a69855556a7d91": {
      "model_module": "@jupyter-widgets/controls",
      "model_module_version": "1.1.0",
      "model_name": "IntSliderModel",
      "state": {
       "layout": "IPY_MODEL_c267d3bb66a643d28a67cecc2bc322fe",
       "max": 0,
       "style": "IPY_MODEL_c3e4be466ab94aeb99841912723ec82d"
      }
     },
     "fc556e2e97b3421c92e9654ca3c1491d": {
      "model_module": "@jupyter-widgets/controls",
      "model_module_version": "1.1.0",
      "model_name": "DescriptionStyleModel",
      "state": {
       "description_width": ""
      }
     },
     "fc5abdbe894243e59643f1eb1c0968d0": {
      "model_module": "@jupyter-widgets/controls",
      "model_module_version": "1.1.0",
      "model_name": "ButtonStyleModel",
      "state": {}
     },
     "fcccd71f86004321b4b402325b5ccd70": {
      "model_module": "@jupyter-widgets/base",
      "model_module_version": "1.0.0",
      "model_name": "LayoutModel",
      "state": {}
     },
     "fd2dd8b5917948ab888b9417b99bf2d5": {
      "model_module": "@jupyter-widgets/controls",
      "model_module_version": "1.1.0",
      "model_name": "DescriptionStyleModel",
      "state": {
       "description_width": ""
      }
     },
     "fd38faaf2e684d1f8465bfb4ef926095": {
      "model_module": "@jupyter-widgets/base",
      "model_module_version": "1.0.0",
      "model_name": "LayoutModel",
      "state": {}
     },
     "fd4e5c4cb9cb42d1ae0847fb877f727c": {
      "model_module": "@jupyter-widgets/controls",
      "model_module_version": "1.1.0",
      "model_name": "ButtonModel",
      "state": {
       "description": "Reset plot",
       "layout": "IPY_MODEL_7ca89d355a52450198ea008065223a6d",
       "style": "IPY_MODEL_bad57dbd7a4a461dae48a02ed677c740"
      }
     },
     "fd61a6bc572f4278bcc46b722be310a3": {
      "model_module": "@jupyter-widgets/controls",
      "model_module_version": "1.1.0",
      "model_name": "ButtonStyleModel",
      "state": {}
     },
     "fd9c659e017747138cac26f91a3cf8b4": {
      "model_module": "@jupyter-widgets/base",
      "model_module_version": "1.0.0",
      "model_name": "LayoutModel",
      "state": {}
     },
     "fda0cfb92f084fbea94b8f2569a81637": {
      "model_module": "@jupyter-widgets/base",
      "model_module_version": "1.0.0",
      "model_name": "LayoutModel",
      "state": {}
     },
     "fdd1b5e0344c4241b8ef1dbd415ccb25": {
      "model_module": "@jupyter-widgets/controls",
      "model_module_version": "1.1.0",
      "model_name": "HBoxModel",
      "state": {
       "children": [
        "IPY_MODEL_f99a9fb4565b49f2824d559948ac8424",
        "IPY_MODEL_b05f2983431243c1827275275e2dff99",
        "IPY_MODEL_c89348107bd34f5db147531e13c512d6"
       ],
       "layout": "IPY_MODEL_aecb4d7d0b6b48d79f16bfe75fbcf9a2"
      }
     },
     "fe0f511f7e2c4ddcabe3011441194cb2": {
      "model_module": "@jupyter-widgets/controls",
      "model_module_version": "1.1.0",
      "model_name": "TextareaModel",
      "state": {
       "layout": "IPY_MODEL_21f2e23b1d0d4bcab95338380a461203",
       "placeholder": "Sentence",
       "style": "IPY_MODEL_83fed35cae1d4dffa2cc1ccd476037c9",
       "value": "Cod. Wings 1. IV Evangelia. I + 333 + I Bl. (Ordnung z.T. verwirrt); 23,5x16,8 cm (14,3x9,7 cm); 17 Z. 2r-319r: St. Galler Kalligr. mehrerer Hde. 7r-12r Kanontafeln. Init. z.T. mit Gold- u. Silber-füllung; 14v Purpurband. 319v-333r Capit, ev. (s. X2). Lit.: Merton2, S. 49; Landsberger, Abb. 9c, 10a; Ausst. Suevia Sacra, Nr. 156, Abb. 145; Aachener Kunstblätter 45 (1974), S. 350f. m. Abb. - St. Gallen, IX. Jh., 3. Drittel- "
      }
     },
     "fe257e3200304293a5e16c857dc30e37": {
      "model_module": "@jupyter-widgets/controls",
      "model_module_version": "1.1.0",
      "model_name": "DescriptionStyleModel",
      "state": {
       "description_width": ""
      }
     },
     "fe760fa92723478a8b0bbbdfd09fef30": {
      "model_module": "@jupyter-widgets/base",
      "model_module_version": "1.0.0",
      "model_name": "LayoutModel",
      "state": {
       "flex": "0 1 auto",
       "height": "200px",
       "min_height": "40px",
       "width": "30%"
      }
     },
     "fe8454d66f264c99ae6cc08f21f70cef": {
      "model_module": "@jupyter-widgets/controls",
      "model_module_version": "1.1.0",
      "model_name": "TextModel",
      "state": {
       "description": "Search for:",
       "layout": "IPY_MODEL_d948156da0ac45c29c800c2da62b6a77",
       "placeholder": "term",
       "style": "IPY_MODEL_7f9cdf7b0a17438cabfcc13a1af60ec3",
       "value": "Aachen"
      }
     },
     "ff029c0770654b9184056369881d0553": {
      "model_module": "@jupyter-widgets/controls",
      "model_module_version": "1.1.0",
      "model_name": "DropdownModel",
      "state": {
       "_options_labels": [
        "city",
        "library",
        "Lokalisierung",
        "Datierung",
        "text"
       ],
       "description": "Search in:",
       "index": 4,
       "layout": "IPY_MODEL_6c73cd499d974ac5958ba419ba8014ae",
       "style": "IPY_MODEL_1ef95d55e94243449b1dff81856803dc"
      }
     },
     "ff29330ec51249da99a5725908ff455f": {
      "model_module": "@jupyter-widgets/controls",
      "model_module_version": "1.1.0",
      "model_name": "DescriptionStyleModel",
      "state": {
       "description_width": ""
      }
     },
     "ff3bb17ea6d54af69c5ce05e08e82586": {
      "model_module": "@jupyter-widgets/controls",
      "model_module_version": "1.1.0",
      "model_name": "VBoxModel",
      "state": {
       "children": [
        "IPY_MODEL_c03520e19ced4b598a52e3a4a6cd9467",
        "IPY_MODEL_f6420a5d4b404e2092e2e4cf6884852e",
        "IPY_MODEL_bb32ba02868f41f38fa8d95ef3a77a75",
        "IPY_MODEL_d1a85d0f6a2b43cdad1bd84758f4381b",
        "IPY_MODEL_1df3342fa78440ffb62ec7b8f625285f",
        "IPY_MODEL_b1618aaf64af4ee7a0a198cb25554189"
       ],
       "layout": "IPY_MODEL_2963eff910e64edeb116859ddc32568f"
      }
     },
     "ff6d507591984340b7de0efe6a515f5f": {
      "model_module": "@jupyter-widgets/controls",
      "model_module_version": "1.1.0",
      "model_name": "DropdownModel",
      "state": {
       "_options_labels": [
        "city",
        "library",
        "Lokalisierung",
        "Datierung",
        "text"
       ],
       "index": 0,
       "layout": "IPY_MODEL_57523f9a91ea4dcbae4912bdb7832020",
       "style": "IPY_MODEL_0be206ea132e4998b01af49f39b9ef2d"
      }
     },
     "ff70e9d0d4f047b3a2655f89936934ca": {
      "model_module": "@jupyter-widgets/base",
      "model_module_version": "1.0.0",
      "model_name": "LayoutModel",
      "state": {}
     },
     "ffd4beb8ee044df092e0b90cc04aa54c": {
      "model_module": "@jupyter-widgets/base",
      "model_module_version": "1.0.0",
      "model_name": "LayoutModel",
      "state": {
       "margin": "0 0 0 20px"
      }
     },
     "ffe438be15ed4071bfe271a4cc3346e2": {
      "model_module": "@jupyter-widgets/controls",
      "model_module_version": "1.1.0",
      "model_name": "SliderStyleModel",
      "state": {
       "description_width": ""
      }
     },
     "fff69e6f144b4aa18bb90d92cd001da0": {
      "model_module": "@jupyter-widgets/controls",
      "model_module_version": "1.1.0",
      "model_name": "AccordionModel",
      "state": {
       "_titles": {
        "0": "Enter search term"
       },
       "children": [
        "IPY_MODEL_4b66d6a01e4640e3a2a60a37ccbb031e"
       ],
       "layout": "IPY_MODEL_15f81c48143c437ba7cae0ae32c7660c"
      }
     }
    },
    "version_major": 2,
    "version_minor": 0
   }
  }
 },
 "nbformat": 4,
 "nbformat_minor": 2
}
