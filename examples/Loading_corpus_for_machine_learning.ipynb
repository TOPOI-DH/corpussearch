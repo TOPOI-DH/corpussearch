{
 "cells": [
  {
   "cell_type": "markdown",
   "metadata": {},
   "source": [
    "# Minimal example\n",
    "\n",
    "The example uses a very small sample size, yielding relatively coarse results."
   ]
  },
  {
   "cell_type": "markdown",
   "metadata": {},
   "source": [
    "## Import module "
   ]
  },
  {
   "cell_type": "code",
   "execution_count": 1,
   "metadata": {},
   "outputs": [],
   "source": [
    "from corpussearch import ml"
   ]
  },
  {
   "cell_type": "markdown",
   "metadata": {},
   "source": [
    "## Initalize\n",
    "\n",
    "Using the test data in pathDF, which is a CSV file. The preamble is in German. Logging is enabled, and model parameters are chosen according to the small sample size. "
   ]
  },
  {
   "cell_type": "code",
   "execution_count": 2,
   "metadata": {},
   "outputs": [
    {
     "name": "stderr",
     "output_type": "stream",
     "text": [
      "2018-03-26 09:46:43,869 : WARNING : consider setting layer size to a multiple of 4 for greater performance\n"
     ]
    },
    {
     "name": "stdout",
     "output_type": "stream",
     "text": [
      "[nltk_data] Downloading package stopwords to /home/mvogl/nltk_data...\n",
      "[nltk_data]   Package stopwords is already up-to-date!\n"
     ]
    }
   ],
   "source": [
    "ml1 = ml(\n",
    "        '../corpussearch/tests/data/dfTest.csv',\n",
    "        dataType='csv',\n",
    "        language='german',\n",
    "        showLogging=True,\n",
    "        model_params=(4,1,5)\n",
    "        )"
   ]
  },
  {
   "cell_type": "markdown",
   "metadata": {},
   "source": [
    "Show the loaded dataframe."
   ]
  },
  {
   "cell_type": "code",
   "execution_count": 3,
   "metadata": {},
   "outputs": [
    {
     "data": {
      "text/html": [
       "<div>\n",
       "<style scoped>\n",
       "    .dataframe tbody tr th:only-of-type {\n",
       "        vertical-align: middle;\n",
       "    }\n",
       "\n",
       "    .dataframe tbody tr th {\n",
       "        vertical-align: top;\n",
       "    }\n",
       "\n",
       "    .dataframe thead th {\n",
       "        text-align: right;\n",
       "    }\n",
       "</style>\n",
       "<table border=\"1\" class=\"dataframe\">\n",
       "  <thead>\n",
       "    <tr style=\"text-align: right;\">\n",
       "      <th></th>\n",
       "      <th>volume</th>\n",
       "      <th>part</th>\n",
       "      <th>page</th>\n",
       "      <th>paragraph</th>\n",
       "      <th>sentence</th>\n",
       "      <th>text</th>\n",
       "    </tr>\n",
       "  </thead>\n",
       "  <tbody>\n",
       "    <tr>\n",
       "      <th>0</th>\n",
       "      <td>Band_1</td>\n",
       "      <td>Einleitung</td>\n",
       "      <td>1</td>\n",
       "      <td>1</td>\n",
       "      <td>1</td>\n",
       "      <td>JOHANNES                  KEPLER\\nG ESAMMEL T...</td>\n",
       "    </tr>\n",
       "    <tr>\n",
       "      <th>1</th>\n",
       "      <td>Band_1</td>\n",
       "      <td>Einleitung</td>\n",
       "      <td>1</td>\n",
       "      <td>3</td>\n",
       "      <td>1</td>\n",
       "      <td>HERAUSGEGEBEN 1M AUFTRAG</td>\n",
       "    </tr>\n",
       "    <tr>\n",
       "      <th>2</th>\n",
       "      <td>Band_1</td>\n",
       "      <td>Einleitung</td>\n",
       "      <td>1</td>\n",
       "      <td>4</td>\n",
       "      <td>1</td>\n",
       "      <td>DER DEUTSCHEN FORSCHUNGSGEMEINSCHAFT\\n       ...</td>\n",
       "    </tr>\n",
       "  </tbody>\n",
       "</table>\n",
       "</div>"
      ],
      "text/plain": [
       "   volume        part  page  paragraph  sentence  \\\n",
       "0  Band_1  Einleitung     1          1         1   \n",
       "1  Band_1  Einleitung     1          3         1   \n",
       "2  Band_1  Einleitung     1          4         1   \n",
       "\n",
       "                                                text  \n",
       "0   JOHANNES                  KEPLER\\nG ESAMMEL T...  \n",
       "1                           HERAUSGEGEBEN 1M AUFTRAG  \n",
       "2   DER DEUTSCHEN FORSCHUNGSGEMEINSCHAFT\\n       ...  "
      ]
     },
     "execution_count": 3,
     "metadata": {},
     "output_type": "execute_result"
    }
   ],
   "source": [
    "ml1.dataframe.head(3)"
   ]
  },
  {
   "cell_type": "markdown",
   "metadata": {},
   "source": [
    "Do the actual training. This automatically cleans the text column, creates a training_data column, and builds the vocabulary for the model. "
   ]
  },
  {
   "cell_type": "code",
   "execution_count": 4,
   "metadata": {},
   "outputs": [
    {
     "name": "stderr",
     "output_type": "stream",
     "text": [
      "2018-03-26 09:46:52,614 : INFO : collecting all words and their counts\n",
      "2018-03-26 09:46:52,616 : INFO : PROGRESS: at sentence #0, processed 0 words, keeping 0 word types\n",
      "2018-03-26 09:46:52,617 : INFO : collected 69 word types from a corpus of 73 raw words and 10 sentences\n",
      "2018-03-26 09:46:52,617 : INFO : Loading a fresh vocabulary\n",
      "2018-03-26 09:46:52,618 : INFO : min_count=1 retains 69 unique words (100% of original 69, drops 0)\n",
      "2018-03-26 09:46:52,619 : INFO : min_count=1 leaves 73 word corpus (100% of original 73, drops 0)\n",
      "2018-03-26 09:46:52,623 : INFO : deleting the raw counts dictionary of 69 items\n",
      "2018-03-26 09:46:52,624 : INFO : sample=0.001 downsamples 69 most-common words\n",
      "2018-03-26 09:46:52,625 : INFO : downsampling leaves estimated 24 word corpus (33.0% of prior 73)\n",
      "2018-03-26 09:46:52,628 : INFO : estimated required memory for 69 words and 5 dimensions: 37260 bytes\n",
      "2018-03-26 09:46:52,629 : INFO : resetting layer weights\n",
      "2018-03-26 09:46:52,631 : INFO : training model with 4 workers on 69 vocabulary and 5 features, using sg=0 hs=0 sample=0.001 negative=5 window=5\n",
      "2018-03-26 09:46:52,639 : INFO : worker thread finished; awaiting finish of 3 more threads\n",
      "2018-03-26 09:46:52,640 : INFO : worker thread finished; awaiting finish of 2 more threads\n",
      "2018-03-26 09:46:52,640 : INFO : worker thread finished; awaiting finish of 1 more threads\n",
      "2018-03-26 09:46:52,641 : INFO : worker thread finished; awaiting finish of 0 more threads\n",
      "2018-03-26 09:46:52,642 : INFO : EPOCH - 1 : training on 73 raw words (30 effective words) took 0.0s, 8863 effective words/s\n",
      "2018-03-26 09:46:52,650 : INFO : worker thread finished; awaiting finish of 3 more threads\n",
      "2018-03-26 09:46:52,650 : INFO : worker thread finished; awaiting finish of 2 more threads\n",
      "2018-03-26 09:46:52,651 : INFO : worker thread finished; awaiting finish of 1 more threads\n",
      "2018-03-26 09:46:52,652 : INFO : worker thread finished; awaiting finish of 0 more threads\n",
      "2018-03-26 09:46:52,653 : INFO : EPOCH - 2 : training on 73 raw words (25 effective words) took 0.0s, 7120 effective words/s\n",
      "2018-03-26 09:46:52,668 : INFO : worker thread finished; awaiting finish of 3 more threads\n",
      "2018-03-26 09:46:52,669 : INFO : worker thread finished; awaiting finish of 2 more threads\n",
      "2018-03-26 09:46:52,671 : INFO : worker thread finished; awaiting finish of 1 more threads\n",
      "2018-03-26 09:46:52,671 : INFO : worker thread finished; awaiting finish of 0 more threads\n",
      "2018-03-26 09:46:52,672 : INFO : EPOCH - 3 : training on 73 raw words (20 effective words) took 0.0s, 4822 effective words/s\n",
      "2018-03-26 09:46:52,685 : INFO : worker thread finished; awaiting finish of 3 more threads\n",
      "2018-03-26 09:46:52,685 : INFO : worker thread finished; awaiting finish of 2 more threads\n",
      "2018-03-26 09:46:52,686 : INFO : worker thread finished; awaiting finish of 1 more threads\n",
      "2018-03-26 09:46:52,687 : INFO : worker thread finished; awaiting finish of 0 more threads\n",
      "2018-03-26 09:46:52,688 : INFO : EPOCH - 4 : training on 73 raw words (23 effective words) took 0.0s, 6450 effective words/s\n",
      "2018-03-26 09:46:52,691 : INFO : worker thread finished; awaiting finish of 3 more threads\n",
      "2018-03-26 09:46:52,693 : INFO : worker thread finished; awaiting finish of 2 more threads\n",
      "2018-03-26 09:46:52,694 : INFO : worker thread finished; awaiting finish of 1 more threads\n",
      "2018-03-26 09:46:52,695 : INFO : worker thread finished; awaiting finish of 0 more threads\n",
      "2018-03-26 09:46:52,696 : INFO : EPOCH - 5 : training on 73 raw words (17 effective words) took 0.0s, 3256 effective words/s\n",
      "2018-03-26 09:46:52,697 : INFO : training on a 365 raw words (115 effective words) took 0.1s, 1806 effective words/s\n",
      "2018-03-26 09:46:52,698 : WARNING : under 10 jobs per worker: consider setting a smaller `batch_words' for smoother alpha decay\n"
     ]
    }
   ],
   "source": [
    "ml1.trainModel()"
   ]
  },
  {
   "cell_type": "markdown",
   "metadata": {},
   "source": [
    "The dataframe has been extended with the training_data column."
   ]
  },
  {
   "cell_type": "code",
   "execution_count": 5,
   "metadata": {},
   "outputs": [
    {
     "data": {
      "text/html": [
       "<div>\n",
       "<style scoped>\n",
       "    .dataframe tbody tr th:only-of-type {\n",
       "        vertical-align: middle;\n",
       "    }\n",
       "\n",
       "    .dataframe tbody tr th {\n",
       "        vertical-align: top;\n",
       "    }\n",
       "\n",
       "    .dataframe thead th {\n",
       "        text-align: right;\n",
       "    }\n",
       "</style>\n",
       "<table border=\"1\" class=\"dataframe\">\n",
       "  <thead>\n",
       "    <tr style=\"text-align: right;\">\n",
       "      <th></th>\n",
       "      <th>volume</th>\n",
       "      <th>part</th>\n",
       "      <th>page</th>\n",
       "      <th>paragraph</th>\n",
       "      <th>sentence</th>\n",
       "      <th>text</th>\n",
       "      <th>training_data</th>\n",
       "    </tr>\n",
       "  </thead>\n",
       "  <tbody>\n",
       "    <tr>\n",
       "      <th>0</th>\n",
       "      <td>Band_1</td>\n",
       "      <td>Einleitung</td>\n",
       "      <td>1</td>\n",
       "      <td>1</td>\n",
       "      <td>1</td>\n",
       "      <td>JOHANNES                  KEPLER\\nG ESAMMEL T...</td>\n",
       "      <td>[johannes, kepler, esammel, te, werke]</td>\n",
       "    </tr>\n",
       "    <tr>\n",
       "      <th>1</th>\n",
       "      <td>Band_1</td>\n",
       "      <td>Einleitung</td>\n",
       "      <td>1</td>\n",
       "      <td>3</td>\n",
       "      <td>1</td>\n",
       "      <td>HERAUSGEGEBEN 1M AUFTRAG</td>\n",
       "      <td>[herausgegeben, m, auftrag]</td>\n",
       "    </tr>\n",
       "    <tr>\n",
       "      <th>2</th>\n",
       "      <td>Band_1</td>\n",
       "      <td>Einleitung</td>\n",
       "      <td>1</td>\n",
       "      <td>4</td>\n",
       "      <td>1</td>\n",
       "      <td>DER DEUTSCHEN FORSCHUNGSGEMEINSCHAFT\\n       ...</td>\n",
       "      <td>[deutschen, forschungsgemeinschaft, bayerische...</td>\n",
       "    </tr>\n",
       "  </tbody>\n",
       "</table>\n",
       "</div>"
      ],
      "text/plain": [
       "   volume        part  page  paragraph  sentence  \\\n",
       "0  Band_1  Einleitung     1          1         1   \n",
       "1  Band_1  Einleitung     1          3         1   \n",
       "2  Band_1  Einleitung     1          4         1   \n",
       "\n",
       "                                                text  \\\n",
       "0   JOHANNES                  KEPLER\\nG ESAMMEL T...   \n",
       "1                           HERAUSGEGEBEN 1M AUFTRAG   \n",
       "2   DER DEUTSCHEN FORSCHUNGSGEMEINSCHAFT\\n       ...   \n",
       "\n",
       "                                       training_data  \n",
       "0             [johannes, kepler, esammel, te, werke]  \n",
       "1                        [herausgegeben, m, auftrag]  \n",
       "2  [deutschen, forschungsgemeinschaft, bayerische...  "
      ]
     },
     "execution_count": 5,
     "metadata": {},
     "output_type": "execute_result"
    }
   ],
   "source": [
    "ml1.dataframe.head(3)"
   ]
  },
  {
   "cell_type": "markdown",
   "metadata": {},
   "source": [
    "## Usage\n",
    "\n",
    "One can then use the model to get words in similar contexts. If a word is not included in the original training vocabulary, a similar word is chosen using difflib."
   ]
  },
  {
   "cell_type": "code",
   "execution_count": 6,
   "metadata": {},
   "outputs": [
    {
     "name": "stderr",
     "output_type": "stream",
     "text": [
      "2018-03-26 09:47:08,212 : INFO : precomputing L2-norms of word weight vectors\n"
     ]
    },
    {
     "name": "stdout",
     "output_type": "stream",
     "text": [
      "Using similar word: einleitung\n"
     ]
    },
    {
     "data": {
      "text/plain": [
       "[('auszugsweise', 0.9070379734039307),\n",
       " ('xi', 0.7697393298149109),\n",
       " ('briefwechse1s', 0.7383384704589844),\n",
       " ('dyck', 0.7208940386772156),\n",
       " ('einleitungen', 0.6828749179840088),\n",
       " ('auberen', 0.6573514342308044),\n",
       " ('auftrag', 0.6184197664260864),\n",
       " ('einze1nen', 0.5703765153884888),\n",
       " ('walther', 0.5580642223358154),\n",
       " ('deutschen', 0.5495226979255676)]"
      ]
     },
     "execution_count": 6,
     "metadata": {},
     "output_type": "execute_result"
    }
   ],
   "source": [
    "ml1.getSimilarContext('Einleitung')"
   ]
  }
 ],
 "metadata": {
  "kernelspec": {
   "display_name": "Python 3",
   "language": "python",
   "name": "python3"
  },
  "language_info": {
   "codemirror_mode": {
    "name": "ipython",
    "version": 3
   },
   "file_extension": ".py",
   "mimetype": "text/x-python",
   "name": "python",
   "nbconvert_exporter": "python",
   "pygments_lexer": "ipython3",
   "version": "3.6.3"
  },
  "nav_menu": {},
  "toc": {
   "navigate_menu": true,
   "number_sections": true,
   "sideBar": true,
   "threshold": 6,
   "toc_cell": false,
   "toc_section_display": "block",
   "toc_window_display": false
  }
 },
 "nbformat": 4,
 "nbformat_minor": 2
}
