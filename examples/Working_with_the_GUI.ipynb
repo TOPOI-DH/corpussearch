{
 "cells": [
  {
   "cell_type": "markdown",
   "metadata": {},
   "source": [
    "# Working with the graphical search interface"
   ]
  },
  {
   "cell_type": "markdown",
   "metadata": {},
   "source": [
    "## Import Modul"
   ]
  },
  {
   "cell_type": "code",
   "execution_count": 1,
   "metadata": {},
   "outputs": [],
   "source": [
    "from corpussearch import gui"
   ]
  },
  {
   "cell_type": "markdown",
   "metadata": {},
   "source": [
    "## Initialize"
   ]
  },
  {
   "cell_type": "code",
   "execution_count": 2,
   "metadata": {},
   "outputs": [],
   "source": [
    "gui1 = gui(\n",
    "        '../corpussearch/tests/data/dfTest.csv',\n",
    "        dataType='csv'\n",
    "        )"
   ]
  },
  {
   "cell_type": "markdown",
   "metadata": {},
   "source": [
    "The `GUI` class inherits the functionality of the `Search` class, such that after initialization the dataframe is available by using"
   ]
  },
  {
   "cell_type": "code",
   "execution_count": 3,
   "metadata": {},
   "outputs": [
    {
     "data": {
      "text/html": [
       "<div>\n",
       "<style scoped>\n",
       "    .dataframe tbody tr th:only-of-type {\n",
       "        vertical-align: middle;\n",
       "    }\n",
       "\n",
       "    .dataframe tbody tr th {\n",
       "        vertical-align: top;\n",
       "    }\n",
       "\n",
       "    .dataframe thead th {\n",
       "        text-align: right;\n",
       "    }\n",
       "</style>\n",
       "<table border=\"1\" class=\"dataframe\">\n",
       "  <thead>\n",
       "    <tr style=\"text-align: right;\">\n",
       "      <th></th>\n",
       "      <th>volume</th>\n",
       "      <th>part</th>\n",
       "      <th>page</th>\n",
       "      <th>paragraph</th>\n",
       "      <th>sentence</th>\n",
       "      <th>text</th>\n",
       "    </tr>\n",
       "  </thead>\n",
       "  <tbody>\n",
       "    <tr>\n",
       "      <th>0</th>\n",
       "      <td>Band_1</td>\n",
       "      <td>Einleitung</td>\n",
       "      <td>1</td>\n",
       "      <td>1</td>\n",
       "      <td>1</td>\n",
       "      <td>JOHANNES                  KEPLER\\nG ESAMMEL T...</td>\n",
       "    </tr>\n",
       "    <tr>\n",
       "      <th>1</th>\n",
       "      <td>Band_1</td>\n",
       "      <td>Einleitung</td>\n",
       "      <td>1</td>\n",
       "      <td>3</td>\n",
       "      <td>1</td>\n",
       "      <td>HERAUSGEGEBEN 1M AUFTRAG</td>\n",
       "    </tr>\n",
       "    <tr>\n",
       "      <th>2</th>\n",
       "      <td>Band_1</td>\n",
       "      <td>Einleitung</td>\n",
       "      <td>1</td>\n",
       "      <td>4</td>\n",
       "      <td>1</td>\n",
       "      <td>DER DEUTSCHEN FORSCHUNGSGEMEINSCHAFT\\n       ...</td>\n",
       "    </tr>\n",
       "  </tbody>\n",
       "</table>\n",
       "</div>"
      ],
      "text/plain": [
       "   volume        part  page  paragraph  sentence  \\\n",
       "0  Band_1  Einleitung     1          1         1   \n",
       "1  Band_1  Einleitung     1          3         1   \n",
       "2  Band_1  Einleitung     1          4         1   \n",
       "\n",
       "                                                text  \n",
       "0   JOHANNES                  KEPLER\\nG ESAMMEL T...  \n",
       "1                           HERAUSGEGEBEN 1M AUFTRAG  \n",
       "2   DER DEUTSCHEN FORSCHUNGSGEMEINSCHAFT\\n       ...  "
      ]
     },
     "execution_count": 3,
     "metadata": {},
     "output_type": "execute_result"
    }
   ],
   "source": [
    "gui1.dataframe.head(3)"
   ]
  },
  {
   "cell_type": "markdown",
   "metadata": {},
   "source": [
    "To display the GUI use `.displayGUI()`. The state of the GUI is usually not saved in the notebook. It can be achieved using the menu Widgets -> Save Widget State.\n",
    "\n",
    "A search can include regular expressions. The standard search is on the column `colname` which can be set during initialization. To reduce search results, use the `more` button, and select a logical operation to connect the results. "
   ]
  },
  {
   "cell_type": "code",
   "execution_count": 4,
   "metadata": {},
   "outputs": [
    {
     "data": {
      "application/vnd.jupyter.widget-view+json": {
       "model_id": "f69438059ba84b04b71c43624fe13063",
       "version_major": 2,
       "version_minor": 0
      },
      "text/html": [
       "<p>Failed to display Jupyter Widget of type <code>VBox</code>.</p>\n",
       "<p>\n",
       "  If you're reading this message in the Jupyter Notebook or JupyterLab Notebook, it may mean\n",
       "  that the widgets JavaScript is still loading. If this message persists, it\n",
       "  likely means that the widgets JavaScript library is either not installed or\n",
       "  not enabled. See the <a href=\"https://ipywidgets.readthedocs.io/en/stable/user_install.html\">Jupyter\n",
       "  Widgets Documentation</a> for setup instructions.\n",
       "</p>\n",
       "<p>\n",
       "  If you're reading this message in another frontend (for example, a static\n",
       "  rendering on GitHub or <a href=\"https://nbviewer.jupyter.org/\">NBViewer</a>),\n",
       "  it may mean that your frontend doesn't currently support widgets.\n",
       "</p>\n"
      ],
      "text/plain": [
       "VBox(children=(Accordion(children=(SearchWordGUI(children=(Text(value='', description='Search for:', layout=Layout(margin='0 0 0 20px'), placeholder='term'), Dropdown(description='Search in:', options=('text',), value='text'))),), _titles={'0': 'Enter search term'}), HBox(children=(ToggleButtons(options=('more', 'less'), value='more'), Button(button_style='danger', description='Search', style=ButtonStyle()), Output())), IntSlider(value=0, max=0), HBox(children=(Textarea(value='', layout=Layout(flex='0 1 auto', height='200px', min_height='40px', width='30%'), placeholder='Result'), Textarea(value='', layout=Layout(flex='0 1 auto', height='200px', min_height='40px', width='70%'), placeholder='Sentence')))))"
      ]
     },
     "metadata": {},
     "output_type": "display_data"
    }
   ],
   "source": [
    "gui1.displayGUI()"
   ]
  }
 ],
 "metadata": {
  "kernelspec": {
   "display_name": "Python 3",
   "language": "python",
   "name": "python3"
  },
  "language_info": {
   "codemirror_mode": {
    "name": "ipython",
    "version": 3
   },
   "file_extension": ".py",
   "mimetype": "text/x-python",
   "name": "python",
   "nbconvert_exporter": "python",
   "pygments_lexer": "ipython3",
   "version": "3.6.3"
  },
  "nav_menu": {},
  "toc": {
   "navigate_menu": true,
   "number_sections": true,
   "sideBar": true,
   "threshold": 6,
   "toc_cell": false,
   "toc_section_display": "block",
   "toc_window_display": false
  },
  "widgets": {
   "application/vnd.jupyter.widget-state+json": {
    "state": {
     "010fefa2aba54be2b8a37f3b0d112510": {
      "model_module": "@jupyter-widgets/base",
      "model_module_version": "1.0.0",
      "model_name": "LayoutModel",
      "state": {}
     },
     "016fe155715d42588354d99ff13c670c": {
      "model_module": "@jupyter-widgets/controls",
      "model_module_version": "1.1.0",
      "model_name": "VBoxModel",
      "state": {
       "children": [
        "IPY_MODEL_b149c74c749c44068e60f7c6e4a47ee1",
        "IPY_MODEL_c9350d9f9bc04cfdbd2c3dec98648e93",
        "IPY_MODEL_c3dbb14c4b7b4d79949820f3ed0b04e3",
        "IPY_MODEL_31a8ef6ea0b44e9ea8e56ea78c49f745"
       ],
       "layout": "IPY_MODEL_79447643ba1b49648411a910771f3dab"
      }
     },
     "020f5efe536c42ddbe468cda77182be5": {
      "model_module": "@jupyter-widgets/controls",
      "model_module_version": "1.1.0",
      "model_name": "DescriptionStyleModel",
      "state": {
       "description_width": ""
      }
     },
     "025187dd920542198902a37aa62acaab": {
      "model_module": "@jupyter-widgets/base",
      "model_module_version": "1.0.0",
      "model_name": "LayoutModel",
      "state": {
       "flex": "0 1 auto",
       "height": "200px",
       "min_height": "40px",
       "width": "30%"
      }
     },
     "0276d48fc9e94d41b1f485ed20458307": {
      "model_module": "@jupyter-widgets/controls",
      "model_module_version": "1.1.0",
      "model_name": "TextModel",
      "state": {
       "description": "Search for:",
       "layout": "IPY_MODEL_c270e043074c445e8607011067dec290",
       "placeholder": "term",
       "style": "IPY_MODEL_f1f39adcdd674054b9706e656b3eec59"
      }
     },
     "0338f048d1ff4b93a217ed40b8a5bcf5": {
      "model_module": "@jupyter-widgets/controls",
      "model_module_version": "1.1.0",
      "model_name": "ButtonModel",
      "state": {
       "button_style": "danger",
       "description": "Search",
       "layout": "IPY_MODEL_d7062f3e81174d7dba1e174d121e4b22",
       "style": "IPY_MODEL_2d0d7b63f32c4607af2f0a470eac0812"
      }
     },
     "040749c1532b404382be05f5883c77a1": {
      "model_module": "@jupyter-widgets/base",
      "model_module_version": "1.0.0",
      "model_name": "LayoutModel",
      "state": {}
     },
     "064aa19d8c614ff2b004dbe54e8109f1": {
      "model_module": "@jupyter-widgets/controls",
      "model_module_version": "1.1.0",
      "model_name": "TextModel",
      "state": {
       "description": "Search for:",
       "layout": "IPY_MODEL_473b384988d847c69b399d75d152796a",
       "placeholder": "term",
       "style": "IPY_MODEL_76ffa90668ed4fc39b8291e161154237"
      }
     },
     "077c3d223c724929976b512fba12c365": {
      "model_module": "@jupyter-widgets/base",
      "model_module_version": "1.0.0",
      "model_name": "LayoutModel",
      "state": {}
     },
     "07c7f57319a14a39aabe384c843ab88e": {
      "model_module": "@jupyter-widgets/controls",
      "model_module_version": "1.1.0",
      "model_name": "ToggleButtonsStyleModel",
      "state": {
       "button_width": "",
       "description_width": ""
      }
     },
     "07f3d439e2c744778a83e9c34774af0b": {
      "model_module": "@jupyter-widgets/base",
      "model_module_version": "1.0.0",
      "model_name": "LayoutModel",
      "state": {}
     },
     "086912789fbc484ba45991ed349ae6b1": {
      "model_module": "@jupyter-widgets/controls",
      "model_module_version": "1.1.0",
      "model_name": "HBoxModel",
      "state": {
       "children": [
        "IPY_MODEL_313b404119e44df3b4c6bb71e67061f0"
       ],
       "layout": "IPY_MODEL_a2c478f0ffad40c7bdba5053e89b65fa"
      }
     },
     "092d3d33bdd94fda9621a00ef75e5785": {
      "model_module": "@jupyter-widgets/controls",
      "model_module_version": "1.1.0",
      "model_name": "HBoxModel",
      "state": {
       "children": [
        "IPY_MODEL_b9f5016aa1294fc58410c4b2bbe2af7d",
        "IPY_MODEL_3bc6903a24d14b95a17ee2537db671b9"
       ],
       "layout": "IPY_MODEL_b380d69afb374899a9a22785fc06f849"
      }
     },
     "09975b4b282a4a9bae41b14446ba83ee": {
      "model_module": "@jupyter-widgets/controls",
      "model_module_version": "1.1.0",
      "model_name": "DescriptionStyleModel",
      "state": {
       "description_width": ""
      }
     },
     "09d037eb7a7e4f7188692e373540bb39": {
      "model_module": "@jupyter-widgets/controls",
      "model_module_version": "1.1.0",
      "model_name": "AccordionModel",
      "state": {
       "_titles": {
        "0": "Enter search term"
       },
       "children": [
        "IPY_MODEL_092d3d33bdd94fda9621a00ef75e5785"
       ],
       "layout": "IPY_MODEL_c2ff643cd80a4d9191e0f55bd84df4d2"
      }
     },
     "0a0e710bebff4a068db10a9a5c26c344": {
      "model_module": "@jupyter-widgets/controls",
      "model_module_version": "1.1.0",
      "model_name": "HBoxModel",
      "state": {
       "children": [
        "IPY_MODEL_adaa47e117c344e8a7997a71a2bd6e76"
       ],
       "layout": "IPY_MODEL_3e50aaaf972a4a47ba721547eca783b5"
      }
     },
     "0a157eccf3374d078ce174f6576f5674": {
      "model_module": "@jupyter-widgets/base",
      "model_module_version": "1.0.0",
      "model_name": "LayoutModel",
      "state": {
       "margin": "0 0 0 20px"
      }
     },
     "0a240909d1ce4eab8d9e5679562a5667": {
      "model_module": "@jupyter-widgets/controls",
      "model_module_version": "1.1.0",
      "model_name": "TextModel",
      "state": {
       "description": "Search for:",
       "layout": "IPY_MODEL_e482ff880c6046bcb418a1a27954f4ec",
       "placeholder": "term",
       "style": "IPY_MODEL_48075b8917574a0b9194caad11c31033",
       "value": "[uU]"
      }
     },
     "0ad911bc65f545b195fcd65a4a455ea3": {
      "model_module": "@jupyter-widgets/controls",
      "model_module_version": "1.1.0",
      "model_name": "HBoxModel",
      "state": {
       "children": [
        "IPY_MODEL_bc7a0ed2584a45e5a01f97b2aff98c9c",
        "IPY_MODEL_12ab6be5dbc147c2999705dc2b244af1"
       ],
       "layout": "IPY_MODEL_c3ec2a0262a94521af27187e4bf7886f"
      }
     },
     "0b1fedfbcb8744549319ad357a4719e3": {
      "model_module": "@jupyter-widgets/base",
      "model_module_version": "1.0.0",
      "model_name": "LayoutModel",
      "state": {}
     },
     "0c3303d0e6b94fddbc6eb12bdf66bdd2": {
      "model_module": "@jupyter-widgets/controls",
      "model_module_version": "1.1.0",
      "model_name": "VBoxModel",
      "state": {
       "children": [
        "IPY_MODEL_a371454012a24a949d3a2fbd4a2cbad6",
        "IPY_MODEL_9589d00b60084ddb96d72bb98e3f3309",
        "IPY_MODEL_0a0e710bebff4a068db10a9a5c26c344",
        "IPY_MODEL_66989d30962b4e478653848a0007ab0a"
       ],
       "layout": "IPY_MODEL_c89f9822b038486485e2fa7b3a40c136"
      }
     },
     "0c4b2c116b0c41bbb86b6a6cd276a0fd": {
      "model_module": "@jupyter-widgets/controls",
      "model_module_version": "1.1.0",
      "model_name": "DropdownModel",
      "state": {
       "_options_labels": [
        "text"
       ],
       "description": "Search in:",
       "index": 0,
       "layout": "IPY_MODEL_daaed9f781b04066ba49077368f03cdd",
       "style": "IPY_MODEL_f99e9d0e61a34b44869a45beb5d6fec6"
      }
     },
     "0c848c5cfa1e43a6991f652e091652af": {
      "model_module": "@jupyter-widgets/controls",
      "model_module_version": "1.1.0",
      "model_name": "HBoxModel",
      "state": {
       "children": [
        "IPY_MODEL_714e41d394fa40ea9070badc180abb05"
       ],
       "layout": "IPY_MODEL_149855e7385643b684363ace6408f15a"
      }
     },
     "0c88d38ec19f4d6e8a9fb396adcabe02": {
      "model_module": "@jupyter-widgets/base",
      "model_module_version": "1.0.0",
      "model_name": "LayoutModel",
      "state": {
       "margin": "0 0 0 20px"
      }
     },
     "0caf4342b70847ea8ba9097b6a7b7ffb": {
      "model_module": "@jupyter-widgets/controls",
      "model_module_version": "1.1.0",
      "model_name": "DescriptionStyleModel",
      "state": {
       "description_width": ""
      }
     },
     "0cf4eb4499b2405bbde50cb80cc1221d": {
      "model_module": "@jupyter-widgets/base",
      "model_module_version": "1.0.0",
      "model_name": "LayoutModel",
      "state": {}
     },
     "0d92d07fb04e49a4b456463024adbd38": {
      "model_module": "@jupyter-widgets/base",
      "model_module_version": "1.0.0",
      "model_name": "LayoutModel",
      "state": {}
     },
     "0e04406639de4ba4b085dc47cbb23dd0": {
      "model_module": "@jupyter-widgets/controls",
      "model_module_version": "1.1.0",
      "model_name": "DropdownModel",
      "state": {
       "_options_labels": [
        "text"
       ],
       "description": "Search in:",
       "index": 0,
       "layout": "IPY_MODEL_0b1fedfbcb8744549319ad357a4719e3",
       "style": "IPY_MODEL_740119e5e02e44ffa4fe1e15a8070f27"
      }
     },
     "0e2c474c751f42908abf1a5e97fec202": {
      "model_module": "@jupyter-widgets/base",
      "model_module_version": "1.0.0",
      "model_name": "LayoutModel",
      "state": {}
     },
     "0e968c9dbd074919ad9d56ef27048e98": {
      "model_module": "@jupyter-widgets/controls",
      "model_module_version": "1.1.0",
      "model_name": "DescriptionStyleModel",
      "state": {
       "description_width": ""
      }
     },
     "0f5be93af547451b90944962a9aafff9": {
      "model_module": "@jupyter-widgets/controls",
      "model_module_version": "1.1.0",
      "model_name": "HBoxModel",
      "state": {
       "children": [
        "IPY_MODEL_4b51ba632ff5480d96acc2443a83d611"
       ],
       "layout": "IPY_MODEL_99592d6c29e546f5b18bf9c8b3db219f"
      }
     },
     "0f875d4ed6444b05965b85da51282720": {
      "model_module": "@jupyter-widgets/base",
      "model_module_version": "1.0.0",
      "model_name": "LayoutModel",
      "state": {}
     },
     "0ffc910b85bf477c8ab596746da66e53": {
      "model_module": "@jupyter-widgets/base",
      "model_module_version": "1.0.0",
      "model_name": "LayoutModel",
      "state": {
       "margin": "0 0 0 20px"
      }
     },
     "1068933964b248c691b8ad2277e9922e": {
      "model_module": "@jupyter-widgets/controls",
      "model_module_version": "1.1.0",
      "model_name": "IntSliderModel",
      "state": {
       "layout": "IPY_MODEL_ad601a41295f461b8a2f9b442b03a8be",
       "max": 0,
       "style": "IPY_MODEL_2693d47815614270bf93a248aa14d5df"
      }
     },
     "1292ebc1ad2f49d187232bf81d5584da": {
      "model_module": "@jupyter-widgets/controls",
      "model_module_version": "1.1.0",
      "model_name": "AccordionModel",
      "state": {
       "_titles": {
        "0": "Enter search term",
        "1": "and/or/not",
        "2": "add term",
        "3": "and/or/not",
        "4": "add term"
       },
       "children": [
        "IPY_MODEL_fb25b6d25692443b8e235f023ede31e3"
       ],
       "layout": "IPY_MODEL_88ca11ad93024441af22e43f17b79875"
      }
     },
     "12ab6be5dbc147c2999705dc2b244af1": {
      "model_module": "@jupyter-widgets/controls",
      "model_module_version": "1.1.0",
      "model_name": "DropdownModel",
      "state": {
       "_options_labels": [
        "text"
       ],
       "description": "Search in:",
       "index": 0,
       "layout": "IPY_MODEL_db492cffabbb40bfaead2a1663839ef0",
       "style": "IPY_MODEL_44f49c31489a4d6ca7c76185675bf04a"
      }
     },
     "1376356276e940ab95a5ed334b840413": {
      "model_module": "@jupyter-widgets/controls",
      "model_module_version": "1.1.0",
      "model_name": "VBoxModel",
      "state": {
       "children": [
        "IPY_MODEL_82f97a6f1ae844548bf65ce7ff038aa1",
        "IPY_MODEL_b81be1bc99724c48af5218cc9c21ffc7",
        "IPY_MODEL_62bd7dc0e2bd4714ad5fc672ae4fb3d7",
        "IPY_MODEL_881e84e81b8a41ee9fb0c6370e0159f8"
       ],
       "layout": "IPY_MODEL_bcbc970f8c534d36bb73b02c412fb53b"
      }
     },
     "149855e7385643b684363ace6408f15a": {
      "model_module": "@jupyter-widgets/base",
      "model_module_version": "1.0.0",
      "model_name": "LayoutModel",
      "state": {}
     },
     "1585dd29921744ea96c9ea7e18678824": {
      "model_module": "@jupyter-widgets/controls",
      "model_module_version": "1.1.0",
      "model_name": "DescriptionStyleModel",
      "state": {
       "description_width": ""
      }
     },
     "16714494c0f3409ebecfd4c7816ba367": {
      "model_module": "@jupyter-widgets/controls",
      "model_module_version": "1.1.0",
      "model_name": "ToggleButtonsStyleModel",
      "state": {
       "button_width": "",
       "description_width": ""
      }
     },
     "170645b93ed448e0acbe089cbdb28a02": {
      "model_module": "@jupyter-widgets/controls",
      "model_module_version": "1.1.0",
      "model_name": "TextareaModel",
      "state": {
       "layout": "IPY_MODEL_4c9b7c92e5284a489710d9f524ddde99",
       "placeholder": "Sentence",
       "style": "IPY_MODEL_2e753f34a0604407bbd762229a4880e3",
       "value": "End of found results. Enter new search."
      }
     },
     "1796ec3d12344b6eb7c83771662ac632": {
      "model_module": "@jupyter-widgets/controls",
      "model_module_version": "1.1.0",
      "model_name": "DescriptionStyleModel",
      "state": {
       "description_width": ""
      }
     },
     "17fd35b0a832407fa9db8000af1636f0": {
      "model_module": "@jupyter-widgets/controls",
      "model_module_version": "1.1.0",
      "model_name": "SliderStyleModel",
      "state": {
       "description_width": ""
      }
     },
     "1835e0e58deb4f9286a289ec7ae274c8": {
      "model_module": "@jupyter-widgets/base",
      "model_module_version": "1.0.0",
      "model_name": "LayoutModel",
      "state": {}
     },
     "18b0cc0b01d24fb7a51e1ab6fb5bcf07": {
      "model_module": "@jupyter-widgets/controls",
      "model_module_version": "1.1.0",
      "model_name": "ToggleButtonsStyleModel",
      "state": {
       "button_width": "",
       "description_width": ""
      }
     },
     "19761c50926e49268e25dd3fdbbfd5a5": {
      "model_module": "@jupyter-widgets/base",
      "model_module_version": "1.0.0",
      "model_name": "LayoutModel",
      "state": {}
     },
     "1a6208d7bc20436190a977fd33181e0a": {
      "model_module": "@jupyter-widgets/controls",
      "model_module_version": "1.1.0",
      "model_name": "ToggleButtonsModel",
      "state": {
       "_options_labels": [
        "previous",
        "next"
       ],
       "button_style": "",
       "icons": [],
       "index": 0,
       "layout": "IPY_MODEL_219e5786232a4cae80694b4cab7644f6",
       "style": "IPY_MODEL_80b23cda33174b71927dcf0543d342ff",
       "tooltips": []
      }
     },
     "1bc9462653cb4a1aa803d5218e241e61": {
      "model_module": "@jupyter-widgets/controls",
      "model_module_version": "1.1.0",
      "model_name": "ToggleButtonsStyleModel",
      "state": {
       "button_width": "",
       "description_width": ""
      }
     },
     "1bf67181f9aa4f138c845d6bc3b1c4ad": {
      "model_module": "@jupyter-widgets/base",
      "model_module_version": "1.0.0",
      "model_name": "LayoutModel",
      "state": {}
     },
     "1cff83f924f04d6d86c7a3fa6f7a2b75": {
      "model_module": "@jupyter-widgets/controls",
      "model_module_version": "1.1.0",
      "model_name": "DescriptionStyleModel",
      "state": {
       "description_width": ""
      }
     },
     "1d8eb1bb63ed4a048933139dec9fed1b": {
      "model_module": "@jupyter-widgets/controls",
      "model_module_version": "1.1.0",
      "model_name": "TextareaModel",
      "state": {
       "layout": "IPY_MODEL_df5b090a3281405ba065f90a2ed8a3c9",
       "placeholder": "Sentence",
       "style": "IPY_MODEL_f1b036e71b114429be5507ec4c90c74a"
      }
     },
     "1daefcbea6c94eb19da56f9510c78dee": {
      "model_module": "@jupyter-widgets/controls",
      "model_module_version": "1.1.0",
      "model_name": "SliderStyleModel",
      "state": {
       "description_width": ""
      }
     },
     "1e6bb29e1e844da383a04f0ac9ae04e0": {
      "model_module": "@jupyter-widgets/controls",
      "model_module_version": "1.1.0",
      "model_name": "DropdownModel",
      "state": {
       "_options_labels": [
        "text"
       ],
       "description": "Search in:",
       "index": 0,
       "layout": "IPY_MODEL_ab29f4720a684f3bb810e4f00c67dfe0",
       "style": "IPY_MODEL_6364868f9afc44428aba72da9a3cb188"
      }
     },
     "1f09a63dfdfd4c87a54d8c6808341da8": {
      "model_module": "@jupyter-widgets/controls",
      "model_module_version": "1.1.0",
      "model_name": "VBoxModel",
      "state": {
       "children": [
        "IPY_MODEL_09d037eb7a7e4f7188692e373540bb39",
        "IPY_MODEL_337a07f8135743c8b7837d646f125881",
        "IPY_MODEL_086912789fbc484ba45991ed349ae6b1",
        "IPY_MODEL_9d654b2b7e364436823fc7f337a1d72f"
       ],
       "layout": "IPY_MODEL_b53736ba8b0844d4a398b2cf57bf9fda"
      }
     },
     "214d0a2daab74dfead26273ada2f326a": {
      "model_module": "@jupyter-widgets/controls",
      "model_module_version": "1.1.0",
      "model_name": "ToggleButtonsStyleModel",
      "state": {
       "button_width": "",
       "description_width": ""
      }
     },
     "219e5786232a4cae80694b4cab7644f6": {
      "model_module": "@jupyter-widgets/base",
      "model_module_version": "1.0.0",
      "model_name": "LayoutModel",
      "state": {}
     },
     "21d76ae1bd014e5fb4ad2f53ef1b4595": {
      "model_module": "@jupyter-widgets/output",
      "model_module_version": "1.0.0",
      "model_name": "OutputModel",
      "state": {
       "layout": "IPY_MODEL_0d92d07fb04e49a4b456463024adbd38",
       "outputs": [
        {
         "name": "stdout",
         "output_type": "stream",
         "text": "Found 7 entries.\n"
        }
       ]
      }
     },
     "21d875d5cfa946da80fe1d6908fb0d94": {
      "model_module": "@jupyter-widgets/base",
      "model_module_version": "1.0.0",
      "model_name": "LayoutModel",
      "state": {
       "flex": "0 1 auto",
       "height": "200px",
       "min_height": "40px",
       "width": "70%"
      }
     },
     "2215c1b57ccf43e09602f773c08d7bcc": {
      "model_module": "@jupyter-widgets/base",
      "model_module_version": "1.0.0",
      "model_name": "LayoutModel",
      "state": {}
     },
     "23e160db53fc4875ae26c728997e1427": {
      "model_module": "@jupyter-widgets/controls",
      "model_module_version": "1.1.0",
      "model_name": "ButtonModel",
      "state": {
       "button_style": "danger",
       "description": "Search",
       "layout": "IPY_MODEL_88a41181042b49fb85207780d716a916",
       "style": "IPY_MODEL_fb15c5b7a7844ed5970dcf03169769fc"
      }
     },
     "23e7bee617544b61bb670457eb4ccb3f": {
      "model_module": "@jupyter-widgets/base",
      "model_module_version": "1.0.0",
      "model_name": "LayoutModel",
      "state": {}
     },
     "2454459e94d94238a940f90f9b3d2317": {
      "model_module": "@jupyter-widgets/controls",
      "model_module_version": "1.1.0",
      "model_name": "ToggleButtonsModel",
      "state": {
       "_options_labels": [
        "more",
        "less"
       ],
       "button_style": "",
       "icons": [],
       "index": 0,
       "layout": "IPY_MODEL_964bd23e746d42f5b217f6aeec0dfc99",
       "style": "IPY_MODEL_214d0a2daab74dfead26273ada2f326a",
       "tooltips": []
      }
     },
     "2498595e2be5487f99c94fbafcd61b86": {
      "model_module": "@jupyter-widgets/base",
      "model_module_version": "1.0.0",
      "model_name": "LayoutModel",
      "state": {}
     },
     "24cff78510e542128b95164c15ac70ae": {
      "model_module": "@jupyter-widgets/controls",
      "model_module_version": "1.1.0",
      "model_name": "AccordionModel",
      "state": {
       "_titles": {
        "0": "Enter search term"
       },
       "children": [
        "IPY_MODEL_d8354345ba094666ad80b2e712155768"
       ],
       "layout": "IPY_MODEL_72a1d49b475d4d8890553a481034873b"
      }
     },
     "250eb2c7a10b465eb99d398c50724550": {
      "model_module": "@jupyter-widgets/base",
      "model_module_version": "1.0.0",
      "model_name": "LayoutModel",
      "state": {}
     },
     "257a764676b2409dbfa757345c561b08": {
      "model_module": "@jupyter-widgets/controls",
      "model_module_version": "1.1.0",
      "model_name": "DescriptionStyleModel",
      "state": {
       "description_width": ""
      }
     },
     "25e125073757473bbbe2d6c776a602bb": {
      "model_module": "@jupyter-widgets/base",
      "model_module_version": "1.0.0",
      "model_name": "LayoutModel",
      "state": {}
     },
     "26309eaba7954c4aac0b325c945f9920": {
      "model_module": "@jupyter-widgets/base",
      "model_module_version": "1.0.0",
      "model_name": "LayoutModel",
      "state": {}
     },
     "2693d47815614270bf93a248aa14d5df": {
      "model_module": "@jupyter-widgets/controls",
      "model_module_version": "1.1.0",
      "model_name": "SliderStyleModel",
      "state": {
       "description_width": ""
      }
     },
     "269b765e42a64a64afd98c8d814ccb82": {
      "model_module": "@jupyter-widgets/base",
      "model_module_version": "1.0.0",
      "model_name": "LayoutModel",
      "state": {}
     },
     "27eab1fc0e084b289299eeec94e05063": {
      "model_module": "@jupyter-widgets/controls",
      "model_module_version": "1.1.0",
      "model_name": "ToggleButtonsStyleModel",
      "state": {
       "button_width": "",
       "description_width": ""
      }
     },
     "2a439ce7bee4498abd1c8baaf12ffda1": {
      "model_module": "@jupyter-widgets/base",
      "model_module_version": "1.0.0",
      "model_name": "LayoutModel",
      "state": {}
     },
     "2a60652baed2464eb966aa4a480c638a": {
      "model_module": "@jupyter-widgets/controls",
      "model_module_version": "1.1.0",
      "model_name": "TextModel",
      "state": {
       "description": "Search for:",
       "layout": "IPY_MODEL_0a157eccf3374d078ce174f6576f5674",
       "placeholder": "term",
       "style": "IPY_MODEL_765ef903e23b4aa78c56697659fb3fee",
       "value": "[uU]"
      }
     },
     "2d0d7b63f32c4607af2f0a470eac0812": {
      "model_module": "@jupyter-widgets/controls",
      "model_module_version": "1.1.0",
      "model_name": "ButtonStyleModel",
      "state": {}
     },
     "2e1d78e2d8594556a62b01b8c63ab4d7": {
      "model_module": "@jupyter-widgets/output",
      "model_module_version": "1.0.0",
      "model_name": "OutputModel",
      "state": {
       "layout": "IPY_MODEL_2498595e2be5487f99c94fbafcd61b86",
       "outputs": [
        {
         "name": "stdout",
         "output_type": "stream",
         "text": "Found 7 entries.\n"
        }
       ]
      }
     },
     "2e753f34a0604407bbd762229a4880e3": {
      "model_module": "@jupyter-widgets/controls",
      "model_module_version": "1.1.0",
      "model_name": "DescriptionStyleModel",
      "state": {
       "description_width": ""
      }
     },
     "2eb87a5dd5714293a40c21d2002dd9ce": {
      "model_module": "@jupyter-widgets/controls",
      "model_module_version": "1.1.0",
      "model_name": "DescriptionStyleModel",
      "state": {
       "description_width": ""
      }
     },
     "2ec6203f1ae74c95983c0386108d243e": {
      "model_module": "@jupyter-widgets/base",
      "model_module_version": "1.0.0",
      "model_name": "LayoutModel",
      "state": {
       "flex": "0 1 auto",
       "height": "200px",
       "min_height": "40px",
       "width": "30%"
      }
     },
     "2ed2f67395c241b8995e6546f5ec77e9": {
      "model_module": "@jupyter-widgets/controls",
      "model_module_version": "1.1.0",
      "model_name": "DescriptionStyleModel",
      "state": {
       "description_width": ""
      }
     },
     "30504ef90ab2440eb03cef4c20e686ed": {
      "model_module": "@jupyter-widgets/base",
      "model_module_version": "1.0.0",
      "model_name": "LayoutModel",
      "state": {
       "margin": "0 0 0 20px"
      }
     },
     "313b404119e44df3b4c6bb71e67061f0": {
      "model_module": "@jupyter-widgets/controls",
      "model_module_version": "1.1.0",
      "model_name": "IntSliderModel",
      "state": {
       "layout": "IPY_MODEL_383c194d94bb46fab6b3600ae4547736",
       "max": 0,
       "style": "IPY_MODEL_83f57823d6424823ad34ef95d6693ea7"
      }
     },
     "31a8ef6ea0b44e9ea8e56ea78c49f745": {
      "model_module": "@jupyter-widgets/controls",
      "model_module_version": "1.1.0",
      "model_name": "HBoxModel",
      "state": {
       "children": [
        "IPY_MODEL_8cef2291077f464eb4ba0ddd0c6d8d5c",
        "IPY_MODEL_9ea707697e9a4fecad1a5f14d19da314"
       ],
       "layout": "IPY_MODEL_250eb2c7a10b465eb99d398c50724550"
      }
     },
     "323ffade0cc1421bae90eb8476857e4a": {
      "model_module": "@jupyter-widgets/base",
      "model_module_version": "1.0.0",
      "model_name": "LayoutModel",
      "state": {}
     },
     "326000f1d91646b2ae4731d22e2f610b": {
      "model_module": "@jupyter-widgets/base",
      "model_module_version": "1.0.0",
      "model_name": "LayoutModel",
      "state": {}
     },
     "329e76a2f110410b98df317163b5c8d0": {
      "model_module": "@jupyter-widgets/base",
      "model_module_version": "1.0.0",
      "model_name": "LayoutModel",
      "state": {
       "flex": "0 1 auto",
       "height": "200px",
       "min_height": "40px",
       "width": "70%"
      }
     },
     "32af685c30654e8f840357f320b85aac": {
      "model_module": "@jupyter-widgets/controls",
      "model_module_version": "1.1.0",
      "model_name": "DescriptionStyleModel",
      "state": {
       "description_width": ""
      }
     },
     "337a07f8135743c8b7837d646f125881": {
      "model_module": "@jupyter-widgets/controls",
      "model_module_version": "1.1.0",
      "model_name": "HBoxModel",
      "state": {
       "children": [
        "IPY_MODEL_c2bf027876fb47bc839dc107e391524b",
        "IPY_MODEL_23e160db53fc4875ae26c728997e1427",
        "IPY_MODEL_21d76ae1bd014e5fb4ad2f53ef1b4595"
       ],
       "layout": "IPY_MODEL_979f1eacdba24a8bb243b260ae73f707"
      }
     },
     "34196f307de54754b6fd83210db39e86": {
      "model_module": "@jupyter-widgets/base",
      "model_module_version": "1.0.0",
      "model_name": "LayoutModel",
      "state": {}
     },
     "36e3bb4d5c8c4803a70a7cf201a2bfd6": {
      "model_module": "@jupyter-widgets/controls",
      "model_module_version": "1.1.0",
      "model_name": "DropdownModel",
      "state": {
       "_options_labels": [
        "text"
       ],
       "description": "Search in:",
       "index": 0,
       "layout": "IPY_MODEL_7c56d1fe58554c54a5db59468100eb33",
       "style": "IPY_MODEL_9a3d0b5b6c36452099741bf8fb82323a"
      }
     },
     "37302ffd3ecf45d98f70545093f4f7da": {
      "model_module": "@jupyter-widgets/controls",
      "model_module_version": "1.1.0",
      "model_name": "DescriptionStyleModel",
      "state": {
       "description_width": ""
      }
     },
     "383c194d94bb46fab6b3600ae4547736": {
      "model_module": "@jupyter-widgets/base",
      "model_module_version": "1.0.0",
      "model_name": "LayoutModel",
      "state": {}
     },
     "3859237b9e7b431f94c12df84ad0fae8": {
      "model_module": "@jupyter-widgets/controls",
      "model_module_version": "1.1.0",
      "model_name": "ButtonModel",
      "state": {
       "button_style": "danger",
       "description": "Search",
       "layout": "IPY_MODEL_6b9162c6a633420296327721f3d58629",
       "style": "IPY_MODEL_fdec41263bc1486c9f9c2d675ff299eb"
      }
     },
     "3a93dbf7508247e7bde5439219febd9e": {
      "model_module": "@jupyter-widgets/controls",
      "model_module_version": "1.1.0",
      "model_name": "IntSliderModel",
      "state": {
       "layout": "IPY_MODEL_d0445bd6c5644dbb92e6e6812d350361",
       "max": 7,
       "style": "IPY_MODEL_484b346bf3ca4ad08163339c9eeae731",
       "value": 7
      }
     },
     "3b56458098234834831d20e6c24c9741": {
      "model_module": "@jupyter-widgets/base",
      "model_module_version": "1.0.0",
      "model_name": "LayoutModel",
      "state": {}
     },
     "3b8a3955f1594de2b097a0e48e68078b": {
      "model_module": "@jupyter-widgets/controls",
      "model_module_version": "1.1.0",
      "model_name": "VBoxModel",
      "state": {
       "children": [
        "IPY_MODEL_405c762e0a1342e881f69e38b97e4675",
        "IPY_MODEL_616ded1bd39b4b62a4c6f382e28d6484",
        "IPY_MODEL_94f3bde7392340a58ea970697ff1e479",
        "IPY_MODEL_b996e3b67c5f4773a40da2ffa2284b47"
       ],
       "layout": "IPY_MODEL_e0cb34b8c1bc47e89b03d0d37d478361"
      }
     },
     "3bb96c0b559e4c68b1e6bfae1e315a95": {
      "model_module": "@jupyter-widgets/controls",
      "model_module_version": "1.1.0",
      "model_name": "TextModel",
      "state": {
       "description": "Search for:",
       "layout": "IPY_MODEL_8f3679d29c6848be9bf26df03f42254b",
       "placeholder": "term",
       "style": "IPY_MODEL_a39a396d326345f2b927a61c7960f761"
      }
     },
     "3bc6903a24d14b95a17ee2537db671b9": {
      "model_module": "@jupyter-widgets/controls",
      "model_module_version": "1.1.0",
      "model_name": "DropdownModel",
      "state": {
       "_options_labels": [
        "text"
       ],
       "description": "Search in:",
       "index": 0,
       "layout": "IPY_MODEL_4d25c8a988394763b00ad8722eead94d",
       "style": "IPY_MODEL_4cf9eb19a6ec4b9587e5faeb7f88f485"
      }
     },
     "3d4e585201f545348e08b6415e2571a9": {
      "model_module": "@jupyter-widgets/base",
      "model_module_version": "1.0.0",
      "model_name": "LayoutModel",
      "state": {
       "margin": "0 0 0 20px"
      }
     },
     "3d815ca3844d481d9825934dabd40bfc": {
      "model_module": "@jupyter-widgets/base",
      "model_module_version": "1.0.0",
      "model_name": "LayoutModel",
      "state": {}
     },
     "3e4a1af796a84e7d925d5d9d0f20207b": {
      "model_module": "@jupyter-widgets/base",
      "model_module_version": "1.0.0",
      "model_name": "LayoutModel",
      "state": {}
     },
     "3e50aaaf972a4a47ba721547eca783b5": {
      "model_module": "@jupyter-widgets/base",
      "model_module_version": "1.0.0",
      "model_name": "LayoutModel",
      "state": {}
     },
     "3ee0de3787f64358866e4873557c5983": {
      "model_module": "@jupyter-widgets/base",
      "model_module_version": "1.0.0",
      "model_name": "LayoutModel",
      "state": {}
     },
     "3ef4c7a24d4e49faa8ed317ea906da2d": {
      "model_module": "@jupyter-widgets/controls",
      "model_module_version": "1.1.0",
      "model_name": "ButtonModel",
      "state": {
       "button_style": "danger",
       "description": "Search",
       "layout": "IPY_MODEL_afac759df03e4f3580dce1fe30d3ed00",
       "style": "IPY_MODEL_8ebe3e8ae2e84dc2bc9722d6124fd8a7"
      }
     },
     "3fa03e03f927451a8d4ba14915868296": {
      "model_module": "@jupyter-widgets/controls",
      "model_module_version": "1.1.0",
      "model_name": "TextareaModel",
      "state": {
       "layout": "IPY_MODEL_db26611785b34e8393b328ce2327e467",
       "placeholder": "Result",
       "style": "IPY_MODEL_4189395e1cef45529a911b0b5a2648b7",
       "value": "Result 0\nindex:\n 1\nvolume:\n Band_1\npart:\n Einleitung\npage:\n 1\nparagraph:\n 3\nsentence:\n 1"
      }
     },
     "3fb606bf3965468c954f9a46d9c5e0a8": {
      "model_module": "@jupyter-widgets/controls",
      "model_module_version": "1.1.0",
      "model_name": "VBoxModel",
      "state": {
       "children": [
        "IPY_MODEL_24cff78510e542128b95164c15ac70ae",
        "IPY_MODEL_b6cb7117c2fb420880ceb5b29bca50df",
        "IPY_MODEL_0c848c5cfa1e43a6991f652e091652af",
        "IPY_MODEL_9aa6860ac48d4f74a5594179c5fda5bd"
       ],
       "layout": "IPY_MODEL_477729e8ac5948d8b73fb6a784c25a0d"
      }
     },
     "3fd22598f1234d648d012178dbddb507": {
      "model_module": "@jupyter-widgets/base",
      "model_module_version": "1.0.0",
      "model_name": "LayoutModel",
      "state": {
       "flex": "0 1 auto",
       "height": "200px",
       "min_height": "40px",
       "width": "30%"
      }
     },
     "405c762e0a1342e881f69e38b97e4675": {
      "model_module": "@jupyter-widgets/controls",
      "model_module_version": "1.1.0",
      "model_name": "AccordionModel",
      "state": {
       "_titles": {
        "0": "Enter search term"
       },
       "children": [
        "IPY_MODEL_bc0dd4e120a845c5af996c6831e18257"
       ],
       "layout": "IPY_MODEL_ddae082415bb410c9fbe98a44b4003fc"
      }
     },
     "40a92365836c427aaa47ec8b12b5d447": {
      "model_module": "@jupyter-widgets/base",
      "model_module_version": "1.0.0",
      "model_name": "LayoutModel",
      "state": {}
     },
     "40fc3417039b4cb3939f30ea0981f78a": {
      "model_module": "@jupyter-widgets/controls",
      "model_module_version": "1.1.0",
      "model_name": "AccordionModel",
      "state": {
       "_titles": {
        "0": "Enter search term"
       },
       "children": [
        "IPY_MODEL_879a117ec99e44a98cf7c20d4894a873"
       ],
       "layout": "IPY_MODEL_f71e7dd79ef24183bc06db351a96220d"
      }
     },
     "4189395e1cef45529a911b0b5a2648b7": {
      "model_module": "@jupyter-widgets/controls",
      "model_module_version": "1.1.0",
      "model_name": "DescriptionStyleModel",
      "state": {
       "description_width": ""
      }
     },
     "41900f2eb50442ae974dca8ebbe7e667": {
      "model_module": "@jupyter-widgets/base",
      "model_module_version": "1.0.0",
      "model_name": "LayoutModel",
      "state": {}
     },
     "430ada95879643c69972b8ef1c0ac5e7": {
      "model_module": "@jupyter-widgets/base",
      "model_module_version": "1.0.0",
      "model_name": "LayoutModel",
      "state": {
       "flex": "0 1 auto",
       "height": "200px",
       "min_height": "40px",
       "width": "30%"
      }
     },
     "4313edee43a14cf2b86570fd5ecfbeae": {
      "model_module": "@jupyter-widgets/controls",
      "model_module_version": "1.1.0",
      "model_name": "DescriptionStyleModel",
      "state": {
       "description_width": ""
      }
     },
     "43243cd2cae949c4939f5b65df75eab8": {
      "model_module": "@jupyter-widgets/base",
      "model_module_version": "1.0.0",
      "model_name": "LayoutModel",
      "state": {}
     },
     "432e8b0e31fe4b3699ad845867d35b1a": {
      "model_module": "@jupyter-widgets/controls",
      "model_module_version": "1.1.0",
      "model_name": "DropdownModel",
      "state": {
       "_options_labels": [
        "text"
       ],
       "description": "Search in:",
       "index": 0,
       "layout": "IPY_MODEL_df59c55f69b24ea68fea73e154b60a97",
       "style": "IPY_MODEL_a215c07c15cc425fbd11ec560e514956"
      }
     },
     "4338b4522e354e26b5afd860de716a83": {
      "model_module": "@jupyter-widgets/controls",
      "model_module_version": "1.1.0",
      "model_name": "ToggleButtonsModel",
      "state": {
       "_options_labels": [
        "more",
        "less"
       ],
       "button_style": "",
       "icons": [],
       "index": 0,
       "layout": "IPY_MODEL_8d2474dfd35a4c7fabbab1fc701fe176",
       "style": "IPY_MODEL_a9b106b518f5410f886d2da572d943ee",
       "tooltips": []
      }
     },
     "444b38fccd52476989007de387486c50": {
      "model_module": "@jupyter-widgets/controls",
      "model_module_version": "1.1.0",
      "model_name": "TextareaModel",
      "state": {
       "layout": "IPY_MODEL_329e76a2f110410b98df317163b5c8d0",
       "placeholder": "Sentence",
       "style": "IPY_MODEL_c9759efab1f5438b86cc004b8875fe9d",
       "value": "         HERAUSGEGEBEN 1M AUFTRAG"
      }
     },
     "44e15975f7e9412b969eaf74fe52aade": {
      "model_module": "@jupyter-widgets/controls",
      "model_module_version": "1.1.0",
      "model_name": "ToggleButtonsModel",
      "state": {
       "_options_labels": [
        "more",
        "less"
       ],
       "button_style": "",
       "icons": [],
       "index": 0,
       "layout": "IPY_MODEL_c2b0e9f911924c74a6b21430b2281bd3",
       "style": "IPY_MODEL_addfed8556164e82a27325adcbe5128f",
       "tooltips": []
      }
     },
     "44f49c31489a4d6ca7c76185675bf04a": {
      "model_module": "@jupyter-widgets/controls",
      "model_module_version": "1.1.0",
      "model_name": "DescriptionStyleModel",
      "state": {
       "description_width": ""
      }
     },
     "4514f6041ed04de794bf0e13ff278d8e": {
      "model_module": "@jupyter-widgets/base",
      "model_module_version": "1.0.0",
      "model_name": "LayoutModel",
      "state": {
       "margin": "0 0 0 20px"
      }
     },
     "46abfc732b3d4774943ec13495dcd422": {
      "model_module": "@jupyter-widgets/controls",
      "model_module_version": "1.1.0",
      "model_name": "ButtonModel",
      "state": {
       "button_style": "danger",
       "description": "Search",
       "layout": "IPY_MODEL_554d4e0dabb3401db3cadaf6f7b06b10",
       "style": "IPY_MODEL_ab916f19b2434b608d8001a9a7292b5d"
      }
     },
     "473b384988d847c69b399d75d152796a": {
      "model_module": "@jupyter-widgets/base",
      "model_module_version": "1.0.0",
      "model_name": "LayoutModel",
      "state": {
       "margin": "0 0 0 20px"
      }
     },
     "477729e8ac5948d8b73fb6a784c25a0d": {
      "model_module": "@jupyter-widgets/base",
      "model_module_version": "1.0.0",
      "model_name": "LayoutModel",
      "state": {}
     },
     "4804870976084cd0a5a75c439ae1b9af": {
      "model_module": "@jupyter-widgets/controls",
      "model_module_version": "1.1.0",
      "model_name": "DescriptionStyleModel",
      "state": {
       "description_width": ""
      }
     },
     "48075b8917574a0b9194caad11c31033": {
      "model_module": "@jupyter-widgets/controls",
      "model_module_version": "1.1.0",
      "model_name": "DescriptionStyleModel",
      "state": {
       "description_width": ""
      }
     },
     "484b346bf3ca4ad08163339c9eeae731": {
      "model_module": "@jupyter-widgets/controls",
      "model_module_version": "1.1.0",
      "model_name": "SliderStyleModel",
      "state": {
       "description_width": ""
      }
     },
     "48644fe782eb4ab28a51977529d8c27a": {
      "model_module": "@jupyter-widgets/base",
      "model_module_version": "1.0.0",
      "model_name": "LayoutModel",
      "state": {}
     },
     "488b2ff0851944878b8059635f0db087": {
      "model_module": "@jupyter-widgets/controls",
      "model_module_version": "1.1.0",
      "model_name": "HBoxModel",
      "state": {
       "children": [
        "IPY_MODEL_2a60652baed2464eb966aa4a480c638a",
        "IPY_MODEL_bc66dfd73781440d8d5cedb3d017dc44"
       ],
       "layout": "IPY_MODEL_f8c33e08707a494a9480854e14b0f2ba"
      }
     },
     "494c513781274f2bbcc775ca05f0aa56": {
      "model_module": "@jupyter-widgets/base",
      "model_module_version": "1.0.0",
      "model_name": "LayoutModel",
      "state": {}
     },
     "4977ae7e6e7b4caf95c0c68fd6821852": {
      "model_module": "@jupyter-widgets/controls",
      "model_module_version": "1.1.0",
      "model_name": "DescriptionStyleModel",
      "state": {
       "description_width": ""
      }
     },
     "4af665e05d8f43b78391dbff286e169c": {
      "model_module": "@jupyter-widgets/controls",
      "model_module_version": "1.1.0",
      "model_name": "DescriptionStyleModel",
      "state": {
       "description_width": ""
      }
     },
     "4b2ae7e35d814314b2e05ced6b2319ac": {
      "model_module": "@jupyter-widgets/controls",
      "model_module_version": "1.1.0",
      "model_name": "ToggleButtonsStyleModel",
      "state": {
       "button_width": "",
       "description_width": ""
      }
     },
     "4b51ba632ff5480d96acc2443a83d611": {
      "model_module": "@jupyter-widgets/controls",
      "model_module_version": "1.1.0",
      "model_name": "IntSliderModel",
      "state": {
       "layout": "IPY_MODEL_48644fe782eb4ab28a51977529d8c27a",
       "max": 0,
       "style": "IPY_MODEL_4de7a084ccf443098ce55a87632513e2"
      }
     },
     "4c170628f942449383473d87358c13c3": {
      "model_module": "@jupyter-widgets/controls",
      "model_module_version": "1.1.0",
      "model_name": "SliderStyleModel",
      "state": {
       "description_width": ""
      }
     },
     "4c1cb659adad4a32bd1adb4d4512591b": {
      "model_module": "@jupyter-widgets/base",
      "model_module_version": "1.0.0",
      "model_name": "LayoutModel",
      "state": {}
     },
     "4c9b7c92e5284a489710d9f524ddde99": {
      "model_module": "@jupyter-widgets/base",
      "model_module_version": "1.0.0",
      "model_name": "LayoutModel",
      "state": {
       "flex": "0 1 auto",
       "height": "200px",
       "min_height": "40px",
       "width": "70%"
      }
     },
     "4cf9eb19a6ec4b9587e5faeb7f88f485": {
      "model_module": "@jupyter-widgets/controls",
      "model_module_version": "1.1.0",
      "model_name": "DescriptionStyleModel",
      "state": {
       "description_width": ""
      }
     },
     "4d00f00718974775a4446ee461caae7b": {
      "model_module": "@jupyter-widgets/base",
      "model_module_version": "1.0.0",
      "model_name": "LayoutModel",
      "state": {}
     },
     "4d25c8a988394763b00ad8722eead94d": {
      "model_module": "@jupyter-widgets/base",
      "model_module_version": "1.0.0",
      "model_name": "LayoutModel",
      "state": {}
     },
     "4de7a084ccf443098ce55a87632513e2": {
      "model_module": "@jupyter-widgets/controls",
      "model_module_version": "1.1.0",
      "model_name": "SliderStyleModel",
      "state": {
       "description_width": ""
      }
     },
     "4e0a74981d684ec9baf6623230f8bc6f": {
      "model_module": "@jupyter-widgets/controls",
      "model_module_version": "1.1.0",
      "model_name": "DescriptionStyleModel",
      "state": {
       "description_width": ""
      }
     },
     "4f79d14385a341ac933d41e6dee22e41": {
      "model_module": "@jupyter-widgets/base",
      "model_module_version": "1.0.0",
      "model_name": "LayoutModel",
      "state": {}
     },
     "507f374c3e7544148a13c876f0845f0d": {
      "model_module": "@jupyter-widgets/controls",
      "model_module_version": "1.1.0",
      "model_name": "SliderStyleModel",
      "state": {
       "description_width": ""
      }
     },
     "50ab999c41c54fe6b3396941750ff021": {
      "model_module": "@jupyter-widgets/base",
      "model_module_version": "1.0.0",
      "model_name": "LayoutModel",
      "state": {
       "margin": "0 0 0 20px"
      }
     },
     "50f1e269b8cd4a09806ae1acac470237": {
      "model_module": "@jupyter-widgets/controls",
      "model_module_version": "1.1.0",
      "model_name": "ButtonStyleModel",
      "state": {}
     },
     "530f461306ab42ce9320944b8a5b2b9b": {
      "model_module": "@jupyter-widgets/controls",
      "model_module_version": "1.1.0",
      "model_name": "TextareaModel",
      "state": {
       "layout": "IPY_MODEL_2ec6203f1ae74c95983c0386108d243e",
       "placeholder": "Result",
       "style": "IPY_MODEL_bc80affbc6e84e5aaaa741b4400b9399",
       "value": "Result 0\nindex:\n 1\nvolume:\n Band_1\npart:\n Einleitung\npage:\n 1\nparagraph:\n 3\nsentence:\n 1"
      }
     },
     "547b032932c84d62b3bc1e98d13f77a1": {
      "model_module": "@jupyter-widgets/base",
      "model_module_version": "1.0.0",
      "model_name": "LayoutModel",
      "state": {}
     },
     "54ba7ea0b1734353b25217e58f5b6cd6": {
      "model_module": "@jupyter-widgets/controls",
      "model_module_version": "1.1.0",
      "model_name": "DescriptionStyleModel",
      "state": {
       "description_width": ""
      }
     },
     "551abcc805d44f4594af9cf88365a9ef": {
      "model_module": "@jupyter-widgets/controls",
      "model_module_version": "1.1.0",
      "model_name": "DropdownModel",
      "state": {
       "_options_labels": [
        "text"
       ],
       "description": "Search in:",
       "index": 0,
       "layout": "IPY_MODEL_a5a2596ccef941a5b1cdcbb1e7d98330",
       "style": "IPY_MODEL_4e0a74981d684ec9baf6623230f8bc6f"
      }
     },
     "554d4e0dabb3401db3cadaf6f7b06b10": {
      "model_module": "@jupyter-widgets/base",
      "model_module_version": "1.0.0",
      "model_name": "LayoutModel",
      "state": {}
     },
     "57276b2eddaf4545b6dfc77b432fcbbc": {
      "model_module": "@jupyter-widgets/controls",
      "model_module_version": "1.1.0",
      "model_name": "DescriptionStyleModel",
      "state": {
       "description_width": ""
      }
     },
     "57ad5f2efef0475497c1a659698eb030": {
      "model_module": "@jupyter-widgets/controls",
      "model_module_version": "1.1.0",
      "model_name": "VBoxModel",
      "state": {
       "children": [
        "IPY_MODEL_40fc3417039b4cb3939f30ea0981f78a",
        "IPY_MODEL_d25cd213baca4ad093e05595706e1039",
        "IPY_MODEL_0f5be93af547451b90944962a9aafff9",
        "IPY_MODEL_6e1214e1e75b4aadbacac295f088dc4c"
       ],
       "layout": "IPY_MODEL_0e2c474c751f42908abf1a5e97fec202"
      }
     },
     "57e864a4ad7c4c5bbc0c633ccc5f8911": {
      "model_module": "@jupyter-widgets/base",
      "model_module_version": "1.0.0",
      "model_name": "LayoutModel",
      "state": {}
     },
     "58647bb634d747c59b97c4bf85c4442f": {
      "model_module": "@jupyter-widgets/controls",
      "model_module_version": "1.1.0",
      "model_name": "DescriptionStyleModel",
      "state": {
       "description_width": ""
      }
     },
     "587d282aacf74dcc9755042c9a1cd528": {
      "model_module": "@jupyter-widgets/base",
      "model_module_version": "1.0.0",
      "model_name": "LayoutModel",
      "state": {
       "margin": "0 0 0 20px"
      }
     },
     "5973ff7ac11b4224ade512b7782785ce": {
      "model_module": "@jupyter-widgets/controls",
      "model_module_version": "1.1.0",
      "model_name": "DescriptionStyleModel",
      "state": {
       "description_width": ""
      }
     },
     "5a5d5b95971245d3a8ce7bff1351b17e": {
      "model_module": "@jupyter-widgets/base",
      "model_module_version": "1.0.0",
      "model_name": "LayoutModel",
      "state": {}
     },
     "5a9677b9cea64182aa380ecd4a235887": {
      "model_module": "@jupyter-widgets/base",
      "model_module_version": "1.0.0",
      "model_name": "LayoutModel",
      "state": {}
     },
     "5bddda622a644e3a9ebccda04f0d65de": {
      "model_module": "@jupyter-widgets/base",
      "model_module_version": "1.0.0",
      "model_name": "LayoutModel",
      "state": {}
     },
     "5d149214baaa4051b6d9ea2c3b77b30b": {
      "model_module": "@jupyter-widgets/controls",
      "model_module_version": "1.1.0",
      "model_name": "ButtonModel",
      "state": {
       "button_style": "danger",
       "description": "Search",
       "layout": "IPY_MODEL_25e125073757473bbbe2d6c776a602bb",
       "style": "IPY_MODEL_9335119ae9a740ceb473a51e88220a29"
      }
     },
     "5d419a9d248e4056b6659d9b337c3e65": {
      "model_module": "@jupyter-widgets/controls",
      "model_module_version": "1.1.0",
      "model_name": "ToggleButtonsModel",
      "state": {
       "_options_labels": [
        "more",
        "less"
       ],
       "button_style": "",
       "icons": [],
       "index": 0,
       "layout": "IPY_MODEL_3d815ca3844d481d9825934dabd40bfc",
       "style": "IPY_MODEL_16714494c0f3409ebecfd4c7816ba367",
       "tooltips": []
      }
     },
     "5ecdc288f4304c4eb37d458a42519700": {
      "model_module": "@jupyter-widgets/controls",
      "model_module_version": "1.1.0",
      "model_name": "ToggleButtonsStyleModel",
      "state": {
       "button_width": "",
       "description_width": ""
      }
     },
     "5f338d92df694bd78f856cb45672126e": {
      "model_module": "@jupyter-widgets/controls",
      "model_module_version": "1.1.0",
      "model_name": "TextareaModel",
      "state": {
       "layout": "IPY_MODEL_c96143591c784f84ad44c7a0c0d4c40e",
       "placeholder": "Sentence",
       "style": "IPY_MODEL_ec9a1a0e75bd42f6ada9305cce8429d8",
       "value": "die Edition des Briefwechse1s bei Frisch besonders unglucklich ausgefal-\nlen ist, insofern er die Briefe an Kepler nur auszugsweise wiedergab\nund die einze1nen Briefe von Kepler zumeist auseinandergerissen hat,\num die einze1nen Stellen und Teile in seinen Einleitungen zu den betref-\nfenden Werken unterzubringen, wird die neue Ausgabe zum erstenmal\neine moglichst hickenlose chronologische Darstellung des ungemein\nreichen Briefmaterials bringen, worin sich der Ablauf von Keplers so\nbewegtem auBeren Leben und die Entwicklung seines gesamten geisti-\ngen Schaffens widerspiegelt"
      }
     },
     "5f80e1a7b4764fcb8b684cca507dd18c": {
      "model_module": "@jupyter-widgets/controls",
      "model_module_version": "1.1.0",
      "model_name": "SliderStyleModel",
      "state": {
       "description_width": ""
      }
     },
     "609ad9125e984070b8b328ce38142480": {
      "model_module": "@jupyter-widgets/controls",
      "model_module_version": "1.1.0",
      "model_name": "HBoxModel",
      "state": {
       "children": [
        "IPY_MODEL_7ab749fb4253465f98281da0a5921d36",
        "IPY_MODEL_75178295c9d54b82849e14ff5e8bfce0"
       ],
       "layout": "IPY_MODEL_269b765e42a64a64afd98c8d814ccb82"
      }
     },
     "60f53541f7df4191a7576beed91d8982": {
      "model_module": "@jupyter-widgets/controls",
      "model_module_version": "1.1.0",
      "model_name": "ToggleButtonsModel",
      "state": {
       "_options_labels": [
        "more",
        "less"
       ],
       "button_style": "",
       "icons": [],
       "index": 1,
       "layout": "IPY_MODEL_4f79d14385a341ac933d41e6dee22e41",
       "style": "IPY_MODEL_9e01683fd575458abdffa37a538263a8",
       "tooltips": []
      }
     },
     "616ded1bd39b4b62a4c6f382e28d6484": {
      "model_module": "@jupyter-widgets/controls",
      "model_module_version": "1.1.0",
      "model_name": "HBoxModel",
      "state": {
       "children": [
        "IPY_MODEL_4338b4522e354e26b5afd860de716a83",
        "IPY_MODEL_cbc87820ad3e420f90cdec4af353033e",
        "IPY_MODEL_f4ab018a76584d2abc5e33028db3846c"
       ],
       "layout": "IPY_MODEL_939d56ad0a4940ebb76c080e307e6985"
      }
     },
     "62bd7dc0e2bd4714ad5fc672ae4fb3d7": {
      "model_module": "@jupyter-widgets/controls",
      "model_module_version": "1.1.0",
      "model_name": "HBoxModel",
      "state": {
       "children": [
        "IPY_MODEL_b3f6cbe95a814928a1527165110708cf"
       ],
       "layout": "IPY_MODEL_e3f5f88482584e2691a8ddd02e899a9a"
      }
     },
     "6364868f9afc44428aba72da9a3cb188": {
      "model_module": "@jupyter-widgets/controls",
      "model_module_version": "1.1.0",
      "model_name": "DescriptionStyleModel",
      "state": {
       "description_width": ""
      }
     },
     "64bf557f3f6c43a881f9349f44bd0354": {
      "model_module": "@jupyter-widgets/output",
      "model_module_version": "1.0.0",
      "model_name": "OutputModel",
      "state": {
       "layout": "IPY_MODEL_40a92365836c427aaa47ec8b12b5d447",
       "outputs": [
        {
         "name": "stdout",
         "output_type": "stream",
         "text": "Found 7 entries.\n"
        }
       ]
      }
     },
     "64f6b10dca1a42a2b4c53532ab9572b1": {
      "model_module": "@jupyter-widgets/controls",
      "model_module_version": "1.1.0",
      "model_name": "TextModel",
      "state": {
       "description": "Search for:",
       "layout": "IPY_MODEL_0ffc910b85bf477c8ab596746da66e53",
       "placeholder": "term",
       "style": "IPY_MODEL_6a8df1589df64cb8b5495a6045c5b628",
       "value": "[uU]"
      }
     },
     "6682bb718169424481f4038558f2dc52": {
      "model_module": "@jupyter-widgets/base",
      "model_module_version": "1.0.0",
      "model_name": "LayoutModel",
      "state": {}
     },
     "66989d30962b4e478653848a0007ab0a": {
      "model_module": "@jupyter-widgets/controls",
      "model_module_version": "1.1.0",
      "model_name": "HBoxModel",
      "state": {
       "children": [
        "IPY_MODEL_7ab749fb4253465f98281da0a5921d36",
        "IPY_MODEL_75178295c9d54b82849e14ff5e8bfce0"
       ],
       "layout": "IPY_MODEL_6dcde063dc0f401a8d60bd925d515ecc"
      }
     },
     "681d9534ae0c461cafe3d45126de83e7": {
      "model_module": "@jupyter-widgets/base",
      "model_module_version": "1.0.0",
      "model_name": "LayoutModel",
      "state": {
       "flex": "0 1 auto",
       "height": "200px",
       "min_height": "40px",
       "width": "30%"
      }
     },
     "6a8a76ec85a642b68e2bcf414c042e05": {
      "model_module": "@jupyter-widgets/base",
      "model_module_version": "1.0.0",
      "model_name": "LayoutModel",
      "state": {}
     },
     "6a8df1589df64cb8b5495a6045c5b628": {
      "model_module": "@jupyter-widgets/controls",
      "model_module_version": "1.1.0",
      "model_name": "DescriptionStyleModel",
      "state": {
       "description_width": ""
      }
     },
     "6ab4485c2de348f69daea3e1f99bd5d3": {
      "model_module": "@jupyter-widgets/base",
      "model_module_version": "1.0.0",
      "model_name": "LayoutModel",
      "state": {}
     },
     "6b9162c6a633420296327721f3d58629": {
      "model_module": "@jupyter-widgets/base",
      "model_module_version": "1.0.0",
      "model_name": "LayoutModel",
      "state": {}
     },
     "6bfcf613e3774631aaa7b78a76d3e4f2": {
      "model_module": "@jupyter-widgets/controls",
      "model_module_version": "1.1.0",
      "model_name": "SliderStyleModel",
      "state": {
       "description_width": ""
      }
     },
     "6dcde063dc0f401a8d60bd925d515ecc": {
      "model_module": "@jupyter-widgets/base",
      "model_module_version": "1.0.0",
      "model_name": "LayoutModel",
      "state": {}
     },
     "6e1214e1e75b4aadbacac295f088dc4c": {
      "model_module": "@jupyter-widgets/controls",
      "model_module_version": "1.1.0",
      "model_name": "HBoxModel",
      "state": {
       "children": [
        "IPY_MODEL_530f461306ab42ce9320944b8a5b2b9b",
        "IPY_MODEL_d78ad310549e4b009675ca3e0f0ed099"
       ],
       "layout": "IPY_MODEL_07f3d439e2c744778a83e9c34774af0b"
      }
     },
     "6efd37826de7405f99e3621684714ada": {
      "model_module": "@jupyter-widgets/controls",
      "model_module_version": "1.1.0",
      "model_name": "DescriptionStyleModel",
      "state": {
       "description_width": ""
      }
     },
     "6fe3f04feafb4434a0234f442408d698": {
      "model_module": "@jupyter-widgets/base",
      "model_module_version": "1.0.0",
      "model_name": "LayoutModel",
      "state": {}
     },
     "70ae873cea5b4a068325cc5fd027fbe1": {
      "model_module": "@jupyter-widgets/controls",
      "model_module_version": "1.1.0",
      "model_name": "ButtonStyleModel",
      "state": {}
     },
     "714e41d394fa40ea9070badc180abb05": {
      "model_module": "@jupyter-widgets/controls",
      "model_module_version": "1.1.0",
      "model_name": "IntSliderModel",
      "state": {
       "layout": "IPY_MODEL_e1d93eebc90940fabd650232e8339f64",
       "max": 0,
       "style": "IPY_MODEL_aca6389854544322b287c539a93fce6c"
      }
     },
     "71ac122367034f4b9a7f3a581d80d083": {
      "model_module": "@jupyter-widgets/controls",
      "model_module_version": "1.1.0",
      "model_name": "TextModel",
      "state": {
       "description": "Search for:",
       "layout": "IPY_MODEL_3d4e585201f545348e08b6415e2571a9",
       "placeholder": "term",
       "style": "IPY_MODEL_0caf4342b70847ea8ba9097b6a7b7ffb",
       "value": "[uU]"
      }
     },
     "71c538b30ac64aae94d3ec0c40fa30fe": {
      "model_module": "@jupyter-widgets/controls",
      "model_module_version": "1.1.0",
      "model_name": "ButtonStyleModel",
      "state": {}
     },
     "72a1d49b475d4d8890553a481034873b": {
      "model_module": "@jupyter-widgets/base",
      "model_module_version": "1.0.0",
      "model_name": "LayoutModel",
      "state": {}
     },
     "73bdf1ef301749659d25ec97859c001e": {
      "model_module": "@jupyter-widgets/base",
      "model_module_version": "1.0.0",
      "model_name": "LayoutModel",
      "state": {}
     },
     "740119e5e02e44ffa4fe1e15a8070f27": {
      "model_module": "@jupyter-widgets/controls",
      "model_module_version": "1.1.0",
      "model_name": "DescriptionStyleModel",
      "state": {
       "description_width": ""
      }
     },
     "742c4bf378ba40deb9e2b0613422a88e": {
      "model_module": "@jupyter-widgets/base",
      "model_module_version": "1.0.0",
      "model_name": "LayoutModel",
      "state": {}
     },
     "75178295c9d54b82849e14ff5e8bfce0": {
      "model_module": "@jupyter-widgets/controls",
      "model_module_version": "1.1.0",
      "model_name": "TextareaModel",
      "state": {
       "layout": "IPY_MODEL_21d875d5cfa946da80fe1d6908fb0d94",
       "placeholder": "Sentence",
       "style": "IPY_MODEL_1585dd29921744ea96c9ea7e18678824",
       "value": "die Edition des Briefwechse1s bei Frisch besonders unglucklich ausgefal-\nlen ist, insofern er die Briefe an Kepler nur auszugsweise wiedergab\nund die einze1nen Briefe von Kepler zumeist auseinandergerissen hat,\num die einze1nen Stellen und Teile in seinen Einleitungen zu den betref-\nfenden Werken unterzubringen, wird die neue Ausgabe zum erstenmal\neine moglichst hickenlose chronologische Darstellung des ungemein\nreichen Briefmaterials bringen, worin sich der Ablauf von Keplers so\nbewegtem auBeren Leben und die Entwicklung seines gesamten geisti-\ngen Schaffens widerspiegelt"
      }
     },
     "75377ddb9fb14081af330b95e3b4fc32": {
      "model_module": "@jupyter-widgets/controls",
      "model_module_version": "1.1.0",
      "model_name": "TextareaModel",
      "state": {
       "layout": "IPY_MODEL_9bcdb4268fdc499bb346aba91a5e6d18",
       "placeholder": "Result",
       "style": "IPY_MODEL_1796ec3d12344b6eb7c83771662ac632",
       "value": "Result 0\nindex:\n 1\nvolume:\n Band_1\npart:\n Einleitung\npage:\n 1\nparagraph:\n 3\nsentence:\n 1"
      }
     },
     "765ef903e23b4aa78c56697659fb3fee": {
      "model_module": "@jupyter-widgets/controls",
      "model_module_version": "1.1.0",
      "model_name": "DescriptionStyleModel",
      "state": {
       "description_width": ""
      }
     },
     "76ffa90668ed4fc39b8291e161154237": {
      "model_module": "@jupyter-widgets/controls",
      "model_module_version": "1.1.0",
      "model_name": "DescriptionStyleModel",
      "state": {
       "description_width": ""
      }
     },
     "7756b7d212c34d4e89c1d1ddc53d9bb7": {
      "model_module": "@jupyter-widgets/base",
      "model_module_version": "1.0.0",
      "model_name": "LayoutModel",
      "state": {}
     },
     "776eb66730b84351ab247efff01154cd": {
      "model_module": "@jupyter-widgets/controls",
      "model_module_version": "1.1.0",
      "model_name": "DescriptionStyleModel",
      "state": {
       "description_width": ""
      }
     },
     "78f97c19d41048a4b4981a29c4205c69": {
      "model_module": "@jupyter-widgets/base",
      "model_module_version": "1.0.0",
      "model_name": "LayoutModel",
      "state": {}
     },
     "79447643ba1b49648411a910771f3dab": {
      "model_module": "@jupyter-widgets/base",
      "model_module_version": "1.0.0",
      "model_name": "LayoutModel",
      "state": {}
     },
     "79600a9ced054d0da207a592c7f95152": {
      "model_module": "@jupyter-widgets/controls",
      "model_module_version": "1.1.0",
      "model_name": "HBoxModel",
      "state": {
       "children": [
        "IPY_MODEL_8e6eae644ecd448db6af6390d9b0318a",
        "IPY_MODEL_5d149214baaa4051b6d9ea2c3b77b30b",
        "IPY_MODEL_c1df3ca923984f9d8dbca30c37b49efa"
       ],
       "layout": "IPY_MODEL_e49c824ffae942c0984ccaed9d5dc791"
      }
     },
     "797f0c3a1fb74a55a5f643c4a7ce899e": {
      "model_module": "@jupyter-widgets/base",
      "model_module_version": "1.0.0",
      "model_name": "LayoutModel",
      "state": {}
     },
     "7a429be439c640e6bb8ce3416d358265": {
      "model_module": "@jupyter-widgets/controls",
      "model_module_version": "1.1.0",
      "model_name": "DropdownModel",
      "state": {
       "_options_labels": [
        "text"
       ],
       "description": "Search in:",
       "index": 0,
       "layout": "IPY_MODEL_78f97c19d41048a4b4981a29c4205c69",
       "style": "IPY_MODEL_257a764676b2409dbfa757345c561b08"
      }
     },
     "7ab749fb4253465f98281da0a5921d36": {
      "model_module": "@jupyter-widgets/controls",
      "model_module_version": "1.1.0",
      "model_name": "TextareaModel",
      "state": {
       "layout": "IPY_MODEL_b942982687cf425e8d724f0a358cc1f7",
       "placeholder": "Result",
       "style": "IPY_MODEL_5973ff7ac11b4224ade512b7782785ce",
       "value": "Result 6\nindex:\n 9\nvolume:\n Band_1\npart:\n Einleitung\npage:\n 10\nparagraph:\n 2\nsentence:\n 1"
      }
     },
     "7b7339c1431e43f38285d15c4078697d": {
      "model_module": "@jupyter-widgets/controls",
      "model_module_version": "1.1.0",
      "model_name": "DescriptionStyleModel",
      "state": {
       "description_width": ""
      }
     },
     "7bba3679c0d648428feb3d38ac55616a": {
      "model_module": "@jupyter-widgets/base",
      "model_module_version": "1.0.0",
      "model_name": "LayoutModel",
      "state": {}
     },
     "7c56d1fe58554c54a5db59468100eb33": {
      "model_module": "@jupyter-widgets/base",
      "model_module_version": "1.0.0",
      "model_name": "LayoutModel",
      "state": {}
     },
     "7dfb762e3f194d63b975b6569913f4db": {
      "model_module": "@jupyter-widgets/controls",
      "model_module_version": "1.1.0",
      "model_name": "HBoxModel",
      "state": {
       "children": [
        "IPY_MODEL_71ac122367034f4b9a7f3a581d80d083",
        "IPY_MODEL_551abcc805d44f4594af9cf88365a9ef"
       ],
       "layout": "IPY_MODEL_fcb67e6258854050b60da8d088acd047"
      }
     },
     "7fbd8ebd15a141c68eea0f307aa18bee": {
      "model_module": "@jupyter-widgets/controls",
      "model_module_version": "1.1.0",
      "model_name": "DropdownModel",
      "state": {
       "_options_labels": [
        "text"
       ],
       "description": "Search in:",
       "index": 0,
       "layout": "IPY_MODEL_323ffade0cc1421bae90eb8476857e4a",
       "style": "IPY_MODEL_4313edee43a14cf2b86570fd5ecfbeae"
      }
     },
     "7ffc772b73034e368e839c427f956638": {
      "model_module": "@jupyter-widgets/controls",
      "model_module_version": "1.1.0",
      "model_name": "TextModel",
      "state": {
       "description": "Search for:",
       "layout": "IPY_MODEL_82cd90631e6f4f4baf7abca609e7f431",
       "placeholder": "term",
       "style": "IPY_MODEL_57276b2eddaf4545b6dfc77b432fcbbc",
       "value": "[uU]"
      }
     },
     "808fc68bf5814fabb8570c3328adaf1d": {
      "model_module": "@jupyter-widgets/base",
      "model_module_version": "1.0.0",
      "model_name": "LayoutModel",
      "state": {
       "flex": "0 1 auto",
       "height": "200px",
       "min_height": "40px",
       "width": "70%"
      }
     },
     "80b23cda33174b71927dcf0543d342ff": {
      "model_module": "@jupyter-widgets/controls",
      "model_module_version": "1.1.0",
      "model_name": "ToggleButtonsStyleModel",
      "state": {
       "button_width": "",
       "description_width": ""
      }
     },
     "81a062b11e0a47559a97972382904742": {
      "model_module": "@jupyter-widgets/base",
      "model_module_version": "1.0.0",
      "model_name": "LayoutModel",
      "state": {}
     },
     "82a6191013e346319622c21495c078cf": {
      "model_module": "@jupyter-widgets/controls",
      "model_module_version": "1.1.0",
      "model_name": "DropdownModel",
      "state": {
       "_options_labels": [
        "text"
       ],
       "description": "Search in:",
       "index": 0,
       "layout": "IPY_MODEL_8f5da1d39c7c4eccb8e29f48cf598dd3",
       "style": "IPY_MODEL_b2efb52e8b774f78aebb2dccdb95985b"
      }
     },
     "82cd90631e6f4f4baf7abca609e7f431": {
      "model_module": "@jupyter-widgets/base",
      "model_module_version": "1.0.0",
      "model_name": "LayoutModel",
      "state": {
       "margin": "0 0 0 20px"
      }
     },
     "82f97a6f1ae844548bf65ce7ff038aa1": {
      "model_module": "@jupyter-widgets/controls",
      "model_module_version": "1.1.0",
      "model_name": "AccordionModel",
      "state": {
       "_titles": {
        "0": "Enter search term"
       },
       "children": [
        "IPY_MODEL_7dfb762e3f194d63b975b6569913f4db"
       ],
       "layout": "IPY_MODEL_e243256dd422482e900853d5540ceadd"
      }
     },
     "835d3d392a2847dca3ad9669837e9f87": {
      "model_module": "@jupyter-widgets/controls",
      "model_module_version": "1.1.0",
      "model_name": "DropdownModel",
      "state": {
       "_options_labels": [
        "text"
       ],
       "description": "Search in:",
       "index": 0,
       "layout": "IPY_MODEL_3ee0de3787f64358866e4873557c5983",
       "style": "IPY_MODEL_c2b23a5f795a4d36af6c960963e5ba8d"
      }
     },
     "83f57823d6424823ad34ef95d6693ea7": {
      "model_module": "@jupyter-widgets/controls",
      "model_module_version": "1.1.0",
      "model_name": "SliderStyleModel",
      "state": {
       "description_width": ""
      }
     },
     "842165cae8e84744ad4c957b214eeb05": {
      "model_module": "@jupyter-widgets/controls",
      "model_module_version": "1.1.0",
      "model_name": "IntSliderModel",
      "state": {
       "layout": "IPY_MODEL_ed83ae46938a4fc5b081b96008eca049",
       "max": 7,
       "style": "IPY_MODEL_17fd35b0a832407fa9db8000af1636f0"
      }
     },
     "85ccae1853bd4e428207f2f12a1d098a": {
      "model_module": "@jupyter-widgets/controls",
      "model_module_version": "1.1.0",
      "model_name": "DropdownModel",
      "state": {
       "_options_labels": [
        "and",
        "or",
        "not"
       ],
       "description": "Select logic to connect words",
       "index": 0,
       "layout": "IPY_MODEL_6fe3f04feafb4434a0234f442408d698",
       "style": "IPY_MODEL_7b7339c1431e43f38285d15c4078697d"
      }
     },
     "879a117ec99e44a98cf7c20d4894a873": {
      "model_module": "@jupyter-widgets/controls",
      "model_module_version": "1.1.0",
      "model_name": "HBoxModel",
      "state": {
       "children": [
        "IPY_MODEL_a2e52bae4651465f849c89857ab9085c",
        "IPY_MODEL_af95f0fcfdb34489b7df4769b548b2af"
       ],
       "layout": "IPY_MODEL_5bddda622a644e3a9ebccda04f0d65de"
      }
     },
     "881e84e81b8a41ee9fb0c6370e0159f8": {
      "model_module": "@jupyter-widgets/controls",
      "model_module_version": "1.1.0",
      "model_name": "HBoxModel",
      "state": {
       "children": [
        "IPY_MODEL_3fa03e03f927451a8d4ba14915868296",
        "IPY_MODEL_444b38fccd52476989007de387486c50"
       ],
       "layout": "IPY_MODEL_41900f2eb50442ae974dca8ebbe7e667"
      }
     },
     "882d07d6b00540b88e2d3869f3f4984b": {
      "model_module": "@jupyter-widgets/controls",
      "model_module_version": "1.1.0",
      "model_name": "SliderStyleModel",
      "state": {
       "description_width": ""
      }
     },
     "88a41181042b49fb85207780d716a916": {
      "model_module": "@jupyter-widgets/base",
      "model_module_version": "1.0.0",
      "model_name": "LayoutModel",
      "state": {}
     },
     "88ca11ad93024441af22e43f17b79875": {
      "model_module": "@jupyter-widgets/base",
      "model_module_version": "1.0.0",
      "model_name": "LayoutModel",
      "state": {}
     },
     "8a7e3a0921be46bbb8bc627773ee8ca4": {
      "model_module": "@jupyter-widgets/controls",
      "model_module_version": "1.1.0",
      "model_name": "DescriptionStyleModel",
      "state": {
       "description_width": ""
      }
     },
     "8ab5d64045d5480eaf5ef9e9f53f0127": {
      "model_module": "@jupyter-widgets/controls",
      "model_module_version": "1.1.0",
      "model_name": "TextareaModel",
      "state": {
       "layout": "IPY_MODEL_3fd22598f1234d648d012178dbddb507",
       "placeholder": "Result",
       "style": "IPY_MODEL_8a7e3a0921be46bbb8bc627773ee8ca4"
      }
     },
     "8bd9275963a14a37ae4be9e73513e29f": {
      "model_module": "@jupyter-widgets/controls",
      "model_module_version": "1.1.0",
      "model_name": "TextareaModel",
      "state": {
       "layout": "IPY_MODEL_fa8b71aeaf6944259d90858c40106bb3",
       "placeholder": "Result",
       "style": "IPY_MODEL_f0c5c006909048a7b7063f47ddf94809",
       "value": "Result 6\nindex:\n 9\nvolume:\n Band_1\npart:\n Einleitung\npage:\n 10\nparagraph:\n 2\nsentence:\n 1"
      }
     },
     "8c0a74b323c840c3be7af79f3424584e": {
      "model_module": "@jupyter-widgets/controls",
      "model_module_version": "1.1.0",
      "model_name": "ToggleButtonsModel",
      "state": {
       "_options_labels": [
        "more",
        "less"
       ],
       "button_style": "",
       "icons": [],
       "index": 0,
       "layout": "IPY_MODEL_bbfad840cd644572a7e3977fcd96f820",
       "style": "IPY_MODEL_1bc9462653cb4a1aa803d5218e241e61",
       "tooltips": []
      }
     },
     "8cef2291077f464eb4ba0ddd0c6d8d5c": {
      "model_module": "@jupyter-widgets/controls",
      "model_module_version": "1.1.0",
      "model_name": "TextareaModel",
      "state": {
       "layout": "IPY_MODEL_681d9534ae0c461cafe3d45126de83e7",
       "placeholder": "Result",
       "style": "IPY_MODEL_2ed2f67395c241b8995e6546f5ec77e9"
      }
     },
     "8d2474dfd35a4c7fabbab1fc701fe176": {
      "model_module": "@jupyter-widgets/base",
      "model_module_version": "1.0.0",
      "model_name": "LayoutModel",
      "state": {}
     },
     "8dec5303b9f24882b806af3f48c60d8c": {
      "model_module": "@jupyter-widgets/controls",
      "model_module_version": "1.1.0",
      "model_name": "HBoxModel",
      "state": {
       "children": [
        "IPY_MODEL_0a240909d1ce4eab8d9e5679562a5667",
        "IPY_MODEL_0c4b2c116b0c41bbb86b6a6cd276a0fd"
       ],
       "layout": "IPY_MODEL_0f875d4ed6444b05965b85da51282720"
      }
     },
     "8e54e9d6d1f74f2abf8073f114c9ee2c": {
      "model_module": "@jupyter-widgets/base",
      "model_module_version": "1.0.0",
      "model_name": "LayoutModel",
      "state": {}
     },
     "8e6eae644ecd448db6af6390d9b0318a": {
      "model_module": "@jupyter-widgets/controls",
      "model_module_version": "1.1.0",
      "model_name": "ToggleButtonsModel",
      "state": {
       "_options_labels": [
        "more",
        "less"
       ],
       "button_style": "",
       "icons": [],
       "index": 1,
       "layout": "IPY_MODEL_fb6149e7877346d7a2639be25a76b873",
       "style": "IPY_MODEL_27eab1fc0e084b289299eeec94e05063",
       "tooltips": []
      }
     },
     "8ebe3e8ae2e84dc2bc9722d6124fd8a7": {
      "model_module": "@jupyter-widgets/controls",
      "model_module_version": "1.1.0",
      "model_name": "ButtonStyleModel",
      "state": {}
     },
     "8f0ee0d17e504b34b6895ef6e73c52cc": {
      "model_module": "@jupyter-widgets/base",
      "model_module_version": "1.0.0",
      "model_name": "LayoutModel",
      "state": {}
     },
     "8f3679d29c6848be9bf26df03f42254b": {
      "model_module": "@jupyter-widgets/base",
      "model_module_version": "1.0.0",
      "model_name": "LayoutModel",
      "state": {
       "margin": "0 0 0 20px"
      }
     },
     "8f5da1d39c7c4eccb8e29f48cf598dd3": {
      "model_module": "@jupyter-widgets/base",
      "model_module_version": "1.0.0",
      "model_name": "LayoutModel",
      "state": {}
     },
     "8ff86a11234749e780ff8469ef502094": {
      "model_module": "@jupyter-widgets/base",
      "model_module_version": "1.0.0",
      "model_name": "LayoutModel",
      "state": {}
     },
     "915a3308c5494b06bf392d961fe68ffe": {
      "model_module": "@jupyter-widgets/controls",
      "model_module_version": "1.1.0",
      "model_name": "AccordionModel",
      "state": {
       "_titles": {
        "0": "Enter search term"
       },
       "children": [
        "IPY_MODEL_0ad911bc65f545b195fcd65a4a455ea3"
       ],
       "layout": "IPY_MODEL_6a8a76ec85a642b68e2bcf414c042e05"
      }
     },
     "91e18c34c0ec4bd691f2142f23b50e01": {
      "model_module": "@jupyter-widgets/base",
      "model_module_version": "1.0.0",
      "model_name": "LayoutModel",
      "state": {}
     },
     "9335119ae9a740ceb473a51e88220a29": {
      "model_module": "@jupyter-widgets/controls",
      "model_module_version": "1.1.0",
      "model_name": "ButtonStyleModel",
      "state": {}
     },
     "939d56ad0a4940ebb76c080e307e6985": {
      "model_module": "@jupyter-widgets/base",
      "model_module_version": "1.0.0",
      "model_name": "LayoutModel",
      "state": {}
     },
     "94024ac2b1ca4573b19f4c60bfbb4a26": {
      "model_module": "@jupyter-widgets/controls",
      "model_module_version": "1.1.0",
      "model_name": "ButtonModel",
      "state": {
       "button_style": "danger",
       "description": "Search",
       "layout": "IPY_MODEL_3e4a1af796a84e7d925d5d9d0f20207b",
       "style": "IPY_MODEL_70ae873cea5b4a068325cc5fd027fbe1"
      }
     },
     "9422bff2d7b74cb685e8e66d1ebbab1f": {
      "model_module": "@jupyter-widgets/controls",
      "model_module_version": "1.1.0",
      "model_name": "HBoxModel",
      "state": {
       "children": [
        "IPY_MODEL_baf62c32c543404b92e19721559c4122",
        "IPY_MODEL_835d3d392a2847dca3ad9669837e9f87"
       ],
       "layout": "IPY_MODEL_d642e202733442ca95d2279f44488d71"
      }
     },
     "94f3bde7392340a58ea970697ff1e479": {
      "model_module": "@jupyter-widgets/controls",
      "model_module_version": "1.1.0",
      "model_name": "HBoxModel",
      "state": {
       "children": [
        "IPY_MODEL_c11fe596c70241af8b2b7aef3050615b"
       ],
       "layout": "IPY_MODEL_2215c1b57ccf43e09602f773c08d7bcc"
      }
     },
     "9589d00b60084ddb96d72bb98e3f3309": {
      "model_module": "@jupyter-widgets/controls",
      "model_module_version": "1.1.0",
      "model_name": "HBoxModel",
      "state": {
       "children": [
        "IPY_MODEL_8e6eae644ecd448db6af6390d9b0318a",
        "IPY_MODEL_5d149214baaa4051b6d9ea2c3b77b30b",
        "IPY_MODEL_c1df3ca923984f9d8dbca30c37b49efa"
       ],
       "layout": "IPY_MODEL_4d00f00718974775a4446ee461caae7b"
      }
     },
     "964bd23e746d42f5b217f6aeec0dfc99": {
      "model_module": "@jupyter-widgets/base",
      "model_module_version": "1.0.0",
      "model_name": "LayoutModel",
      "state": {}
     },
     "973626f8051049a4be02f99711418366": {
      "model_module": "@jupyter-widgets/controls",
      "model_module_version": "1.1.0",
      "model_name": "TextareaModel",
      "state": {
       "layout": "IPY_MODEL_430ada95879643c69972b8ef1c0ac5e7",
       "placeholder": "Result",
       "style": "IPY_MODEL_1cff83f924f04d6d86c7a3fa6f7a2b75",
       "value": "Result 0\nindex:\n 1\nvolume:\n Band_1\npart:\n Einleitung\npage:\n 1\nparagraph:\n 3\nsentence:\n 1"
      }
     },
     "979f1eacdba24a8bb243b260ae73f707": {
      "model_module": "@jupyter-widgets/base",
      "model_module_version": "1.0.0",
      "model_name": "LayoutModel",
      "state": {}
     },
     "984636dce2cc4e4486e46f648ab43790": {
      "model_module": "@jupyter-widgets/output",
      "model_module_version": "1.0.0",
      "model_name": "OutputModel",
      "state": {
       "layout": "IPY_MODEL_de3075cde8c64ac59187a669db79803d"
      }
     },
     "987061bf90104d0f9702dd6f126d4965": {
      "model_module": "@jupyter-widgets/controls",
      "model_module_version": "1.1.0",
      "model_name": "DropdownModel",
      "state": {
       "_options_labels": [
        "and",
        "or",
        "not"
       ],
       "description": "Select logic to connect words",
       "index": 0,
       "layout": "IPY_MODEL_b716f60eaa1444d0ae7a514c644e69c4",
       "style": "IPY_MODEL_4804870976084cd0a5a75c439ae1b9af"
      }
     },
     "99592d6c29e546f5b18bf9c8b3db219f": {
      "model_module": "@jupyter-widgets/base",
      "model_module_version": "1.0.0",
      "model_name": "LayoutModel",
      "state": {}
     },
     "99890c038e7d4e468a394d0a94c6511c": {
      "model_module": "@jupyter-widgets/controls",
      "model_module_version": "1.1.0",
      "model_name": "HBoxModel",
      "state": {
       "children": [
        "IPY_MODEL_bfd003261ea34fa39bfa658323170d92",
        "IPY_MODEL_7a429be439c640e6bb8ce3416d358265"
       ],
       "layout": "IPY_MODEL_57e864a4ad7c4c5bbc0c633ccc5f8911"
      }
     },
     "9a3d0b5b6c36452099741bf8fb82323a": {
      "model_module": "@jupyter-widgets/controls",
      "model_module_version": "1.1.0",
      "model_name": "DescriptionStyleModel",
      "state": {
       "description_width": ""
      }
     },
     "9aa6860ac48d4f74a5594179c5fda5bd": {
      "model_module": "@jupyter-widgets/controls",
      "model_module_version": "1.1.0",
      "model_name": "HBoxModel",
      "state": {
       "children": [
        "IPY_MODEL_75377ddb9fb14081af330b95e3b4fc32",
        "IPY_MODEL_ad3ada1b84464436af54bffafe5cc4a0"
       ],
       "layout": "IPY_MODEL_f2d8fced47af46a98dba6fde8faca3ca"
      }
     },
     "9bcdb4268fdc499bb346aba91a5e6d18": {
      "model_module": "@jupyter-widgets/base",
      "model_module_version": "1.0.0",
      "model_name": "LayoutModel",
      "state": {
       "flex": "0 1 auto",
       "height": "200px",
       "min_height": "40px",
       "width": "30%"
      }
     },
     "9d654b2b7e364436823fc7f337a1d72f": {
      "model_module": "@jupyter-widgets/controls",
      "model_module_version": "1.1.0",
      "model_name": "HBoxModel",
      "state": {
       "children": [
        "IPY_MODEL_e593897e03554658a2ff6e721b9e31c2",
        "IPY_MODEL_5f338d92df694bd78f856cb45672126e"
       ],
       "layout": "IPY_MODEL_73bdf1ef301749659d25ec97859c001e"
      }
     },
     "9e01683fd575458abdffa37a538263a8": {
      "model_module": "@jupyter-widgets/controls",
      "model_module_version": "1.1.0",
      "model_name": "ToggleButtonsStyleModel",
      "state": {
       "button_width": "",
       "description_width": ""
      }
     },
     "9ea707697e9a4fecad1a5f14d19da314": {
      "model_module": "@jupyter-widgets/controls",
      "model_module_version": "1.1.0",
      "model_name": "TextareaModel",
      "state": {
       "layout": "IPY_MODEL_aa7fea4554a24b8294fcb1965da34e4f",
       "placeholder": "Sentence",
       "style": "IPY_MODEL_37302ffd3ecf45d98f70545093f4f7da"
      }
     },
     "9f256f5d061a4d0c97c5954b66ecbd14": {
      "model_module": "@jupyter-widgets/controls",
      "model_module_version": "1.1.0",
      "model_name": "TextModel",
      "state": {
       "description": "Search for:",
       "layout": "IPY_MODEL_50ab999c41c54fe6b3396941750ff021",
       "placeholder": "term",
       "style": "IPY_MODEL_afc9773844ca4d979986b825e1bb3b49",
       "value": "[uU]"
      }
     },
     "a11ddbf4592c43e78bea84a53b616795": {
      "model_module": "@jupyter-widgets/controls",
      "model_module_version": "1.1.0",
      "model_name": "ButtonModel",
      "state": {
       "button_style": "danger",
       "description": "Search",
       "layout": "IPY_MODEL_6682bb718169424481f4038558f2dc52",
       "style": "IPY_MODEL_e43c2c5938874dbfaa64c13e3691ec3a"
      }
     },
     "a215c07c15cc425fbd11ec560e514956": {
      "model_module": "@jupyter-widgets/controls",
      "model_module_version": "1.1.0",
      "model_name": "DescriptionStyleModel",
      "state": {
       "description_width": ""
      }
     },
     "a2c478f0ffad40c7bdba5053e89b65fa": {
      "model_module": "@jupyter-widgets/base",
      "model_module_version": "1.0.0",
      "model_name": "LayoutModel",
      "state": {}
     },
     "a2e52bae4651465f849c89857ab9085c": {
      "model_module": "@jupyter-widgets/controls",
      "model_module_version": "1.1.0",
      "model_name": "TextModel",
      "state": {
       "description": "Search for:",
       "layout": "IPY_MODEL_587d282aacf74dcc9755042c9a1cd528",
       "placeholder": "term",
       "style": "IPY_MODEL_0e968c9dbd074919ad9d56ef27048e98",
       "value": "[uU]"
      }
     },
     "a34ad44329814a008d22de886f877712": {
      "model_module": "@jupyter-widgets/base",
      "model_module_version": "1.0.0",
      "model_name": "LayoutModel",
      "state": {}
     },
     "a371454012a24a949d3a2fbd4a2cbad6": {
      "model_module": "@jupyter-widgets/controls",
      "model_module_version": "1.1.0",
      "model_name": "AccordionModel",
      "state": {
       "_titles": {
        "0": "Enter search term",
        "1": "and/or/not",
        "2": "add term"
       },
       "children": [
        "IPY_MODEL_8dec5303b9f24882b806af3f48c60d8c"
       ],
       "layout": "IPY_MODEL_bd6ae0b64a094898b99b53ed6aaa0a60"
      }
     },
     "a39a396d326345f2b927a61c7960f761": {
      "model_module": "@jupyter-widgets/controls",
      "model_module_version": "1.1.0",
      "model_name": "DescriptionStyleModel",
      "state": {
       "description_width": ""
      }
     },
     "a45ecf7a21ee4c25bbbb9416954df80a": {
      "model_module": "@jupyter-widgets/controls",
      "model_module_version": "1.1.0",
      "model_name": "ButtonModel",
      "state": {
       "button_style": "danger",
       "description": "Search",
       "layout": "IPY_MODEL_e49b42752d064d7e8ed3cceb52c2ab37",
       "style": "IPY_MODEL_50f1e269b8cd4a09806ae1acac470237"
      }
     },
     "a5a2596ccef941a5b1cdcbb1e7d98330": {
      "model_module": "@jupyter-widgets/base",
      "model_module_version": "1.0.0",
      "model_name": "LayoutModel",
      "state": {}
     },
     "a67f737b2e424b2f9e7af14310162108": {
      "model_module": "@jupyter-widgets/base",
      "model_module_version": "1.0.0",
      "model_name": "LayoutModel",
      "state": {}
     },
     "a83f3fdd912840638b62ee22b1b920c3": {
      "model_module": "@jupyter-widgets/controls",
      "model_module_version": "1.1.0",
      "model_name": "TextModel",
      "state": {
       "description": "Search for:",
       "layout": "IPY_MODEL_4514f6041ed04de794bf0e13ff278d8e",
       "placeholder": "term",
       "style": "IPY_MODEL_58647bb634d747c59b97c4bf85c4442f"
      }
     },
     "a9b106b518f5410f886d2da572d943ee": {
      "model_module": "@jupyter-widgets/controls",
      "model_module_version": "1.1.0",
      "model_name": "ToggleButtonsStyleModel",
      "state": {
       "button_width": "",
       "description_width": ""
      }
     },
     "aa7fea4554a24b8294fcb1965da34e4f": {
      "model_module": "@jupyter-widgets/base",
      "model_module_version": "1.0.0",
      "model_name": "LayoutModel",
      "state": {
       "flex": "0 1 auto",
       "height": "200px",
       "min_height": "40px",
       "width": "70%"
      }
     },
     "aacfc950132149509d3dee89d32b7a74": {
      "model_module": "@jupyter-widgets/base",
      "model_module_version": "1.0.0",
      "model_name": "LayoutModel",
      "state": {
       "margin": "0 0 0 20px"
      }
     },
     "ab29f4720a684f3bb810e4f00c67dfe0": {
      "model_module": "@jupyter-widgets/base",
      "model_module_version": "1.0.0",
      "model_name": "LayoutModel",
      "state": {}
     },
     "ab916f19b2434b608d8001a9a7292b5d": {
      "model_module": "@jupyter-widgets/controls",
      "model_module_version": "1.1.0",
      "model_name": "ButtonStyleModel",
      "state": {}
     },
     "ac1655b4d51b465090ba6dca342af3df": {
      "model_module": "@jupyter-widgets/controls",
      "model_module_version": "1.1.0",
      "model_name": "HBoxModel",
      "state": {
       "children": [
        "IPY_MODEL_3bb96c0b559e4c68b1e6bfae1e315a95",
        "IPY_MODEL_7fbd8ebd15a141c68eea0f307aa18bee"
       ],
       "layout": "IPY_MODEL_a67f737b2e424b2f9e7af14310162108"
      }
     },
     "aca6389854544322b287c539a93fce6c": {
      "model_module": "@jupyter-widgets/controls",
      "model_module_version": "1.1.0",
      "model_name": "SliderStyleModel",
      "state": {
       "description_width": ""
      }
     },
     "acf71442ad7f4d9d97b16e3ee783222e": {
      "model_module": "@jupyter-widgets/base",
      "model_module_version": "1.0.0",
      "model_name": "LayoutModel",
      "state": {}
     },
     "acff941993f54c06af8cf0277585ce0b": {
      "model_module": "@jupyter-widgets/controls",
      "model_module_version": "1.1.0",
      "model_name": "DescriptionStyleModel",
      "state": {
       "description_width": ""
      }
     },
     "ad3ada1b84464436af54bffafe5cc4a0": {
      "model_module": "@jupyter-widgets/controls",
      "model_module_version": "1.1.0",
      "model_name": "TextareaModel",
      "state": {
       "layout": "IPY_MODEL_f0afc0f9e6fa4433abc66cdb87b356a0",
       "placeholder": "Sentence",
       "style": "IPY_MODEL_54ba7ea0b1734353b25217e58f5b6cd6",
       "value": " HERAUSGEGEBEN 1M AUFTRAG"
      }
     },
     "ad601a41295f461b8a2f9b442b03a8be": {
      "model_module": "@jupyter-widgets/base",
      "model_module_version": "1.0.0",
      "model_name": "LayoutModel",
      "state": {}
     },
     "adaa47e117c344e8a7997a71a2bd6e76": {
      "model_module": "@jupyter-widgets/controls",
      "model_module_version": "1.1.0",
      "model_name": "ToggleButtonsModel",
      "state": {
       "_options_labels": [
        "previous",
        "next"
       ],
       "button_style": "",
       "icons": [],
       "index": 0,
       "layout": "IPY_MODEL_4c1cb659adad4a32bd1adb4d4512591b",
       "style": "IPY_MODEL_07c7f57319a14a39aabe384c843ab88e",
       "tooltips": []
      }
     },
     "addfed8556164e82a27325adcbe5128f": {
      "model_module": "@jupyter-widgets/controls",
      "model_module_version": "1.1.0",
      "model_name": "ToggleButtonsStyleModel",
      "state": {
       "button_width": "",
       "description_width": ""
      }
     },
     "adf76d0e996b420d83212e70dcdc787a": {
      "model_module": "@jupyter-widgets/controls",
      "model_module_version": "1.1.0",
      "model_name": "HBoxModel",
      "state": {
       "children": [
        "IPY_MODEL_0276d48fc9e94d41b1f485ed20458307",
        "IPY_MODEL_d9b8736e40714da2a288ccd6acfdaa2e"
       ],
       "layout": "IPY_MODEL_326000f1d91646b2ae4731d22e2f610b"
      }
     },
     "aee3b28fed574395a10a4215cec87fb8": {
      "model_module": "@jupyter-widgets/controls",
      "model_module_version": "1.1.0",
      "model_name": "TextareaModel",
      "state": {
       "layout": "IPY_MODEL_808fc68bf5814fabb8570c3328adaf1d",
       "placeholder": "Sentence",
       "style": "IPY_MODEL_6efd37826de7405f99e3621684714ada",
       "value": " HERAUSGEGEBEN 1M AUFTRAG"
      }
     },
     "af95f0fcfdb34489b7df4769b548b2af": {
      "model_module": "@jupyter-widgets/controls",
      "model_module_version": "1.1.0",
      "model_name": "DropdownModel",
      "state": {
       "_options_labels": [
        "text"
       ],
       "description": "Search in:",
       "index": 0,
       "layout": "IPY_MODEL_6ab4485c2de348f69daea3e1f99bd5d3",
       "style": "IPY_MODEL_ffeb0c27bd104907af1fe10d3a3c46ad"
      }
     },
     "afac759df03e4f3580dce1fe30d3ed00": {
      "model_module": "@jupyter-widgets/base",
      "model_module_version": "1.0.0",
      "model_name": "LayoutModel",
      "state": {}
     },
     "afc9773844ca4d979986b825e1bb3b49": {
      "model_module": "@jupyter-widgets/controls",
      "model_module_version": "1.1.0",
      "model_name": "DescriptionStyleModel",
      "state": {
       "description_width": ""
      }
     },
     "b0ff3d8a68114f62804f0f080822ddd9": {
      "model_module": "@jupyter-widgets/controls",
      "model_module_version": "1.1.0",
      "model_name": "IntSliderModel",
      "state": {
       "layout": "IPY_MODEL_c6c59e0d15fe4fc2a3c6a7714435c126",
       "max": 7,
       "style": "IPY_MODEL_dd4f3b80f32f402a85769ecf0ae770a6",
       "value": 7
      }
     },
     "b149c74c749c44068e60f7c6e4a47ee1": {
      "model_module": "@jupyter-widgets/controls",
      "model_module_version": "1.1.0",
      "model_name": "AccordionModel",
      "state": {
       "_titles": {
        "0": "Enter search term"
       },
       "children": [
        "IPY_MODEL_488b2ff0851944878b8059635f0db087"
       ],
       "layout": "IPY_MODEL_acf71442ad7f4d9d97b16e3ee783222e"
      }
     },
     "b2efb52e8b774f78aebb2dccdb95985b": {
      "model_module": "@jupyter-widgets/controls",
      "model_module_version": "1.1.0",
      "model_name": "DescriptionStyleModel",
      "state": {
       "description_width": ""
      }
     },
     "b380d69afb374899a9a22785fc06f849": {
      "model_module": "@jupyter-widgets/base",
      "model_module_version": "1.0.0",
      "model_name": "LayoutModel",
      "state": {}
     },
     "b3f6cbe95a814928a1527165110708cf": {
      "model_module": "@jupyter-widgets/controls",
      "model_module_version": "1.1.0",
      "model_name": "IntSliderModel",
      "state": {
       "layout": "IPY_MODEL_bdd844dffc364fbd81965525fe85aa76",
       "max": 0,
       "style": "IPY_MODEL_1daefcbea6c94eb19da56f9510c78dee"
      }
     },
     "b41255ed601f47ee86621a287f857a82": {
      "model_module": "@jupyter-widgets/output",
      "model_module_version": "1.0.0",
      "model_name": "OutputModel",
      "state": {
       "layout": "IPY_MODEL_da573cecd6744e83b5afda0f41f63207",
       "outputs": [
        {
         "name": "stdout",
         "output_type": "stream",
         "text": "Found 7 entries.\n"
        }
       ]
      }
     },
     "b53736ba8b0844d4a398b2cf57bf9fda": {
      "model_module": "@jupyter-widgets/base",
      "model_module_version": "1.0.0",
      "model_name": "LayoutModel",
      "state": {}
     },
     "b6cb7117c2fb420880ceb5b29bca50df": {
      "model_module": "@jupyter-widgets/controls",
      "model_module_version": "1.1.0",
      "model_name": "HBoxModel",
      "state": {
       "children": [
        "IPY_MODEL_2454459e94d94238a940f90f9b3d2317",
        "IPY_MODEL_a45ecf7a21ee4c25bbbb9416954df80a",
        "IPY_MODEL_64bf557f3f6c43a881f9349f44bd0354"
       ],
       "layout": "IPY_MODEL_e0cfe174d65e4b63b90713cc406bf8ff"
      }
     },
     "b716f60eaa1444d0ae7a514c644e69c4": {
      "model_module": "@jupyter-widgets/base",
      "model_module_version": "1.0.0",
      "model_name": "LayoutModel",
      "state": {}
     },
     "b7f224af8a6c49258d895a2366dd0d95": {
      "model_module": "@jupyter-widgets/controls",
      "model_module_version": "1.1.0",
      "model_name": "DescriptionStyleModel",
      "state": {
       "description_width": ""
      }
     },
     "b81be1bc99724c48af5218cc9c21ffc7": {
      "model_module": "@jupyter-widgets/controls",
      "model_module_version": "1.1.0",
      "model_name": "HBoxModel",
      "state": {
       "children": [
        "IPY_MODEL_44e15975f7e9412b969eaf74fe52aade",
        "IPY_MODEL_46abfc732b3d4774943ec13495dcd422",
        "IPY_MODEL_2e1d78e2d8594556a62b01b8c63ab4d7"
       ],
       "layout": "IPY_MODEL_2a439ce7bee4498abd1c8baaf12ffda1"
      }
     },
     "b942982687cf425e8d724f0a358cc1f7": {
      "model_module": "@jupyter-widgets/base",
      "model_module_version": "1.0.0",
      "model_name": "LayoutModel",
      "state": {
       "flex": "0 1 auto",
       "height": "200px",
       "min_height": "40px",
       "width": "30%"
      }
     },
     "b996e3b67c5f4773a40da2ffa2284b47": {
      "model_module": "@jupyter-widgets/controls",
      "model_module_version": "1.1.0",
      "model_name": "HBoxModel",
      "state": {
       "children": [
        "IPY_MODEL_973626f8051049a4be02f99711418366",
        "IPY_MODEL_aee3b28fed574395a10a4215cec87fb8"
       ],
       "layout": "IPY_MODEL_5a5d5b95971245d3a8ce7bff1351b17e"
      }
     },
     "b9f5016aa1294fc58410c4b2bbe2af7d": {
      "model_module": "@jupyter-widgets/controls",
      "model_module_version": "1.1.0",
      "model_name": "TextModel",
      "state": {
       "description": "Search for:",
       "layout": "IPY_MODEL_e04cd75354a24a92998713511ad95b97",
       "placeholder": "term",
       "style": "IPY_MODEL_eec39bbf15144cc78ca02ee624b5d6ab",
       "value": "[uU]"
      }
     },
     "baf62c32c543404b92e19721559c4122": {
      "model_module": "@jupyter-widgets/controls",
      "model_module_version": "1.1.0",
      "model_name": "TextModel",
      "state": {
       "description": "Search for:",
       "layout": "IPY_MODEL_aacfc950132149509d3dee89d32b7a74",
       "placeholder": "term",
       "style": "IPY_MODEL_4977ae7e6e7b4caf95c0c68fd6821852"
      }
     },
     "bbd81aa2d9174fa58627faf6a68a28af": {
      "model_module": "@jupyter-widgets/controls",
      "model_module_version": "1.1.0",
      "model_name": "ToggleButtonsModel",
      "state": {
       "_options_labels": [
        "more",
        "less"
       ],
       "button_style": "",
       "icons": [],
       "index": 0,
       "layout": "IPY_MODEL_8ff86a11234749e780ff8469ef502094",
       "style": "IPY_MODEL_4b2ae7e35d814314b2e05ced6b2319ac",
       "tooltips": []
      }
     },
     "bbfad840cd644572a7e3977fcd96f820": {
      "model_module": "@jupyter-widgets/base",
      "model_module_version": "1.0.0",
      "model_name": "LayoutModel",
      "state": {}
     },
     "bc0dd4e120a845c5af996c6831e18257": {
      "model_module": "@jupyter-widgets/controls",
      "model_module_version": "1.1.0",
      "model_name": "HBoxModel",
      "state": {
       "children": [
        "IPY_MODEL_7ffc772b73034e368e839c427f956638",
        "IPY_MODEL_36e3bb4d5c8c4803a70a7cf201a2bfd6"
       ],
       "layout": "IPY_MODEL_43243cd2cae949c4939f5b65df75eab8"
      }
     },
     "bc66dfd73781440d8d5cedb3d017dc44": {
      "model_module": "@jupyter-widgets/controls",
      "model_module_version": "1.1.0",
      "model_name": "DropdownModel",
      "state": {
       "_options_labels": [
        "text"
       ],
       "description": "Search in:",
       "index": 0,
       "layout": "IPY_MODEL_077c3d223c724929976b512fba12c365",
       "style": "IPY_MODEL_4af665e05d8f43b78391dbff286e169c"
      }
     },
     "bc7a0ed2584a45e5a01f97b2aff98c9c": {
      "model_module": "@jupyter-widgets/controls",
      "model_module_version": "1.1.0",
      "model_name": "TextModel",
      "state": {
       "description": "Search for:",
       "layout": "IPY_MODEL_0c88d38ec19f4d6e8a9fb396adcabe02",
       "placeholder": "term",
       "style": "IPY_MODEL_32af685c30654e8f840357f320b85aac"
      }
     },
     "bc80affbc6e84e5aaaa741b4400b9399": {
      "model_module": "@jupyter-widgets/controls",
      "model_module_version": "1.1.0",
      "model_name": "DescriptionStyleModel",
      "state": {
       "description_width": ""
      }
     },
     "bcbc970f8c534d36bb73b02c412fb53b": {
      "model_module": "@jupyter-widgets/base",
      "model_module_version": "1.0.0",
      "model_name": "LayoutModel",
      "state": {}
     },
     "bcf6b7e3c8844570add5a9345a3e92f4": {
      "model_module": "@jupyter-widgets/controls",
      "model_module_version": "1.1.0",
      "model_name": "HBoxModel",
      "state": {
       "children": [
        "IPY_MODEL_8bd9275963a14a37ae4be9e73513e29f",
        "IPY_MODEL_170645b93ed448e0acbe089cbdb28a02"
       ],
       "layout": "IPY_MODEL_797f0c3a1fb74a55a5f643c4a7ce899e"
      }
     },
     "bd6ae0b64a094898b99b53ed6aaa0a60": {
      "model_module": "@jupyter-widgets/base",
      "model_module_version": "1.0.0",
      "model_name": "LayoutModel",
      "state": {}
     },
     "bdd844dffc364fbd81965525fe85aa76": {
      "model_module": "@jupyter-widgets/base",
      "model_module_version": "1.0.0",
      "model_name": "LayoutModel",
      "state": {}
     },
     "bfd003261ea34fa39bfa658323170d92": {
      "model_module": "@jupyter-widgets/controls",
      "model_module_version": "1.1.0",
      "model_name": "TextModel",
      "state": {
       "description": "Search for:",
       "layout": "IPY_MODEL_30504ef90ab2440eb03cef4c20e686ed",
       "placeholder": "term",
       "style": "IPY_MODEL_b7f224af8a6c49258d895a2366dd0d95"
      }
     },
     "c11fe596c70241af8b2b7aef3050615b": {
      "model_module": "@jupyter-widgets/controls",
      "model_module_version": "1.1.0",
      "model_name": "IntSliderModel",
      "state": {
       "layout": "IPY_MODEL_7bba3679c0d648428feb3d38ac55616a",
       "max": 0,
       "style": "IPY_MODEL_6bfcf613e3774631aaa7b78a76d3e4f2"
      }
     },
     "c127b5ffca624479a41d03969eb87bc2": {
      "model_module": "@jupyter-widgets/base",
      "model_module_version": "1.0.0",
      "model_name": "LayoutModel",
      "state": {}
     },
     "c1df3ca923984f9d8dbca30c37b49efa": {
      "model_module": "@jupyter-widgets/output",
      "model_module_version": "1.0.0",
      "model_name": "OutputModel",
      "state": {
       "layout": "IPY_MODEL_eae744720f584870b972ff459bd7b132",
       "outputs": [
        {
         "name": "stdout",
         "output_type": "stream",
         "text": "Found 7 entries.\n"
        }
       ]
      }
     },
     "c2316a36efc64324afec758d23c89374": {
      "model_module": "@jupyter-widgets/controls",
      "model_module_version": "1.1.0",
      "model_name": "ToggleButtonsModel",
      "state": {
       "_options_labels": [
        "more",
        "less"
       ],
       "button_style": "",
       "icons": [],
       "index": 0,
       "layout": "IPY_MODEL_742c4bf378ba40deb9e2b0613422a88e",
       "style": "IPY_MODEL_5ecdc288f4304c4eb37d458a42519700",
       "tooltips": []
      }
     },
     "c270e043074c445e8607011067dec290": {
      "model_module": "@jupyter-widgets/base",
      "model_module_version": "1.0.0",
      "model_name": "LayoutModel",
      "state": {
       "margin": "0 0 0 20px"
      }
     },
     "c2b0e9f911924c74a6b21430b2281bd3": {
      "model_module": "@jupyter-widgets/base",
      "model_module_version": "1.0.0",
      "model_name": "LayoutModel",
      "state": {}
     },
     "c2b23a5f795a4d36af6c960963e5ba8d": {
      "model_module": "@jupyter-widgets/controls",
      "model_module_version": "1.1.0",
      "model_name": "DescriptionStyleModel",
      "state": {
       "description_width": ""
      }
     },
     "c2bf027876fb47bc839dc107e391524b": {
      "model_module": "@jupyter-widgets/controls",
      "model_module_version": "1.1.0",
      "model_name": "ToggleButtonsModel",
      "state": {
       "_options_labels": [
        "more",
        "less"
       ],
       "button_style": "",
       "icons": [],
       "index": 0,
       "layout": "IPY_MODEL_a34ad44329814a008d22de886f877712",
       "style": "IPY_MODEL_18b0cc0b01d24fb7a51e1ab6fb5bcf07",
       "tooltips": []
      }
     },
     "c2ff643cd80a4d9191e0f55bd84df4d2": {
      "model_module": "@jupyter-widgets/base",
      "model_module_version": "1.0.0",
      "model_name": "LayoutModel",
      "state": {}
     },
     "c349e578bb5445cca5030bb3efef5b7c": {
      "model_module": "@jupyter-widgets/base",
      "model_module_version": "1.0.0",
      "model_name": "LayoutModel",
      "state": {
       "flex": "0 1 auto",
       "height": "200px",
       "min_height": "40px",
       "width": "70%"
      }
     },
     "c3dbb14c4b7b4d79949820f3ed0b04e3": {
      "model_module": "@jupyter-widgets/controls",
      "model_module_version": "1.1.0",
      "model_name": "IntSliderModel",
      "state": {
       "layout": "IPY_MODEL_494c513781274f2bbcc775ca05f0aa56",
       "max": 0,
       "style": "IPY_MODEL_4c170628f942449383473d87358c13c3"
      }
     },
     "c3ec2a0262a94521af27187e4bf7886f": {
      "model_module": "@jupyter-widgets/base",
      "model_module_version": "1.0.0",
      "model_name": "LayoutModel",
      "state": {}
     },
     "c6c59e0d15fe4fc2a3c6a7714435c126": {
      "model_module": "@jupyter-widgets/base",
      "model_module_version": "1.0.0",
      "model_name": "LayoutModel",
      "state": {}
     },
     "c89f9822b038486485e2fa7b3a40c136": {
      "model_module": "@jupyter-widgets/base",
      "model_module_version": "1.0.0",
      "model_name": "LayoutModel",
      "state": {}
     },
     "c9350d9f9bc04cfdbd2c3dec98648e93": {
      "model_module": "@jupyter-widgets/controls",
      "model_module_version": "1.1.0",
      "model_name": "HBoxModel",
      "state": {
       "children": [
        "IPY_MODEL_5d419a9d248e4056b6659d9b337c3e65",
        "IPY_MODEL_94024ac2b1ca4573b19f4c60bfbb4a26",
        "IPY_MODEL_fb4584c9bf16447eb4b1b7ec1d76bc3f"
       ],
       "layout": "IPY_MODEL_34196f307de54754b6fd83210db39e86"
      }
     },
     "c96143591c784f84ad44c7a0c0d4c40e": {
      "model_module": "@jupyter-widgets/base",
      "model_module_version": "1.0.0",
      "model_name": "LayoutModel",
      "state": {
       "flex": "0 1 auto",
       "height": "200px",
       "min_height": "40px",
       "width": "70%"
      }
     },
     "c9759efab1f5438b86cc004b8875fe9d": {
      "model_module": "@jupyter-widgets/controls",
      "model_module_version": "1.1.0",
      "model_name": "DescriptionStyleModel",
      "state": {
       "description_width": ""
      }
     },
     "ca50cbfbbc1e4aa0b5a7224e2264c805": {
      "model_module": "@jupyter-widgets/controls",
      "model_module_version": "1.1.0",
      "model_name": "IntSliderModel",
      "state": {
       "layout": "IPY_MODEL_010fefa2aba54be2b8a37f3b0d112510",
       "max": 0,
       "style": "IPY_MODEL_507f374c3e7544148a13c876f0845f0d"
      }
     },
     "cbc87820ad3e420f90cdec4af353033e": {
      "model_module": "@jupyter-widgets/controls",
      "model_module_version": "1.1.0",
      "model_name": "ButtonModel",
      "state": {
       "button_style": "danger",
       "description": "Search",
       "layout": "IPY_MODEL_547b032932c84d62b3bc1e98d13f77a1",
       "style": "IPY_MODEL_71c538b30ac64aae94d3ec0c40fa30fe"
      }
     },
     "d0445bd6c5644dbb92e6e6812d350361": {
      "model_module": "@jupyter-widgets/base",
      "model_module_version": "1.0.0",
      "model_name": "LayoutModel",
      "state": {}
     },
     "d0eab225468742158534bccae6f53ab5": {
      "model_module": "@jupyter-widgets/controls",
      "model_module_version": "1.1.0",
      "model_name": "HBoxModel",
      "state": {
       "children": [
        "IPY_MODEL_d40e355b4fb9436bba1622a46e714fa7",
        "IPY_MODEL_82a6191013e346319622c21495c078cf"
       ],
       "layout": "IPY_MODEL_91e18c34c0ec4bd691f2142f23b50e01"
      }
     },
     "d25cd213baca4ad093e05595706e1039": {
      "model_module": "@jupyter-widgets/controls",
      "model_module_version": "1.1.0",
      "model_name": "HBoxModel",
      "state": {
       "children": [
        "IPY_MODEL_8c0a74b323c840c3be7af79f3424584e",
        "IPY_MODEL_3859237b9e7b431f94c12df84ad0fae8",
        "IPY_MODEL_dbe6a91f0cfe4b0fbf408d73fcd46cfd"
       ],
       "layout": "IPY_MODEL_0cf4eb4499b2405bbde50cb80cc1221d"
      }
     },
     "d284d27ee9a8458db9696c962d999b29": {
      "model_module": "@jupyter-widgets/controls",
      "model_module_version": "1.1.0",
      "model_name": "IntSliderModel",
      "state": {
       "layout": "IPY_MODEL_e3dadaecc09f4ba18d69f3ddbf4f5c96",
       "max": 7,
       "style": "IPY_MODEL_5f80e1a7b4764fcb8b684cca507dd18c",
       "value": 7
      }
     },
     "d2c9753cbf1e45429ecd1bd875727ca1": {
      "model_module": "@jupyter-widgets/controls",
      "model_module_version": "1.1.0",
      "model_name": "DropdownModel",
      "state": {
       "_options_labels": [
        "text"
       ],
       "description": "Search in:",
       "index": 0,
       "layout": "IPY_MODEL_c127b5ffca624479a41d03969eb87bc2",
       "style": "IPY_MODEL_acff941993f54c06af8cf0277585ce0b"
      }
     },
     "d40e355b4fb9436bba1622a46e714fa7": {
      "model_module": "@jupyter-widgets/controls",
      "model_module_version": "1.1.0",
      "model_name": "TextModel",
      "state": {
       "description": "Search for:",
       "layout": "IPY_MODEL_e30cf176fcd1484b86bb189fd7f2b1d6",
       "placeholder": "term",
       "style": "IPY_MODEL_09975b4b282a4a9bae41b14446ba83ee"
      }
     },
     "d4bd086576d048cca10f6a899c025bf9": {
      "model_module": "@jupyter-widgets/controls",
      "model_module_version": "1.1.0",
      "model_name": "HBoxModel",
      "state": {
       "children": [
        "IPY_MODEL_60f53541f7df4191a7576beed91d8982",
        "IPY_MODEL_a11ddbf4592c43e78bea84a53b616795",
        "IPY_MODEL_b41255ed601f47ee86621a287f857a82"
       ],
       "layout": "IPY_MODEL_26309eaba7954c4aac0b325c945f9920"
      }
     },
     "d642e202733442ca95d2279f44488d71": {
      "model_module": "@jupyter-widgets/base",
      "model_module_version": "1.0.0",
      "model_name": "LayoutModel",
      "state": {}
     },
     "d66b38b5409d427f859a6760e4aa5837": {
      "model_module": "@jupyter-widgets/controls",
      "model_module_version": "1.1.0",
      "model_name": "AccordionModel",
      "state": {
       "_titles": {
        "0": "Enter search term"
       },
       "children": [
        "IPY_MODEL_adf76d0e996b420d83212e70dcdc787a"
       ],
       "layout": "IPY_MODEL_19761c50926e49268e25dd3fdbbfd5a5"
      }
     },
     "d7062f3e81174d7dba1e174d121e4b22": {
      "model_module": "@jupyter-widgets/base",
      "model_module_version": "1.0.0",
      "model_name": "LayoutModel",
      "state": {}
     },
     "d78ad310549e4b009675ca3e0f0ed099": {
      "model_module": "@jupyter-widgets/controls",
      "model_module_version": "1.1.0",
      "model_name": "TextareaModel",
      "state": {
       "layout": "IPY_MODEL_c349e578bb5445cca5030bb3efef5b7c",
       "placeholder": "Sentence",
       "style": "IPY_MODEL_020f5efe536c42ddbe468cda77182be5",
       "value": " HERAUSGEGEBEN 1M AUFTRAG"
      }
     },
     "d8354345ba094666ad80b2e712155768": {
      "model_module": "@jupyter-widgets/controls",
      "model_module_version": "1.1.0",
      "model_name": "HBoxModel",
      "state": {
       "children": [
        "IPY_MODEL_64f6b10dca1a42a2b4c53532ab9572b1",
        "IPY_MODEL_0e04406639de4ba4b085dc47cbb23dd0"
       ],
       "layout": "IPY_MODEL_7756b7d212c34d4e89c1d1ddc53d9bb7"
      }
     },
     "d9b8736e40714da2a288ccd6acfdaa2e": {
      "model_module": "@jupyter-widgets/controls",
      "model_module_version": "1.1.0",
      "model_name": "DropdownModel",
      "state": {
       "_options_labels": [
        "text"
       ],
       "description": "Search in:",
       "index": 0,
       "layout": "IPY_MODEL_8f0ee0d17e504b34b6895ef6e73c52cc",
       "style": "IPY_MODEL_2eb87a5dd5714293a40c21d2002dd9ce"
      }
     },
     "da573cecd6744e83b5afda0f41f63207": {
      "model_module": "@jupyter-widgets/base",
      "model_module_version": "1.0.0",
      "model_name": "LayoutModel",
      "state": {}
     },
     "daaed9f781b04066ba49077368f03cdd": {
      "model_module": "@jupyter-widgets/base",
      "model_module_version": "1.0.0",
      "model_name": "LayoutModel",
      "state": {}
     },
     "db26611785b34e8393b328ce2327e467": {
      "model_module": "@jupyter-widgets/base",
      "model_module_version": "1.0.0",
      "model_name": "LayoutModel",
      "state": {
       "flex": "0 1 auto",
       "height": "200px",
       "min_height": "40px",
       "width": "30%"
      }
     },
     "db492cffabbb40bfaead2a1663839ef0": {
      "model_module": "@jupyter-widgets/base",
      "model_module_version": "1.0.0",
      "model_name": "LayoutModel",
      "state": {}
     },
     "dbe6a91f0cfe4b0fbf408d73fcd46cfd": {
      "model_module": "@jupyter-widgets/output",
      "model_module_version": "1.0.0",
      "model_name": "OutputModel",
      "state": {
       "layout": "IPY_MODEL_1835e0e58deb4f9286a289ec7ae274c8",
       "outputs": [
        {
         "name": "stdout",
         "output_type": "stream",
         "text": "Found 7 entries.\n"
        }
       ]
      }
     },
     "dd4f3b80f32f402a85769ecf0ae770a6": {
      "model_module": "@jupyter-widgets/controls",
      "model_module_version": "1.1.0",
      "model_name": "SliderStyleModel",
      "state": {
       "description_width": ""
      }
     },
     "ddae082415bb410c9fbe98a44b4003fc": {
      "model_module": "@jupyter-widgets/base",
      "model_module_version": "1.0.0",
      "model_name": "LayoutModel",
      "state": {}
     },
     "de3075cde8c64ac59187a669db79803d": {
      "model_module": "@jupyter-widgets/base",
      "model_module_version": "1.0.0",
      "model_name": "LayoutModel",
      "state": {}
     },
     "de9714babedf443aaab10339174029ab": {
      "model_module": "@jupyter-widgets/base",
      "model_module_version": "1.0.0",
      "model_name": "LayoutModel",
      "state": {}
     },
     "df1285d287654a529e5371dc5c2d4d67": {
      "model_module": "@jupyter-widgets/controls",
      "model_module_version": "1.1.0",
      "model_name": "IntSliderModel",
      "state": {
       "layout": "IPY_MODEL_e26d174bcef348178dcf1f2c4dae7f91",
       "max": 7,
       "style": "IPY_MODEL_882d07d6b00540b88e2d3869f3f4984b"
      }
     },
     "df59c55f69b24ea68fea73e154b60a97": {
      "model_module": "@jupyter-widgets/base",
      "model_module_version": "1.0.0",
      "model_name": "LayoutModel",
      "state": {}
     },
     "df5b090a3281405ba065f90a2ed8a3c9": {
      "model_module": "@jupyter-widgets/base",
      "model_module_version": "1.0.0",
      "model_name": "LayoutModel",
      "state": {
       "flex": "0 1 auto",
       "height": "200px",
       "min_height": "40px",
       "width": "70%"
      }
     },
     "e04cd75354a24a92998713511ad95b97": {
      "model_module": "@jupyter-widgets/base",
      "model_module_version": "1.0.0",
      "model_name": "LayoutModel",
      "state": {
       "margin": "0 0 0 20px"
      }
     },
     "e04db03aa75e42aabb6052d04e1953e0": {
      "model_module": "@jupyter-widgets/controls",
      "model_module_version": "1.1.0",
      "model_name": "HBoxModel",
      "state": {
       "children": [
        "IPY_MODEL_064aa19d8c614ff2b004dbe54e8109f1",
        "IPY_MODEL_d2c9753cbf1e45429ecd1bd875727ca1"
       ],
       "layout": "IPY_MODEL_23e7bee617544b61bb670457eb4ccb3f"
      }
     },
     "e0cb34b8c1bc47e89b03d0d37d478361": {
      "model_module": "@jupyter-widgets/base",
      "model_module_version": "1.0.0",
      "model_name": "LayoutModel",
      "state": {}
     },
     "e0cfe174d65e4b63b90713cc406bf8ff": {
      "model_module": "@jupyter-widgets/base",
      "model_module_version": "1.0.0",
      "model_name": "LayoutModel",
      "state": {}
     },
     "e1d93eebc90940fabd650232e8339f64": {
      "model_module": "@jupyter-widgets/base",
      "model_module_version": "1.0.0",
      "model_name": "LayoutModel",
      "state": {}
     },
     "e243256dd422482e900853d5540ceadd": {
      "model_module": "@jupyter-widgets/base",
      "model_module_version": "1.0.0",
      "model_name": "LayoutModel",
      "state": {}
     },
     "e26d174bcef348178dcf1f2c4dae7f91": {
      "model_module": "@jupyter-widgets/base",
      "model_module_version": "1.0.0",
      "model_name": "LayoutModel",
      "state": {}
     },
     "e2aca8350ec74b84b66866b7fdec30c8": {
      "model_module": "@jupyter-widgets/controls",
      "model_module_version": "1.1.0",
      "model_name": "HBoxModel",
      "state": {
       "children": [
        "IPY_MODEL_a83f3fdd912840638b62ee22b1b920c3",
        "IPY_MODEL_1e6bb29e1e844da383a04f0ac9ae04e0"
       ],
       "layout": "IPY_MODEL_1bf67181f9aa4f138c845d6bc3b1c4ad"
      }
     },
     "e30cf176fcd1484b86bb189fd7f2b1d6": {
      "model_module": "@jupyter-widgets/base",
      "model_module_version": "1.0.0",
      "model_name": "LayoutModel",
      "state": {
       "margin": "0 0 0 20px"
      }
     },
     "e3dadaecc09f4ba18d69f3ddbf4f5c96": {
      "model_module": "@jupyter-widgets/base",
      "model_module_version": "1.0.0",
      "model_name": "LayoutModel",
      "state": {}
     },
     "e3f5f88482584e2691a8ddd02e899a9a": {
      "model_module": "@jupyter-widgets/base",
      "model_module_version": "1.0.0",
      "model_name": "LayoutModel",
      "state": {}
     },
     "e43c2c5938874dbfaa64c13e3691ec3a": {
      "model_module": "@jupyter-widgets/controls",
      "model_module_version": "1.1.0",
      "model_name": "ButtonStyleModel",
      "state": {}
     },
     "e482ff880c6046bcb418a1a27954f4ec": {
      "model_module": "@jupyter-widgets/base",
      "model_module_version": "1.0.0",
      "model_name": "LayoutModel",
      "state": {
       "margin": "0 0 0 20px"
      }
     },
     "e49b42752d064d7e8ed3cceb52c2ab37": {
      "model_module": "@jupyter-widgets/base",
      "model_module_version": "1.0.0",
      "model_name": "LayoutModel",
      "state": {}
     },
     "e49c824ffae942c0984ccaed9d5dc791": {
      "model_module": "@jupyter-widgets/base",
      "model_module_version": "1.0.0",
      "model_name": "LayoutModel",
      "state": {}
     },
     "e5395135cfe4432c9923c879247ac030": {
      "model_module": "@jupyter-widgets/controls",
      "model_module_version": "1.1.0",
      "model_name": "DropdownModel",
      "state": {
       "_options_labels": [
        "and",
        "or",
        "not"
       ],
       "description": "Select logic to connect words",
       "index": 0,
       "layout": "IPY_MODEL_81a062b11e0a47559a97972382904742",
       "style": "IPY_MODEL_f88a053519004a50857886928edbd396"
      }
     },
     "e593897e03554658a2ff6e721b9e31c2": {
      "model_module": "@jupyter-widgets/controls",
      "model_module_version": "1.1.0",
      "model_name": "TextareaModel",
      "state": {
       "layout": "IPY_MODEL_025187dd920542198902a37aa62acaab",
       "placeholder": "Result",
       "style": "IPY_MODEL_776eb66730b84351ab247efff01154cd",
       "value": "Result 6\nindex:\n 9\nvolume:\n Band_1\npart:\n Einleitung\npage:\n 10\nparagraph:\n 2\nsentence:\n 1"
      }
     },
     "eae744720f584870b972ff459bd7b132": {
      "model_module": "@jupyter-widgets/base",
      "model_module_version": "1.0.0",
      "model_name": "LayoutModel",
      "state": {}
     },
     "ec9a1a0e75bd42f6ada9305cce8429d8": {
      "model_module": "@jupyter-widgets/controls",
      "model_module_version": "1.1.0",
      "model_name": "DescriptionStyleModel",
      "state": {
       "description_width": ""
      }
     },
     "ed4ff0a939074a2191a9352ea113cafe": {
      "model_module": "@jupyter-widgets/controls",
      "model_module_version": "1.1.0",
      "model_name": "VBoxModel",
      "state": {
       "children": [
        "IPY_MODEL_a371454012a24a949d3a2fbd4a2cbad6",
        "IPY_MODEL_79600a9ced054d0da207a592c7f95152",
        "IPY_MODEL_ef04b42bec8c4588ae981fbf94d0be50",
        "IPY_MODEL_609ad9125e984070b8b328ce38142480"
       ],
       "layout": "IPY_MODEL_3b56458098234834831d20e6c24c9741"
      }
     },
     "ed83ae46938a4fc5b081b96008eca049": {
      "model_module": "@jupyter-widgets/base",
      "model_module_version": "1.0.0",
      "model_name": "LayoutModel",
      "state": {}
     },
     "eec39bbf15144cc78ca02ee624b5d6ab": {
      "model_module": "@jupyter-widgets/controls",
      "model_module_version": "1.1.0",
      "model_name": "DescriptionStyleModel",
      "state": {
       "description_width": ""
      }
     },
     "ef04b42bec8c4588ae981fbf94d0be50": {
      "model_module": "@jupyter-widgets/controls",
      "model_module_version": "1.1.0",
      "model_name": "HBoxModel",
      "state": {
       "children": [
        "IPY_MODEL_adaa47e117c344e8a7997a71a2bd6e76"
       ],
       "layout": "IPY_MODEL_de9714babedf443aaab10339174029ab"
      }
     },
     "f0afc0f9e6fa4433abc66cdb87b356a0": {
      "model_module": "@jupyter-widgets/base",
      "model_module_version": "1.0.0",
      "model_name": "LayoutModel",
      "state": {
       "flex": "0 1 auto",
       "height": "200px",
       "min_height": "40px",
       "width": "70%"
      }
     },
     "f0c5c006909048a7b7063f47ddf94809": {
      "model_module": "@jupyter-widgets/controls",
      "model_module_version": "1.1.0",
      "model_name": "DescriptionStyleModel",
      "state": {
       "description_width": ""
      }
     },
     "f1b036e71b114429be5507ec4c90c74a": {
      "model_module": "@jupyter-widgets/controls",
      "model_module_version": "1.1.0",
      "model_name": "DescriptionStyleModel",
      "state": {
       "description_width": ""
      }
     },
     "f1f39adcdd674054b9706e656b3eec59": {
      "model_module": "@jupyter-widgets/controls",
      "model_module_version": "1.1.0",
      "model_name": "DescriptionStyleModel",
      "state": {
       "description_width": ""
      }
     },
     "f2d8fced47af46a98dba6fde8faca3ca": {
      "model_module": "@jupyter-widgets/base",
      "model_module_version": "1.0.0",
      "model_name": "LayoutModel",
      "state": {}
     },
     "f3db1057730f44f4980df4099703a795": {
      "model_module": "@jupyter-widgets/base",
      "model_module_version": "1.0.0",
      "model_name": "LayoutModel",
      "state": {}
     },
     "f4ab018a76584d2abc5e33028db3846c": {
      "model_module": "@jupyter-widgets/output",
      "model_module_version": "1.0.0",
      "model_name": "OutputModel",
      "state": {
       "layout": "IPY_MODEL_040749c1532b404382be05f5883c77a1",
       "outputs": [
        {
         "name": "stdout",
         "output_type": "stream",
         "text": "Found 7 entries.\n"
        }
       ]
      }
     },
     "f69438059ba84b04b71c43624fe13063": {
      "model_module": "@jupyter-widgets/controls",
      "model_module_version": "1.1.0",
      "model_name": "VBoxModel",
      "state": {
       "children": [
        "IPY_MODEL_1292ebc1ad2f49d187232bf81d5584da",
        "IPY_MODEL_d4bd086576d048cca10f6a899c025bf9",
        "IPY_MODEL_3a93dbf7508247e7bde5439219febd9e",
        "IPY_MODEL_bcf6b7e3c8844570add5a9345a3e92f4"
       ],
       "layout": "IPY_MODEL_f3db1057730f44f4980df4099703a795"
      }
     },
     "f71e7dd79ef24183bc06db351a96220d": {
      "model_module": "@jupyter-widgets/base",
      "model_module_version": "1.0.0",
      "model_name": "LayoutModel",
      "state": {}
     },
     "f88a053519004a50857886928edbd396": {
      "model_module": "@jupyter-widgets/controls",
      "model_module_version": "1.1.0",
      "model_name": "DescriptionStyleModel",
      "state": {
       "description_width": ""
      }
     },
     "f8c33e08707a494a9480854e14b0f2ba": {
      "model_module": "@jupyter-widgets/base",
      "model_module_version": "1.0.0",
      "model_name": "LayoutModel",
      "state": {}
     },
     "f99e9d0e61a34b44869a45beb5d6fec6": {
      "model_module": "@jupyter-widgets/controls",
      "model_module_version": "1.1.0",
      "model_name": "DescriptionStyleModel",
      "state": {
       "description_width": ""
      }
     },
     "fa8b71aeaf6944259d90858c40106bb3": {
      "model_module": "@jupyter-widgets/base",
      "model_module_version": "1.0.0",
      "model_name": "LayoutModel",
      "state": {
       "flex": "0 1 auto",
       "height": "200px",
       "min_height": "40px",
       "width": "30%"
      }
     },
     "fb15c5b7a7844ed5970dcf03169769fc": {
      "model_module": "@jupyter-widgets/controls",
      "model_module_version": "1.1.0",
      "model_name": "ButtonStyleModel",
      "state": {}
     },
     "fb25b6d25692443b8e235f023ede31e3": {
      "model_module": "@jupyter-widgets/controls",
      "model_module_version": "1.1.0",
      "model_name": "HBoxModel",
      "state": {
       "children": [
        "IPY_MODEL_9f256f5d061a4d0c97c5954b66ecbd14",
        "IPY_MODEL_432e8b0e31fe4b3699ad845867d35b1a"
       ],
       "layout": "IPY_MODEL_5a9677b9cea64182aa380ecd4a235887"
      }
     },
     "fb4584c9bf16447eb4b1b7ec1d76bc3f": {
      "model_module": "@jupyter-widgets/output",
      "model_module_version": "1.0.0",
      "model_name": "OutputModel",
      "state": {
       "layout": "IPY_MODEL_8e54e9d6d1f74f2abf8073f114c9ee2c"
      }
     },
     "fb6149e7877346d7a2639be25a76b873": {
      "model_module": "@jupyter-widgets/base",
      "model_module_version": "1.0.0",
      "model_name": "LayoutModel",
      "state": {}
     },
     "fcb67e6258854050b60da8d088acd047": {
      "model_module": "@jupyter-widgets/base",
      "model_module_version": "1.0.0",
      "model_name": "LayoutModel",
      "state": {}
     },
     "fdec41263bc1486c9f9c2d675ff299eb": {
      "model_module": "@jupyter-widgets/controls",
      "model_module_version": "1.1.0",
      "model_name": "ButtonStyleModel",
      "state": {}
     },
     "ffeb0c27bd104907af1fe10d3a3c46ad": {
      "model_module": "@jupyter-widgets/controls",
      "model_module_version": "1.1.0",
      "model_name": "DescriptionStyleModel",
      "state": {
       "description_width": ""
      }
     }
    },
    "version_major": 2,
    "version_minor": 0
   }
  }
 },
 "nbformat": 4,
 "nbformat_minor": 2
}
