{
 "cells": [
  {
   "cell_type": "markdown",
   "metadata": {},
   "source": [
    "# Working with the graphical search interface"
   ]
  },
  {
   "cell_type": "markdown",
   "metadata": {},
   "source": [
    "## Import Modul"
   ]
  },
  {
   "cell_type": "code",
   "execution_count": 1,
   "metadata": {},
   "outputs": [],
   "source": [
    "from corpussearch import gui"
   ]
  },
  {
   "cell_type": "markdown",
   "metadata": {},
   "source": [
    "## Initialize"
   ]
  },
  {
   "cell_type": "code",
   "execution_count": 6,
   "metadata": {},
   "outputs": [],
   "source": [
    "gui1 = gui(\n",
    "        '../corpussearch/tests/data/dfTest.csv',\n",
    "        dataType='csv'\n",
    "        )"
   ]
  },
  {
   "cell_type": "markdown",
   "metadata": {},
   "source": [
    "The `GUI` class inherits the functionality of the `Search` class, such that after initialization the dataframe is available by using"
   ]
  },
  {
   "cell_type": "code",
   "execution_count": 13,
   "metadata": {},
   "outputs": [
    {
     "data": {
      "text/html": [
       "<div>\n",
       "<style scoped>\n",
       "    .dataframe tbody tr th:only-of-type {\n",
       "        vertical-align: middle;\n",
       "    }\n",
       "\n",
       "    .dataframe tbody tr th {\n",
       "        vertical-align: top;\n",
       "    }\n",
       "\n",
       "    .dataframe thead th {\n",
       "        text-align: right;\n",
       "    }\n",
       "</style>\n",
       "<table border=\"1\" class=\"dataframe\">\n",
       "  <thead>\n",
       "    <tr style=\"text-align: right;\">\n",
       "      <th></th>\n",
       "      <th>volume</th>\n",
       "      <th>part</th>\n",
       "      <th>page</th>\n",
       "      <th>paragraph</th>\n",
       "      <th>sentence</th>\n",
       "      <th>text</th>\n",
       "    </tr>\n",
       "  </thead>\n",
       "  <tbody>\n",
       "    <tr>\n",
       "      <th>0</th>\n",
       "      <td>Band_1</td>\n",
       "      <td>Einleitung</td>\n",
       "      <td>1</td>\n",
       "      <td>1</td>\n",
       "      <td>1</td>\n",
       "      <td>JOHANNES                  KEPLER\\nG ESAMMEL TE WERKE</td>\n",
       "    </tr>\n",
       "    <tr>\n",
       "      <th>1</th>\n",
       "      <td>Band_1</td>\n",
       "      <td>Einleitung</td>\n",
       "      <td>1</td>\n",
       "      <td>3</td>\n",
       "      <td>1</td>\n",
       "      <td>HERAUSGEGEBEN 1M AUFTRAG</td>\n",
       "    </tr>\n",
       "    <tr>\n",
       "      <th>2</th>\n",
       "      <td>Band_1</td>\n",
       "      <td>Einleitung</td>\n",
       "      <td>1</td>\n",
       "      <td>4</td>\n",
       "      <td>1</td>\n",
       "      <td>DER DEUTSCHEN FORSCHUNGSGEMEINSCHAFT\\n                 UND DER\\nBAYERISCHEN AKADEMIE DER WISSE      SCHAFTEN</td>\n",
       "    </tr>\n",
       "  </tbody>\n",
       "</table>\n",
       "</div>"
      ],
      "text/plain": [
       "   volume        part  page  paragraph  sentence  \\\n",
       "0  Band_1  Einleitung  1     1          1          \n",
       "1  Band_1  Einleitung  1     3          1          \n",
       "2  Band_1  Einleitung  1     4          1          \n",
       "\n",
       "                                                                                                            text  \n",
       "0   JOHANNES                  KEPLER\\nG ESAMMEL TE WERKE                                                          \n",
       "1           HERAUSGEGEBEN 1M AUFTRAG                                                                              \n",
       "2   DER DEUTSCHEN FORSCHUNGSGEMEINSCHAFT\\n                 UND DER\\nBAYERISCHEN AKADEMIE DER WISSE      SCHAFTEN  "
      ]
     },
     "execution_count": 13,
     "metadata": {},
     "output_type": "execute_result"
    }
   ],
   "source": [
    "gui1.dataframe.head(3)"
   ]
  },
  {
   "cell_type": "markdown",
   "metadata": {},
   "source": [
    "To display the GUI use `.displayGUI()`. The state of the GUI is usually not saved in the notebook. It can be achieved using the menu Widgets -> Save Widget State.\n",
    "\n",
    "A search can include regular expressions. The standard search is on the column `colname` which can be set during initialization. To reduce search results, use the `more` button, and select a logical operation to connect the results. "
   ]
  },
  {
   "cell_type": "code",
   "execution_count": 14,
   "metadata": {},
   "outputs": [
    {
     "data": {
      "application/vnd.jupyter.widget-view+json": {
       "model_id": "ed4ff0a939074a2191a9352ea113cafe",
       "version_major": 2,
       "version_minor": 0
      },
      "text/html": [
       "<p>Failed to display Jupyter Widget of type <code>VBox</code>.</p>\n",
       "<p>\n",
       "  If you're reading this message in the Jupyter Notebook or JupyterLab Notebook, it may mean\n",
       "  that the widgets JavaScript is still loading. If this message persists, it\n",
       "  likely means that the widgets JavaScript library is either not installed or\n",
       "  not enabled. See the <a href=\"https://ipywidgets.readthedocs.io/en/stable/user_install.html\">Jupyter\n",
       "  Widgets Documentation</a> for setup instructions.\n",
       "</p>\n",
       "<p>\n",
       "  If you're reading this message in another frontend (for example, a static\n",
       "  rendering on GitHub or <a href=\"https://nbviewer.jupyter.org/\">NBViewer</a>),\n",
       "  it may mean that your frontend doesn't currently support widgets.\n",
       "</p>\n"
      ],
      "text/plain": [
       "VBox(children=(Accordion(children=(SearchWordGUI(children=(Text(value='[uU]', description='Search for:', layout=Layout(margin='0 0 0 20px'), placeholder='term'), Dropdown(description='Search in:', options=('text',), value='text'))), Dropdown(description='Select logic to connect words', options={'and': '&', 'or': '|', 'not': '~&'}, value='&'), SearchWordGUI(children=(Text(value='', description='Search for:', layout=Layout(margin='0 0 0 20px'), placeholder='term'), Dropdown(description='Search in:', options=('text',), value='text')))), selected_index=1, _titles={'0': 'Enter search term', '1': 'and/or/not', '2': 'add term'}), HBox(children=(ToggleButtons(options=('more', 'less'), value='more'), Button(button_style='danger', description='Search', style=ButtonStyle()), Output(outputs=({'output_type': 'stream', 'text': 'Found 7 entries.\\n', 'name': 'stdout'},)))), HBox(children=(ToggleButtons(options=('previous', 'next'), value='previous'),)), HBox(children=(Textarea(value='Result 6\\nindex:\\n 9\\nvolume:\\n Band_1\\npart:\\n Einleitung\\npage:\\n 10\\nparagraph:\\n 2\\nsentence:\\n 1', layout=Layout(flex='0 1 auto', height='200px', min_height='40px', width='30%'), placeholder='Result'), Textarea(value='die Edition des Briefwechse1s bei Frisch besonders unglucklich ausgefal-\\nlen ist, insofern er die Briefe an Kepler nur auszugsweise wiedergab\\nund die einze1nen Briefe von Kepler zumeist auseinandergerissen hat,\\num die einze1nen Stellen und Teile in seinen Einleitungen zu den betref-\\nfenden Werken unterzubringen, wird die neue Ausgabe zum erstenmal\\neine moglichst hickenlose chronologische Darstellung des ungemein\\nreichen Briefmaterials bringen, worin sich der Ablauf von Keplers so\\nbewegtem auBeren Leben und die Entwicklung seines gesamten geisti-\\ngen Schaffens widerspiegelt', layout=Layout(flex='0 1 auto', height='200px', min_height='40px', width='70%'), placeholder='Sentence')))))"
      ]
     },
     "metadata": {},
     "output_type": "display_data"
    }
   ],
   "source": [
    "gui1.displayGUI()"
   ]
  },
  {
   "cell_type": "code",
   "execution_count": null,
   "metadata": {},
   "outputs": [],
   "source": []
  }
 ],
 "metadata": {
  "kernelspec": {
   "display_name": "Python 3",
   "language": "python",
   "name": "python3"
  },
  "language_info": {
   "codemirror_mode": {
    "name": "ipython",
    "version": 3
   },
   "file_extension": ".py",
   "mimetype": "text/x-python",
   "name": "python",
   "nbconvert_exporter": "python",
   "pygments_lexer": "ipython3",
   "version": "3.6.3"
  },
  "nav_menu": {},
  "toc": {
   "navigate_menu": true,
   "number_sections": true,
   "sideBar": true,
   "threshold": 6,
   "toc_cell": false,
   "toc_section_display": "block",
   "toc_window_display": false
  },
  "widgets": {
   "application/vnd.jupyter.widget-state+json": {
    "state": {
     "0338f048d1ff4b93a217ed40b8a5bcf5": {
      "model_module": "@jupyter-widgets/controls",
      "model_module_version": "1.1.0",
      "model_name": "ButtonModel",
      "state": {
       "button_style": "danger",
       "description": "Search",
       "layout": "IPY_MODEL_d7062f3e81174d7dba1e174d121e4b22",
       "style": "IPY_MODEL_2d0d7b63f32c4607af2f0a470eac0812"
      }
     },
     "07c7f57319a14a39aabe384c843ab88e": {
      "model_module": "@jupyter-widgets/controls",
      "model_module_version": "1.1.0",
      "model_name": "ToggleButtonsStyleModel",
      "state": {
       "button_width": "",
       "description_width": ""
      }
     },
     "09975b4b282a4a9bae41b14446ba83ee": {
      "model_module": "@jupyter-widgets/controls",
      "model_module_version": "1.1.0",
      "model_name": "DescriptionStyleModel",
      "state": {
       "description_width": ""
      }
     },
     "0a0e710bebff4a068db10a9a5c26c344": {
      "model_module": "@jupyter-widgets/controls",
      "model_module_version": "1.1.0",
      "model_name": "HBoxModel",
      "state": {
       "children": [
        "IPY_MODEL_adaa47e117c344e8a7997a71a2bd6e76"
       ],
       "layout": "IPY_MODEL_3e50aaaf972a4a47ba721547eca783b5"
      }
     },
     "0a240909d1ce4eab8d9e5679562a5667": {
      "model_module": "@jupyter-widgets/controls",
      "model_module_version": "1.1.0",
      "model_name": "TextModel",
      "state": {
       "description": "Search for:",
       "layout": "IPY_MODEL_e482ff880c6046bcb418a1a27954f4ec",
       "placeholder": "term",
       "style": "IPY_MODEL_48075b8917574a0b9194caad11c31033",
       "value": "[uU]"
      }
     },
     "0ad911bc65f545b195fcd65a4a455ea3": {
      "model_module": "@jupyter-widgets/controls",
      "model_module_version": "1.1.0",
      "model_name": "HBoxModel",
      "state": {
       "children": [
        "IPY_MODEL_bc7a0ed2584a45e5a01f97b2aff98c9c",
        "IPY_MODEL_12ab6be5dbc147c2999705dc2b244af1"
       ],
       "layout": "IPY_MODEL_c3ec2a0262a94521af27187e4bf7886f"
      }
     },
     "0c3303d0e6b94fddbc6eb12bdf66bdd2": {
      "model_module": "@jupyter-widgets/controls",
      "model_module_version": "1.1.0",
      "model_name": "VBoxModel",
      "state": {
       "children": [
        "IPY_MODEL_a371454012a24a949d3a2fbd4a2cbad6",
        "IPY_MODEL_9589d00b60084ddb96d72bb98e3f3309",
        "IPY_MODEL_0a0e710bebff4a068db10a9a5c26c344",
        "IPY_MODEL_66989d30962b4e478653848a0007ab0a"
       ],
       "layout": "IPY_MODEL_c89f9822b038486485e2fa7b3a40c136"
      }
     },
     "0c4b2c116b0c41bbb86b6a6cd276a0fd": {
      "model_module": "@jupyter-widgets/controls",
      "model_module_version": "1.1.0",
      "model_name": "DropdownModel",
      "state": {
       "_options_labels": [
        "text"
       ],
       "description": "Search in:",
       "index": 0,
       "layout": "IPY_MODEL_daaed9f781b04066ba49077368f03cdd",
       "style": "IPY_MODEL_f99e9d0e61a34b44869a45beb5d6fec6"
      }
     },
     "0c88d38ec19f4d6e8a9fb396adcabe02": {
      "model_module": "@jupyter-widgets/base",
      "model_module_version": "1.0.0",
      "model_name": "LayoutModel",
      "state": {
       "margin": "0 0 0 20px"
      }
     },
     "0f875d4ed6444b05965b85da51282720": {
      "model_module": "@jupyter-widgets/base",
      "model_module_version": "1.0.0",
      "model_name": "LayoutModel",
      "state": {}
     },
     "12ab6be5dbc147c2999705dc2b244af1": {
      "model_module": "@jupyter-widgets/controls",
      "model_module_version": "1.1.0",
      "model_name": "DropdownModel",
      "state": {
       "_options_labels": [
        "text"
       ],
       "description": "Search in:",
       "index": 0,
       "layout": "IPY_MODEL_db492cffabbb40bfaead2a1663839ef0",
       "style": "IPY_MODEL_44f49c31489a4d6ca7c76185675bf04a"
      }
     },
     "1585dd29921744ea96c9ea7e18678824": {
      "model_module": "@jupyter-widgets/controls",
      "model_module_version": "1.1.0",
      "model_name": "DescriptionStyleModel",
      "state": {
       "description_width": ""
      }
     },
     "1a6208d7bc20436190a977fd33181e0a": {
      "model_module": "@jupyter-widgets/controls",
      "model_module_version": "1.1.0",
      "model_name": "ToggleButtonsModel",
      "state": {
       "_options_labels": [
        "previous",
        "next"
       ],
       "button_style": "",
       "icons": [],
       "index": 0,
       "layout": "IPY_MODEL_219e5786232a4cae80694b4cab7644f6",
       "style": "IPY_MODEL_80b23cda33174b71927dcf0543d342ff",
       "tooltips": []
      }
     },
     "1bf67181f9aa4f138c845d6bc3b1c4ad": {
      "model_module": "@jupyter-widgets/base",
      "model_module_version": "1.0.0",
      "model_name": "LayoutModel",
      "state": {}
     },
     "1d8eb1bb63ed4a048933139dec9fed1b": {
      "model_module": "@jupyter-widgets/controls",
      "model_module_version": "1.1.0",
      "model_name": "TextareaModel",
      "state": {
       "layout": "IPY_MODEL_df5b090a3281405ba065f90a2ed8a3c9",
       "placeholder": "Sentence",
       "style": "IPY_MODEL_f1b036e71b114429be5507ec4c90c74a"
      }
     },
     "1e6bb29e1e844da383a04f0ac9ae04e0": {
      "model_module": "@jupyter-widgets/controls",
      "model_module_version": "1.1.0",
      "model_name": "DropdownModel",
      "state": {
       "_options_labels": [
        "text"
       ],
       "description": "Search in:",
       "index": 0,
       "layout": "IPY_MODEL_ab29f4720a684f3bb810e4f00c67dfe0",
       "style": "IPY_MODEL_6364868f9afc44428aba72da9a3cb188"
      }
     },
     "219e5786232a4cae80694b4cab7644f6": {
      "model_module": "@jupyter-widgets/base",
      "model_module_version": "1.0.0",
      "model_name": "LayoutModel",
      "state": {}
     },
     "21d875d5cfa946da80fe1d6908fb0d94": {
      "model_module": "@jupyter-widgets/base",
      "model_module_version": "1.0.0",
      "model_name": "LayoutModel",
      "state": {
       "flex": "0 1 auto",
       "height": "200px",
       "min_height": "40px",
       "width": "70%"
      }
     },
     "25e125073757473bbbe2d6c776a602bb": {
      "model_module": "@jupyter-widgets/base",
      "model_module_version": "1.0.0",
      "model_name": "LayoutModel",
      "state": {}
     },
     "269b765e42a64a64afd98c8d814ccb82": {
      "model_module": "@jupyter-widgets/base",
      "model_module_version": "1.0.0",
      "model_name": "LayoutModel",
      "state": {}
     },
     "27eab1fc0e084b289299eeec94e05063": {
      "model_module": "@jupyter-widgets/controls",
      "model_module_version": "1.1.0",
      "model_name": "ToggleButtonsStyleModel",
      "state": {
       "button_width": "",
       "description_width": ""
      }
     },
     "2d0d7b63f32c4607af2f0a470eac0812": {
      "model_module": "@jupyter-widgets/controls",
      "model_module_version": "1.1.0",
      "model_name": "ButtonStyleModel",
      "state": {}
     },
     "32af685c30654e8f840357f320b85aac": {
      "model_module": "@jupyter-widgets/controls",
      "model_module_version": "1.1.0",
      "model_name": "DescriptionStyleModel",
      "state": {
       "description_width": ""
      }
     },
     "3b56458098234834831d20e6c24c9741": {
      "model_module": "@jupyter-widgets/base",
      "model_module_version": "1.0.0",
      "model_name": "LayoutModel",
      "state": {}
     },
     "3e50aaaf972a4a47ba721547eca783b5": {
      "model_module": "@jupyter-widgets/base",
      "model_module_version": "1.0.0",
      "model_name": "LayoutModel",
      "state": {}
     },
     "3fd22598f1234d648d012178dbddb507": {
      "model_module": "@jupyter-widgets/base",
      "model_module_version": "1.0.0",
      "model_name": "LayoutModel",
      "state": {
       "flex": "0 1 auto",
       "height": "200px",
       "min_height": "40px",
       "width": "30%"
      }
     },
     "44f49c31489a4d6ca7c76185675bf04a": {
      "model_module": "@jupyter-widgets/controls",
      "model_module_version": "1.1.0",
      "model_name": "DescriptionStyleModel",
      "state": {
       "description_width": ""
      }
     },
     "4514f6041ed04de794bf0e13ff278d8e": {
      "model_module": "@jupyter-widgets/base",
      "model_module_version": "1.0.0",
      "model_name": "LayoutModel",
      "state": {
       "margin": "0 0 0 20px"
      }
     },
     "4804870976084cd0a5a75c439ae1b9af": {
      "model_module": "@jupyter-widgets/controls",
      "model_module_version": "1.1.0",
      "model_name": "DescriptionStyleModel",
      "state": {
       "description_width": ""
      }
     },
     "48075b8917574a0b9194caad11c31033": {
      "model_module": "@jupyter-widgets/controls",
      "model_module_version": "1.1.0",
      "model_name": "DescriptionStyleModel",
      "state": {
       "description_width": ""
      }
     },
     "4b2ae7e35d814314b2e05ced6b2319ac": {
      "model_module": "@jupyter-widgets/controls",
      "model_module_version": "1.1.0",
      "model_name": "ToggleButtonsStyleModel",
      "state": {
       "button_width": "",
       "description_width": ""
      }
     },
     "4c1cb659adad4a32bd1adb4d4512591b": {
      "model_module": "@jupyter-widgets/base",
      "model_module_version": "1.0.0",
      "model_name": "LayoutModel",
      "state": {}
     },
     "4d00f00718974775a4446ee461caae7b": {
      "model_module": "@jupyter-widgets/base",
      "model_module_version": "1.0.0",
      "model_name": "LayoutModel",
      "state": {}
     },
     "58647bb634d747c59b97c4bf85c4442f": {
      "model_module": "@jupyter-widgets/controls",
      "model_module_version": "1.1.0",
      "model_name": "DescriptionStyleModel",
      "state": {
       "description_width": ""
      }
     },
     "5973ff7ac11b4224ade512b7782785ce": {
      "model_module": "@jupyter-widgets/controls",
      "model_module_version": "1.1.0",
      "model_name": "DescriptionStyleModel",
      "state": {
       "description_width": ""
      }
     },
     "5d149214baaa4051b6d9ea2c3b77b30b": {
      "model_module": "@jupyter-widgets/controls",
      "model_module_version": "1.1.0",
      "model_name": "ButtonModel",
      "state": {
       "button_style": "danger",
       "description": "Search",
       "layout": "IPY_MODEL_25e125073757473bbbe2d6c776a602bb",
       "style": "IPY_MODEL_9335119ae9a740ceb473a51e88220a29"
      }
     },
     "609ad9125e984070b8b328ce38142480": {
      "model_module": "@jupyter-widgets/controls",
      "model_module_version": "1.1.0",
      "model_name": "HBoxModel",
      "state": {
       "children": [
        "IPY_MODEL_7ab749fb4253465f98281da0a5921d36",
        "IPY_MODEL_75178295c9d54b82849e14ff5e8bfce0"
       ],
       "layout": "IPY_MODEL_269b765e42a64a64afd98c8d814ccb82"
      }
     },
     "6364868f9afc44428aba72da9a3cb188": {
      "model_module": "@jupyter-widgets/controls",
      "model_module_version": "1.1.0",
      "model_name": "DescriptionStyleModel",
      "state": {
       "description_width": ""
      }
     },
     "66989d30962b4e478653848a0007ab0a": {
      "model_module": "@jupyter-widgets/controls",
      "model_module_version": "1.1.0",
      "model_name": "HBoxModel",
      "state": {
       "children": [
        "IPY_MODEL_7ab749fb4253465f98281da0a5921d36",
        "IPY_MODEL_75178295c9d54b82849e14ff5e8bfce0"
       ],
       "layout": "IPY_MODEL_6dcde063dc0f401a8d60bd925d515ecc"
      }
     },
     "6a8a76ec85a642b68e2bcf414c042e05": {
      "model_module": "@jupyter-widgets/base",
      "model_module_version": "1.0.0",
      "model_name": "LayoutModel",
      "state": {}
     },
     "6dcde063dc0f401a8d60bd925d515ecc": {
      "model_module": "@jupyter-widgets/base",
      "model_module_version": "1.0.0",
      "model_name": "LayoutModel",
      "state": {}
     },
     "75178295c9d54b82849e14ff5e8bfce0": {
      "model_module": "@jupyter-widgets/controls",
      "model_module_version": "1.1.0",
      "model_name": "TextareaModel",
      "state": {
       "layout": "IPY_MODEL_21d875d5cfa946da80fe1d6908fb0d94",
       "placeholder": "Sentence",
       "style": "IPY_MODEL_1585dd29921744ea96c9ea7e18678824",
       "value": "die Edition des Briefwechse1s bei Frisch besonders unglucklich ausgefal-\nlen ist, insofern er die Briefe an Kepler nur auszugsweise wiedergab\nund die einze1nen Briefe von Kepler zumeist auseinandergerissen hat,\num die einze1nen Stellen und Teile in seinen Einleitungen zu den betref-\nfenden Werken unterzubringen, wird die neue Ausgabe zum erstenmal\neine moglichst hickenlose chronologische Darstellung des ungemein\nreichen Briefmaterials bringen, worin sich der Ablauf von Keplers so\nbewegtem auBeren Leben und die Entwicklung seines gesamten geisti-\ngen Schaffens widerspiegelt"
      }
     },
     "79600a9ced054d0da207a592c7f95152": {
      "model_module": "@jupyter-widgets/controls",
      "model_module_version": "1.1.0",
      "model_name": "HBoxModel",
      "state": {
       "children": [
        "IPY_MODEL_8e6eae644ecd448db6af6390d9b0318a",
        "IPY_MODEL_5d149214baaa4051b6d9ea2c3b77b30b",
        "IPY_MODEL_c1df3ca923984f9d8dbca30c37b49efa"
       ],
       "layout": "IPY_MODEL_e49c824ffae942c0984ccaed9d5dc791"
      }
     },
     "7ab749fb4253465f98281da0a5921d36": {
      "model_module": "@jupyter-widgets/controls",
      "model_module_version": "1.1.0",
      "model_name": "TextareaModel",
      "state": {
       "layout": "IPY_MODEL_b942982687cf425e8d724f0a358cc1f7",
       "placeholder": "Result",
       "style": "IPY_MODEL_5973ff7ac11b4224ade512b7782785ce",
       "value": "Result 6\nindex:\n 9\nvolume:\n Band_1\npart:\n Einleitung\npage:\n 10\nparagraph:\n 2\nsentence:\n 1"
      }
     },
     "80b23cda33174b71927dcf0543d342ff": {
      "model_module": "@jupyter-widgets/controls",
      "model_module_version": "1.1.0",
      "model_name": "ToggleButtonsStyleModel",
      "state": {
       "button_width": "",
       "description_width": ""
      }
     },
     "82a6191013e346319622c21495c078cf": {
      "model_module": "@jupyter-widgets/controls",
      "model_module_version": "1.1.0",
      "model_name": "DropdownModel",
      "state": {
       "_options_labels": [
        "text"
       ],
       "description": "Search in:",
       "index": 0,
       "layout": "IPY_MODEL_8f5da1d39c7c4eccb8e29f48cf598dd3",
       "style": "IPY_MODEL_b2efb52e8b774f78aebb2dccdb95985b"
      }
     },
     "8a7e3a0921be46bbb8bc627773ee8ca4": {
      "model_module": "@jupyter-widgets/controls",
      "model_module_version": "1.1.0",
      "model_name": "DescriptionStyleModel",
      "state": {
       "description_width": ""
      }
     },
     "8ab5d64045d5480eaf5ef9e9f53f0127": {
      "model_module": "@jupyter-widgets/controls",
      "model_module_version": "1.1.0",
      "model_name": "TextareaModel",
      "state": {
       "layout": "IPY_MODEL_3fd22598f1234d648d012178dbddb507",
       "placeholder": "Result",
       "style": "IPY_MODEL_8a7e3a0921be46bbb8bc627773ee8ca4"
      }
     },
     "8dec5303b9f24882b806af3f48c60d8c": {
      "model_module": "@jupyter-widgets/controls",
      "model_module_version": "1.1.0",
      "model_name": "HBoxModel",
      "state": {
       "children": [
        "IPY_MODEL_0a240909d1ce4eab8d9e5679562a5667",
        "IPY_MODEL_0c4b2c116b0c41bbb86b6a6cd276a0fd"
       ],
       "layout": "IPY_MODEL_0f875d4ed6444b05965b85da51282720"
      }
     },
     "8e6eae644ecd448db6af6390d9b0318a": {
      "model_module": "@jupyter-widgets/controls",
      "model_module_version": "1.1.0",
      "model_name": "ToggleButtonsModel",
      "state": {
       "_options_labels": [
        "more",
        "less"
       ],
       "button_style": "",
       "icons": [],
       "index": 1,
       "layout": "IPY_MODEL_fb6149e7877346d7a2639be25a76b873",
       "style": "IPY_MODEL_27eab1fc0e084b289299eeec94e05063",
       "tooltips": []
      }
     },
     "8f5da1d39c7c4eccb8e29f48cf598dd3": {
      "model_module": "@jupyter-widgets/base",
      "model_module_version": "1.0.0",
      "model_name": "LayoutModel",
      "state": {}
     },
     "8ff86a11234749e780ff8469ef502094": {
      "model_module": "@jupyter-widgets/base",
      "model_module_version": "1.0.0",
      "model_name": "LayoutModel",
      "state": {}
     },
     "915a3308c5494b06bf392d961fe68ffe": {
      "model_module": "@jupyter-widgets/controls",
      "model_module_version": "1.1.0",
      "model_name": "AccordionModel",
      "state": {
       "_titles": {
        "0": "Enter search term"
       },
       "children": [
        "IPY_MODEL_0ad911bc65f545b195fcd65a4a455ea3"
       ],
       "layout": "IPY_MODEL_6a8a76ec85a642b68e2bcf414c042e05"
      }
     },
     "91e18c34c0ec4bd691f2142f23b50e01": {
      "model_module": "@jupyter-widgets/base",
      "model_module_version": "1.0.0",
      "model_name": "LayoutModel",
      "state": {}
     },
     "9335119ae9a740ceb473a51e88220a29": {
      "model_module": "@jupyter-widgets/controls",
      "model_module_version": "1.1.0",
      "model_name": "ButtonStyleModel",
      "state": {}
     },
     "9589d00b60084ddb96d72bb98e3f3309": {
      "model_module": "@jupyter-widgets/controls",
      "model_module_version": "1.1.0",
      "model_name": "HBoxModel",
      "state": {
       "children": [
        "IPY_MODEL_8e6eae644ecd448db6af6390d9b0318a",
        "IPY_MODEL_5d149214baaa4051b6d9ea2c3b77b30b",
        "IPY_MODEL_c1df3ca923984f9d8dbca30c37b49efa"
       ],
       "layout": "IPY_MODEL_4d00f00718974775a4446ee461caae7b"
      }
     },
     "984636dce2cc4e4486e46f648ab43790": {
      "model_module": "@jupyter-widgets/output",
      "model_module_version": "1.0.0",
      "model_name": "OutputModel",
      "state": {
       "layout": "IPY_MODEL_de3075cde8c64ac59187a669db79803d"
      }
     },
     "987061bf90104d0f9702dd6f126d4965": {
      "model_module": "@jupyter-widgets/controls",
      "model_module_version": "1.1.0",
      "model_name": "DropdownModel",
      "state": {
       "_options_labels": [
        "and",
        "or",
        "not"
       ],
       "description": "Select logic to connect words",
       "index": 0,
       "layout": "IPY_MODEL_b716f60eaa1444d0ae7a514c644e69c4",
       "style": "IPY_MODEL_4804870976084cd0a5a75c439ae1b9af"
      }
     },
     "a371454012a24a949d3a2fbd4a2cbad6": {
      "model_module": "@jupyter-widgets/controls",
      "model_module_version": "1.1.0",
      "model_name": "AccordionModel",
      "state": {
       "_titles": {
        "0": "Enter search term",
        "1": "and/or/not",
        "2": "add term"
       },
       "children": [
        "IPY_MODEL_8dec5303b9f24882b806af3f48c60d8c"
       ],
       "layout": "IPY_MODEL_bd6ae0b64a094898b99b53ed6aaa0a60"
      }
     },
     "a83f3fdd912840638b62ee22b1b920c3": {
      "model_module": "@jupyter-widgets/controls",
      "model_module_version": "1.1.0",
      "model_name": "TextModel",
      "state": {
       "description": "Search for:",
       "layout": "IPY_MODEL_4514f6041ed04de794bf0e13ff278d8e",
       "placeholder": "term",
       "style": "IPY_MODEL_58647bb634d747c59b97c4bf85c4442f"
      }
     },
     "ab29f4720a684f3bb810e4f00c67dfe0": {
      "model_module": "@jupyter-widgets/base",
      "model_module_version": "1.0.0",
      "model_name": "LayoutModel",
      "state": {}
     },
     "adaa47e117c344e8a7997a71a2bd6e76": {
      "model_module": "@jupyter-widgets/controls",
      "model_module_version": "1.1.0",
      "model_name": "ToggleButtonsModel",
      "state": {
       "_options_labels": [
        "previous",
        "next"
       ],
       "button_style": "",
       "icons": [],
       "index": 0,
       "layout": "IPY_MODEL_4c1cb659adad4a32bd1adb4d4512591b",
       "style": "IPY_MODEL_07c7f57319a14a39aabe384c843ab88e",
       "tooltips": []
      }
     },
     "b2efb52e8b774f78aebb2dccdb95985b": {
      "model_module": "@jupyter-widgets/controls",
      "model_module_version": "1.1.0",
      "model_name": "DescriptionStyleModel",
      "state": {
       "description_width": ""
      }
     },
     "b716f60eaa1444d0ae7a514c644e69c4": {
      "model_module": "@jupyter-widgets/base",
      "model_module_version": "1.0.0",
      "model_name": "LayoutModel",
      "state": {}
     },
     "b942982687cf425e8d724f0a358cc1f7": {
      "model_module": "@jupyter-widgets/base",
      "model_module_version": "1.0.0",
      "model_name": "LayoutModel",
      "state": {
       "flex": "0 1 auto",
       "height": "200px",
       "min_height": "40px",
       "width": "30%"
      }
     },
     "bbd81aa2d9174fa58627faf6a68a28af": {
      "model_module": "@jupyter-widgets/controls",
      "model_module_version": "1.1.0",
      "model_name": "ToggleButtonsModel",
      "state": {
       "_options_labels": [
        "more",
        "less"
       ],
       "button_style": "",
       "icons": [],
       "index": 0,
       "layout": "IPY_MODEL_8ff86a11234749e780ff8469ef502094",
       "style": "IPY_MODEL_4b2ae7e35d814314b2e05ced6b2319ac",
       "tooltips": []
      }
     },
     "bc7a0ed2584a45e5a01f97b2aff98c9c": {
      "model_module": "@jupyter-widgets/controls",
      "model_module_version": "1.1.0",
      "model_name": "TextModel",
      "state": {
       "description": "Search for:",
       "layout": "IPY_MODEL_0c88d38ec19f4d6e8a9fb396adcabe02",
       "placeholder": "term",
       "style": "IPY_MODEL_32af685c30654e8f840357f320b85aac"
      }
     },
     "bd6ae0b64a094898b99b53ed6aaa0a60": {
      "model_module": "@jupyter-widgets/base",
      "model_module_version": "1.0.0",
      "model_name": "LayoutModel",
      "state": {}
     },
     "c1df3ca923984f9d8dbca30c37b49efa": {
      "model_module": "@jupyter-widgets/output",
      "model_module_version": "1.0.0",
      "model_name": "OutputModel",
      "state": {
       "layout": "IPY_MODEL_eae744720f584870b972ff459bd7b132",
       "outputs": [
        {
         "name": "stdout",
         "output_type": "stream",
         "text": "Found 7 entries.\n"
        }
       ]
      }
     },
     "c3ec2a0262a94521af27187e4bf7886f": {
      "model_module": "@jupyter-widgets/base",
      "model_module_version": "1.0.0",
      "model_name": "LayoutModel",
      "state": {}
     },
     "c89f9822b038486485e2fa7b3a40c136": {
      "model_module": "@jupyter-widgets/base",
      "model_module_version": "1.0.0",
      "model_name": "LayoutModel",
      "state": {}
     },
     "d0eab225468742158534bccae6f53ab5": {
      "model_module": "@jupyter-widgets/controls",
      "model_module_version": "1.1.0",
      "model_name": "HBoxModel",
      "state": {
       "children": [
        "IPY_MODEL_d40e355b4fb9436bba1622a46e714fa7",
        "IPY_MODEL_82a6191013e346319622c21495c078cf"
       ],
       "layout": "IPY_MODEL_91e18c34c0ec4bd691f2142f23b50e01"
      }
     },
     "d40e355b4fb9436bba1622a46e714fa7": {
      "model_module": "@jupyter-widgets/controls",
      "model_module_version": "1.1.0",
      "model_name": "TextModel",
      "state": {
       "description": "Search for:",
       "layout": "IPY_MODEL_e30cf176fcd1484b86bb189fd7f2b1d6",
       "placeholder": "term",
       "style": "IPY_MODEL_09975b4b282a4a9bae41b14446ba83ee"
      }
     },
     "d7062f3e81174d7dba1e174d121e4b22": {
      "model_module": "@jupyter-widgets/base",
      "model_module_version": "1.0.0",
      "model_name": "LayoutModel",
      "state": {}
     },
     "daaed9f781b04066ba49077368f03cdd": {
      "model_module": "@jupyter-widgets/base",
      "model_module_version": "1.0.0",
      "model_name": "LayoutModel",
      "state": {}
     },
     "db492cffabbb40bfaead2a1663839ef0": {
      "model_module": "@jupyter-widgets/base",
      "model_module_version": "1.0.0",
      "model_name": "LayoutModel",
      "state": {}
     },
     "de3075cde8c64ac59187a669db79803d": {
      "model_module": "@jupyter-widgets/base",
      "model_module_version": "1.0.0",
      "model_name": "LayoutModel",
      "state": {}
     },
     "de9714babedf443aaab10339174029ab": {
      "model_module": "@jupyter-widgets/base",
      "model_module_version": "1.0.0",
      "model_name": "LayoutModel",
      "state": {}
     },
     "df5b090a3281405ba065f90a2ed8a3c9": {
      "model_module": "@jupyter-widgets/base",
      "model_module_version": "1.0.0",
      "model_name": "LayoutModel",
      "state": {
       "flex": "0 1 auto",
       "height": "200px",
       "min_height": "40px",
       "width": "70%"
      }
     },
     "e2aca8350ec74b84b66866b7fdec30c8": {
      "model_module": "@jupyter-widgets/controls",
      "model_module_version": "1.1.0",
      "model_name": "HBoxModel",
      "state": {
       "children": [
        "IPY_MODEL_a83f3fdd912840638b62ee22b1b920c3",
        "IPY_MODEL_1e6bb29e1e844da383a04f0ac9ae04e0"
       ],
       "layout": "IPY_MODEL_1bf67181f9aa4f138c845d6bc3b1c4ad"
      }
     },
     "e30cf176fcd1484b86bb189fd7f2b1d6": {
      "model_module": "@jupyter-widgets/base",
      "model_module_version": "1.0.0",
      "model_name": "LayoutModel",
      "state": {
       "margin": "0 0 0 20px"
      }
     },
     "e482ff880c6046bcb418a1a27954f4ec": {
      "model_module": "@jupyter-widgets/base",
      "model_module_version": "1.0.0",
      "model_name": "LayoutModel",
      "state": {
       "margin": "0 0 0 20px"
      }
     },
     "e49c824ffae942c0984ccaed9d5dc791": {
      "model_module": "@jupyter-widgets/base",
      "model_module_version": "1.0.0",
      "model_name": "LayoutModel",
      "state": {}
     },
     "eae744720f584870b972ff459bd7b132": {
      "model_module": "@jupyter-widgets/base",
      "model_module_version": "1.0.0",
      "model_name": "LayoutModel",
      "state": {}
     },
     "ed4ff0a939074a2191a9352ea113cafe": {
      "model_module": "@jupyter-widgets/controls",
      "model_module_version": "1.1.0",
      "model_name": "VBoxModel",
      "state": {
       "children": [
        "IPY_MODEL_a371454012a24a949d3a2fbd4a2cbad6",
        "IPY_MODEL_79600a9ced054d0da207a592c7f95152",
        "IPY_MODEL_ef04b42bec8c4588ae981fbf94d0be50",
        "IPY_MODEL_609ad9125e984070b8b328ce38142480"
       ],
       "layout": "IPY_MODEL_3b56458098234834831d20e6c24c9741"
      }
     },
     "ef04b42bec8c4588ae981fbf94d0be50": {
      "model_module": "@jupyter-widgets/controls",
      "model_module_version": "1.1.0",
      "model_name": "HBoxModel",
      "state": {
       "children": [
        "IPY_MODEL_adaa47e117c344e8a7997a71a2bd6e76"
       ],
       "layout": "IPY_MODEL_de9714babedf443aaab10339174029ab"
      }
     },
     "f1b036e71b114429be5507ec4c90c74a": {
      "model_module": "@jupyter-widgets/controls",
      "model_module_version": "1.1.0",
      "model_name": "DescriptionStyleModel",
      "state": {
       "description_width": ""
      }
     },
     "f99e9d0e61a34b44869a45beb5d6fec6": {
      "model_module": "@jupyter-widgets/controls",
      "model_module_version": "1.1.0",
      "model_name": "DescriptionStyleModel",
      "state": {
       "description_width": ""
      }
     },
     "fb6149e7877346d7a2639be25a76b873": {
      "model_module": "@jupyter-widgets/base",
      "model_module_version": "1.0.0",
      "model_name": "LayoutModel",
      "state": {}
     }
    },
    "version_major": 2,
    "version_minor": 0
   }
  }
 },
 "nbformat": 4,
 "nbformat_minor": 2
}
